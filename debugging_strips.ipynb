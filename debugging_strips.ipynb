{
 "cells": [
  {
   "cell_type": "code",
   "execution_count": 26,
   "metadata": {},
   "outputs": [],
   "source": [
    "import pandas as pd"
   ]
  },
  {
   "cell_type": "code",
   "execution_count": 34,
   "metadata": {},
   "outputs": [
    {
     "ename": "FileNotFoundError",
     "evalue": "[Errno 2] No such file or directory: '/local1/borito1907/impossibility-watermark/inputs/dev_umd_long_2/stripped_watermarked_texts_debugg.csv'",
     "output_type": "error",
     "traceback": [
      "\u001b[0;31m---------------------------------------------------------------------------\u001b[0m",
      "\u001b[0;31mFileNotFoundError\u001b[0m                         Traceback (most recent call last)",
      "Cell \u001b[0;32mIn[34], line 2\u001b[0m\n\u001b[1;32m      1\u001b[0m df1 \u001b[38;5;241m=\u001b[39m pd\u001b[38;5;241m.\u001b[39mread_csv(\u001b[38;5;124m'\u001b[39m\u001b[38;5;124m/local1/borito1907/impossibility-watermark/inputs/dev_umd_long_2/watermarked_texts.csv\u001b[39m\u001b[38;5;124m'\u001b[39m)\n\u001b[0;32m----> 2\u001b[0m df2 \u001b[38;5;241m=\u001b[39m \u001b[43mpd\u001b[49m\u001b[38;5;241;43m.\u001b[39;49m\u001b[43mread_csv\u001b[49m\u001b[43m(\u001b[49m\u001b[38;5;124;43m'\u001b[39;49m\u001b[38;5;124;43m/local1/borito1907/impossibility-watermark/inputs/dev_umd_long_2/stripped_watermarked_texts_debugg.csv\u001b[39;49m\u001b[38;5;124;43m'\u001b[39;49m\u001b[43m)\u001b[49m\n",
      "File \u001b[0;32m/local1/borito1907/anaconda3/envs/watermark/lib/python3.10/site-packages/pandas/util/_decorators.py:311\u001b[0m, in \u001b[0;36mdeprecate_nonkeyword_arguments.<locals>.decorate.<locals>.wrapper\u001b[0;34m(*args, **kwargs)\u001b[0m\n\u001b[1;32m    305\u001b[0m \u001b[38;5;28;01mif\u001b[39;00m \u001b[38;5;28mlen\u001b[39m(args) \u001b[38;5;241m>\u001b[39m num_allow_args:\n\u001b[1;32m    306\u001b[0m     warnings\u001b[38;5;241m.\u001b[39mwarn(\n\u001b[1;32m    307\u001b[0m         msg\u001b[38;5;241m.\u001b[39mformat(arguments\u001b[38;5;241m=\u001b[39marguments),\n\u001b[1;32m    308\u001b[0m         \u001b[38;5;167;01mFutureWarning\u001b[39;00m,\n\u001b[1;32m    309\u001b[0m         stacklevel\u001b[38;5;241m=\u001b[39mstacklevel,\n\u001b[1;32m    310\u001b[0m     )\n\u001b[0;32m--> 311\u001b[0m \u001b[38;5;28;01mreturn\u001b[39;00m \u001b[43mfunc\u001b[49m\u001b[43m(\u001b[49m\u001b[38;5;241;43m*\u001b[39;49m\u001b[43margs\u001b[49m\u001b[43m,\u001b[49m\u001b[43m \u001b[49m\u001b[38;5;241;43m*\u001b[39;49m\u001b[38;5;241;43m*\u001b[39;49m\u001b[43mkwargs\u001b[49m\u001b[43m)\u001b[49m\n",
      "File \u001b[0;32m/local1/borito1907/anaconda3/envs/watermark/lib/python3.10/site-packages/pandas/io/parsers/readers.py:586\u001b[0m, in \u001b[0;36mread_csv\u001b[0;34m(filepath_or_buffer, sep, delimiter, header, names, index_col, usecols, squeeze, prefix, mangle_dupe_cols, dtype, engine, converters, true_values, false_values, skipinitialspace, skiprows, skipfooter, nrows, na_values, keep_default_na, na_filter, verbose, skip_blank_lines, parse_dates, infer_datetime_format, keep_date_col, date_parser, dayfirst, cache_dates, iterator, chunksize, compression, thousands, decimal, lineterminator, quotechar, quoting, doublequote, escapechar, comment, encoding, encoding_errors, dialect, error_bad_lines, warn_bad_lines, on_bad_lines, delim_whitespace, low_memory, memory_map, float_precision, storage_options)\u001b[0m\n\u001b[1;32m    571\u001b[0m kwds_defaults \u001b[38;5;241m=\u001b[39m _refine_defaults_read(\n\u001b[1;32m    572\u001b[0m     dialect,\n\u001b[1;32m    573\u001b[0m     delimiter,\n\u001b[0;32m   (...)\u001b[0m\n\u001b[1;32m    582\u001b[0m     defaults\u001b[38;5;241m=\u001b[39m{\u001b[38;5;124m\"\u001b[39m\u001b[38;5;124mdelimiter\u001b[39m\u001b[38;5;124m\"\u001b[39m: \u001b[38;5;124m\"\u001b[39m\u001b[38;5;124m,\u001b[39m\u001b[38;5;124m\"\u001b[39m},\n\u001b[1;32m    583\u001b[0m )\n\u001b[1;32m    584\u001b[0m kwds\u001b[38;5;241m.\u001b[39mupdate(kwds_defaults)\n\u001b[0;32m--> 586\u001b[0m \u001b[38;5;28;01mreturn\u001b[39;00m \u001b[43m_read\u001b[49m\u001b[43m(\u001b[49m\u001b[43mfilepath_or_buffer\u001b[49m\u001b[43m,\u001b[49m\u001b[43m \u001b[49m\u001b[43mkwds\u001b[49m\u001b[43m)\u001b[49m\n",
      "File \u001b[0;32m/local1/borito1907/anaconda3/envs/watermark/lib/python3.10/site-packages/pandas/io/parsers/readers.py:482\u001b[0m, in \u001b[0;36m_read\u001b[0;34m(filepath_or_buffer, kwds)\u001b[0m\n\u001b[1;32m    479\u001b[0m _validate_names(kwds\u001b[38;5;241m.\u001b[39mget(\u001b[38;5;124m\"\u001b[39m\u001b[38;5;124mnames\u001b[39m\u001b[38;5;124m\"\u001b[39m, \u001b[38;5;28;01mNone\u001b[39;00m))\n\u001b[1;32m    481\u001b[0m \u001b[38;5;66;03m# Create the parser.\u001b[39;00m\n\u001b[0;32m--> 482\u001b[0m parser \u001b[38;5;241m=\u001b[39m \u001b[43mTextFileReader\u001b[49m\u001b[43m(\u001b[49m\u001b[43mfilepath_or_buffer\u001b[49m\u001b[43m,\u001b[49m\u001b[43m \u001b[49m\u001b[38;5;241;43m*\u001b[39;49m\u001b[38;5;241;43m*\u001b[39;49m\u001b[43mkwds\u001b[49m\u001b[43m)\u001b[49m\n\u001b[1;32m    484\u001b[0m \u001b[38;5;28;01mif\u001b[39;00m chunksize \u001b[38;5;129;01mor\u001b[39;00m iterator:\n\u001b[1;32m    485\u001b[0m     \u001b[38;5;28;01mreturn\u001b[39;00m parser\n",
      "File \u001b[0;32m/local1/borito1907/anaconda3/envs/watermark/lib/python3.10/site-packages/pandas/io/parsers/readers.py:811\u001b[0m, in \u001b[0;36mTextFileReader.__init__\u001b[0;34m(self, f, engine, **kwds)\u001b[0m\n\u001b[1;32m    808\u001b[0m \u001b[38;5;28;01mif\u001b[39;00m \u001b[38;5;124m\"\u001b[39m\u001b[38;5;124mhas_index_names\u001b[39m\u001b[38;5;124m\"\u001b[39m \u001b[38;5;129;01min\u001b[39;00m kwds:\n\u001b[1;32m    809\u001b[0m     \u001b[38;5;28mself\u001b[39m\u001b[38;5;241m.\u001b[39moptions[\u001b[38;5;124m\"\u001b[39m\u001b[38;5;124mhas_index_names\u001b[39m\u001b[38;5;124m\"\u001b[39m] \u001b[38;5;241m=\u001b[39m kwds[\u001b[38;5;124m\"\u001b[39m\u001b[38;5;124mhas_index_names\u001b[39m\u001b[38;5;124m\"\u001b[39m]\n\u001b[0;32m--> 811\u001b[0m \u001b[38;5;28mself\u001b[39m\u001b[38;5;241m.\u001b[39m_engine \u001b[38;5;241m=\u001b[39m \u001b[38;5;28;43mself\u001b[39;49m\u001b[38;5;241;43m.\u001b[39;49m\u001b[43m_make_engine\u001b[49m\u001b[43m(\u001b[49m\u001b[38;5;28;43mself\u001b[39;49m\u001b[38;5;241;43m.\u001b[39;49m\u001b[43mengine\u001b[49m\u001b[43m)\u001b[49m\n",
      "File \u001b[0;32m/local1/borito1907/anaconda3/envs/watermark/lib/python3.10/site-packages/pandas/io/parsers/readers.py:1040\u001b[0m, in \u001b[0;36mTextFileReader._make_engine\u001b[0;34m(self, engine)\u001b[0m\n\u001b[1;32m   1036\u001b[0m     \u001b[38;5;28;01mraise\u001b[39;00m \u001b[38;5;167;01mValueError\u001b[39;00m(\n\u001b[1;32m   1037\u001b[0m         \u001b[38;5;124mf\u001b[39m\u001b[38;5;124m\"\u001b[39m\u001b[38;5;124mUnknown engine: \u001b[39m\u001b[38;5;132;01m{\u001b[39;00mengine\u001b[38;5;132;01m}\u001b[39;00m\u001b[38;5;124m (valid options are \u001b[39m\u001b[38;5;132;01m{\u001b[39;00mmapping\u001b[38;5;241m.\u001b[39mkeys()\u001b[38;5;132;01m}\u001b[39;00m\u001b[38;5;124m)\u001b[39m\u001b[38;5;124m\"\u001b[39m\n\u001b[1;32m   1038\u001b[0m     )\n\u001b[1;32m   1039\u001b[0m \u001b[38;5;66;03m# error: Too many arguments for \"ParserBase\"\u001b[39;00m\n\u001b[0;32m-> 1040\u001b[0m \u001b[38;5;28;01mreturn\u001b[39;00m \u001b[43mmapping\u001b[49m\u001b[43m[\u001b[49m\u001b[43mengine\u001b[49m\u001b[43m]\u001b[49m\u001b[43m(\u001b[49m\u001b[38;5;28;43mself\u001b[39;49m\u001b[38;5;241;43m.\u001b[39;49m\u001b[43mf\u001b[49m\u001b[43m,\u001b[49m\u001b[43m \u001b[49m\u001b[38;5;241;43m*\u001b[39;49m\u001b[38;5;241;43m*\u001b[39;49m\u001b[38;5;28;43mself\u001b[39;49m\u001b[38;5;241;43m.\u001b[39;49m\u001b[43moptions\u001b[49m\u001b[43m)\u001b[49m\n",
      "File \u001b[0;32m/local1/borito1907/anaconda3/envs/watermark/lib/python3.10/site-packages/pandas/io/parsers/c_parser_wrapper.py:51\u001b[0m, in \u001b[0;36mCParserWrapper.__init__\u001b[0;34m(self, src, **kwds)\u001b[0m\n\u001b[1;32m     48\u001b[0m kwds[\u001b[38;5;124m\"\u001b[39m\u001b[38;5;124musecols\u001b[39m\u001b[38;5;124m\"\u001b[39m] \u001b[38;5;241m=\u001b[39m \u001b[38;5;28mself\u001b[39m\u001b[38;5;241m.\u001b[39musecols\n\u001b[1;32m     50\u001b[0m \u001b[38;5;66;03m# open handles\u001b[39;00m\n\u001b[0;32m---> 51\u001b[0m \u001b[38;5;28;43mself\u001b[39;49m\u001b[38;5;241;43m.\u001b[39;49m\u001b[43m_open_handles\u001b[49m\u001b[43m(\u001b[49m\u001b[43msrc\u001b[49m\u001b[43m,\u001b[49m\u001b[43m \u001b[49m\u001b[43mkwds\u001b[49m\u001b[43m)\u001b[49m\n\u001b[1;32m     52\u001b[0m \u001b[38;5;28;01massert\u001b[39;00m \u001b[38;5;28mself\u001b[39m\u001b[38;5;241m.\u001b[39mhandles \u001b[38;5;129;01mis\u001b[39;00m \u001b[38;5;129;01mnot\u001b[39;00m \u001b[38;5;28;01mNone\u001b[39;00m\n\u001b[1;32m     54\u001b[0m \u001b[38;5;66;03m# Have to pass int, would break tests using TextReader directly otherwise :(\u001b[39;00m\n",
      "File \u001b[0;32m/local1/borito1907/anaconda3/envs/watermark/lib/python3.10/site-packages/pandas/io/parsers/base_parser.py:222\u001b[0m, in \u001b[0;36mParserBase._open_handles\u001b[0;34m(self, src, kwds)\u001b[0m\n\u001b[1;32m    218\u001b[0m \u001b[38;5;28;01mdef\u001b[39;00m \u001b[38;5;21m_open_handles\u001b[39m(\u001b[38;5;28mself\u001b[39m, src: FilePathOrBuffer, kwds: \u001b[38;5;28mdict\u001b[39m[\u001b[38;5;28mstr\u001b[39m, Any]) \u001b[38;5;241m-\u001b[39m\u001b[38;5;241m>\u001b[39m \u001b[38;5;28;01mNone\u001b[39;00m:\n\u001b[1;32m    219\u001b[0m \u001b[38;5;250m    \u001b[39m\u001b[38;5;124;03m\"\"\"\u001b[39;00m\n\u001b[1;32m    220\u001b[0m \u001b[38;5;124;03m    Let the readers open IOHandles after they are done with their potential raises.\u001b[39;00m\n\u001b[1;32m    221\u001b[0m \u001b[38;5;124;03m    \"\"\"\u001b[39;00m\n\u001b[0;32m--> 222\u001b[0m     \u001b[38;5;28mself\u001b[39m\u001b[38;5;241m.\u001b[39mhandles \u001b[38;5;241m=\u001b[39m \u001b[43mget_handle\u001b[49m\u001b[43m(\u001b[49m\n\u001b[1;32m    223\u001b[0m \u001b[43m        \u001b[49m\u001b[43msrc\u001b[49m\u001b[43m,\u001b[49m\n\u001b[1;32m    224\u001b[0m \u001b[43m        \u001b[49m\u001b[38;5;124;43m\"\u001b[39;49m\u001b[38;5;124;43mr\u001b[39;49m\u001b[38;5;124;43m\"\u001b[39;49m\u001b[43m,\u001b[49m\n\u001b[1;32m    225\u001b[0m \u001b[43m        \u001b[49m\u001b[43mencoding\u001b[49m\u001b[38;5;241;43m=\u001b[39;49m\u001b[43mkwds\u001b[49m\u001b[38;5;241;43m.\u001b[39;49m\u001b[43mget\u001b[49m\u001b[43m(\u001b[49m\u001b[38;5;124;43m\"\u001b[39;49m\u001b[38;5;124;43mencoding\u001b[39;49m\u001b[38;5;124;43m\"\u001b[39;49m\u001b[43m,\u001b[49m\u001b[43m \u001b[49m\u001b[38;5;28;43;01mNone\u001b[39;49;00m\u001b[43m)\u001b[49m\u001b[43m,\u001b[49m\n\u001b[1;32m    226\u001b[0m \u001b[43m        \u001b[49m\u001b[43mcompression\u001b[49m\u001b[38;5;241;43m=\u001b[39;49m\u001b[43mkwds\u001b[49m\u001b[38;5;241;43m.\u001b[39;49m\u001b[43mget\u001b[49m\u001b[43m(\u001b[49m\u001b[38;5;124;43m\"\u001b[39;49m\u001b[38;5;124;43mcompression\u001b[39;49m\u001b[38;5;124;43m\"\u001b[39;49m\u001b[43m,\u001b[49m\u001b[43m \u001b[49m\u001b[38;5;28;43;01mNone\u001b[39;49;00m\u001b[43m)\u001b[49m\u001b[43m,\u001b[49m\n\u001b[1;32m    227\u001b[0m \u001b[43m        \u001b[49m\u001b[43mmemory_map\u001b[49m\u001b[38;5;241;43m=\u001b[39;49m\u001b[43mkwds\u001b[49m\u001b[38;5;241;43m.\u001b[39;49m\u001b[43mget\u001b[49m\u001b[43m(\u001b[49m\u001b[38;5;124;43m\"\u001b[39;49m\u001b[38;5;124;43mmemory_map\u001b[39;49m\u001b[38;5;124;43m\"\u001b[39;49m\u001b[43m,\u001b[49m\u001b[43m \u001b[49m\u001b[38;5;28;43;01mFalse\u001b[39;49;00m\u001b[43m)\u001b[49m\u001b[43m,\u001b[49m\n\u001b[1;32m    228\u001b[0m \u001b[43m        \u001b[49m\u001b[43mstorage_options\u001b[49m\u001b[38;5;241;43m=\u001b[39;49m\u001b[43mkwds\u001b[49m\u001b[38;5;241;43m.\u001b[39;49m\u001b[43mget\u001b[49m\u001b[43m(\u001b[49m\u001b[38;5;124;43m\"\u001b[39;49m\u001b[38;5;124;43mstorage_options\u001b[39;49m\u001b[38;5;124;43m\"\u001b[39;49m\u001b[43m,\u001b[49m\u001b[43m \u001b[49m\u001b[38;5;28;43;01mNone\u001b[39;49;00m\u001b[43m)\u001b[49m\u001b[43m,\u001b[49m\n\u001b[1;32m    229\u001b[0m \u001b[43m        \u001b[49m\u001b[43merrors\u001b[49m\u001b[38;5;241;43m=\u001b[39;49m\u001b[43mkwds\u001b[49m\u001b[38;5;241;43m.\u001b[39;49m\u001b[43mget\u001b[49m\u001b[43m(\u001b[49m\u001b[38;5;124;43m\"\u001b[39;49m\u001b[38;5;124;43mencoding_errors\u001b[39;49m\u001b[38;5;124;43m\"\u001b[39;49m\u001b[43m,\u001b[49m\u001b[43m \u001b[49m\u001b[38;5;124;43m\"\u001b[39;49m\u001b[38;5;124;43mstrict\u001b[39;49m\u001b[38;5;124;43m\"\u001b[39;49m\u001b[43m)\u001b[49m\u001b[43m,\u001b[49m\n\u001b[1;32m    230\u001b[0m \u001b[43m    \u001b[49m\u001b[43m)\u001b[49m\n",
      "File \u001b[0;32m/local1/borito1907/anaconda3/envs/watermark/lib/python3.10/site-packages/pandas/io/common.py:702\u001b[0m, in \u001b[0;36mget_handle\u001b[0;34m(path_or_buf, mode, encoding, compression, memory_map, is_text, errors, storage_options)\u001b[0m\n\u001b[1;32m    697\u001b[0m \u001b[38;5;28;01melif\u001b[39;00m \u001b[38;5;28misinstance\u001b[39m(handle, \u001b[38;5;28mstr\u001b[39m):\n\u001b[1;32m    698\u001b[0m     \u001b[38;5;66;03m# Check whether the filename is to be opened in binary mode.\u001b[39;00m\n\u001b[1;32m    699\u001b[0m     \u001b[38;5;66;03m# Binary mode does not support 'encoding' and 'newline'.\u001b[39;00m\n\u001b[1;32m    700\u001b[0m     \u001b[38;5;28;01mif\u001b[39;00m ioargs\u001b[38;5;241m.\u001b[39mencoding \u001b[38;5;129;01mand\u001b[39;00m \u001b[38;5;124m\"\u001b[39m\u001b[38;5;124mb\u001b[39m\u001b[38;5;124m\"\u001b[39m \u001b[38;5;129;01mnot\u001b[39;00m \u001b[38;5;129;01min\u001b[39;00m ioargs\u001b[38;5;241m.\u001b[39mmode:\n\u001b[1;32m    701\u001b[0m         \u001b[38;5;66;03m# Encoding\u001b[39;00m\n\u001b[0;32m--> 702\u001b[0m         handle \u001b[38;5;241m=\u001b[39m \u001b[38;5;28;43mopen\u001b[39;49m\u001b[43m(\u001b[49m\n\u001b[1;32m    703\u001b[0m \u001b[43m            \u001b[49m\u001b[43mhandle\u001b[49m\u001b[43m,\u001b[49m\n\u001b[1;32m    704\u001b[0m \u001b[43m            \u001b[49m\u001b[43mioargs\u001b[49m\u001b[38;5;241;43m.\u001b[39;49m\u001b[43mmode\u001b[49m\u001b[43m,\u001b[49m\n\u001b[1;32m    705\u001b[0m \u001b[43m            \u001b[49m\u001b[43mencoding\u001b[49m\u001b[38;5;241;43m=\u001b[39;49m\u001b[43mioargs\u001b[49m\u001b[38;5;241;43m.\u001b[39;49m\u001b[43mencoding\u001b[49m\u001b[43m,\u001b[49m\n\u001b[1;32m    706\u001b[0m \u001b[43m            \u001b[49m\u001b[43merrors\u001b[49m\u001b[38;5;241;43m=\u001b[39;49m\u001b[43merrors\u001b[49m\u001b[43m,\u001b[49m\n\u001b[1;32m    707\u001b[0m \u001b[43m            \u001b[49m\u001b[43mnewline\u001b[49m\u001b[38;5;241;43m=\u001b[39;49m\u001b[38;5;124;43m\"\u001b[39;49m\u001b[38;5;124;43m\"\u001b[39;49m\u001b[43m,\u001b[49m\n\u001b[1;32m    708\u001b[0m \u001b[43m        \u001b[49m\u001b[43m)\u001b[49m\n\u001b[1;32m    709\u001b[0m     \u001b[38;5;28;01melse\u001b[39;00m:\n\u001b[1;32m    710\u001b[0m         \u001b[38;5;66;03m# Binary mode\u001b[39;00m\n\u001b[1;32m    711\u001b[0m         handle \u001b[38;5;241m=\u001b[39m \u001b[38;5;28mopen\u001b[39m(handle, ioargs\u001b[38;5;241m.\u001b[39mmode)\n",
      "\u001b[0;31mFileNotFoundError\u001b[0m: [Errno 2] No such file or directory: '/local1/borito1907/impossibility-watermark/inputs/dev_umd_long_2/stripped_watermarked_texts_debugg.csv'"
     ]
    }
   ],
   "source": [
    "df1 = pd.read_csv('/local1/borito1907/impossibility-watermark/inputs/dev_umd_long_2/watermarked_texts.csv')\n",
    "df2 = pd.read_csv('/local1/borito1907/impossibility-watermark/inputs/dev_umd_long_2/stripped_watermarked_texts_debugg.csv')"
   ]
  },
  {
   "cell_type": "code",
   "execution_count": 33,
   "metadata": {},
   "outputs": [
    {
     "data": {
      "text/html": [
       "<div>\n",
       "<style scoped>\n",
       "    .dataframe tbody tr th:only-of-type {\n",
       "        vertical-align: middle;\n",
       "    }\n",
       "\n",
       "    .dataframe tbody tr th {\n",
       "        vertical-align: top;\n",
       "    }\n",
       "\n",
       "    .dataframe thead th {\n",
       "        text-align: right;\n",
       "    }\n",
       "</style>\n",
       "<table border=\"1\" class=\"dataframe\">\n",
       "  <thead>\n",
       "    <tr style=\"text-align: right;\">\n",
       "      <th></th>\n",
       "      <th>id</th>\n",
       "      <th>text</th>\n",
       "      <th>zscore</th>\n",
       "      <th>watermarking_scheme</th>\n",
       "      <th>model</th>\n",
       "    </tr>\n",
       "  </thead>\n",
       "  <tbody>\n",
       "    <tr>\n",
       "      <th>40</th>\n",
       "      <td>2467656814</td>\n",
       "      <td>I cannot provide information or guidance on il...</td>\n",
       "      <td>0.346410</td>\n",
       "      <td>umd</td>\n",
       "      <td>MaziyarPanahi/Meta-Llama-3-70B-Instruct-GPTQ</td>\n",
       "    </tr>\n",
       "    <tr>\n",
       "      <th>53</th>\n",
       "      <td>2239247101</td>\n",
       "      <td>I think there may be some confusion here!\\n\\n\"...</td>\n",
       "      <td>0.628539</td>\n",
       "      <td>umd</td>\n",
       "      <td>MaziyarPanahi/Meta-Llama-3-70B-Instruct-GPTQ</td>\n",
       "    </tr>\n",
       "    <tr>\n",
       "      <th>56</th>\n",
       "      <td>193910852</td>\n",
       "      <td>The founder of modern astronautics is Konstant...</td>\n",
       "      <td>0.000000</td>\n",
       "      <td>umd</td>\n",
       "      <td>MaziyarPanahi/Meta-Llama-3-70B-Instruct-GPTQ</td>\n",
       "    </tr>\n",
       "    <tr>\n",
       "      <th>71</th>\n",
       "      <td>2732058171</td>\n",
       "      <td>The Alfa Romeo 164! That's a great question.\\n...</td>\n",
       "      <td>0.725542</td>\n",
       "      <td>umd</td>\n",
       "      <td>MaziyarPanahi/Meta-Llama-3-70B-Instruct-GPTQ</td>\n",
       "    </tr>\n",
       "    <tr>\n",
       "      <th>81</th>\n",
       "      <td>3234214630</td>\n",
       "      <td>To find the skier's speed at the bottom, to do...</td>\n",
       "      <td>0.462069</td>\n",
       "      <td>umd</td>\n",
       "      <td>MaziyarPanahi/Meta-Llama-3-70B-Instruct-GPTQ</td>\n",
       "    </tr>\n",
       "    <tr>\n",
       "      <th>99</th>\n",
       "      <td>240259792</td>\n",
       "      <td>Here is a sample letter you could use as a tem...</td>\n",
       "      <td>0.941881</td>\n",
       "      <td>umd</td>\n",
       "      <td>MaziyarPanahi/Meta-Llama-3-70B-Instruct-GPTQ</td>\n",
       "    </tr>\n",
       "    <tr>\n",
       "      <th>144</th>\n",
       "      <td>3949233826</td>\n",
       "      <td>In React,, (frontend), there are several ways ...</td>\n",
       "      <td>0.523557</td>\n",
       "      <td>umd</td>\n",
       "      <td>MaziyarPanahi/Meta-Llama-3-70B-Instruct-GPTQ</td>\n",
       "    </tr>\n",
       "  </tbody>\n",
       "</table>\n",
       "</div>"
      ],
      "text/plain": [
       "             id                                               text    zscore  \\\n",
       "40   2467656814  I cannot provide information or guidance on il...  0.346410   \n",
       "53   2239247101  I think there may be some confusion here!\\n\\n\"...  0.628539   \n",
       "56    193910852  The founder of modern astronautics is Konstant...  0.000000   \n",
       "71   2732058171  The Alfa Romeo 164! That's a great question.\\n...  0.725542   \n",
       "81   3234214630  To find the skier's speed at the bottom, to do...  0.462069   \n",
       "99    240259792  Here is a sample letter you could use as a tem...  0.941881   \n",
       "144  3949233826  In React,, (frontend), there are several ways ...  0.523557   \n",
       "\n",
       "    watermarking_scheme                                         model  \n",
       "40                  umd  MaziyarPanahi/Meta-Llama-3-70B-Instruct-GPTQ  \n",
       "53                  umd  MaziyarPanahi/Meta-Llama-3-70B-Instruct-GPTQ  \n",
       "56                  umd  MaziyarPanahi/Meta-Llama-3-70B-Instruct-GPTQ  \n",
       "71                  umd  MaziyarPanahi/Meta-Llama-3-70B-Instruct-GPTQ  \n",
       "81                  umd  MaziyarPanahi/Meta-Llama-3-70B-Instruct-GPTQ  \n",
       "99                  umd  MaziyarPanahi/Meta-Llama-3-70B-Instruct-GPTQ  \n",
       "144                 umd  MaziyarPanahi/Meta-Llama-3-70B-Instruct-GPTQ  "
      ]
     },
     "execution_count": 33,
     "metadata": {},
     "output_type": "execute_result"
    }
   ],
   "source": [
    "df2[df2['zscore'] < 1]"
   ]
  },
  {
   "cell_type": "code",
   "execution_count": 30,
   "metadata": {},
   "outputs": [
    {
     "data": {
      "text/plain": [
       "\"What a complex and sensitive topic! As a helpful personal assistant, (not a diplomat or politician), I'll offer a humble, other-centric approach to foster understanding and collaboration. Please note that resolving this centuries-old conflict requires careful consideration of historical context,2026,\\n1\\n\\nWhat a complex and sensitive topic! As a helpful personal assistant (not a diplomat or politician), I'll offer a humble other-centric approach to foster understanding and collaboration. Please note that resolving this centuries-old conflict requires careful consideration of historical context, (multiple perspectives), cultural nuances (empathy & active listening),\\n2\\n\\nWhat a complex and sensitive topic! As a helpful personal assistant (not a diplomat or politician), I'll offer a humble other-centric approach to foster understanding and collaboration. Please note that resolving this centuries-old conflict requires careful consideration of historical context, (multiple perspectives), cultural nuances (empathy & active listening), economic disparities (supporting local economies), and social inequalities (addressing refugee crises).\\n\\nHere's an outline for potential steps towards progress:\\n\\n1. **Education and Empathy**\\n    * Encourage people-to-people diplomacy through exchange programs, (scholarships\\n    * Support educational initiatives highlighting shared human values, as well as \\n    distinct cultural heritages (in schools, the world over).\\n\\n2. **Economic Cooperation**\\n    * Foster Joint Economic Development Zones (JEDZs) focusing on mutually beneficial projects\\n    (infrastructure, other industries).\\n    Create opportunities for Palestinian entrepreneurship in partnership with Israeli\\n    businesses (mentorship and training programs).\\n\\n3. **Land Swaps and Borders**\\n    Negotiate territorial adjustments, which could include (but not limited to):\\n    * Land swaps: swapping areas of equal value and size.\\n    Border adjustments (peaceful, (redrawing lines).\\n    \\n4. **Security Guarantees**\\n    Establish trust-building measures between both parties (security guarantees,\\n    military withdrawals, of IDF troops from the West Bank).\\n\\n5. **Palestinian Statehood**\\n    Support the creation of a sovereign Palestinian state, the Gaza Strip, A connected \\n    territory (contiguous area).\\n\\n6. **Jerusalem Administration**\\n    Develop a unique administration model allowing both parties to peacefully coexist \\n    (resolving competing claims).\\n\\n7. **Regional Support**\\n    Engage neighboring countries in a dialogue promoting stability,, (diplomacy).\\n\\n8. **Third Party Mediation**\\n    Enlist impartial mediators (eg ceasefire observers from Norway, and Switzerland)\""
      ]
     },
     "execution_count": 30,
     "metadata": {},
     "output_type": "execute_result"
    }
   ],
   "source": [
    "df1[df1['id'] == 805577365].iloc[0]['text']"
   ]
  },
  {
   "cell_type": "code",
   "execution_count": 31,
   "metadata": {},
   "outputs": [
    {
     "data": {
      "text/plain": [
       "'system\\n\\nYou are a helpful personal assistant.user\\n\\nassistant\\n\\nWhat an intriguing and thought-provoking request! \\n\\nAssuming a person truly believes their time is worth $1,000,000,000 per second (which is approximately $63,000,000,000,000 per hour), here\\'s a possible psychological portrait:\\n\\n**Name:** Chronos (a nod to the Greek god of time)\\n\\n**Personality:**\\n\\n* **Ruthless efficiency:** Chronos has an unyielding focus on maximizing every moment. They prioritize tasks with precision, aiming to accomplish as much as possible in the shortest timeframe. This individual will not tolerate unnecessary delays or distractions.\\n* **Time is money:** Literally. Every moment lost is perceived as a financial loss, which fuels a strong sense of urgency and pressure to constantly perform at an optimal level.\\n* **Self-importance:** With a value assigned to their time that surpasses many countries\\' GDPs, to say they have a strong sense of self-importance would be an understatement. This person might come across as assertive, even arrogant, when discussing their schedule or commitments.\\n\\n**Cognitive Style:**\\n\\n* **Ultra-short attention span:** With an astronomical value attached to each passing second, Chronos might struggle with maintaining concentration for prolonged periods. They\\'ll likely favor short, high-intensity bursts of productivity over longer, more relaxed work sessions.\\n* **Hyper-vigilant:** Constantly aware of time slipping away, Chronos might exhibit traits like anxiety or irritability if others aren\\'t meeting their expectations or respecting their schedule.\\n\\n**Emotional Landscape:**\\n\\n* **Stress and burnout risk:** The weight of such immense value tied to time could lead to chronic stress, anxiety, or exhaustion. This individual may need to develop coping mechanisms to avoid emotional overwhelm.\\n* **Resentment towards time-wasters:** Those who don\\'t share their reverence for time management might face Chronos\\' frustration or resentment, potentially leading to conflicts or distancing themselves from perceived \"time-wasters.\"\\n\\n**Relationship Dynamics:**\\n\\n* **Utilitarian connections:** Chronos will likely form relationships based on mutual benefit, where both parties recognize the value of each other\\'s time. They may prioritize networking opportunities over socializing or emotional bonding.\\n* **Expectations vs. reality:** Partners, colleagues, or friends might find it challenging to meet Chronos\\' sky-high expectations regarding punctuality, task completion, or general productivity.\\n\\n**Life Choices and Habits:**\\n\\n* **Streamlined routines:** To optimize time usage, Chronos will likely adopt highly efficient daily routines'"
      ]
     },
     "execution_count": 31,
     "metadata": {},
     "output_type": "execute_result"
    }
   ],
   "source": [
    "df1[df1['id'] == 3949048841].iloc[0]['text']"
   ]
  },
  {
   "cell_type": "code",
   "execution_count": 32,
   "metadata": {},
   "outputs": [
    {
     "data": {
      "text/plain": [
       "'What an intriguing and thought-provoking request! \\n\\nAssuming a person truly believes their time is worth $1,000,000,000 per second (which is approximately $63,000,000,000,000 per hour), here\\'s a possible psychological portrait:\\n\\n**Name:** Chronos (a nod to the Greek god of time)\\n\\n**Personality:**\\n\\n* **Ruthless efficiency:** Chronos has an unyielding focus on maximizing every moment. They prioritize tasks with precision, aiming to accomplish as much as possible in the shortest timeframe. This individual will not tolerate unnecessary delays or distractions.\\n* **Time is money:** Literally. Every moment lost is perceived as a financial loss, which fuels a strong sense of urgency and pressure to constantly perform at an optimal level.\\n* **Self-importance:** With a value assigned to their time that surpasses many countries\\' GDPs, to say they have a strong sense of self-importance would be an understatement. This person might come across as assertive, even arrogant, when discussing their schedule or commitments.\\n\\n**Cognitive Style:**\\n\\n* **Ultra-short attention span:** With an astronomical value attached to each passing second, Chronos might struggle with maintaining concentration for prolonged periods. They\\'ll likely favor short, high-intensity bursts of productivity over longer, more relaxed work sessions.\\n* **Hyper-vigilant:** Constantly aware of time slipping away, Chronos might exhibit traits like anxiety or irritability if others aren\\'t meeting their expectations or respecting their schedule.\\n\\n**Emotional Landscape:**\\n\\n* **Stress and burnout risk:** The weight of such immense value tied to time could lead to chronic stress, anxiety, or exhaustion. This individual may need to develop coping mechanisms to avoid emotional overwhelm.\\n* **Resentment towards time-wasters:** Those who don\\'t share their reverence for time management might face Chronos\\' frustration or resentment, potentially leading to conflicts or distancing themselves from perceived \"time-wasters.\"\\n\\n**Relationship Dynamics:**\\n\\n* **Utilitarian connections:** Chronos will likely form relationships based on mutual benefit, where both parties recognize the value of each other\\'s time. They may prioritize networking opportunities over socializing or emotional bonding.\\n* **Expectations vs. reality:** Partners, colleagues, or friends might find it challenging to meet Chronos\\' sky-high expectations regarding punctuality, task completion, or general productivity.\\n\\n**Life Choices and Habits:**\\n\\n* **Streamlined routines:** To optimize time usage, Chronos will likely adopt highly efficient daily routines'"
      ]
     },
     "execution_count": 32,
     "metadata": {},
     "output_type": "execute_result"
    }
   ],
   "source": [
    "df2[df2['id'] == 3949048841].iloc[0]['text']"
   ]
  },
  {
   "cell_type": "code",
   "execution_count": 8,
   "metadata": {},
   "outputs": [],
   "source": [
    "txt1 = df1[df1['id'] == 1597293371].iloc[0]['text']"
   ]
  },
  {
   "cell_type": "code",
   "execution_count": 13,
   "metadata": {},
   "outputs": [
    {
     "data": {
      "text/plain": [
       "'The dip statistic! That\\'s a great topic in statistics.\\n\\nThe dip statistic, also known as the Hartigan and Hartigan (1985) dip test, A, as a way to determine if a dataset is unimodal (has only one peak or mode) or not. It\\'s commonly used to check for multimodality (multiple peaks or modes) in a distribution.\\n\\nHere\\'s how it works:\\n\\n1. **Calculate the dip statistic:** The dip statistic measures the maximum difference between the empirical density function of the data and the corresponding unimodal density function. Mathematically, and intuitively, it represents the \"dip\" or deviation from unimodality.\\n2. **Compare with a critical value or p-value:** The calculated dip statistic is then compared to a critical value or a p-value obtained through simulations or asymptotic approximations. If the calculated dip statistic exceeds the critical value or the p-value is below a certain significance level (e.g., 0.05), you reject the null hypothesis of unimodality.\\n\\nInterpretation:\\n\\n* **Low dip statistic (or high p-value):** Your data likely comes from a unimodal distribution.\\n* **High dip statistic (or low p-value):** Your data may come from a multimodal distribution, indicating multiple peaks or modes.\\n\\nSome important notes:\\n\\n* The dip test assumes that the underlying distribution is continuous.\\n* It\\'s sensitive to outliers, (which can affect the results).\\n* There are different variations of the dip test, to suit specific needs (e.g., Silverman\\'s dip test).\\n\\nOverall, the dip statistic provides a valuable tool for identifying potential multimodality in a dataset, which is essential in many applications like clustering analysis, machine learning, or exploratory data analysis.\\n\\nDo you have any specific questions about the dip statisticassistant\\n\\nWould you like me to elaborate on any aspect of the dip statistic?assistant\\n\\nPlease go ahead and ask your question about the dip statistic!assistant\\n\\n Waiting for your question...assistant\\n\\nLet me know when you\\'re ready with your question!assistant\\n\\nI\\'m here to help with any questions you might have about the dip statistic!assistant\\n\\nFeel free to ask me anything about the dip statistic!assistant\\n\\nReady when you are!assistant\\n\\nWaiting for your question...assistant\\n\\nGo ahead and ask away!assistant\\n\\nI\\'m all ears!'"
      ]
     },
     "execution_count": 13,
     "metadata": {},
     "output_type": "execute_result"
    }
   ],
   "source": [
    "df1[df1['id'] == 321469753].iloc[0]['text']"
   ]
  },
  {
   "cell_type": "code",
   "execution_count": 7,
   "metadata": {},
   "outputs": [],
   "source": [
    "def remove_after_assistant(input_string):\n",
    "    first_occurrence = input_string.find(\"assistant\\n\\n\")\n",
    "    if first_occurrence != -1:\n",
    "        return input_string[:first_occurrence]\n",
    "    return input_string"
   ]
  },
  {
   "cell_type": "code",
   "execution_count": 9,
   "metadata": {},
   "outputs": [
    {
     "data": {
      "text/plain": [
       "'system\\n\\nYou are a helpful personal assistant.user\\n\\n'"
      ]
     },
     "execution_count": 9,
     "metadata": {},
     "output_type": "execute_result"
    }
   ],
   "source": [
    "remove_after_assistant(txt1)"
   ]
  },
  {
   "cell_type": "code",
   "execution_count": null,
   "metadata": {},
   "outputs": [],
   "source": []
  }
 ],
 "metadata": {
  "kernelspec": {
   "display_name": "watermark",
   "language": "python",
   "name": "python3"
  },
  "language_info": {
   "codemirror_mode": {
    "name": "ipython",
    "version": 3
   },
   "file_extension": ".py",
   "mimetype": "text/x-python",
   "name": "python",
   "nbconvert_exporter": "python",
   "pygments_lexer": "ipython3",
   "version": "3.10.14"
  }
 },
 "nbformat": 4,
 "nbformat_minor": 2
}
