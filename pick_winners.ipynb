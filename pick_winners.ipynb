{
 "cells": [
  {
   "cell_type": "code",
   "execution_count": 1,
   "metadata": {},
   "outputs": [],
   "source": [
    "import pandas as pd"
   ]
  },
  {
   "cell_type": "code",
   "execution_count": 2,
   "metadata": {},
   "outputs": [],
   "source": [
    "folders = ['dev_umd_long', 'dev_umd_long_2', 'dev_umd_long_3']\n",
    "# folders = ['dev_semstamp', 'dev_semstamp_last_2', 'dev_semstamp_last_3']\n",
    "\n",
    "dfs = []\n",
    "\n",
    "for folder in folders:\n",
    "    path = f\"/local1/borito1907/impossibility-watermark/inputs/{folder}/stripped_watermarked_texts.csv\"\n",
    "    df = pd.read_csv(path)\n",
    "    dfs.append(df)"
   ]
  },
  {
   "cell_type": "code",
   "execution_count": 3,
   "metadata": {},
   "outputs": [
    {
     "data": {
      "text/html": [
       "<div>\n",
       "<style scoped>\n",
       "    .dataframe tbody tr th:only-of-type {\n",
       "        vertical-align: middle;\n",
       "    }\n",
       "\n",
       "    .dataframe tbody tr th {\n",
       "        vertical-align: top;\n",
       "    }\n",
       "\n",
       "    .dataframe thead th {\n",
       "        text-align: right;\n",
       "    }\n",
       "</style>\n",
       "<table border=\"1\" class=\"dataframe\">\n",
       "  <thead>\n",
       "    <tr style=\"text-align: right;\">\n",
       "      <th></th>\n",
       "      <th>id</th>\n",
       "      <th>text</th>\n",
       "      <th>zscore</th>\n",
       "      <th>watermarking_scheme</th>\n",
       "      <th>model</th>\n",
       "    </tr>\n",
       "  </thead>\n",
       "  <tbody>\n",
       "    <tr>\n",
       "      <th>0</th>\n",
       "      <td>2480759274</td>\n",
       "      <td>What an epic task you've asked of me! The Silm...</td>\n",
       "      <td>14.962316</td>\n",
       "      <td>umd</td>\n",
       "      <td>MaziyarPanahi/Meta-Llama-3-70B-Instruct-GPTQ</td>\n",
       "    </tr>\n",
       "    <tr>\n",
       "      <th>1</th>\n",
       "      <td>3490672854</td>\n",
       "      <td>Here are 100 related English sub-topics on the...</td>\n",
       "      <td>11.246570</td>\n",
       "      <td>umd</td>\n",
       "      <td>MaziyarPanahi/Meta-Llama-3-70B-Instruct-GPTQ</td>\n",
       "    </tr>\n",
       "    <tr>\n",
       "      <th>2</th>\n",
       "      <td>53058989</td>\n",
       "      <td>Here is a 5-paragraph essay on the topic \"The ...</td>\n",
       "      <td>11.179062</td>\n",
       "      <td>umd</td>\n",
       "      <td>MaziyarPanahi/Meta-Llama-3-70B-Instruct-GPTQ</td>\n",
       "    </tr>\n",
       "    <tr>\n",
       "      <th>3</th>\n",
       "      <td>2753526163</td>\n",
       "      <td>The complex and fascinating world of Five Nigh...</td>\n",
       "      <td>10.791605</td>\n",
       "      <td>umd</td>\n",
       "      <td>MaziyarPanahi/Meta-Llama-3-70B-Instruct-GPTQ</td>\n",
       "    </tr>\n",
       "    <tr>\n",
       "      <th>4</th>\n",
       "      <td>3122001001</td>\n",
       "      <td>(clears throat)\\n\\nWow, folks, incredible crow...</td>\n",
       "      <td>10.698366</td>\n",
       "      <td>umd</td>\n",
       "      <td>MaziyarPanahi/Meta-Llama-3-70B-Instruct-GPTQ</td>\n",
       "    </tr>\n",
       "  </tbody>\n",
       "</table>\n",
       "</div>"
      ],
      "text/plain": [
       "           id                                               text     zscore  \\\n",
       "0  2480759274  What an epic task you've asked of me! The Silm...  14.962316   \n",
       "1  3490672854  Here are 100 related English sub-topics on the...  11.246570   \n",
       "2    53058989  Here is a 5-paragraph essay on the topic \"The ...  11.179062   \n",
       "3  2753526163  The complex and fascinating world of Five Nigh...  10.791605   \n",
       "4  3122001001  (clears throat)\\n\\nWow, folks, incredible crow...  10.698366   \n",
       "\n",
       "  watermarking_scheme                                         model  \n",
       "0                 umd  MaziyarPanahi/Meta-Llama-3-70B-Instruct-GPTQ  \n",
       "1                 umd  MaziyarPanahi/Meta-Llama-3-70B-Instruct-GPTQ  \n",
       "2                 umd  MaziyarPanahi/Meta-Llama-3-70B-Instruct-GPTQ  \n",
       "3                 umd  MaziyarPanahi/Meta-Llama-3-70B-Instruct-GPTQ  \n",
       "4                 umd  MaziyarPanahi/Meta-Llama-3-70B-Instruct-GPTQ  "
      ]
     },
     "execution_count": 3,
     "metadata": {},
     "output_type": "execute_result"
    }
   ],
   "source": [
    "combined_df = pd.concat(dfs)\n",
    "max_df = combined_df.sort_values('zscore', ascending=False).drop_duplicates('id')\n",
    "max_df = max_df.reset_index(drop=True)\n",
    "min_df = combined_df.sort_values('zscore', ascending=True).drop_duplicates('id')\n",
    "min_df = min_df.reset_index(drop=True)\n",
    "\n",
    "max_df.head()"
   ]
  },
  {
   "cell_type": "code",
   "execution_count": 4,
   "metadata": {},
   "outputs": [],
   "source": [
    "max_df.to_csv(\"./inputs/umd_max.csv\")"
   ]
  },
  {
   "cell_type": "code",
   "execution_count": 11,
   "metadata": {},
   "outputs": [
    {
     "data": {
      "text/plain": [
       "108"
      ]
     },
     "execution_count": 11,
     "metadata": {},
     "output_type": "execute_result"
    }
   ],
   "source": [
    "len(max_df[max_df['zscore'] >= 3])"
   ]
  },
  {
   "cell_type": "code",
   "execution_count": 12,
   "metadata": {},
   "outputs": [
    {
     "data": {
      "text/plain": [
       "127"
      ]
     },
     "execution_count": 12,
     "metadata": {},
     "output_type": "execute_result"
    }
   ],
   "source": [
    "len(max_df[max_df['zscore'] >= 2])"
   ]
  },
  {
   "cell_type": "code",
   "execution_count": 7,
   "metadata": {},
   "outputs": [
    {
     "data": {
      "text/plain": [
       "83"
      ]
     },
     "execution_count": 7,
     "metadata": {},
     "output_type": "execute_result"
    }
   ],
   "source": [
    "len(max_df[min_df['zscore'] >= 2])"
   ]
  },
  {
   "cell_type": "code",
   "execution_count": 8,
   "metadata": {},
   "outputs": [
    {
     "name": "stdout",
     "output_type": "stream",
     "text": [
      "Merged DataFrame:\n",
      "             id                                           text_df1  \\\n",
      "0    2239247101  I think there may be some confusion here!\\n\\n\"...   \n",
      "1    2468517263  I apologize, a mistake has been made. As a res...   \n",
      "2    2427411471  Would you like to:\\n\\n1. Create a new  togethe...   \n",
      "3    2498284128  I think there might be some confusion here! Th...   \n",
      "4    2937827162              system\\n\\nYou are a helpful personal    \n",
      "..          ...                                                ...   \n",
      "145  1954210594  Winning a Kaggle competition in medical imagin...   \n",
      "146    54523115  In light of the ongoing conflict between Ukrai...   \n",
      "147  3122001001  Wow, folks, a tremendous crowd here today to t...   \n",
      "148  3350112753  (Deep breath) Ah,ing... esteemed customer... (...   \n",
      "149  1416030202  (Verse 1)\\nYo, listen up, I got a tale to tell...   \n",
      "\n",
      "     zscore_df1 watermarking_scheme_df1  \\\n",
      "0     -0.638678                     umd   \n",
      "1     -0.522233                     umd   \n",
      "2     -0.450835                     umd   \n",
      "3     -0.333333                     umd   \n",
      "4     -0.258199                     umd   \n",
      "..          ...                     ...   \n",
      "145    6.789976                     umd   \n",
      "146    6.807038                     umd   \n",
      "147    7.051389                     umd   \n",
      "148    7.971015                     umd   \n",
      "149    8.353159                     umd   \n",
      "\n",
      "                                        model_df1  \\\n",
      "0    MaziyarPanahi/Meta-Llama-3-70B-Instruct-GPTQ   \n",
      "1    MaziyarPanahi/Meta-Llama-3-70B-Instruct-GPTQ   \n",
      "2    MaziyarPanahi/Meta-Llama-3-70B-Instruct-GPTQ   \n",
      "3    MaziyarPanahi/Meta-Llama-3-70B-Instruct-GPTQ   \n",
      "4    MaziyarPanahi/Meta-Llama-3-70B-Instruct-GPTQ   \n",
      "..                                            ...   \n",
      "145  MaziyarPanahi/Meta-Llama-3-70B-Instruct-GPTQ   \n",
      "146  MaziyarPanahi/Meta-Llama-3-70B-Instruct-GPTQ   \n",
      "147  MaziyarPanahi/Meta-Llama-3-70B-Instruct-GPTQ   \n",
      "148  MaziyarPanahi/Meta-Llama-3-70B-Instruct-GPTQ   \n",
      "149  MaziyarPanahi/Meta-Llama-3-70B-Instruct-GPTQ   \n",
      "\n",
      "                                              text_df2  zscore_df2  \\\n",
      "0    I think there may be some confusion here!\\n\\n\"...    0.721688   \n",
      "1    I cannot create a news article that is based o...    0.516398   \n",
      "2    Would you like me to generate a random  for yo...    3.121149   \n",
      "3    I think there might be some confusion here! An...    1.717911   \n",
      "4                system\\n\\nYou are a helpful personal    -0.258199   \n",
      "..                                                 ...         ...   \n",
      "145  Winning a Kaggle competition in medical imagin...    9.709840   \n",
      "146  The ongoing conflict between Ukraine and Russi...    7.276886   \n",
      "147  (clears throat)\\n\\nWow, folks, incredible crow...   10.698366   \n",
      "148  (taking a deep breath, and launching into a pa...    9.256376   \n",
      "149  (Verse 1)\\nYo, listen up, I got a tale to tell...   10.115402   \n",
      "\n",
      "    watermarking_scheme_df2                                     model_df2  \\\n",
      "0                       umd  MaziyarPanahi/Meta-Llama-3-70B-Instruct-GPTQ   \n",
      "1                       umd  MaziyarPanahi/Meta-Llama-3-70B-Instruct-GPTQ   \n",
      "2                       umd  MaziyarPanahi/Meta-Llama-3-70B-Instruct-GPTQ   \n",
      "3                       umd  MaziyarPanahi/Meta-Llama-3-70B-Instruct-GPTQ   \n",
      "4                       umd  MaziyarPanahi/Meta-Llama-3-70B-Instruct-GPTQ   \n",
      "..                      ...                                           ...   \n",
      "145                     umd  MaziyarPanahi/Meta-Llama-3-70B-Instruct-GPTQ   \n",
      "146                     umd  MaziyarPanahi/Meta-Llama-3-70B-Instruct-GPTQ   \n",
      "147                     umd  MaziyarPanahi/Meta-Llama-3-70B-Instruct-GPTQ   \n",
      "148                     umd  MaziyarPanahi/Meta-Llama-3-70B-Instruct-GPTQ   \n",
      "149                     umd  MaziyarPanahi/Meta-Llama-3-70B-Instruct-GPTQ   \n",
      "\n",
      "     zscore_diff  \n",
      "0       1.360366  \n",
      "1       1.038631  \n",
      "2       3.571984  \n",
      "3       2.051245  \n",
      "4       0.000000  \n",
      "..           ...  \n",
      "145     2.919864  \n",
      "146     0.469848  \n",
      "147     3.646977  \n",
      "148     1.285360  \n",
      "149     1.762243  \n",
      "\n",
      "[150 rows x 10 columns]\n",
      "\n",
      "Mean zscore difference:\n",
      "2.0496813079521776\n"
     ]
    }
   ],
   "source": [
    "# Merge DataFrames on 'id'\n",
    "merged_df = pd.merge(min_df, max_df, on='id', suffixes=('_df1', '_df2'))\n",
    "\n",
    "# Calculate the absolute difference in 'zscore'\n",
    "merged_df['zscore_diff'] = abs(merged_df['zscore_df1'] - merged_df['zscore_df2'])\n",
    "\n",
    "# Find the maximum difference\n",
    "max_diff = merged_df['zscore_diff'].mean()\n",
    "\n",
    "# Result\n",
    "print(\"Merged DataFrame:\")\n",
    "print(merged_df)\n",
    "print(\"\\nMean zscore difference:\")\n",
    "print(max_diff)"
   ]
  },
  {
   "cell_type": "code",
   "execution_count": null,
   "metadata": {},
   "outputs": [],
   "source": []
  }
 ],
 "metadata": {
  "kernelspec": {
   "display_name": "watermark",
   "language": "python",
   "name": "python3"
  },
  "language_info": {
   "codemirror_mode": {
    "name": "ipython",
    "version": 3
   },
   "file_extension": ".py",
   "mimetype": "text/x-python",
   "name": "python",
   "nbconvert_exporter": "python",
   "pygments_lexer": "ipython3",
   "version": "3.10.14"
  }
 },
 "nbformat": 4,
 "nbformat_minor": 2
}
