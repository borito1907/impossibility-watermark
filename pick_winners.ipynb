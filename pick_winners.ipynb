{
 "cells": [
  {
   "cell_type": "code",
   "execution_count": 3,
   "metadata": {},
   "outputs": [],
   "source": [
    "import pandas as pd"
   ]
  },
  {
   "cell_type": "code",
   "execution_count": 4,
   "metadata": {},
   "outputs": [],
   "source": [
    "# folders = ['dev_umd_long', 'dev_umd_long_2', 'dev_umd_long_3']\n",
    "folders = ['dev_semstamp', 'dev_semstamp_last_2', 'dev_semstamp_last_3']\n",
    "\n",
    "dfs = []\n",
    "\n",
    "for folder in folders:\n",
    "    path = f\"/local1/borito1907/impossibility-watermark/inputs/{folder}/watermarked_texts.csv\"\n",
    "    df = pd.read_csv(path)\n",
    "    dfs.append(df)"
   ]
  },
  {
   "cell_type": "code",
   "execution_count": 5,
   "metadata": {},
   "outputs": [
    {
     "data": {
      "text/html": [
       "<div>\n",
       "<style scoped>\n",
       "    .dataframe tbody tr th:only-of-type {\n",
       "        vertical-align: middle;\n",
       "    }\n",
       "\n",
       "    .dataframe tbody tr th {\n",
       "        vertical-align: top;\n",
       "    }\n",
       "\n",
       "    .dataframe thead th {\n",
       "        text-align: right;\n",
       "    }\n",
       "</style>\n",
       "<table border=\"1\" class=\"dataframe\">\n",
       "  <thead>\n",
       "    <tr style=\"text-align: right;\">\n",
       "      <th></th>\n",
       "      <th>id</th>\n",
       "      <th>text</th>\n",
       "      <th>zscore</th>\n",
       "      <th>watermarking_scheme</th>\n",
       "      <th>model</th>\n",
       "    </tr>\n",
       "  </thead>\n",
       "  <tbody>\n",
       "    <tr>\n",
       "      <th>0</th>\n",
       "      <td>3122001001</td>\n",
       "      <td>(clears throat)\\n\\n\"Folks, let me tell you, I ...</td>\n",
       "      <td>7.745967</td>\n",
       "      <td>semstamp_lsh</td>\n",
       "      <td>MaziyarPanahi/Meta-Llama-3-70B-Instruct-GPTQ</td>\n",
       "    </tr>\n",
       "    <tr>\n",
       "      <th>1</th>\n",
       "      <td>3598699537</td>\n",
       "      <td>Oh no, that's quite a situation!\\n\\nFirst thin...</td>\n",
       "      <td>6.480741</td>\n",
       "      <td>semstamp_lsh</td>\n",
       "      <td>MaziyarPanahi/Meta-Llama-3-70B-Instruct-GPTQ</td>\n",
       "    </tr>\n",
       "    <tr>\n",
       "      <th>2</th>\n",
       "      <td>2090165219</td>\n",
       "      <td>Bruh, let me tell you about Mikan Sakura's bod...</td>\n",
       "      <td>6.244998</td>\n",
       "      <td>semstamp_lsh</td>\n",
       "      <td>MaziyarPanahi/Meta-Llama-3-70B-Instruct-GPTQ</td>\n",
       "    </tr>\n",
       "    <tr>\n",
       "      <th>3</th>\n",
       "      <td>2737888188</td>\n",
       "      <td>Here's a start to an isekai fantasy story. I'l...</td>\n",
       "      <td>6.000000</td>\n",
       "      <td>semstamp_lsh</td>\n",
       "      <td>MaziyarPanahi/Meta-Llama-3-70B-Instruct-GPTQ</td>\n",
       "    </tr>\n",
       "    <tr>\n",
       "      <th>4</th>\n",
       "      <td>2549952481</td>\n",
       "      <td>I'm happy to provide some lighthearted and hum...</td>\n",
       "      <td>6.000000</td>\n",
       "      <td>semstamp_lsh</td>\n",
       "      <td>MaziyarPanahi/Meta-Llama-3-70B-Instruct-GPTQ</td>\n",
       "    </tr>\n",
       "  </tbody>\n",
       "</table>\n",
       "</div>"
      ],
      "text/plain": [
       "           id                                               text    zscore  \\\n",
       "0  3122001001  (clears throat)\\n\\n\"Folks, let me tell you, I ...  7.745967   \n",
       "1  3598699537  Oh no, that's quite a situation!\\n\\nFirst thin...  6.480741   \n",
       "2  2090165219  Bruh, let me tell you about Mikan Sakura's bod...  6.244998   \n",
       "3  2737888188  Here's a start to an isekai fantasy story. I'l...  6.000000   \n",
       "4  2549952481  I'm happy to provide some lighthearted and hum...  6.000000   \n",
       "\n",
       "  watermarking_scheme                                         model  \n",
       "0        semstamp_lsh  MaziyarPanahi/Meta-Llama-3-70B-Instruct-GPTQ  \n",
       "1        semstamp_lsh  MaziyarPanahi/Meta-Llama-3-70B-Instruct-GPTQ  \n",
       "2        semstamp_lsh  MaziyarPanahi/Meta-Llama-3-70B-Instruct-GPTQ  \n",
       "3        semstamp_lsh  MaziyarPanahi/Meta-Llama-3-70B-Instruct-GPTQ  \n",
       "4        semstamp_lsh  MaziyarPanahi/Meta-Llama-3-70B-Instruct-GPTQ  "
      ]
     },
     "execution_count": 5,
     "metadata": {},
     "output_type": "execute_result"
    }
   ],
   "source": [
    "combined_df = pd.concat(dfs)\n",
    "max_df = combined_df.sort_values('zscore', ascending=False).drop_duplicates('id')\n",
    "max_df = max_df.reset_index(drop=True)\n",
    "min_df = combined_df.sort_values('zscore', ascending=True).drop_duplicates('id')\n",
    "min_df = min_df.reset_index(drop=True)\n",
    "\n",
    "max_df.head()"
   ]
  },
  {
   "cell_type": "code",
   "execution_count": 6,
   "metadata": {},
   "outputs": [],
   "source": [
    "max_df.to_csv(\"./inputs/semstamp_max.csv\")"
   ]
  },
  {
   "cell_type": "code",
   "execution_count": 7,
   "metadata": {},
   "outputs": [
    {
     "data": {
      "text/plain": [
       "94"
      ]
     },
     "execution_count": 7,
     "metadata": {},
     "output_type": "execute_result"
    }
   ],
   "source": [
    "len(max_df[max_df['zscore'] >= 3])"
   ]
  },
  {
   "cell_type": "code",
   "execution_count": 8,
   "metadata": {},
   "outputs": [
    {
     "data": {
      "text/plain": [
       "118"
      ]
     },
     "execution_count": 8,
     "metadata": {},
     "output_type": "execute_result"
    }
   ],
   "source": [
    "len(max_df[max_df['zscore'] >= 2])"
   ]
  },
  {
   "cell_type": "code",
   "execution_count": 11,
   "metadata": {},
   "outputs": [
    {
     "data": {
      "text/plain": [
       "144"
      ]
     },
     "execution_count": 11,
     "metadata": {},
     "output_type": "execute_result"
    }
   ],
   "source": [
    "len(max_df[max_df['zscore'] >= 0.5])"
   ]
  },
  {
   "cell_type": "code",
   "execution_count": 10,
   "metadata": {},
   "outputs": [
    {
     "name": "stdout",
     "output_type": "stream",
     "text": [
      "Merged DataFrame:\n",
      "             id                                           text_df1  \\\n",
      "0    3943120934  France, an industrial powerhouse in the 1960s ...   \n",
      "1    1182770547  It looks like you're encountering an issue wit...   \n",
      "2    3740859354  The CJMCU-1808 is a GPS module that provides a...   \n",
      "3    4215140113  Here is the classic \"Hello, World!\" program in...   \n",
      "4     476518832  AI (Artificial Intelligence) is a broad field,...   \n",
      "..          ...                                                ...   \n",
      "139  3949048841  What an intriguing request!\\n\\nAssuming the va...   \n",
      "140    53058989  Here is an essay on the topic \"The Importance ...   \n",
      "141  3949233826  Validating forms in React! There are several w...   \n",
      "142  3598699537  Oh no, that sounds like a quite extraordinary ...   \n",
      "143  3122001001  (clears throat)\\n\\n\"Folks, let me tell you, I ...   \n",
      "\n",
      "     zscore_df1 watermarking_scheme_df1  \\\n",
      "0      0.577350            semstamp_lsh   \n",
      "1      0.577350            semstamp_lsh   \n",
      "2      0.662266            semstamp_lsh   \n",
      "3      0.745356            semstamp_lsh   \n",
      "4      0.774597            semstamp_lsh   \n",
      "..          ...                     ...   \n",
      "139    4.746929            semstamp_lsh   \n",
      "140    4.898979            semstamp_lsh   \n",
      "141    4.898979            semstamp_lsh   \n",
      "142    5.333333            semstamp_lsh   \n",
      "143    5.430583            semstamp_lsh   \n",
      "\n",
      "                                        model_df1  \\\n",
      "0    MaziyarPanahi/Meta-Llama-3-70B-Instruct-GPTQ   \n",
      "1    MaziyarPanahi/Meta-Llama-3-70B-Instruct-GPTQ   \n",
      "2    MaziyarPanahi/Meta-Llama-3-70B-Instruct-GPTQ   \n",
      "3    MaziyarPanahi/Meta-Llama-3-70B-Instruct-GPTQ   \n",
      "4    MaziyarPanahi/Meta-Llama-3-70B-Instruct-GPTQ   \n",
      "..                                            ...   \n",
      "139  MaziyarPanahi/Meta-Llama-3-70B-Instruct-GPTQ   \n",
      "140  MaziyarPanahi/Meta-Llama-3-70B-Instruct-GPTQ   \n",
      "141  MaziyarPanahi/Meta-Llama-3-70B-Instruct-GPTQ   \n",
      "142  MaziyarPanahi/Meta-Llama-3-70B-Instruct-GPTQ   \n",
      "143  MaziyarPanahi/Meta-Llama-3-70B-Instruct-GPTQ   \n",
      "\n",
      "                                              text_df2  zscore_df2  \\\n",
      "0    France's de-industrialization is a complex and...    5.196152   \n",
      "1    I'd be happy to help you with that Nginx error...    1.347151   \n",
      "2    The CJMCU-1808 is a USB-C Power Delivery (PD) ...    3.130495   \n",
      "3    Here is the classic \"Hello, World!\" program in...    1.333333   \n",
      "4    Calculating Artificial Intelligence (AI) is a ...    3.872983   \n",
      "..                                                 ...         ...   \n",
      "139  What an intriguing request!\\n\\nMeet Aurora \"Ro...    5.048252   \n",
      "140  Here is an essay on the topic \"The Importance ...    5.196152   \n",
      "141  Validating forms in React! There are several w...    4.898979   \n",
      "142  Oh no, that's quite a situation!\\n\\nFirst thin...    6.480741   \n",
      "143  (clears throat)\\n\\n\"Folks, let me tell you, I ...    7.745967   \n",
      "\n",
      "    watermarking_scheme_df2                                     model_df2  \\\n",
      "0              semstamp_lsh  MaziyarPanahi/Meta-Llama-3-70B-Instruct-GPTQ   \n",
      "1              semstamp_lsh  MaziyarPanahi/Meta-Llama-3-70B-Instruct-GPTQ   \n",
      "2              semstamp_lsh  MaziyarPanahi/Meta-Llama-3-70B-Instruct-GPTQ   \n",
      "3              semstamp_lsh  MaziyarPanahi/Meta-Llama-3-70B-Instruct-GPTQ   \n",
      "4              semstamp_lsh  MaziyarPanahi/Meta-Llama-3-70B-Instruct-GPTQ   \n",
      "..                      ...                                           ...   \n",
      "139            semstamp_lsh  MaziyarPanahi/Meta-Llama-3-70B-Instruct-GPTQ   \n",
      "140            semstamp_lsh  MaziyarPanahi/Meta-Llama-3-70B-Instruct-GPTQ   \n",
      "141            semstamp_lsh  MaziyarPanahi/Meta-Llama-3-70B-Instruct-GPTQ   \n",
      "142            semstamp_lsh  MaziyarPanahi/Meta-Llama-3-70B-Instruct-GPTQ   \n",
      "143            semstamp_lsh  MaziyarPanahi/Meta-Llama-3-70B-Instruct-GPTQ   \n",
      "\n",
      "     zscore_diff  \n",
      "0       4.618802  \n",
      "1       0.769800  \n",
      "2       2.468229  \n",
      "3       0.587977  \n",
      "4       3.098387  \n",
      "..           ...  \n",
      "139     0.301323  \n",
      "140     0.297173  \n",
      "141     0.000000  \n",
      "142     1.147407  \n",
      "143     2.315384  \n",
      "\n",
      "[144 rows x 10 columns]\n",
      "\n",
      "Mean zscore difference:\n",
      "1.1825459680015422\n"
     ]
    }
   ],
   "source": [
    "# Merge DataFrames on 'id'\n",
    "merged_df = pd.merge(min_df, max_df, on='id', suffixes=('_df1', '_df2'))\n",
    "\n",
    "# Calculate the absolute difference in 'zscore'\n",
    "merged_df['zscore_diff'] = abs(merged_df['zscore_df1'] - merged_df['zscore_df2'])\n",
    "\n",
    "# Find the maximum difference\n",
    "max_diff = merged_df['zscore_diff'].mean()\n",
    "\n",
    "# Result\n",
    "print(\"Merged DataFrame:\")\n",
    "print(merged_df)\n",
    "print(\"\\nMean zscore difference:\")\n",
    "print(max_diff)"
   ]
  },
  {
   "cell_type": "code",
   "execution_count": null,
   "metadata": {},
   "outputs": [],
   "source": []
  }
 ],
 "metadata": {
  "kernelspec": {
   "display_name": "watermark",
   "language": "python",
   "name": "python3"
  },
  "language_info": {
   "codemirror_mode": {
    "name": "ipython",
    "version": 3
   },
   "file_extension": ".py",
   "mimetype": "text/x-python",
   "name": "python",
   "nbconvert_exporter": "python",
   "pygments_lexer": "ipython3",
   "version": "3.10.14"
  }
 },
 "nbformat": 4,
 "nbformat_minor": 2
}
