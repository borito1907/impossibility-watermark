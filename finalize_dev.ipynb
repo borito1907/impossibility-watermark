{
 "cells": [
  {
   "cell_type": "code",
   "execution_count": 1,
   "metadata": {},
   "outputs": [],
   "source": [
    "import pandas as pd"
   ]
  },
  {
   "cell_type": "markdown",
   "metadata": {},
   "source": [
    "## Adaptive"
   ]
  },
  {
   "cell_type": "code",
   "execution_count": 2,
   "metadata": {},
   "outputs": [],
   "source": [
    "# Done in the fluff_stripper.ipynb script."
   ]
  },
  {
   "cell_type": "code",
   "execution_count": 3,
   "metadata": {},
   "outputs": [],
   "source": [
    "df = pd.read_csv('./massive_adaptive_test_gens/fifth_round_gens.csv')"
   ]
  },
  {
   "cell_type": "code",
   "execution_count": 4,
   "metadata": {},
   "outputs": [],
   "source": [
    "def remove_last_if_matches(input_string, substring = \"<|eot_id|>\") -> str:\n",
    "    if input_string.endswith(substring):\n",
    "        return input_string[:-len(substring)]\n",
    "    return input_string\n",
    "\n",
    "df['text'] = df['text'].apply(remove_last_if_matches)"
   ]
  },
  {
   "cell_type": "code",
   "execution_count": 5,
   "metadata": {},
   "outputs": [],
   "source": [
    "# df.to_csv('./data/WQE_adaptive/test.csv')"
   ]
  },
  {
   "cell_type": "markdown",
   "metadata": {},
   "source": [
    "## Semstamp and UMD"
   ]
  },
  {
   "cell_type": "code",
   "execution_count": 6,
   "metadata": {},
   "outputs": [],
   "source": [
    "df_dev = pd.read_csv('/local1/borito1907/impossibility-watermark/human_study/data/dev_watermarked.csv')\n",
    "df_test = pd.read_csv('/local1/borito1907/impossibility-watermark/human_study/data/test_watermarked.csv')\n",
    "\n",
    "umd_dev = df_dev[df_dev['watermarking_scheme'] == 'umd']\n",
    "umd_test = df_test[df_test['watermarking_scheme'] == 'umd']\n",
    "semstamp_dev = df_dev[df_dev['watermarking_scheme'] == 'semstamp_lsh']\n",
    "semstamp_test = df_test[df_test['watermarking_scheme'] == 'semstamp_lsh']"
   ]
  },
  {
   "cell_type": "code",
   "execution_count": 7,
   "metadata": {},
   "outputs": [],
   "source": [
    "umd_dev = umd_dev.drop(columns=['Unnamed: 0', 'Unnamed: 0.1'])\n",
    "umd_test = umd_test.drop(columns=['Unnamed: 0', 'Unnamed: 0.1'])\n",
    "semstamp_dev = semstamp_dev.drop(columns=['Unnamed: 0', 'Unnamed: 0.1'])\n",
    "semstamp_test = semstamp_test.drop(columns=['Unnamed: 0', 'Unnamed: 0.1'])"
   ]
  },
  {
   "cell_type": "code",
   "execution_count": 8,
   "metadata": {},
   "outputs": [],
   "source": [
    "# The UMD generations have max_new_tokens 768 instead of 1024, like we discussed with Fabrice.\n",
    "# I'll upload them for now."
   ]
  },
  {
   "cell_type": "code",
   "execution_count": 9,
   "metadata": {},
   "outputs": [],
   "source": [
    "# semstamp_dev.to_csv('./data/WQE_semstamp/dev.csv')\n",
    "# semstamp_test.to_csv('./data/WQE_semstamp/test.csv')"
   ]
  },
  {
   "cell_type": "code",
   "execution_count": 10,
   "metadata": {},
   "outputs": [],
   "source": [
    "# umd_dev.to_csv('./data/WQE_umd/dev.csv')\n",
    "# umd_test.to_csv('./data/WQE_umd/test.csv')"
   ]
  },
  {
   "cell_type": "code",
   "execution_count": null,
   "metadata": {},
   "outputs": [],
   "source": []
  }
 ],
 "metadata": {
  "kernelspec": {
   "display_name": "watermark",
   "language": "python",
   "name": "python3"
  },
  "language_info": {
   "codemirror_mode": {
    "name": "ipython",
    "version": 3
   },
   "file_extension": ".py",
   "mimetype": "text/x-python",
   "name": "python",
   "nbconvert_exporter": "python",
   "pygments_lexer": "ipython3",
   "version": "3.10.14"
  }
 },
 "nbformat": 4,
 "nbformat_minor": 2
}
