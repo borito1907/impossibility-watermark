{
 "cells": [
  {
   "cell_type": "code",
   "execution_count": 13,
   "metadata": {},
   "outputs": [],
   "source": [
    "import pandas as pd"
   ]
  },
  {
   "cell_type": "code",
   "execution_count": 29,
   "metadata": {},
   "outputs": [],
   "source": [
    "dfs = []\n",
    "\n",
    "for partition in range(1,13):\n",
    "    if partition == 2:\n",
    "        continue\n",
    "    folder = f\"semstamp_test_{partition}\"\n",
    "    path = f\"/local1/borito1907/impossibility-watermark/inputs/{folder}/watermarked_texts.csv\"\n",
    "    df = pd.read_csv(path)\n",
    "    dfs.append(df)\n",
    "\n",
    "combined_df = pd.concat(dfs)"
   ]
  },
  {
   "cell_type": "code",
   "execution_count": 30,
   "metadata": {},
   "outputs": [
    {
     "data": {
      "text/plain": [
       "948"
      ]
     },
     "execution_count": 30,
     "metadata": {},
     "output_type": "execute_result"
    }
   ],
   "source": [
    "len(combined_df)"
   ]
  },
  {
   "cell_type": "code",
   "execution_count": 31,
   "metadata": {},
   "outputs": [
    {
     "data": {
      "text/plain": [
       "432"
      ]
     },
     "execution_count": 31,
     "metadata": {},
     "output_type": "execute_result"
    }
   ],
   "source": [
    "len(combined_df[combined_df['zscore'] >= 3])"
   ]
  },
  {
   "cell_type": "code",
   "execution_count": 32,
   "metadata": {},
   "outputs": [
    {
     "data": {
      "text/plain": [
       "664"
      ]
     },
     "execution_count": 32,
     "metadata": {},
     "output_type": "execute_result"
    }
   ],
   "source": [
    "len(combined_df[combined_df['zscore'] >= 2])"
   ]
  },
  {
   "cell_type": "code",
   "execution_count": 33,
   "metadata": {},
   "outputs": [
    {
     "data": {
      "text/plain": [
       "948"
      ]
     },
     "execution_count": 33,
     "metadata": {},
     "output_type": "execute_result"
    }
   ],
   "source": [
    "len(combined_df[combined_df['zscore'] >= 0.5])"
   ]
  },
  {
   "cell_type": "code",
   "execution_count": 19,
   "metadata": {},
   "outputs": [],
   "source": [
    "new_df = combined_df[combined_df['zscore'] < 1]"
   ]
  },
  {
   "cell_type": "code",
   "execution_count": 20,
   "metadata": {},
   "outputs": [
    {
     "data": {
      "text/html": [
       "<div>\n",
       "<style scoped>\n",
       "    .dataframe tbody tr th:only-of-type {\n",
       "        vertical-align: middle;\n",
       "    }\n",
       "\n",
       "    .dataframe tbody tr th {\n",
       "        vertical-align: top;\n",
       "    }\n",
       "\n",
       "    .dataframe thead th {\n",
       "        text-align: right;\n",
       "    }\n",
       "</style>\n",
       "<table border=\"1\" class=\"dataframe\">\n",
       "  <thead>\n",
       "    <tr style=\"text-align: right;\">\n",
       "      <th></th>\n",
       "      <th>id</th>\n",
       "      <th>text</th>\n",
       "      <th>zscore</th>\n",
       "      <th>watermarking_scheme</th>\n",
       "      <th>model</th>\n",
       "      <th>time</th>\n",
       "    </tr>\n",
       "  </thead>\n",
       "  <tbody>\n",
       "    <tr>\n",
       "      <th>16</th>\n",
       "      <td>3888482940</td>\n",
       "      <td>Here's an optimized C `strlen` implementation ...</td>\n",
       "      <td>0.816497</td>\n",
       "      <td>semstamp_lsh</td>\n",
       "      <td>MaziyarPanahi/Meta-Llama-3-70B-Instruct-GPTQ</td>\n",
       "      <td>NaN</td>\n",
       "    </tr>\n",
       "    <tr>\n",
       "      <th>26</th>\n",
       "      <td>3321751503</td>\n",
       "      <td>Here is the response:\\n\\n-- Two \\n\\nSince you ...</td>\n",
       "      <td>0.925820</td>\n",
       "      <td>semstamp_lsh</td>\n",
       "      <td>MaziyarPanahi/Meta-Llama-3-70B-Instruct-GPTQ</td>\n",
       "      <td>NaN</td>\n",
       "    </tr>\n",
       "    <tr>\n",
       "      <th>60</th>\n",
       "      <td>33407477</td>\n",
       "      <td>Here is an example of Python code that demonst...</td>\n",
       "      <td>0.816497</td>\n",
       "      <td>semstamp_lsh</td>\n",
       "      <td>MaziyarPanahi/Meta-Llama-3-70B-Instruct-GPTQ</td>\n",
       "      <td>NaN</td>\n",
       "    </tr>\n",
       "    <tr>\n",
       "      <th>0</th>\n",
       "      <td>2765770341</td>\n",
       "      <td>To find the perimeter values in a NumPy array,...</td>\n",
       "      <td>0.816497</td>\n",
       "      <td>semstamp_lsh</td>\n",
       "      <td>MaziyarPanahi/Meta-Llama-3-70B-Instruct-GPTQ</td>\n",
       "      <td>NaN</td>\n",
       "    </tr>\n",
       "    <tr>\n",
       "      <th>9</th>\n",
       "      <td>3745958052</td>\n",
       "      <td>I apologize, but I'm not familiar with a compu...</td>\n",
       "      <td>0.816497</td>\n",
       "      <td>semstamp_lsh</td>\n",
       "      <td>MaziyarPanahi/Meta-Llama-3-70B-Instruct-GPTQ</td>\n",
       "      <td>NaN</td>\n",
       "    </tr>\n",
       "    <tr>\n",
       "      <th>...</th>\n",
       "      <td>...</td>\n",
       "      <td>...</td>\n",
       "      <td>...</td>\n",
       "      <td>...</td>\n",
       "      <td>...</td>\n",
       "      <td>...</td>\n",
       "    </tr>\n",
       "    <tr>\n",
       "      <th>24</th>\n",
       "      <td>95042730</td>\n",
       "      <td>According to the FCA's Mortgages and Home Fina...</td>\n",
       "      <td>0.816497</td>\n",
       "      <td>semstamp_lsh</td>\n",
       "      <td>MaziyarPanahi/Meta-Llama-3-70B-Instruct-GPTQ</td>\n",
       "      <td>236.532862</td>\n",
       "    </tr>\n",
       "    <tr>\n",
       "      <th>30</th>\n",
       "      <td>1413001075</td>\n",
       "      <td>I think there may be some confusion here.\\n\\nT...</td>\n",
       "      <td>0.577350</td>\n",
       "      <td>semstamp_lsh</td>\n",
       "      <td>MaziyarPanahi/Meta-Llama-3-70B-Instruct-GPTQ</td>\n",
       "      <td>1030.065336</td>\n",
       "    </tr>\n",
       "    <tr>\n",
       "      <th>38</th>\n",
       "      <td>2762822507</td>\n",
       "      <td>To find out how old Angela Merkel is, I'll nee...</td>\n",
       "      <td>0.816497</td>\n",
       "      <td>semstamp_lsh</td>\n",
       "      <td>MaziyarPanahi/Meta-Llama-3-70B-Instruct-GPTQ</td>\n",
       "      <td>822.375399</td>\n",
       "    </tr>\n",
       "    <tr>\n",
       "      <th>60</th>\n",
       "      <td>533475351</td>\n",
       "      <td>Sun Yat-sen (also known as Sun Zhongshan) was ...</td>\n",
       "      <td>0.816497</td>\n",
       "      <td>semstamp_lsh</td>\n",
       "      <td>MaziyarPanahi/Meta-Llama-3-70B-Instruct-GPTQ</td>\n",
       "      <td>893.054851</td>\n",
       "    </tr>\n",
       "    <tr>\n",
       "      <th>77</th>\n",
       "      <td>4093666973</td>\n",
       "      <td>The majestic Nile River!\\n\\nThe Nile is locate...</td>\n",
       "      <td>0.577350</td>\n",
       "      <td>semstamp_lsh</td>\n",
       "      <td>MaziyarPanahi/Meta-Llama-3-70B-Instruct-GPTQ</td>\n",
       "      <td>660.733812</td>\n",
       "    </tr>\n",
       "  </tbody>\n",
       "</table>\n",
       "<p>64 rows × 6 columns</p>\n",
       "</div>"
      ],
      "text/plain": [
       "            id                                               text    zscore  \\\n",
       "16  3888482940  Here's an optimized C `strlen` implementation ...  0.816497   \n",
       "26  3321751503  Here is the response:\\n\\n-- Two \\n\\nSince you ...  0.925820   \n",
       "60    33407477  Here is an example of Python code that demonst...  0.816497   \n",
       "0   2765770341  To find the perimeter values in a NumPy array,...  0.816497   \n",
       "9   3745958052  I apologize, but I'm not familiar with a compu...  0.816497   \n",
       "..         ...                                                ...       ...   \n",
       "24    95042730  According to the FCA's Mortgages and Home Fina...  0.816497   \n",
       "30  1413001075  I think there may be some confusion here.\\n\\nT...  0.577350   \n",
       "38  2762822507  To find out how old Angela Merkel is, I'll nee...  0.816497   \n",
       "60   533475351  Sun Yat-sen (also known as Sun Zhongshan) was ...  0.816497   \n",
       "77  4093666973  The majestic Nile River!\\n\\nThe Nile is locate...  0.577350   \n",
       "\n",
       "   watermarking_scheme                                         model  \\\n",
       "16        semstamp_lsh  MaziyarPanahi/Meta-Llama-3-70B-Instruct-GPTQ   \n",
       "26        semstamp_lsh  MaziyarPanahi/Meta-Llama-3-70B-Instruct-GPTQ   \n",
       "60        semstamp_lsh  MaziyarPanahi/Meta-Llama-3-70B-Instruct-GPTQ   \n",
       "0         semstamp_lsh  MaziyarPanahi/Meta-Llama-3-70B-Instruct-GPTQ   \n",
       "9         semstamp_lsh  MaziyarPanahi/Meta-Llama-3-70B-Instruct-GPTQ   \n",
       "..                 ...                                           ...   \n",
       "24        semstamp_lsh  MaziyarPanahi/Meta-Llama-3-70B-Instruct-GPTQ   \n",
       "30        semstamp_lsh  MaziyarPanahi/Meta-Llama-3-70B-Instruct-GPTQ   \n",
       "38        semstamp_lsh  MaziyarPanahi/Meta-Llama-3-70B-Instruct-GPTQ   \n",
       "60        semstamp_lsh  MaziyarPanahi/Meta-Llama-3-70B-Instruct-GPTQ   \n",
       "77        semstamp_lsh  MaziyarPanahi/Meta-Llama-3-70B-Instruct-GPTQ   \n",
       "\n",
       "           time  \n",
       "16          NaN  \n",
       "26          NaN  \n",
       "60          NaN  \n",
       "0           NaN  \n",
       "9           NaN  \n",
       "..          ...  \n",
       "24   236.532862  \n",
       "30  1030.065336  \n",
       "38   822.375399  \n",
       "60   893.054851  \n",
       "77   660.733812  \n",
       "\n",
       "[64 rows x 6 columns]"
      ]
     },
     "execution_count": 20,
     "metadata": {},
     "output_type": "execute_result"
    }
   ],
   "source": [
    "new_df"
   ]
  },
  {
   "cell_type": "code",
   "execution_count": 21,
   "metadata": {},
   "outputs": [
    {
     "data": {
      "text/html": [
       "<div>\n",
       "<style scoped>\n",
       "    .dataframe tbody tr th:only-of-type {\n",
       "        vertical-align: middle;\n",
       "    }\n",
       "\n",
       "    .dataframe tbody tr th {\n",
       "        vertical-align: top;\n",
       "    }\n",
       "\n",
       "    .dataframe thead th {\n",
       "        text-align: right;\n",
       "    }\n",
       "</style>\n",
       "<table border=\"1\" class=\"dataframe\">\n",
       "  <thead>\n",
       "    <tr style=\"text-align: right;\">\n",
       "      <th></th>\n",
       "      <th>id</th>\n",
       "      <th>text</th>\n",
       "      <th>zscore</th>\n",
       "      <th>watermarking_scheme</th>\n",
       "      <th>model</th>\n",
       "      <th>time</th>\n",
       "    </tr>\n",
       "  </thead>\n",
       "  <tbody>\n",
       "    <tr>\n",
       "      <th>16</th>\n",
       "      <td>3888482940</td>\n",
       "      <td>Here's an optimized C `strlen` implementation ...</td>\n",
       "      <td>0.816497</td>\n",
       "      <td>semstamp_lsh</td>\n",
       "      <td>MaziyarPanahi/Meta-Llama-3-70B-Instruct-GPTQ</td>\n",
       "      <td>NaN</td>\n",
       "    </tr>\n",
       "    <tr>\n",
       "      <th>26</th>\n",
       "      <td>3321751503</td>\n",
       "      <td>Here is the response:\\n\\n-- Two \\n\\nSince you ...</td>\n",
       "      <td>0.925820</td>\n",
       "      <td>semstamp_lsh</td>\n",
       "      <td>MaziyarPanahi/Meta-Llama-3-70B-Instruct-GPTQ</td>\n",
       "      <td>NaN</td>\n",
       "    </tr>\n",
       "    <tr>\n",
       "      <th>60</th>\n",
       "      <td>33407477</td>\n",
       "      <td>Here is an example of Python code that demonst...</td>\n",
       "      <td>0.816497</td>\n",
       "      <td>semstamp_lsh</td>\n",
       "      <td>MaziyarPanahi/Meta-Llama-3-70B-Instruct-GPTQ</td>\n",
       "      <td>NaN</td>\n",
       "    </tr>\n",
       "    <tr>\n",
       "      <th>0</th>\n",
       "      <td>2765770341</td>\n",
       "      <td>To find the perimeter values in a NumPy array,...</td>\n",
       "      <td>0.816497</td>\n",
       "      <td>semstamp_lsh</td>\n",
       "      <td>MaziyarPanahi/Meta-Llama-3-70B-Instruct-GPTQ</td>\n",
       "      <td>NaN</td>\n",
       "    </tr>\n",
       "    <tr>\n",
       "      <th>9</th>\n",
       "      <td>3745958052</td>\n",
       "      <td>I apologize, but I'm not familiar with a compu...</td>\n",
       "      <td>0.816497</td>\n",
       "      <td>semstamp_lsh</td>\n",
       "      <td>MaziyarPanahi/Meta-Llama-3-70B-Instruct-GPTQ</td>\n",
       "      <td>NaN</td>\n",
       "    </tr>\n",
       "    <tr>\n",
       "      <th>19</th>\n",
       "      <td>1085732417</td>\n",
       "      <td>Here are 10 prompts that can encourage an AI a...</td>\n",
       "      <td>0.870388</td>\n",
       "      <td>semstamp_lsh</td>\n",
       "      <td>MaziyarPanahi/Meta-Llama-3-70B-Instruct-GPTQ</td>\n",
       "      <td>NaN</td>\n",
       "    </tr>\n",
       "    <tr>\n",
       "      <th>42</th>\n",
       "      <td>1806083326</td>\n",
       "      <td>The Women's Basketball Alliance (WBA) was a pr...</td>\n",
       "      <td>0.577350</td>\n",
       "      <td>semstamp_lsh</td>\n",
       "      <td>MaziyarPanahi/Meta-Llama-3-70B-Instruct-GPTQ</td>\n",
       "      <td>NaN</td>\n",
       "    </tr>\n",
       "    <tr>\n",
       "      <th>45</th>\n",
       "      <td>1889039208</td>\n",
       "      <td>As a cybersecurity officer, you're well aware ...</td>\n",
       "      <td>0.577350</td>\n",
       "      <td>semstamp_lsh</td>\n",
       "      <td>MaziyarPanahi/Meta-Llama-3-70B-Instruct-GPTQ</td>\n",
       "      <td>NaN</td>\n",
       "    </tr>\n",
       "    <tr>\n",
       "      <th>58</th>\n",
       "      <td>3424158901</td>\n",
       "      <td>Here is a Python program that prints the first...</td>\n",
       "      <td>0.774597</td>\n",
       "      <td>semstamp_lsh</td>\n",
       "      <td>MaziyarPanahi/Meta-Llama-3-70B-Instruct-GPTQ</td>\n",
       "      <td>NaN</td>\n",
       "    </tr>\n",
       "    <tr>\n",
       "      <th>72</th>\n",
       "      <td>2624936581</td>\n",
       "      <td>Here's a simple GUI library in C, using the Xl...</td>\n",
       "      <td>0.816497</td>\n",
       "      <td>semstamp_lsh</td>\n",
       "      <td>MaziyarPanahi/Meta-Llama-3-70B-Instruct-GPTQ</td>\n",
       "      <td>NaN</td>\n",
       "    </tr>\n",
       "  </tbody>\n",
       "</table>\n",
       "</div>"
      ],
      "text/plain": [
       "            id                                               text    zscore  \\\n",
       "16  3888482940  Here's an optimized C `strlen` implementation ...  0.816497   \n",
       "26  3321751503  Here is the response:\\n\\n-- Two \\n\\nSince you ...  0.925820   \n",
       "60    33407477  Here is an example of Python code that demonst...  0.816497   \n",
       "0   2765770341  To find the perimeter values in a NumPy array,...  0.816497   \n",
       "9   3745958052  I apologize, but I'm not familiar with a compu...  0.816497   \n",
       "19  1085732417  Here are 10 prompts that can encourage an AI a...  0.870388   \n",
       "42  1806083326  The Women's Basketball Alliance (WBA) was a pr...  0.577350   \n",
       "45  1889039208  As a cybersecurity officer, you're well aware ...  0.577350   \n",
       "58  3424158901  Here is a Python program that prints the first...  0.774597   \n",
       "72  2624936581  Here's a simple GUI library in C, using the Xl...  0.816497   \n",
       "\n",
       "   watermarking_scheme                                         model  time  \n",
       "16        semstamp_lsh  MaziyarPanahi/Meta-Llama-3-70B-Instruct-GPTQ   NaN  \n",
       "26        semstamp_lsh  MaziyarPanahi/Meta-Llama-3-70B-Instruct-GPTQ   NaN  \n",
       "60        semstamp_lsh  MaziyarPanahi/Meta-Llama-3-70B-Instruct-GPTQ   NaN  \n",
       "0         semstamp_lsh  MaziyarPanahi/Meta-Llama-3-70B-Instruct-GPTQ   NaN  \n",
       "9         semstamp_lsh  MaziyarPanahi/Meta-Llama-3-70B-Instruct-GPTQ   NaN  \n",
       "19        semstamp_lsh  MaziyarPanahi/Meta-Llama-3-70B-Instruct-GPTQ   NaN  \n",
       "42        semstamp_lsh  MaziyarPanahi/Meta-Llama-3-70B-Instruct-GPTQ   NaN  \n",
       "45        semstamp_lsh  MaziyarPanahi/Meta-Llama-3-70B-Instruct-GPTQ   NaN  \n",
       "58        semstamp_lsh  MaziyarPanahi/Meta-Llama-3-70B-Instruct-GPTQ   NaN  \n",
       "72        semstamp_lsh  MaziyarPanahi/Meta-Llama-3-70B-Instruct-GPTQ   NaN  "
      ]
     },
     "execution_count": 21,
     "metadata": {},
     "output_type": "execute_result"
    }
   ],
   "source": [
    "new_df.head(10)"
   ]
  },
  {
   "cell_type": "code",
   "execution_count": 22,
   "metadata": {},
   "outputs": [
    {
     "data": {
      "text/html": [
       "<div>\n",
       "<style scoped>\n",
       "    .dataframe tbody tr th:only-of-type {\n",
       "        vertical-align: middle;\n",
       "    }\n",
       "\n",
       "    .dataframe tbody tr th {\n",
       "        vertical-align: top;\n",
       "    }\n",
       "\n",
       "    .dataframe thead th {\n",
       "        text-align: right;\n",
       "    }\n",
       "</style>\n",
       "<table border=\"1\" class=\"dataframe\">\n",
       "  <thead>\n",
       "    <tr style=\"text-align: right;\">\n",
       "      <th></th>\n",
       "      <th>id</th>\n",
       "      <th>text</th>\n",
       "      <th>zscore</th>\n",
       "      <th>watermarking_scheme</th>\n",
       "      <th>model</th>\n",
       "      <th>time</th>\n",
       "    </tr>\n",
       "  </thead>\n",
       "  <tbody>\n",
       "  </tbody>\n",
       "</table>\n",
       "</div>"
      ],
      "text/plain": [
       "Empty DataFrame\n",
       "Columns: [id, text, zscore, watermarking_scheme, model, time]\n",
       "Index: []"
      ]
     },
     "execution_count": 22,
     "metadata": {},
     "output_type": "execute_result"
    }
   ],
   "source": [
    "mask = combined_df.drop(columns=['time']).isna().any(axis=1)\n",
    "nan_rows = combined_df[mask]\n",
    "nan_rows"
   ]
  },
  {
   "cell_type": "markdown",
   "metadata": {},
   "source": [
    "### Checking Stats Files"
   ]
  },
  {
   "cell_type": "code",
   "execution_count": 25,
   "metadata": {},
   "outputs": [],
   "source": [
    "import pandas as pd\n",
    "\n",
    "folders = [f\"semstamp_test_{partition}\" for partition in range(1,13)]\n",
    "\n",
    "\n",
    "dfs = []\n",
    "\n",
    "for partition in range(1,13):\n",
    "    if partition == 2:\n",
    "        continue\n",
    "    folder = f\"semstamp_test_{partition}\"\n",
    "    start = (partition - 1) * 100 + 1\n",
    "    end = partition * 100 + 1\n",
    "    for gen_num in range(start, end):\n",
    "        path = f\"/local1/borito1907/impossibility-watermark/inputs/{folder}/stats/{gen_num}.csv\"\n",
    "        df = pd.read_csv(path)\n",
    "        dfs.append(df)\n",
    "\n",
    "combined_df = pd.concat(dfs)"
   ]
  },
  {
   "cell_type": "code",
   "execution_count": null,
   "metadata": {},
   "outputs": [],
   "source": []
  }
 ],
 "metadata": {
  "kernelspec": {
   "display_name": "watermark",
   "language": "python",
   "name": "python3"
  },
  "language_info": {
   "codemirror_mode": {
    "name": "ipython",
    "version": 3
   },
   "file_extension": ".py",
   "mimetype": "text/x-python",
   "name": "python",
   "nbconvert_exporter": "python",
   "pygments_lexer": "ipython3",
   "version": "3.10.14"
  }
 },
 "nbformat": 4,
 "nbformat_minor": 2
}
