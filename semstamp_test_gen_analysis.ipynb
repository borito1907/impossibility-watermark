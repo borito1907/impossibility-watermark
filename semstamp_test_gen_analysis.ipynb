{
 "cells": [
  {
   "cell_type": "code",
   "execution_count": 35,
   "metadata": {},
   "outputs": [],
   "source": [
    "import pandas as pd"
   ]
  },
  {
   "cell_type": "code",
   "execution_count": 36,
   "metadata": {},
   "outputs": [],
   "source": [
    "folders = [f\"semstamp_test_{partition}\" for partition in range(1,10)]\n",
    "\n",
    "dfs = []\n",
    "\n",
    "for folder in folders:\n",
    "    path = f\"/local1/borito1907/impossibility-watermark/inputs/{folder}/watermarked_texts.csv\"\n",
    "    df = pd.read_csv(path)\n",
    "    dfs.append(df)"
   ]
  },
  {
   "cell_type": "code",
   "execution_count": 37,
   "metadata": {},
   "outputs": [
    {
     "data": {
      "text/html": [
       "<div>\n",
       "<style scoped>\n",
       "    .dataframe tbody tr th:only-of-type {\n",
       "        vertical-align: middle;\n",
       "    }\n",
       "\n",
       "    .dataframe tbody tr th {\n",
       "        vertical-align: top;\n",
       "    }\n",
       "\n",
       "    .dataframe thead th {\n",
       "        text-align: right;\n",
       "    }\n",
       "</style>\n",
       "<table border=\"1\" class=\"dataframe\">\n",
       "  <thead>\n",
       "    <tr style=\"text-align: right;\">\n",
       "      <th></th>\n",
       "      <th>id</th>\n",
       "      <th>text</th>\n",
       "      <th>zscore</th>\n",
       "      <th>watermarking_scheme</th>\n",
       "      <th>model</th>\n",
       "    </tr>\n",
       "  </thead>\n",
       "  <tbody>\n",
       "    <tr>\n",
       "      <th>0</th>\n",
       "      <td>548837587</td>\n",
       "      <td>Here are 20 concise English prompts:\\n\\n1. Tra...</td>\n",
       "      <td>7.937254</td>\n",
       "      <td>semstamp_lsh</td>\n",
       "      <td>MaziyarPanahi/Meta-Llama-3-70B-Instruct-GPTQ</td>\n",
       "    </tr>\n",
       "    <tr>\n",
       "      <th>1</th>\n",
       "      <td>3148575965</td>\n",
       "      <td>As I stood atop the crumbling skyscraper,. The...</td>\n",
       "      <td>7.348469</td>\n",
       "      <td>semstamp_lsh</td>\n",
       "      <td>MaziyarPanahi/Meta-Llama-3-70B-Instruct-GPTQ</td>\n",
       "    </tr>\n",
       "    <tr>\n",
       "      <th>2</th>\n",
       "      <td>1269893754</td>\n",
       "      <td>Ugga-Ugga me, Og. Og have heart-mate,\\nWahida,...</td>\n",
       "      <td>6.812733</td>\n",
       "      <td>semstamp_lsh</td>\n",
       "      <td>MaziyarPanahi/Meta-Llama-3-70B-Instruct-GPTQ</td>\n",
       "    </tr>\n",
       "    <tr>\n",
       "      <th>3</th>\n",
       "      <td>1934929637</td>\n",
       "      <td>[Seal of the Hunter's Guild]\\n\\n[Date]\\n\\nTo t...</td>\n",
       "      <td>6.713171</td>\n",
       "      <td>semstamp_lsh</td>\n",
       "      <td>MaziyarPanahi/Meta-Llama-3-70B-Instruct-GPTQ</td>\n",
       "    </tr>\n",
       "    <tr>\n",
       "      <th>4</th>\n",
       "      <td>2185367668</td>\n",
       "      <td>Audacious animals anxiously await awe-inspirin...</td>\n",
       "      <td>6.581316</td>\n",
       "      <td>semstamp_lsh</td>\n",
       "      <td>MaziyarPanahi/Meta-Llama-3-70B-Instruct-GPTQ</td>\n",
       "    </tr>\n",
       "  </tbody>\n",
       "</table>\n",
       "</div>"
      ],
      "text/plain": [
       "           id                                               text    zscore  \\\n",
       "0   548837587  Here are 20 concise English prompts:\\n\\n1. Tra...  7.937254   \n",
       "1  3148575965  As I stood atop the crumbling skyscraper,. The...  7.348469   \n",
       "2  1269893754  Ugga-Ugga me, Og. Og have heart-mate,\\nWahida,...  6.812733   \n",
       "3  1934929637  [Seal of the Hunter's Guild]\\n\\n[Date]\\n\\nTo t...  6.713171   \n",
       "4  2185367668  Audacious animals anxiously await awe-inspirin...  6.581316   \n",
       "\n",
       "  watermarking_scheme                                         model  \n",
       "0        semstamp_lsh  MaziyarPanahi/Meta-Llama-3-70B-Instruct-GPTQ  \n",
       "1        semstamp_lsh  MaziyarPanahi/Meta-Llama-3-70B-Instruct-GPTQ  \n",
       "2        semstamp_lsh  MaziyarPanahi/Meta-Llama-3-70B-Instruct-GPTQ  \n",
       "3        semstamp_lsh  MaziyarPanahi/Meta-Llama-3-70B-Instruct-GPTQ  \n",
       "4        semstamp_lsh  MaziyarPanahi/Meta-Llama-3-70B-Instruct-GPTQ  "
      ]
     },
     "execution_count": 37,
     "metadata": {},
     "output_type": "execute_result"
    }
   ],
   "source": [
    "combined_df = pd.concat(dfs)\n",
    "max_df = combined_df.sort_values('zscore', ascending=False).drop_duplicates('id')\n",
    "max_df = max_df.reset_index(drop=True)\n",
    "min_df = combined_df.sort_values('zscore', ascending=True).drop_duplicates('id')\n",
    "min_df = min_df.reset_index(drop=True)\n",
    "\n",
    "max_df.head()"
   ]
  },
  {
   "cell_type": "code",
   "execution_count": 49,
   "metadata": {},
   "outputs": [
    {
     "data": {
      "text/plain": [
       "731"
      ]
     },
     "execution_count": 49,
     "metadata": {},
     "output_type": "execute_result"
    }
   ],
   "source": [
    "len(max_df)"
   ]
  },
  {
   "cell_type": "code",
   "execution_count": 50,
   "metadata": {},
   "outputs": [
    {
     "data": {
      "text/plain": [
       "328"
      ]
     },
     "execution_count": 50,
     "metadata": {},
     "output_type": "execute_result"
    }
   ],
   "source": [
    "len(max_df[max_df['zscore'] >= 3])"
   ]
  },
  {
   "cell_type": "code",
   "execution_count": 51,
   "metadata": {},
   "outputs": [
    {
     "data": {
      "text/plain": [
       "509"
      ]
     },
     "execution_count": 51,
     "metadata": {},
     "output_type": "execute_result"
    }
   ],
   "source": [
    "len(max_df[max_df['zscore'] >= 2])"
   ]
  },
  {
   "cell_type": "code",
   "execution_count": 52,
   "metadata": {},
   "outputs": [
    {
     "data": {
      "text/plain": [
       "731"
      ]
     },
     "execution_count": 52,
     "metadata": {},
     "output_type": "execute_result"
    }
   ],
   "source": [
    "len(max_df[max_df['zscore'] >= 0.5])"
   ]
  },
  {
   "cell_type": "code",
   "execution_count": 41,
   "metadata": {},
   "outputs": [
    {
     "name": "stdout",
     "output_type": "stream",
     "text": [
      "Merged DataFrame:\n",
      "             id                                           text_df1  \\\n",
      "0    3818266273  The Diagnostic and Statistical Manual of Menta...   \n",
      "1    1724700984  Postpartum hemorrhage (PPH) is a serious and p...   \n",
      "2     196253478  What a fascinating question! Star Trek, as a f...   \n",
      "3    1414977918  Michael Faraday (not \"Faraday\" - it's just one...   \n",
      "4    2869650122  I'd be happy to help you with that!\\n\\nIt seem...   \n",
      "..          ...                                                ...   \n",
      "726  2185367668  Audacious animals anxiously await awe-inspirin...   \n",
      "727  1934929637  [Seal of the Hunter's Guild]\\n\\n[Date]\\n\\nTo t...   \n",
      "728  1269893754  Ugga-Ugga me, Og. Og have heart-mate,\\nWahida,...   \n",
      "729  3148575965  As I stood atop the crumbling skyscraper,. The...   \n",
      "730   548837587  Here are 20 concise English prompts:\\n\\n1. Tra...   \n",
      "\n",
      "     zscore_df1 watermarking_scheme_df1  \\\n",
      "0      0.577350            semstamp_lsh   \n",
      "1      0.577350            semstamp_lsh   \n",
      "2      0.577350            semstamp_lsh   \n",
      "3      0.577350            semstamp_lsh   \n",
      "4      0.577350            semstamp_lsh   \n",
      "..          ...                     ...   \n",
      "726    6.581316            semstamp_lsh   \n",
      "727    6.713171            semstamp_lsh   \n",
      "728    6.812733            semstamp_lsh   \n",
      "729    7.348469            semstamp_lsh   \n",
      "730    7.937254            semstamp_lsh   \n",
      "\n",
      "                                        model_df1  \\\n",
      "0    MaziyarPanahi/Meta-Llama-3-70B-Instruct-GPTQ   \n",
      "1    MaziyarPanahi/Meta-Llama-3-70B-Instruct-GPTQ   \n",
      "2    MaziyarPanahi/Meta-Llama-3-70B-Instruct-GPTQ   \n",
      "3    MaziyarPanahi/Meta-Llama-3-70B-Instruct-GPTQ   \n",
      "4    MaziyarPanahi/Meta-Llama-3-70B-Instruct-GPTQ   \n",
      "..                                            ...   \n",
      "726  MaziyarPanahi/Meta-Llama-3-70B-Instruct-GPTQ   \n",
      "727  MaziyarPanahi/Meta-Llama-3-70B-Instruct-GPTQ   \n",
      "728  MaziyarPanahi/Meta-Llama-3-70B-Instruct-GPTQ   \n",
      "729  MaziyarPanahi/Meta-Llama-3-70B-Instruct-GPTQ   \n",
      "730  MaziyarPanahi/Meta-Llama-3-70B-Instruct-GPTQ   \n",
      "\n",
      "                                              text_df2  zscore_df2  \\\n",
      "0    The Diagnostic and Statistical Manual of Menta...    0.577350   \n",
      "1    Postpartum hemorrhage (PPH) is a serious and p...    0.577350   \n",
      "2    What a fascinating question! Star Trek, as a f...    0.577350   \n",
      "3    Michael Faraday (not \"Faraday\" - it's just one...    0.577350   \n",
      "4    I'd be happy to help you with that!\\n\\nIt seem...    0.577350   \n",
      "..                                                 ...         ...   \n",
      "726  Audacious animals anxiously await awe-inspirin...    6.581316   \n",
      "727  [Seal of the Hunter's Guild]\\n\\n[Date]\\n\\nTo t...    6.713171   \n",
      "728  Ugga-Ugga me, Og. Og have heart-mate,\\nWahida,...    6.812733   \n",
      "729  As I stood atop the crumbling skyscraper,. The...    7.348469   \n",
      "730  Here are 20 concise English prompts:\\n\\n1. Tra...    7.937254   \n",
      "\n",
      "    watermarking_scheme_df2                                     model_df2  \\\n",
      "0              semstamp_lsh  MaziyarPanahi/Meta-Llama-3-70B-Instruct-GPTQ   \n",
      "1              semstamp_lsh  MaziyarPanahi/Meta-Llama-3-70B-Instruct-GPTQ   \n",
      "2              semstamp_lsh  MaziyarPanahi/Meta-Llama-3-70B-Instruct-GPTQ   \n",
      "3              semstamp_lsh  MaziyarPanahi/Meta-Llama-3-70B-Instruct-GPTQ   \n",
      "4              semstamp_lsh  MaziyarPanahi/Meta-Llama-3-70B-Instruct-GPTQ   \n",
      "..                      ...                                           ...   \n",
      "726            semstamp_lsh  MaziyarPanahi/Meta-Llama-3-70B-Instruct-GPTQ   \n",
      "727            semstamp_lsh  MaziyarPanahi/Meta-Llama-3-70B-Instruct-GPTQ   \n",
      "728            semstamp_lsh  MaziyarPanahi/Meta-Llama-3-70B-Instruct-GPTQ   \n",
      "729            semstamp_lsh  MaziyarPanahi/Meta-Llama-3-70B-Instruct-GPTQ   \n",
      "730            semstamp_lsh  MaziyarPanahi/Meta-Llama-3-70B-Instruct-GPTQ   \n",
      "\n",
      "     zscore_diff  \n",
      "0            0.0  \n",
      "1            0.0  \n",
      "2            0.0  \n",
      "3            0.0  \n",
      "4            0.0  \n",
      "..           ...  \n",
      "726          0.0  \n",
      "727          0.0  \n",
      "728          0.0  \n",
      "729          0.0  \n",
      "730          0.0  \n",
      "\n",
      "[731 rows x 10 columns]\n",
      "\n",
      "Mean zscore difference:\n",
      "0.0\n"
     ]
    }
   ],
   "source": [
    "# Merge DataFrames on 'id'\n",
    "merged_df = pd.merge(min_df, max_df, on='id', suffixes=('_df1', '_df2'))\n",
    "\n",
    "# Calculate the absolute difference in 'zscore'\n",
    "merged_df['zscore_diff'] = abs(merged_df['zscore_df1'] - merged_df['zscore_df2'])\n",
    "\n",
    "# Find the maximum difference\n",
    "max_diff = merged_df['zscore_diff'].mean()\n",
    "\n",
    "# Result\n",
    "print(\"Merged DataFrame:\")\n",
    "print(merged_df)\n",
    "print(\"\\nMean zscore difference:\")\n",
    "print(max_diff)"
   ]
  },
  {
   "cell_type": "code",
   "execution_count": 43,
   "metadata": {},
   "outputs": [
    {
     "data": {
      "text/plain": [
       "96.16666666666667"
      ]
     },
     "execution_count": 43,
     "metadata": {},
     "output_type": "execute_result"
    }
   ],
   "source": [
    "(1400 - 823) / 6"
   ]
  },
  {
   "cell_type": "code",
   "execution_count": 44,
   "metadata": {},
   "outputs": [],
   "source": [
    "new_df = max_df[max_df['zscore'] < 3]"
   ]
  },
  {
   "cell_type": "code",
   "execution_count": 45,
   "metadata": {},
   "outputs": [
    {
     "data": {
      "text/html": [
       "<div>\n",
       "<style scoped>\n",
       "    .dataframe tbody tr th:only-of-type {\n",
       "        vertical-align: middle;\n",
       "    }\n",
       "\n",
       "    .dataframe tbody tr th {\n",
       "        vertical-align: top;\n",
       "    }\n",
       "\n",
       "    .dataframe thead th {\n",
       "        text-align: right;\n",
       "    }\n",
       "</style>\n",
       "<table border=\"1\" class=\"dataframe\">\n",
       "  <thead>\n",
       "    <tr style=\"text-align: right;\">\n",
       "      <th></th>\n",
       "      <th>id</th>\n",
       "      <th>text</th>\n",
       "      <th>zscore</th>\n",
       "      <th>watermarking_scheme</th>\n",
       "      <th>model</th>\n",
       "    </tr>\n",
       "  </thead>\n",
       "  <tbody>\n",
       "    <tr>\n",
       "      <th>328</th>\n",
       "      <td>593233622</td>\n",
       "      <td>I understand you're asking for an explanation ...</td>\n",
       "      <td>2.95932</td>\n",
       "      <td>semstamp_lsh</td>\n",
       "      <td>MaziyarPanahi/Meta-Llama-3-70B-Instruct-GPTQ</td>\n",
       "    </tr>\n",
       "    <tr>\n",
       "      <th>329</th>\n",
       "      <td>2119410467</td>\n",
       "      <td>What an intriguing question! If childhood last...</td>\n",
       "      <td>2.95932</td>\n",
       "      <td>semstamp_lsh</td>\n",
       "      <td>MaziyarPanahi/Meta-Llama-3-70B-Instruct-GPTQ</td>\n",
       "    </tr>\n",
       "    <tr>\n",
       "      <th>330</th>\n",
       "      <td>1626870636</td>\n",
       "      <td>Improving your dental regime is a great step t...</td>\n",
       "      <td>2.95932</td>\n",
       "      <td>semstamp_lsh</td>\n",
       "      <td>MaziyarPanahi/Meta-Llama-3-70B-Instruct-GPTQ</td>\n",
       "    </tr>\n",
       "    <tr>\n",
       "      <th>331</th>\n",
       "      <td>1916866473</td>\n",
       "      <td>In high school, of course!\\n\\nHere's a list of...</td>\n",
       "      <td>2.95932</td>\n",
       "      <td>semstamp_lsh</td>\n",
       "      <td>MaziyarPanahi/Meta-Llama-3-70B-Instruct-GPTQ</td>\n",
       "    </tr>\n",
       "    <tr>\n",
       "      <th>332</th>\n",
       "      <td>2165982346</td>\n",
       "      <td>NaN</td>\n",
       "      <td>2.95932</td>\n",
       "      <td>semstamp_lsh</td>\n",
       "      <td>MaziyarPanahi/Meta-Llama-3-70B-Instruct-GPTQ</td>\n",
       "    </tr>\n",
       "    <tr>\n",
       "      <th>...</th>\n",
       "      <td>...</td>\n",
       "      <td>...</td>\n",
       "      <td>...</td>\n",
       "      <td>...</td>\n",
       "      <td>...</td>\n",
       "    </tr>\n",
       "    <tr>\n",
       "      <th>726</th>\n",
       "      <td>1970504429</td>\n",
       "      <td>The Capitol Hill neighborhood is a vibrant and...</td>\n",
       "      <td>0.57735</td>\n",
       "      <td>semstamp_lsh</td>\n",
       "      <td>MaziyarPanahi/Meta-Llama-3-70B-Instruct-GPTQ</td>\n",
       "    </tr>\n",
       "    <tr>\n",
       "      <th>727</th>\n",
       "      <td>1315176442</td>\n",
       "      <td>As a helpful personal assistant, and also havi...</td>\n",
       "      <td>0.57735</td>\n",
       "      <td>semstamp_lsh</td>\n",
       "      <td>MaziyarPanahi/Meta-Llama-3-70B-Instruct-GPTQ</td>\n",
       "    </tr>\n",
       "    <tr>\n",
       "      <th>728</th>\n",
       "      <td>1215542461</td>\n",
       "      <td>NaN</td>\n",
       "      <td>0.57735</td>\n",
       "      <td>semstamp_lsh</td>\n",
       "      <td>MaziyarPanahi/Meta-Llama-3-70B-Instruct-GPTQ</td>\n",
       "    </tr>\n",
       "    <tr>\n",
       "      <th>729</th>\n",
       "      <td>1724700984</td>\n",
       "      <td>Postpartum hemorrhage (PPH) is a serious and p...</td>\n",
       "      <td>0.57735</td>\n",
       "      <td>semstamp_lsh</td>\n",
       "      <td>MaziyarPanahi/Meta-Llama-3-70B-Instruct-GPTQ</td>\n",
       "    </tr>\n",
       "    <tr>\n",
       "      <th>730</th>\n",
       "      <td>1414977918</td>\n",
       "      <td>Michael Faraday (not \"Faraday\" - it's just one...</td>\n",
       "      <td>0.57735</td>\n",
       "      <td>semstamp_lsh</td>\n",
       "      <td>MaziyarPanahi/Meta-Llama-3-70B-Instruct-GPTQ</td>\n",
       "    </tr>\n",
       "  </tbody>\n",
       "</table>\n",
       "<p>403 rows × 5 columns</p>\n",
       "</div>"
      ],
      "text/plain": [
       "             id                                               text   zscore  \\\n",
       "328   593233622  I understand you're asking for an explanation ...  2.95932   \n",
       "329  2119410467  What an intriguing question! If childhood last...  2.95932   \n",
       "330  1626870636  Improving your dental regime is a great step t...  2.95932   \n",
       "331  1916866473  In high school, of course!\\n\\nHere's a list of...  2.95932   \n",
       "332  2165982346                                                NaN  2.95932   \n",
       "..          ...                                                ...      ...   \n",
       "726  1970504429  The Capitol Hill neighborhood is a vibrant and...  0.57735   \n",
       "727  1315176442  As a helpful personal assistant, and also havi...  0.57735   \n",
       "728  1215542461                                                NaN  0.57735   \n",
       "729  1724700984  Postpartum hemorrhage (PPH) is a serious and p...  0.57735   \n",
       "730  1414977918  Michael Faraday (not \"Faraday\" - it's just one...  0.57735   \n",
       "\n",
       "    watermarking_scheme                                         model  \n",
       "328        semstamp_lsh  MaziyarPanahi/Meta-Llama-3-70B-Instruct-GPTQ  \n",
       "329        semstamp_lsh  MaziyarPanahi/Meta-Llama-3-70B-Instruct-GPTQ  \n",
       "330        semstamp_lsh  MaziyarPanahi/Meta-Llama-3-70B-Instruct-GPTQ  \n",
       "331        semstamp_lsh  MaziyarPanahi/Meta-Llama-3-70B-Instruct-GPTQ  \n",
       "332        semstamp_lsh  MaziyarPanahi/Meta-Llama-3-70B-Instruct-GPTQ  \n",
       "..                  ...                                           ...  \n",
       "726        semstamp_lsh  MaziyarPanahi/Meta-Llama-3-70B-Instruct-GPTQ  \n",
       "727        semstamp_lsh  MaziyarPanahi/Meta-Llama-3-70B-Instruct-GPTQ  \n",
       "728        semstamp_lsh  MaziyarPanahi/Meta-Llama-3-70B-Instruct-GPTQ  \n",
       "729        semstamp_lsh  MaziyarPanahi/Meta-Llama-3-70B-Instruct-GPTQ  \n",
       "730        semstamp_lsh  MaziyarPanahi/Meta-Llama-3-70B-Instruct-GPTQ  \n",
       "\n",
       "[403 rows x 5 columns]"
      ]
     },
     "execution_count": 45,
     "metadata": {},
     "output_type": "execute_result"
    }
   ],
   "source": [
    "new_df"
   ]
  },
  {
   "cell_type": "code",
   "execution_count": 46,
   "metadata": {},
   "outputs": [],
   "source": [
    "start_index = (6 - 1) * 100\n",
    "end_index = start_index + 100\n",
    "\n",
    "# Slice the DataFrame to get only the rows for the current partition\n",
    "df_partition = new_df.iloc[start_index:end_index]"
   ]
  },
  {
   "cell_type": "code",
   "execution_count": 47,
   "metadata": {},
   "outputs": [
    {
     "data": {
      "text/html": [
       "<div>\n",
       "<style scoped>\n",
       "    .dataframe tbody tr th:only-of-type {\n",
       "        vertical-align: middle;\n",
       "    }\n",
       "\n",
       "    .dataframe tbody tr th {\n",
       "        vertical-align: top;\n",
       "    }\n",
       "\n",
       "    .dataframe thead th {\n",
       "        text-align: right;\n",
       "    }\n",
       "</style>\n",
       "<table border=\"1\" class=\"dataframe\">\n",
       "  <thead>\n",
       "    <tr style=\"text-align: right;\">\n",
       "      <th></th>\n",
       "      <th>id</th>\n",
       "      <th>text</th>\n",
       "      <th>zscore</th>\n",
       "      <th>watermarking_scheme</th>\n",
       "      <th>model</th>\n",
       "    </tr>\n",
       "  </thead>\n",
       "  <tbody>\n",
       "  </tbody>\n",
       "</table>\n",
       "</div>"
      ],
      "text/plain": [
       "Empty DataFrame\n",
       "Columns: [id, text, zscore, watermarking_scheme, model]\n",
       "Index: []"
      ]
     },
     "execution_count": 47,
     "metadata": {},
     "output_type": "execute_result"
    }
   ],
   "source": [
    "df_partition"
   ]
  },
  {
   "cell_type": "code",
   "execution_count": 48,
   "metadata": {},
   "outputs": [
    {
     "data": {
      "text/html": [
       "<div>\n",
       "<style scoped>\n",
       "    .dataframe tbody tr th:only-of-type {\n",
       "        vertical-align: middle;\n",
       "    }\n",
       "\n",
       "    .dataframe tbody tr th {\n",
       "        vertical-align: top;\n",
       "    }\n",
       "\n",
       "    .dataframe thead th {\n",
       "        text-align: right;\n",
       "    }\n",
       "</style>\n",
       "<table border=\"1\" class=\"dataframe\">\n",
       "  <thead>\n",
       "    <tr style=\"text-align: right;\">\n",
       "      <th></th>\n",
       "      <th>id</th>\n",
       "      <th>text</th>\n",
       "      <th>zscore</th>\n",
       "      <th>watermarking_scheme</th>\n",
       "      <th>model</th>\n",
       "    </tr>\n",
       "  </thead>\n",
       "  <tbody>\n",
       "    <tr>\n",
       "      <th>328</th>\n",
       "      <td>593233622</td>\n",
       "      <td>I understand you're asking for an explanation ...</td>\n",
       "      <td>2.95932</td>\n",
       "      <td>semstamp_lsh</td>\n",
       "      <td>MaziyarPanahi/Meta-Llama-3-70B-Instruct-GPTQ</td>\n",
       "    </tr>\n",
       "    <tr>\n",
       "      <th>329</th>\n",
       "      <td>2119410467</td>\n",
       "      <td>What an intriguing question! If childhood last...</td>\n",
       "      <td>2.95932</td>\n",
       "      <td>semstamp_lsh</td>\n",
       "      <td>MaziyarPanahi/Meta-Llama-3-70B-Instruct-GPTQ</td>\n",
       "    </tr>\n",
       "    <tr>\n",
       "      <th>330</th>\n",
       "      <td>1626870636</td>\n",
       "      <td>Improving your dental regime is a great step t...</td>\n",
       "      <td>2.95932</td>\n",
       "      <td>semstamp_lsh</td>\n",
       "      <td>MaziyarPanahi/Meta-Llama-3-70B-Instruct-GPTQ</td>\n",
       "    </tr>\n",
       "    <tr>\n",
       "      <th>331</th>\n",
       "      <td>1916866473</td>\n",
       "      <td>In high school, of course!\\n\\nHere's a list of...</td>\n",
       "      <td>2.95932</td>\n",
       "      <td>semstamp_lsh</td>\n",
       "      <td>MaziyarPanahi/Meta-Llama-3-70B-Instruct-GPTQ</td>\n",
       "    </tr>\n",
       "    <tr>\n",
       "      <th>332</th>\n",
       "      <td>2165982346</td>\n",
       "      <td>NaN</td>\n",
       "      <td>2.95932</td>\n",
       "      <td>semstamp_lsh</td>\n",
       "      <td>MaziyarPanahi/Meta-Llama-3-70B-Instruct-GPTQ</td>\n",
       "    </tr>\n",
       "    <tr>\n",
       "      <th>333</th>\n",
       "      <td>3936048196</td>\n",
       "      <td>What a blast from the past! The 1999 TV series...</td>\n",
       "      <td>2.95932</td>\n",
       "      <td>semstamp_lsh</td>\n",
       "      <td>MaziyarPanahi/Meta-Llama-3-70B-Instruct-GPTQ</td>\n",
       "    </tr>\n",
       "    <tr>\n",
       "      <th>334</th>\n",
       "      <td>3929732235</td>\n",
       "      <td>NaN</td>\n",
       "      <td>2.95932</td>\n",
       "      <td>semstamp_lsh</td>\n",
       "      <td>MaziyarPanahi/Meta-Llama-3-70B-Instruct-GPTQ</td>\n",
       "    </tr>\n",
       "    <tr>\n",
       "      <th>335</th>\n",
       "      <td>1764626265</td>\n",
       "      <td>MEN (Multiple Endocrine Neoplasia) is a rare g...</td>\n",
       "      <td>2.95932</td>\n",
       "      <td>semstamp_lsh</td>\n",
       "      <td>MaziyarPanahi/Meta-Llama-3-70B-Instruct-GPTQ</td>\n",
       "    </tr>\n",
       "    <tr>\n",
       "      <th>336</th>\n",
       "      <td>2800548529</td>\n",
       "      <td>Wubba lubba dub dub! Let's dive into the world...</td>\n",
       "      <td>2.95932</td>\n",
       "      <td>semstamp_lsh</td>\n",
       "      <td>MaziyarPanahi/Meta-Llama-3-70B-Instruct-GPTQ</td>\n",
       "    </tr>\n",
       "    <tr>\n",
       "      <th>337</th>\n",
       "      <td>4262121285</td>\n",
       "      <td>Sassafras is a type of deciduous tree that bel...</td>\n",
       "      <td>2.95932</td>\n",
       "      <td>semstamp_lsh</td>\n",
       "      <td>MaziyarPanahi/Meta-Llama-3-70B-Instruct-GPTQ</td>\n",
       "    </tr>\n",
       "  </tbody>\n",
       "</table>\n",
       "</div>"
      ],
      "text/plain": [
       "             id                                               text   zscore  \\\n",
       "328   593233622  I understand you're asking for an explanation ...  2.95932   \n",
       "329  2119410467  What an intriguing question! If childhood last...  2.95932   \n",
       "330  1626870636  Improving your dental regime is a great step t...  2.95932   \n",
       "331  1916866473  In high school, of course!\\n\\nHere's a list of...  2.95932   \n",
       "332  2165982346                                                NaN  2.95932   \n",
       "333  3936048196  What a blast from the past! The 1999 TV series...  2.95932   \n",
       "334  3929732235                                                NaN  2.95932   \n",
       "335  1764626265  MEN (Multiple Endocrine Neoplasia) is a rare g...  2.95932   \n",
       "336  2800548529  Wubba lubba dub dub! Let's dive into the world...  2.95932   \n",
       "337  4262121285  Sassafras is a type of deciduous tree that bel...  2.95932   \n",
       "\n",
       "    watermarking_scheme                                         model  \n",
       "328        semstamp_lsh  MaziyarPanahi/Meta-Llama-3-70B-Instruct-GPTQ  \n",
       "329        semstamp_lsh  MaziyarPanahi/Meta-Llama-3-70B-Instruct-GPTQ  \n",
       "330        semstamp_lsh  MaziyarPanahi/Meta-Llama-3-70B-Instruct-GPTQ  \n",
       "331        semstamp_lsh  MaziyarPanahi/Meta-Llama-3-70B-Instruct-GPTQ  \n",
       "332        semstamp_lsh  MaziyarPanahi/Meta-Llama-3-70B-Instruct-GPTQ  \n",
       "333        semstamp_lsh  MaziyarPanahi/Meta-Llama-3-70B-Instruct-GPTQ  \n",
       "334        semstamp_lsh  MaziyarPanahi/Meta-Llama-3-70B-Instruct-GPTQ  \n",
       "335        semstamp_lsh  MaziyarPanahi/Meta-Llama-3-70B-Instruct-GPTQ  \n",
       "336        semstamp_lsh  MaziyarPanahi/Meta-Llama-3-70B-Instruct-GPTQ  \n",
       "337        semstamp_lsh  MaziyarPanahi/Meta-Llama-3-70B-Instruct-GPTQ  "
      ]
     },
     "execution_count": 48,
     "metadata": {},
     "output_type": "execute_result"
    }
   ],
   "source": [
    "new_df.head(10)"
   ]
  },
  {
   "cell_type": "code",
   "execution_count": null,
   "metadata": {},
   "outputs": [],
   "source": []
  }
 ],
 "metadata": {
  "kernelspec": {
   "display_name": "watermark",
   "language": "python",
   "name": "python3"
  },
  "language_info": {
   "codemirror_mode": {
    "name": "ipython",
    "version": 3
   },
   "file_extension": ".py",
   "mimetype": "text/x-python",
   "name": "python",
   "nbconvert_exporter": "python",
   "pygments_lexer": "ipython3",
   "version": "3.10.14"
  }
 },
 "nbformat": 4,
 "nbformat_minor": 2
}
