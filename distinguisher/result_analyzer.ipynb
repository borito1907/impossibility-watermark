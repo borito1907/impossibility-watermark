{
 "cells": [
  {
   "cell_type": "code",
   "execution_count": 2,
   "metadata": {},
   "outputs": [],
   "source": [
    "import pandas as pd\n",
    "from matplotlib import pyplot as plt\n",
    "import ipywidgets as widgets\n",
    "import numpy as np"
   ]
  },
  {
   "cell_type": "code",
   "execution_count": 4,
   "metadata": {},
   "outputs": [
    {
     "data": {
      "text/html": [
       "<div>\n",
       "<style scoped>\n",
       "    .dataframe tbody tr th:only-of-type {\n",
       "        vertical-align: middle;\n",
       "    }\n",
       "\n",
       "    .dataframe tbody tr th {\n",
       "        vertical-align: top;\n",
       "    }\n",
       "\n",
       "    .dataframe thead th {\n",
       "        text-align: right;\n",
       "    }\n",
       "</style>\n",
       "<table border=\"1\" class=\"dataframe\">\n",
       "  <thead>\n",
       "    <tr style=\"text-align: right;\">\n",
       "      <th></th>\n",
       "      <th>Unnamed: 0</th>\n",
       "      <th>P</th>\n",
       "      <th>Num</th>\n",
       "      <th>Origin</th>\n",
       "      <th>llama_A_normal</th>\n",
       "      <th>llama_B_normal</th>\n",
       "      <th>llama_A_flipped</th>\n",
       "      <th>llama_B_flipped</th>\n",
       "      <th>llama_A_count</th>\n",
       "      <th>llama_B_count</th>\n",
       "      <th>llama_choice</th>\n",
       "      <th>llama_flipped_choice</th>\n",
       "      <th>Response_A</th>\n",
       "      <th>Response_B</th>\n",
       "    </tr>\n",
       "  </thead>\n",
       "  <tbody>\n",
       "    <tr>\n",
       "      <th>0</th>\n",
       "      <td>0</td>\n",
       "      <td>Evan, an American tourist with a deep apprecia...</td>\n",
       "      <td>0</td>\n",
       "      <td>A</td>\n",
       "      <td>1.000000</td>\n",
       "      <td>0.000000</td>\n",
       "      <td>1.000000</td>\n",
       "      <td>0.000000</td>\n",
       "      <td>1.000000</td>\n",
       "      <td>0.000000</td>\n",
       "      <td>A</td>\n",
       "      <td>A</td>\n",
       "      <td>Evan, an American tourist with a deep apprecia...</td>\n",
       "      <td>Evan, an American tourist with a keen eye for ...</td>\n",
       "    </tr>\n",
       "    <tr>\n",
       "      <th>1</th>\n",
       "      <td>1</td>\n",
       "      <td>Evan, an American tourist with a keen eye for ...</td>\n",
       "      <td>0</td>\n",
       "      <td>B</td>\n",
       "      <td>0.000000</td>\n",
       "      <td>1.000000</td>\n",
       "      <td>0.000000</td>\n",
       "      <td>1.000000</td>\n",
       "      <td>0.000000</td>\n",
       "      <td>1.000000</td>\n",
       "      <td>B</td>\n",
       "      <td>B</td>\n",
       "      <td>Evan, an American tourist with a deep apprecia...</td>\n",
       "      <td>Evan, an American tourist with a keen eye for ...</td>\n",
       "    </tr>\n",
       "    <tr>\n",
       "      <th>2</th>\n",
       "      <td>2</td>\n",
       "      <td>Evan, an American traveler with a profound adm...</td>\n",
       "      <td>1</td>\n",
       "      <td>A</td>\n",
       "      <td>0.666667</td>\n",
       "      <td>0.333333</td>\n",
       "      <td>0.666667</td>\n",
       "      <td>0.333333</td>\n",
       "      <td>0.666667</td>\n",
       "      <td>0.333333</td>\n",
       "      <td>A</td>\n",
       "      <td>A</td>\n",
       "      <td>Evan, an American tourist with a deep apprecia...</td>\n",
       "      <td>Evan, an American tourist with a keen eye for ...</td>\n",
       "    </tr>\n",
       "    <tr>\n",
       "      <th>3</th>\n",
       "      <td>3</td>\n",
       "      <td>Evan, an American traveler known for his disce...</td>\n",
       "      <td>1</td>\n",
       "      <td>B</td>\n",
       "      <td>0.000000</td>\n",
       "      <td>1.000000</td>\n",
       "      <td>0.666667</td>\n",
       "      <td>0.333333</td>\n",
       "      <td>0.333333</td>\n",
       "      <td>0.666667</td>\n",
       "      <td>B</td>\n",
       "      <td>B</td>\n",
       "      <td>Evan, an American tourist with a deep apprecia...</td>\n",
       "      <td>Evan, an American tourist with a keen eye for ...</td>\n",
       "    </tr>\n",
       "  </tbody>\n",
       "</table>\n",
       "</div>"
      ],
      "text/plain": [
       "   Unnamed: 0                                                  P  Num Origin  \\\n",
       "0           0  Evan, an American tourist with a deep apprecia...    0      A   \n",
       "1           1  Evan, an American tourist with a keen eye for ...    0      B   \n",
       "2           2  Evan, an American traveler with a profound adm...    1      A   \n",
       "3           3  Evan, an American traveler known for his disce...    1      B   \n",
       "\n",
       "   llama_A_normal  llama_B_normal  llama_A_flipped  llama_B_flipped  \\\n",
       "0        1.000000        0.000000         1.000000         0.000000   \n",
       "1        0.000000        1.000000         0.000000         1.000000   \n",
       "2        0.666667        0.333333         0.666667         0.333333   \n",
       "3        0.000000        1.000000         0.666667         0.333333   \n",
       "\n",
       "   llama_A_count  llama_B_count llama_choice llama_flipped_choice  \\\n",
       "0       1.000000       0.000000            A                    A   \n",
       "1       0.000000       1.000000            B                    B   \n",
       "2       0.666667       0.333333            A                    A   \n",
       "3       0.333333       0.666667            B                    B   \n",
       "\n",
       "                                          Response_A  \\\n",
       "0  Evan, an American tourist with a deep apprecia...   \n",
       "1  Evan, an American tourist with a deep apprecia...   \n",
       "2  Evan, an American tourist with a deep apprecia...   \n",
       "3  Evan, an American tourist with a deep apprecia...   \n",
       "\n",
       "                                          Response_B  \n",
       "0  Evan, an American tourist with a keen eye for ...  \n",
       "1  Evan, an American tourist with a keen eye for ...  \n",
       "2  Evan, an American tourist with a keen eye for ...  \n",
       "3  Evan, an American tourist with a keen eye for ...  "
      ]
     },
     "execution_count": 4,
     "metadata": {},
     "output_type": "execute_result"
    }
   ],
   "source": [
    "df = pd.read_csv('results/multi_reason_gpt.csv')\n",
    "df"
   ]
  },
  {
   "cell_type": "code",
   "execution_count": 5,
   "metadata": {},
   "outputs": [
    {
     "name": "stdout",
     "output_type": "stream",
     "text": [
      "Correct: 1.0, Flipped Correct: 1.0, Avg Correct: 1.0\n"
     ]
    }
   ],
   "source": [
    "def summary(prefix=\"\"):\n",
    "    df[f'{prefix}correct'] = (df['Origin'] == df[f'{prefix}choice']).astype(float)\n",
    "    df[f'{prefix}flipped_correct'] = (df['Origin'] == df[f'{prefix}flipped_choice']).astype(float)\n",
    "    df[f'{prefix}avg_correct'] = (df[f'{prefix}correct']+df[f'{prefix}flipped_correct'])/2\n",
    "    print(f\"Correct: {df[f'{prefix}correct'].mean()}, Flipped Correct: {df[f'{prefix}flipped_correct'].mean()}, Avg Correct: {df[f'{prefix}avg_correct'].mean()}\")\n",
    "\n",
    "summary(\"llama_\")"
   ]
  },
  {
   "cell_type": "code",
   "execution_count": 6,
   "metadata": {},
   "outputs": [
    {
     "data": {
      "application/vnd.jupyter.widget-view+json": {
       "model_id": "32f3482feb134451b10bb196cc9ef320",
       "version_major": 2,
       "version_minor": 0
      },
      "text/plain": [
       "interactive(children=(Dropdown(description='Statistic:', options=('avg_correct', 'correct', 'flipped_correct')…"
      ]
     },
     "metadata": {},
     "output_type": "display_data"
    },
    {
     "data": {
      "text/plain": [
       "<function __main__.<lambda>(x, y, z)>"
      ]
     },
     "execution_count": 6,
     "metadata": {},
     "output_type": "execute_result"
    }
   ],
   "source": [
    "dropdown = widgets.Dropdown(\n",
    "    options=['avg_correct', 'correct', 'flipped_correct'],\n",
    "    value='avg_correct',\n",
    "    description='Statistic:',\n",
    ")\n",
    "\n",
    "origin = widgets.Dropdown(\n",
    "    options=['A', 'B', 'Both'],\n",
    "    value='Both',\n",
    "    description='Origin:',\n",
    ")\n",
    "\n",
    "slider = widgets.IntSlider(min=1, max=20, step=1, value=1)\n",
    "\n",
    "def plot(prefix=\"\"):\n",
    "    match origin.value:\n",
    "        case 'A':\n",
    "            data = df[df['Origin'] == 'A'][f'{prefix}{dropdown.value}'].reset_index(drop=True)\n",
    "            # fall through\n",
    "        case 'B':\n",
    "            data = df[df['Origin'] == 'B'][f'{prefix}{dropdown.value}'].reset_index(drop=True)\n",
    "        case 'Both':\n",
    "            tmp1 = df[df['Origin'] == 'A'][f'{prefix}{dropdown.value}'].reset_index(drop=True)\n",
    "            tmp2 = df[df['Origin'] == 'B'][f'{prefix}{dropdown.value}'].reset_index(drop=True)\n",
    "            data = (tmp1+tmp2)/2\n",
    "    \n",
    "    rolling_mean = data.rolling(window=slider.value).mean()\n",
    "    plt.title(f'{prefix}{dropdown.value} (window={slider.value}, origin={origin.value})')\n",
    "    plt.xlabel('Mutation number')\n",
    "    plt.ylabel('Accuracy')\n",
    "    plt.ylim(-0.1, 1.1)\n",
    "    plt.yticks([0, 0.5, 1])\n",
    "    plt.plot(rolling_mean, color='orange')\n",
    "    plt.show()\n",
    "\n",
    "widgets.interact(lambda x, y, z: plot(\"llama_\"), x=dropdown, y=slider, z=origin)"
   ]
  },
  {
   "cell_type": "code",
   "execution_count": null,
   "metadata": {},
   "outputs": [],
   "source": []
  }
 ],
 "metadata": {
  "kernelspec": {
   "display_name": "watermark",
   "language": "python",
   "name": "python3"
  },
  "language_info": {
   "codemirror_mode": {
    "name": "ipython",
    "version": 3
   },
   "file_extension": ".py",
   "mimetype": "text/x-python",
   "name": "python",
   "nbconvert_exporter": "python",
   "pygments_lexer": "ipython3",
   "version": "3.10.14"
  }
 },
 "nbformat": 4,
 "nbformat_minor": 2
}
