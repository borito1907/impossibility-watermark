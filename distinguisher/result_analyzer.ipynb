{
 "cells": [
  {
   "cell_type": "code",
   "execution_count": 2,
   "metadata": {},
   "outputs": [],
   "source": [
    "import pandas as pd\n",
    "from matplotlib import pyplot as plt\n",
    "import ipywidgets as widgets"
   ]
  },
  {
   "cell_type": "code",
   "execution_count": 31,
   "metadata": {},
   "outputs": [],
   "source": [
    "df = pd.read_csv('results/simple_gpt.csv')"
   ]
  },
  {
   "cell_type": "code",
   "execution_count": 33,
   "metadata": {},
   "outputs": [
    {
     "name": "stdout",
     "output_type": "stream",
     "text": [
      "Correct: 0.71, Flipped Correct: 0.73, Avg Correct: 0.72\n"
     ]
    }
   ],
   "source": [
    "def summary(prefix=\"\"):\n",
    "    df[f'{prefix}correct'] = df['Origin'] == df[f'{prefix}choice']\n",
    "    df[f'{prefix}flipped_correct'] = df['Origin'] == df[f'{prefix}flipped_choice']\n",
    "    df[f'{prefix}avg_correct'] = (df[f'{prefix}correct'].astype(int)+df[f'{prefix}flipped_correct'].astype(int))/2\n",
    "    print(f\"Correct: {df[f'{prefix}correct'].mean()}, Flipped Correct: {df[f'{prefix}flipped_correct'].mean()}, Avg Correct: {df[f'{prefix}avg_correct'].mean()}\")\n",
    "\n",
    "summary(\"gpt_\")"
   ]
  },
  {
   "cell_type": "code",
   "execution_count": 35,
   "metadata": {},
   "outputs": [
    {
     "data": {
      "application/vnd.jupyter.widget-view+json": {
       "model_id": "5d5fb78207034aacaeede38ee457f83c",
       "version_major": 2,
       "version_minor": 0
      },
      "text/plain": [
       "interactive(children=(Dropdown(description='Choose:', options=('avg_correct', 'correct', 'flipped_correct'), v…"
      ]
     },
     "metadata": {},
     "output_type": "display_data"
    },
    {
     "data": {
      "text/plain": [
       "<function __main__.<lambda>(x, y)>"
      ]
     },
     "execution_count": 35,
     "metadata": {},
     "output_type": "execute_result"
    }
   ],
   "source": [
    "dropdown = widgets.Dropdown(\n",
    "    options=['avg_correct', 'correct', 'flipped_correct'],\n",
    "    value='avg_correct',\n",
    "    description='Choose:',\n",
    ")\n",
    "\n",
    "slider = widgets.IntSlider(min=1, max=20, step=1, value=1)\n",
    "\n",
    "def plot(prefix=\"\"):\n",
    "    data = df[f'{prefix}{dropdown.value}']\n",
    "    rolling_mean = data.rolling(window=slider.value).mean()\n",
    "    plt.title(f'{prefix}{dropdown.value} (window={slider.value})')\n",
    "    plt.xlabel('Mutation number')\n",
    "    plt.ylabel('Accuracy')\n",
    "    plt.plot(rolling_mean, color='orange')\n",
    "    plt.show()\n",
    "\n",
    "widgets.interact(lambda x, y: plot(\"gpt_\"), x=dropdown, y=slider)"
   ]
  },
  {
   "cell_type": "code",
   "execution_count": null,
   "metadata": {},
   "outputs": [],
   "source": []
  }
 ],
 "metadata": {
  "kernelspec": {
   "display_name": "watermark",
   "language": "python",
   "name": "python3"
  },
  "language_info": {
   "codemirror_mode": {
    "name": "ipython",
    "version": 3
   },
   "file_extension": ".py",
   "mimetype": "text/x-python",
   "name": "python",
   "nbconvert_exporter": "python",
   "pygments_lexer": "ipython3",
   "version": "3.10.14"
  }
 },
 "nbformat": 4,
 "nbformat_minor": 2
}
