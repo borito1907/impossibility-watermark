{
 "cells": [
  {
   "cell_type": "code",
   "execution_count": 2,
   "metadata": {},
   "outputs": [],
   "source": [
    "import pandas as pd"
   ]
  },
  {
   "cell_type": "code",
   "execution_count": 14,
   "metadata": {},
   "outputs": [
    {
     "name": "stdout",
     "output_type": "stream",
     "text": [
      "Evan slipped into the charming Rue Cler café, seeking refuge from the biting cold of the Parisian dawn. His gaze drifted to the barista, where it landed on her captivating green eyes and the deep, dark color of her hair. A name tag bearing the name \"Emilie\" caught his eye, and he sensed that she was aware of his admiring glance. She greeted him warmly, speaking English with effortless precision. \"Bonjour! Welcome to our café. \"How can I be of assistance to you right now?\" As Evan savored his coffee, their conversation flowed effortlessly, and before he knew it, he was fully engaged in a conversation with Emilie that felt as though they'd been close friends for a long time. He discovered that she was thoroughly committed to studying art history at the Sorbonne, and her enthusiasm for photography remained unshakeable. Evan's regular stops at the café were largely a result of the barista's captivating personality and quick wit. As the sun dipped below the horizon, casting a kaleidoscope of colors across the city, Emilie proposed a leisurely walk to discover its hidden gems. As she observed, they wandered leisurely through the narrow streets of Montmartre, enjoyed a serene meal by the Seine, and were mesmerized by the Eiffel Tower's spectacular light show. Evan's fascination with the mysterious French woman deepened with each new day. As they parted ways on his last evening in Paris, Emilie's voice trembling with emotion, she whispered, \"We'll cross paths again soon, won't we?\"\n"
     ]
    }
   ],
   "source": [
    "df = pd.read_csv('sentence/diff_10.csv')\n",
    "# print(\"Backtrack count:\", len(df[df['backtrack']]))\n",
    "# filter for only successful mutations\n",
    "df = df[(df['quality_preserved'] == True) & (df['length_issue'] == False)]\n",
    "# find largest mutation_num. this represents the furthest successful mutation.\n",
    "end = df[df['mutation_num'] == df['mutation_num'].max()].tail(1)['step_num']\n",
    "# drop rows after end\n",
    "df = df[df['step_num'] <= end.values[0]]\n",
    "# keep only last mutation for each mutation_num\n",
    "df = df.drop_duplicates(subset=['mutation_num'], keep='last').reset_index(drop=True)\n",
    "# check for consistency\n",
    "for i, row in df.iterrows():\n",
    "    if i == 0:\n",
    "        continue\n",
    "    assert row['current_text'] == df.loc[i-1, 'mutated_text'], f\"Row {i} does not match previous row\"\n",
    "\n",
    "# print(df['current_text'][0])\n",
    "print(df['mutated_text'][190])"
   ]
  },
  {
   "cell_type": "code",
   "execution_count": null,
   "metadata": {},
   "outputs": [],
   "source": []
  }
 ],
 "metadata": {
  "kernelspec": {
   "display_name": "watermark",
   "language": "python",
   "name": "python3"
  },
  "language_info": {
   "codemirror_mode": {
    "name": "ipython",
    "version": 3
   },
   "file_extension": ".py",
   "mimetype": "text/x-python",
   "name": "python",
   "nbconvert_exporter": "python",
   "pygments_lexer": "ipython3",
   "version": "3.10.14"
  }
 },
 "nbformat": 4,
 "nbformat_minor": 2
}
