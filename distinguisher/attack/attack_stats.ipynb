{
 "cells": [
  {
   "cell_type": "code",
   "execution_count": 1,
   "metadata": {},
   "outputs": [],
   "source": [
    "import pandas as pd"
   ]
  },
  {
   "cell_type": "code",
   "execution_count": 40,
   "metadata": {},
   "outputs": [
    {
     "name": "stdout",
     "output_type": "stream",
     "text": [
      "Backtrack count: 0\n",
      "Total mutations: 317\n",
      "Highest Mutation: 200\n"
     ]
    }
   ],
   "source": [
    "df = pd.read_csv('sentence/diff_last_10.csv')\n",
    "print(\"Backtrack count:\", len(df[df['backtrack']]))\n",
    "print(\"Total mutations:\", len(df))\n",
    "# filter for only successful mutations\n",
    "df = df[(df['quality_preserved'] == True) & (df['length_issue'] == False)]\n",
    "# find largest mutation_num. this represents the furthest successful mutation.\n",
    "end = df[df['mutation_num'] == df['mutation_num'].max()].tail(1)['step_num']\n",
    "# drop rows after end\n",
    "df = df[df['step_num'] <= end.values[0]]\n",
    "# keep only last mutation for each mutation_num\n",
    "df = df.drop_duplicates(subset=['mutation_num'], keep='last').reset_index(drop=True)\n",
    "# check for consistency\n",
    "for i, row in df.iterrows():\n",
    "    if i == 0:\n",
    "        continue\n",
    "    assert row['current_text'] == df.loc[i-1, 'mutated_text'], f\"Row {i} does not match previous row\"\n",
    "\n",
    "print(\"Highest Mutation:\", len(df))"
   ]
  },
  {
   "cell_type": "code",
   "execution_count": 36,
   "metadata": {},
   "outputs": [
    {
     "name": "stdout",
     "output_type": "stream",
     "text": [
      "Evan strolled into the charming café on Rue Cler, seeking refuge from the chilly Parisian morning. As he waited in line, his gaze drifted to the barista with piercing green eyes and curly brown hair. Her name tag read \"Emilie,\" and she seemed to sense his admiring stare. With a warm smile, she greeted him in flawless English.\n",
      "\n",
      "\"Bonjour! Welcome to our café. What can I get for you?\"\n",
      "\n",
      "As Evan ordered his coffee, their conversation flowed effortlessly, and before he knew it, he was chatting with Emilie like they were old friends. He learned that she was a native Parisian, studying art history at the Sorbonne, and had a passion for photography. Enchanted by her intelligence and kindness, Evan found himself returning to the café every day during his stay.\n",
      "\n",
      "One afternoon, as they sipped espressos together outside, Emilie offered to show him the city's hidden gems. Under her guidance, they explored Montmartre's winding streets, picnicked along the Seine, and laughed together under the twinkling Eiffel Tower lights.\n",
      "\n",
      "As the days went by, Evan realized he'd fallen deeply for this captivating French beauty. As they said their goodbyes on his final night in Paris, Emilie leaned in and whispered, \"à bientôt, perhaps?\"\n"
     ]
    }
   ],
   "source": [
    "print(df['current_text'][0])"
   ]
  },
  {
   "cell_type": "code",
   "execution_count": 39,
   "metadata": {},
   "outputs": [
    {
     "name": "stdout",
     "output_type": "stream",
     "text": [
      "Evan ducked into the quaint Rue Cler café, escaping the harsh chill of the Parisian morning. His gaze drifted to the barista, where it landed on her captivating green eyes and the deep, dark color of her hair. A name tag with the name \"Emilie\" on it caught his eye, and he sensed that she was aware of his admiring glance. She greeted him warmly, speaking English with effortless precision. \"Bonjour! Welcome to our café. \"How can I be of assistance to you right now?\" As Evan savored his coffee, their conversation unfolded with a natural ease, and before he was aware of it, he found himself deeply immersed in a conversation with Emilie that felt like they'd been friends for years. He discovered that she was thoroughly committed to studying art history at the Sorbonne, and her enthusiasm for photography remained unshakeable. Evan's frequent stops at the café were largely a result of the barista's captivating personality and quick wit, which had become an effortless part of his daily routine. As the sun's descent painted the city with a vibrant tapestry of hues, Emilie suggested a relaxed stroll to uncover its lesser-known treasures. Under her guidance, they explored Montmartre's winding streets, picnicked along the Seine, and laughed together under the twinkling Eiffel Tower lights. Evan's intrigue with the enigmatic French woman grew more intense with each passing day. As they parted ways on his last evening in Paris, Emilie's voice trembling with emotion, she whispered, \"We'll cross paths again soon, won't we?\"\n"
     ]
    }
   ],
   "source": [
    "print(df['mutated_text'].iloc[-1])"
   ]
  },
  {
   "cell_type": "code",
   "execution_count": null,
   "metadata": {},
   "outputs": [],
   "source": []
  }
 ],
 "metadata": {
  "kernelspec": {
   "display_name": "watermark",
   "language": "python",
   "name": "python3"
  },
  "language_info": {
   "codemirror_mode": {
    "name": "ipython",
    "version": 3
   },
   "file_extension": ".py",
   "mimetype": "text/x-python",
   "name": "python",
   "nbconvert_exporter": "python",
   "pygments_lexer": "ipython3",
   "version": "3.10.14"
  }
 },
 "nbformat": 4,
 "nbformat_minor": 2
}
