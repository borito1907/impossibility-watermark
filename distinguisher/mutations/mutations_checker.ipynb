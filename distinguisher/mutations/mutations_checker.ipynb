{
 "cells": [
  {
   "cell_type": "code",
   "execution_count": 3,
   "metadata": {},
   "outputs": [],
   "source": [
    "import pandas as pd\n",
    "from collections import defaultdict\n",
    "\n",
    "\n",
    "def analyze(csv_path):\n",
    "\tdf = pd.read_csv(csv_path)\n",
    "\n",
    "\tresults = {\n",
    "\t\t\"file\": csv_path,\n",
    "\t\t\"num_steps\": 0,\n",
    "\t\t\"num_success_mutated_text\": 0,\n",
    "\t\t\"num_unique_current_text\": 0,\n",
    "\t\t\"num_length_issue\": 0,\n",
    "\t\t\"num_quality_issues\": 0\n",
    "\t\t#\"quality_oracle_analysis\": defaultdict(int),\n",
    "\t}\n",
    "\n",
    "\tseen_mutations = set()\n",
    "\tseen_current = set()\n",
    "\tfor index, row in df.iterrows():\n",
    "\t\tresults[\"num_steps\"] += 1\n",
    "\n",
    "\t\tif not row[\"quality_preserved\"]:\n",
    "\t\t\tresults[\"num_quality_issues\"] += 1\n",
    "\n",
    "\t\tif  row[\"length_issue\"]:\n",
    "\t\t\tresults[\"num_length_issue\"] += 1\n",
    "\n",
    "\t\tif row[\"mutated_text\"] not in seen_mutations: # and row[\"quality_preserved\"] and not row[\"length_issue\"]:\n",
    "\t\t\tseen_mutations.add(row[\"mutated_text\"])\n",
    "\t\t\tresults[\"num_success_mutated_text\"] += 1\n",
    "\n",
    "\t\tif row[\"current_text\"] not in seen_current:\n",
    "\t\t\tseen_current.add(row[\"current_text\"])\n",
    "\t\t\tresults[\"num_unique_current_text\"] += 1\n",
    "\n",
    "\t\t# if not row[\"length_issue\"]:\n",
    "\t\t# \tresults[\"quality_oracle_analysis\"][row[\"quality_analysis\"]] += 1\n",
    "\n",
    "\treturn results\n",
    "\n",
    "\n",
    "\n"
   ]
  },
  {
   "cell_type": "code",
   "execution_count": 4,
   "metadata": {},
   "outputs": [
    {
     "data": {
      "text/html": [
       "<div>\n",
       "<style scoped>\n",
       "    .dataframe tbody tr th:only-of-type {\n",
       "        vertical-align: middle;\n",
       "    }\n",
       "\n",
       "    .dataframe tbody tr th {\n",
       "        vertical-align: top;\n",
       "    }\n",
       "\n",
       "    .dataframe thead th {\n",
       "        text-align: right;\n",
       "    }\n",
       "</style>\n",
       "<table border=\"1\" class=\"dataframe\">\n",
       "  <thead>\n",
       "    <tr style=\"text-align: right;\">\n",
       "      <th></th>\n",
       "      <th>file</th>\n",
       "      <th>num_steps</th>\n",
       "      <th>num_success_mutated_text</th>\n",
       "      <th>num_unique_current_text</th>\n",
       "      <th>num_length_issue</th>\n",
       "      <th>num_quality_issues</th>\n",
       "    </tr>\n",
       "  </thead>\n",
       "  <tbody>\n",
       "    <tr>\n",
       "      <th>0</th>\n",
       "      <td>SentenceMutator_entropy-1_a.csv</td>\n",
       "      <td>459</td>\n",
       "      <td>15</td>\n",
       "      <td>1</td>\n",
       "      <td>32</td>\n",
       "      <td>459</td>\n",
       "    </tr>\n",
       "  </tbody>\n",
       "</table>\n",
       "</div>"
      ],
      "text/plain": [
       "                              file  num_steps  num_success_mutated_text  \\\n",
       "0  SentenceMutator_entropy-1_a.csv        459                        15   \n",
       "\n",
       "   num_unique_current_text  num_length_issue  num_quality_issues  \n",
       "0                        1                32                 459  "
      ]
     },
     "execution_count": 4,
     "metadata": {},
     "output_type": "execute_result"
    }
   ],
   "source": [
    "csv_file = lambda i, a: f\"SentenceMutator_entropy-{i}_{a}.csv\"\n",
    "\n",
    "results = []\n",
    "for i in range(1,11):\n",
    "\ttry:\n",
    "\t\tresults.append(analyze(csv_file(i,\"a\")))\n",
    "\t\tresults.append(analyze(csv_file(i,\"b\")))\n",
    "\texcept:\n",
    "\t\tpass\n",
    "df = pd.DataFrame(results)\n",
    "df\n",
    "\n",
    "\n",
    "# for i in range(1,11):\n",
    "# \tprint(analyze(csv_file(i,\"a\")))\n",
    "# \tprint(analyze(csv_file(i,\"b\")))\n"
   ]
  },
  {
   "cell_type": "code",
   "execution_count": 6,
   "metadata": {},
   "outputs": [
    {
     "name": "stdout",
     "output_type": "stream",
     "text": [
      "[[64, 0, 0], [0, 0, 0], [395, 0, 0]]\n"
     ]
    }
   ],
   "source": [
    "def quality(csv_path):\n",
    "\tdf = pd.read_csv(csv_path)\n",
    "\n",
    "\tresults = [[0,0,0], [0,0,0], [0,0,0]]\n",
    "\n",
    "\tindexer = lambda s: 0 if s == \"A\" else (1 if s == \"B\" else 2)\n",
    "\t\n",
    "\tfor index, row in df.iterrows():\n",
    "\t\tanalysis = eval(row[\"quality_analysis\"])\n",
    "\t\tresults[indexer(analysis['followup_answer'])][indexer(analysis['original_answer'])] += 1\n",
    "\n",
    "\treturn results\n",
    "\n",
    "\n",
    "for i in range(1,11):\n",
    "\ttry:\n",
    "\t\tprint(quality(csv_file(i,\"a\")))\n",
    "\t\tprint(quality(csv_file(i,\"b\")))\n",
    "\texcept:\n",
    "\t\tpass"
   ]
  }
 ],
 "metadata": {
  "kernelspec": {
   "display_name": "watermark",
   "language": "python",
   "name": "python3"
  },
  "language_info": {
   "codemirror_mode": {
    "name": "ipython",
    "version": 3
   },
   "file_extension": ".py",
   "mimetype": "text/x-python",
   "name": "python",
   "nbconvert_exporter": "python",
   "pygments_lexer": "ipython3",
   "version": "3.10.14"
  }
 },
 "nbformat": 4,
 "nbformat_minor": 2
}
