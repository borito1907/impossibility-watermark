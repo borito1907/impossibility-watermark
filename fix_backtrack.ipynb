{
 "cells": [
  {
   "cell_type": "code",
   "execution_count": 2,
   "metadata": {},
   "outputs": [],
   "source": [
    "import pandas as pd\n",
    "import numpy as np\n",
    "from utils import save_to_csv"
   ]
  },
  {
   "cell_type": "code",
   "execution_count": 5,
   "metadata": {},
   "outputs": [
    {
     "name": "stdout",
     "output_type": "stream",
     "text": [
      "Data appended to /local1/borito1907/impossibility-watermark/results/stationary_distribution/robustness_analysis/entropy_2/output_2/corpuses/attack_6_4.csv\n"
     ]
    }
   ],
   "source": [
    "file_folder = '/local1/borito1907/impossibility-watermark/results/stationary_distribution/robustness_analysis/entropy_2/output_2/corpuses'\n",
    "file_name = 'attack_6_4.csv'\n",
    "file_path = f\"{file_folder}/{file_name}\"\n",
    "\n",
    "df1 = pd.read_csv(file_path, nrows=999)\n",
    "df1['backtrack'] = np.nan\n",
    "\n",
    "header_order = ['step_num', 'current_text', 'mutated_text', 'current_text_len', 'mutated_text_len', \n",
    "                'quality_preserved', 'quality_analysis', 'watermark_detected', 'watermark_score', \n",
    "                'backtrack', 'timestamp']\n",
    "\n",
    "df2 = pd.read_csv(file_path, skiprows=1001, names=header_order, header=None)\n",
    "\n",
    "df_final = pd.concat([df1, df2], ignore_index=True)\n",
    "df_final = df_final[header_order]\n",
    "save_to_csv(df_final, file_folder, file_name, rewrite=True)\n"
   ]
  },
  {
   "cell_type": "code",
   "execution_count": 7,
   "metadata": {},
   "outputs": [],
   "source": [
    "df = pd.read_csv('/local1/borito1907/impossibility-watermark/results/stationary_distribution/robustness_analysis/entropy_1/output_2/corpuses/attack_2_1.csv')"
   ]
  },
  {
   "cell_type": "code",
   "execution_count": null,
   "metadata": {},
   "outputs": [],
   "source": []
  }
 ],
 "metadata": {
  "kernelspec": {
   "display_name": "watermark",
   "language": "python",
   "name": "python3"
  },
  "language_info": {
   "codemirror_mode": {
    "name": "ipython",
    "version": 3
   },
   "file_extension": ".py",
   "mimetype": "text/x-python",
   "name": "python",
   "nbconvert_exporter": "python",
   "pygments_lexer": "ipython3",
   "version": "3.12.2"
  }
 },
 "nbformat": 4,
 "nbformat_minor": 2
}
