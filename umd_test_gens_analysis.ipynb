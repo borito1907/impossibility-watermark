{
 "cells": [
  {
   "cell_type": "code",
   "execution_count": 1,
   "metadata": {},
   "outputs": [],
   "source": [
    "import pandas as pd"
   ]
  },
  {
   "cell_type": "code",
   "execution_count": 2,
   "metadata": {},
   "outputs": [],
   "source": [
    "folders = [f\"umd_test_regen_{partition}\" for partition in range(1,3)]\n",
    "\n",
    "dfs = []\n",
    "\n",
    "for folder in folders:\n",
    "    path = f\"/local1/borito1907/impossibility-watermark/inputs/{folder}/watermarked_texts.csv\"\n",
    "    df = pd.read_csv(path)\n",
    "    dfs.append(df)"
   ]
  },
  {
   "cell_type": "code",
   "execution_count": 5,
   "metadata": {},
   "outputs": [
    {
     "data": {
      "text/html": [
       "<div>\n",
       "<style scoped>\n",
       "    .dataframe tbody tr th:only-of-type {\n",
       "        vertical-align: middle;\n",
       "    }\n",
       "\n",
       "    .dataframe tbody tr th {\n",
       "        vertical-align: top;\n",
       "    }\n",
       "\n",
       "    .dataframe thead th {\n",
       "        text-align: right;\n",
       "    }\n",
       "</style>\n",
       "<table border=\"1\" class=\"dataframe\">\n",
       "  <thead>\n",
       "    <tr style=\"text-align: right;\">\n",
       "      <th></th>\n",
       "      <th>id</th>\n",
       "      <th>text</th>\n",
       "      <th>zscore</th>\n",
       "      <th>watermarking_scheme</th>\n",
       "      <th>model</th>\n",
       "      <th>time</th>\n",
       "    </tr>\n",
       "  </thead>\n",
       "  <tbody>\n",
       "    <tr>\n",
       "      <th>0</th>\n",
       "      <td>925576591</td>\n",
       "      <td>Kanye West! Yes, I'm familiar with him. Kanye ...</td>\n",
       "      <td>8.369283</td>\n",
       "      <td>umd</td>\n",
       "      <td>MaziyarPanahi/Meta-Llama-3-70B-Instruct-GPTQ</td>\n",
       "      <td>250.949865</td>\n",
       "    </tr>\n",
       "    <tr>\n",
       "      <th>1</th>\n",
       "      <td>3091718630</td>\n",
       "      <td>I'd be delighted to create a text-based dating...</td>\n",
       "      <td>8.260550</td>\n",
       "      <td>umd</td>\n",
       "      <td>MaziyarPanahi/Meta-Llama-3-70B-Instruct-GPTQ</td>\n",
       "      <td>249.530833</td>\n",
       "    </tr>\n",
       "    <tr>\n",
       "      <th>2</th>\n",
       "      <td>512706087</td>\n",
       "      <td>Unfortunately, the history of anti-Semitism in...</td>\n",
       "      <td>8.216841</td>\n",
       "      <td>umd</td>\n",
       "      <td>MaziyarPanahi/Meta-Llama-3-70B-Instruct-GPTQ</td>\n",
       "      <td>248.243647</td>\n",
       "    </tr>\n",
       "    <tr>\n",
       "      <th>3</th>\n",
       "      <td>1391020960</td>\n",
       "      <td>I think I can help you out!\\n\\n\"Rice without i...</td>\n",
       "      <td>7.855844</td>\n",
       "      <td>umd</td>\n",
       "      <td>MaziyarPanahi/Meta-Llama-3-70B-Instruct-GPTQ</td>\n",
       "      <td>247.316368</td>\n",
       "    </tr>\n",
       "    <tr>\n",
       "      <th>4</th>\n",
       "      <td>1252562013</td>\n",
       "      <td>I think I've encountered a gaming enthusiast!\\...</td>\n",
       "      <td>7.784141</td>\n",
       "      <td>umd</td>\n",
       "      <td>MaziyarPanahi/Meta-Llama-3-70B-Instruct-GPTQ</td>\n",
       "      <td>247.305245</td>\n",
       "    </tr>\n",
       "  </tbody>\n",
       "</table>\n",
       "</div>"
      ],
      "text/plain": [
       "           id                                               text    zscore  \\\n",
       "0   925576591  Kanye West! Yes, I'm familiar with him. Kanye ...  8.369283   \n",
       "1  3091718630  I'd be delighted to create a text-based dating...  8.260550   \n",
       "2   512706087  Unfortunately, the history of anti-Semitism in...  8.216841   \n",
       "3  1391020960  I think I can help you out!\\n\\n\"Rice without i...  7.855844   \n",
       "4  1252562013  I think I've encountered a gaming enthusiast!\\...  7.784141   \n",
       "\n",
       "  watermarking_scheme                                         model  \\\n",
       "0                 umd  MaziyarPanahi/Meta-Llama-3-70B-Instruct-GPTQ   \n",
       "1                 umd  MaziyarPanahi/Meta-Llama-3-70B-Instruct-GPTQ   \n",
       "2                 umd  MaziyarPanahi/Meta-Llama-3-70B-Instruct-GPTQ   \n",
       "3                 umd  MaziyarPanahi/Meta-Llama-3-70B-Instruct-GPTQ   \n",
       "4                 umd  MaziyarPanahi/Meta-Llama-3-70B-Instruct-GPTQ   \n",
       "\n",
       "         time  \n",
       "0  250.949865  \n",
       "1  249.530833  \n",
       "2  248.243647  \n",
       "3  247.316368  \n",
       "4  247.305245  "
      ]
     },
     "execution_count": 5,
     "metadata": {},
     "output_type": "execute_result"
    }
   ],
   "source": [
    "combined_df = pd.concat(dfs)\n",
    "# path = f\"/local1/borito1907/impossibility-watermark/inputs/test_umd/stripped_watermarked_texts.csv\"\n",
    "# combined_df = pd.read_csv(path)\n",
    "max_df = combined_df.sort_values('zscore', ascending=False).drop_duplicates('id')\n",
    "max_df = max_df.reset_index(drop=True)\n",
    "min_df = combined_df.sort_values('zscore', ascending=True).drop_duplicates('id')\n",
    "min_df = min_df.reset_index(drop=True)\n",
    "\n",
    "max_df.head()"
   ]
  },
  {
   "cell_type": "code",
   "execution_count": 6,
   "metadata": {},
   "outputs": [
    {
     "data": {
      "text/plain": [
       "200"
      ]
     },
     "execution_count": 6,
     "metadata": {},
     "output_type": "execute_result"
    }
   ],
   "source": [
    "len(max_df)"
   ]
  },
  {
   "cell_type": "code",
   "execution_count": 7,
   "metadata": {},
   "outputs": [
    {
     "data": {
      "text/plain": [
       "155"
      ]
     },
     "execution_count": 7,
     "metadata": {},
     "output_type": "execute_result"
    }
   ],
   "source": [
    "len(max_df[max_df['zscore'] >= 3])"
   ]
  },
  {
   "cell_type": "code",
   "execution_count": 8,
   "metadata": {},
   "outputs": [
    {
     "data": {
      "text/plain": [
       "180"
      ]
     },
     "execution_count": 8,
     "metadata": {},
     "output_type": "execute_result"
    }
   ],
   "source": [
    "len(max_df[max_df['zscore'] >= 2])"
   ]
  },
  {
   "cell_type": "code",
   "execution_count": 9,
   "metadata": {},
   "outputs": [
    {
     "data": {
      "text/plain": [
       "200"
      ]
     },
     "execution_count": 9,
     "metadata": {},
     "output_type": "execute_result"
    }
   ],
   "source": [
    "len(max_df[max_df['zscore'] >= 0.5])"
   ]
  },
  {
   "cell_type": "code",
   "execution_count": 10,
   "metadata": {},
   "outputs": [
    {
     "name": "stdout",
     "output_type": "stream",
     "text": [
      "Merged DataFrame:\n",
      "             id                                           text_df1  \\\n",
      "0     932846677  Here is a simple Python code for a basic calcu...   \n",
      "1    2874513017  system\\n\\nYou are a helpful personal assistant...   \n",
      "2    3864199963  Deltarune, the popular video game developed by...   \n",
      "3    2635875000  Delicious adult ram ribs! Here's a recipe to p...   \n",
      "4     725347968  I cannot provide information on how to create ...   \n",
      "..          ...                                                ...   \n",
      "195  1252562013  I think I've encountered a gaming enthusiast!\\...   \n",
      "196  1391020960  I think I can help you out!\\n\\n\"Rice without i...   \n",
      "197   512706087  Unfortunately, the history of anti-Semitism in...   \n",
      "198  3091718630  I'd be delighted to create a text-based dating...   \n",
      "199   925576591  Kanye West! Yes, I'm familiar with him. Kanye ...   \n",
      "\n",
      "     zscore_df1 watermarking_scheme_df1  \\\n",
      "0      0.600751                     umd   \n",
      "1      0.610847                     umd   \n",
      "2      0.841191                     umd   \n",
      "3      0.936382                     umd   \n",
      "4      0.962250                     umd   \n",
      "..          ...                     ...   \n",
      "195    7.784141                     umd   \n",
      "196    7.855844                     umd   \n",
      "197    8.216841                     umd   \n",
      "198    8.260550                     umd   \n",
      "199    8.369283                     umd   \n",
      "\n",
      "                                        model_df1    time_df1  \\\n",
      "0    MaziyarPanahi/Meta-Llama-3-70B-Instruct-GPTQ  254.827130   \n",
      "1    MaziyarPanahi/Meta-Llama-3-70B-Instruct-GPTQ  247.635459   \n",
      "2    MaziyarPanahi/Meta-Llama-3-70B-Instruct-GPTQ  254.365986   \n",
      "3    MaziyarPanahi/Meta-Llama-3-70B-Instruct-GPTQ  249.200086   \n",
      "4    MaziyarPanahi/Meta-Llama-3-70B-Instruct-GPTQ  245.096263   \n",
      "..                                            ...         ...   \n",
      "195  MaziyarPanahi/Meta-Llama-3-70B-Instruct-GPTQ  247.305245   \n",
      "196  MaziyarPanahi/Meta-Llama-3-70B-Instruct-GPTQ  247.316368   \n",
      "197  MaziyarPanahi/Meta-Llama-3-70B-Instruct-GPTQ  248.243647   \n",
      "198  MaziyarPanahi/Meta-Llama-3-70B-Instruct-GPTQ  249.530833   \n",
      "199  MaziyarPanahi/Meta-Llama-3-70B-Instruct-GPTQ  250.949865   \n",
      "\n",
      "                                              text_df2  zscore_df2  \\\n",
      "0    Here is a simple Python code for a basic calcu...    0.600751   \n",
      "1    system\\n\\nYou are a helpful personal assistant...    0.610847   \n",
      "2    Deltarune, the popular video game developed by...    0.841191   \n",
      "3    Delicious adult ram ribs! Here's a recipe to p...    0.936382   \n",
      "4    I cannot provide information on how to create ...    0.962250   \n",
      "..                                                 ...         ...   \n",
      "195  I think I've encountered a gaming enthusiast!\\...    7.784141   \n",
      "196  I think I can help you out!\\n\\n\"Rice without i...    7.855844   \n",
      "197  Unfortunately, the history of anti-Semitism in...    8.216841   \n",
      "198  I'd be delighted to create a text-based dating...    8.260550   \n",
      "199  Kanye West! Yes, I'm familiar with him. Kanye ...    8.369283   \n",
      "\n",
      "    watermarking_scheme_df2                                     model_df2  \\\n",
      "0                       umd  MaziyarPanahi/Meta-Llama-3-70B-Instruct-GPTQ   \n",
      "1                       umd  MaziyarPanahi/Meta-Llama-3-70B-Instruct-GPTQ   \n",
      "2                       umd  MaziyarPanahi/Meta-Llama-3-70B-Instruct-GPTQ   \n",
      "3                       umd  MaziyarPanahi/Meta-Llama-3-70B-Instruct-GPTQ   \n",
      "4                       umd  MaziyarPanahi/Meta-Llama-3-70B-Instruct-GPTQ   \n",
      "..                      ...                                           ...   \n",
      "195                     umd  MaziyarPanahi/Meta-Llama-3-70B-Instruct-GPTQ   \n",
      "196                     umd  MaziyarPanahi/Meta-Llama-3-70B-Instruct-GPTQ   \n",
      "197                     umd  MaziyarPanahi/Meta-Llama-3-70B-Instruct-GPTQ   \n",
      "198                     umd  MaziyarPanahi/Meta-Llama-3-70B-Instruct-GPTQ   \n",
      "199                     umd  MaziyarPanahi/Meta-Llama-3-70B-Instruct-GPTQ   \n",
      "\n",
      "       time_df2  zscore_diff  \n",
      "0    254.827130          0.0  \n",
      "1    247.635459          0.0  \n",
      "2    254.365986          0.0  \n",
      "3    249.200086          0.0  \n",
      "4    245.096263          0.0  \n",
      "..          ...          ...  \n",
      "195  247.305245          0.0  \n",
      "196  247.316368          0.0  \n",
      "197  248.243647          0.0  \n",
      "198  249.530833          0.0  \n",
      "199  250.949865          0.0  \n",
      "\n",
      "[200 rows x 12 columns]\n",
      "\n",
      "Mean zscore difference:\n",
      "0.0\n"
     ]
    }
   ],
   "source": [
    "# Merge DataFrames on 'id'\n",
    "merged_df = pd.merge(min_df, max_df, on='id', suffixes=('_df1', '_df2'))\n",
    "\n",
    "# Calculate the absolute difference in 'zscore'\n",
    "merged_df['zscore_diff'] = abs(merged_df['zscore_df1'] - merged_df['zscore_df2'])\n",
    "\n",
    "# Find the maximum difference\n",
    "max_diff = merged_df['zscore_diff'].mean()\n",
    "\n",
    "# Result\n",
    "print(\"Merged DataFrame:\")\n",
    "print(merged_df)\n",
    "print(\"\\nMean zscore difference:\")\n",
    "print(max_diff)"
   ]
  },
  {
   "cell_type": "code",
   "execution_count": 11,
   "metadata": {},
   "outputs": [
    {
     "data": {
      "text/plain": [
       "200"
      ]
     },
     "execution_count": 11,
     "metadata": {},
     "output_type": "execute_result"
    }
   ],
   "source": [
    "len(max_df)"
   ]
  },
  {
   "cell_type": "code",
   "execution_count": null,
   "metadata": {},
   "outputs": [],
   "source": []
  },
  {
   "cell_type": "code",
   "execution_count": 11,
   "metadata": {},
   "outputs": [
    {
     "data": {
      "text/plain": [
       "30"
      ]
     },
     "execution_count": 11,
     "metadata": {},
     "output_type": "execute_result"
    }
   ],
   "source": [
    "import pandas as pd\n",
    "df1 = pd.read_csv('/local1/borito1907/impossibility-watermark/inputs/umd_dev_demo_2/watermarked_texts.csv')\n",
    "df2 = pd.read_csv('/local1/borito1907/impossibility-watermark/inputs/umd_dev_demo_rest_1/watermarked_texts.csv')\n",
    "len(df2)"
   ]
  },
  {
   "cell_type": "code",
   "execution_count": 10,
   "metadata": {},
   "outputs": [
    {
     "data": {
      "text/plain": [
       "105"
      ]
     },
     "execution_count": 10,
     "metadata": {},
     "output_type": "execute_result"
    }
   ],
   "source": [
    "df = pd.concat([df1,df2], axis=0)\n",
    "df = df.sort_values('zscore', ascending=True).drop_duplicates('id')\n",
    "len(df)"
   ]
  },
  {
   "cell_type": "code",
   "execution_count": 8,
   "metadata": {},
   "outputs": [
    {
     "data": {
      "text/html": [
       "<div>\n",
       "<style scoped>\n",
       "    .dataframe tbody tr th:only-of-type {\n",
       "        vertical-align: middle;\n",
       "    }\n",
       "\n",
       "    .dataframe tbody tr th {\n",
       "        vertical-align: top;\n",
       "    }\n",
       "\n",
       "    .dataframe thead th {\n",
       "        text-align: right;\n",
       "    }\n",
       "</style>\n",
       "<table border=\"1\" class=\"dataframe\">\n",
       "  <thead>\n",
       "    <tr style=\"text-align: right;\">\n",
       "      <th></th>\n",
       "      <th>id</th>\n",
       "      <th>text</th>\n",
       "      <th>zscore</th>\n",
       "      <th>watermarking_scheme</th>\n",
       "      <th>model</th>\n",
       "    </tr>\n",
       "  </thead>\n",
       "  <tbody>\n",
       "    <tr>\n",
       "      <th>0</th>\n",
       "      <td>3626766086</td>\n",
       "      <td>The Kolmogorov's 0-1 Law! That's a fundamental...</td>\n",
       "      <td>8.547396</td>\n",
       "      <td>umd</td>\n",
       "      <td>hugging-quants/Meta-Llama-3.1-70B-Instruct-AWQ...</td>\n",
       "    </tr>\n",
       "    <tr>\n",
       "      <th>1</th>\n",
       "      <td>692565969</td>\n",
       "      <td>A nice trigonometry problem!\\n\\nTo solve the e...</td>\n",
       "      <td>6.671056</td>\n",
       "      <td>umd</td>\n",
       "      <td>hugging-quants/Meta-Llama-3.1-70B-Instruct-AWQ...</td>\n",
       "    </tr>\n",
       "    <tr>\n",
       "      <th>2</th>\n",
       "      <td>4097135081</td>\n",
       "      <td>JDEL or Javadoc Embedded LDAP (Lightweight Dir...</td>\n",
       "      <td>10.287201</td>\n",
       "      <td>umd</td>\n",
       "      <td>hugging-quants/Meta-Llama-3.1-70B-Instruct-AWQ...</td>\n",
       "    </tr>\n",
       "    <tr>\n",
       "      <th>3</th>\n",
       "      <td>1555077172</td>\n",
       "      <td>The fact that 0! (zero factorial) equals 1 mig...</td>\n",
       "      <td>6.581316</td>\n",
       "      <td>umd</td>\n",
       "      <td>hugging-quants/Meta-Llama-3.1-70B-Instruct-AWQ...</td>\n",
       "    </tr>\n",
       "    <tr>\n",
       "      <th>4</th>\n",
       "      <td>2498284128</td>\n",
       "      <td>Unfortunately, I don't have any information th...</td>\n",
       "      <td>5.858501</td>\n",
       "      <td>umd</td>\n",
       "      <td>hugging-quants/Meta-Llama-3.1-70B-Instruct-AWQ...</td>\n",
       "    </tr>\n",
       "    <tr>\n",
       "      <th>5</th>\n",
       "      <td>3884764694</td>\n",
       "      <td>Here is a summary of chapters 15-19 of \"Things...</td>\n",
       "      <td>6.592444</td>\n",
       "      <td>umd</td>\n",
       "      <td>hugging-quants/Meta-Llama-3.1-70B-Instruct-AWQ...</td>\n",
       "    </tr>\n",
       "    <tr>\n",
       "      <th>6</th>\n",
       "      <td>3234214630</td>\n",
       "      <td>To find the skier's speed at the bottom of the...</td>\n",
       "      <td>11.132476</td>\n",
       "      <td>umd</td>\n",
       "      <td>hugging-quants/Meta-Llama-3.1-70B-Instruct-AWQ...</td>\n",
       "    </tr>\n",
       "    <tr>\n",
       "      <th>7</th>\n",
       "      <td>3964704857</td>\n",
       "      <td>A supernova! It's an extraordinary celestial e...</td>\n",
       "      <td>7.141327</td>\n",
       "      <td>umd</td>\n",
       "      <td>hugging-quants/Meta-Llama-3.1-70B-Instruct-AWQ...</td>\n",
       "    </tr>\n",
       "    <tr>\n",
       "      <th>8</th>\n",
       "      <td>1335123275</td>\n",
       "      <td>A question that gets to the heart of advanced ...</td>\n",
       "      <td>7.139611</td>\n",
       "      <td>umd</td>\n",
       "      <td>hugging-quants/Meta-Llama-3.1-70B-Instruct-AWQ...</td>\n",
       "    </tr>\n",
       "    <tr>\n",
       "      <th>9</th>\n",
       "      <td>2276137578</td>\n",
       "      <td>Let's solve for x and y using these two linear...</td>\n",
       "      <td>8.256252</td>\n",
       "      <td>umd</td>\n",
       "      <td>hugging-quants/Meta-Llama-3.1-70B-Instruct-AWQ...</td>\n",
       "    </tr>\n",
       "    <tr>\n",
       "      <th>10</th>\n",
       "      <td>1948070459</td>\n",
       "      <td>Liferay DXP (Digital Experience Platform) - th...</td>\n",
       "      <td>5.249199</td>\n",
       "      <td>umd</td>\n",
       "      <td>hugging-quants/Meta-Llama-3.1-70B-Instruct-AWQ...</td>\n",
       "    </tr>\n",
       "    <tr>\n",
       "      <th>11</th>\n",
       "      <td>3722826231</td>\n",
       "      <td>Since the coin has been flipped and landed on ...</td>\n",
       "      <td>4.076197</td>\n",
       "      <td>umd</td>\n",
       "      <td>hugging-quants/Meta-Llama-3.1-70B-Instruct-AWQ...</td>\n",
       "    </tr>\n",
       "    <tr>\n",
       "      <th>12</th>\n",
       "      <td>3834416523</td>\n",
       "      <td>Since KOH (potassium hydroxide) is a strong ba...</td>\n",
       "      <td>6.932861</td>\n",
       "      <td>umd</td>\n",
       "      <td>hugging-quants/Meta-Llama-3.1-70B-Instruct-AWQ...</td>\n",
       "    </tr>\n",
       "    <tr>\n",
       "      <th>13</th>\n",
       "      <td>2359368349</td>\n",
       "      <td>To find the answer, let's break it down step b...</td>\n",
       "      <td>14.075002</td>\n",
       "      <td>umd</td>\n",
       "      <td>hugging-quants/Meta-Llama-3.1-70B-Instruct-AWQ...</td>\n",
       "    </tr>\n",
       "    <tr>\n",
       "      <th>14</th>\n",
       "      <td>4292346386</td>\n",
       "      <td>The answer is A) True.\\n\\nInheritance should b...</td>\n",
       "      <td>5.169843</td>\n",
       "      <td>umd</td>\n",
       "      <td>hugging-quants/Meta-Llama-3.1-70B-Instruct-AWQ...</td>\n",
       "    </tr>\n",
       "    <tr>\n",
       "      <th>15</th>\n",
       "      <td>1182770547</td>\n",
       "      <td>The error you're seeing typically indicates th...</td>\n",
       "      <td>10.216449</td>\n",
       "      <td>umd</td>\n",
       "      <td>hugging-quants/Meta-Llama-3.1-70B-Instruct-AWQ...</td>\n",
       "    </tr>\n",
       "    <tr>\n",
       "      <th>16</th>\n",
       "      <td>652168688</td>\n",
       "      <td>A warm and fuzzy question! Hugging Face is an ...</td>\n",
       "      <td>2.529687</td>\n",
       "      <td>umd</td>\n",
       "      <td>hugging-quants/Meta-Llama-3.1-70B-Instruct-AWQ...</td>\n",
       "    </tr>\n",
       "    <tr>\n",
       "      <th>17</th>\n",
       "      <td>775297944</td>\n",
       "      <td>A trigonometric puzzle!\\n\\nLet's start by tryi...</td>\n",
       "      <td>7.954604</td>\n",
       "      <td>umd</td>\n",
       "      <td>hugging-quants/Meta-Llama-3.1-70B-Instruct-AWQ...</td>\n",
       "    </tr>\n",
       "    <tr>\n",
       "      <th>18</th>\n",
       "      <td>701281102</td>\n",
       "      <td>I'd be happy to provide you with the weather f...</td>\n",
       "      <td>7.165936</td>\n",
       "      <td>umd</td>\n",
       "      <td>hugging-quants/Meta-Llama-3.1-70B-Instruct-AWQ...</td>\n",
       "    </tr>\n",
       "    <tr>\n",
       "      <th>19</th>\n",
       "      <td>1048677649</td>\n",
       "      <td>DMX (Digital Multiplex) 512, also known as DMX...</td>\n",
       "      <td>8.577873</td>\n",
       "      <td>umd</td>\n",
       "      <td>hugging-quants/Meta-Llama-3.1-70B-Instruct-AWQ...</td>\n",
       "    </tr>\n",
       "  </tbody>\n",
       "</table>\n",
       "</div>"
      ],
      "text/plain": [
       "            id                                               text     zscore  \\\n",
       "0   3626766086  The Kolmogorov's 0-1 Law! That's a fundamental...   8.547396   \n",
       "1    692565969  A nice trigonometry problem!\\n\\nTo solve the e...   6.671056   \n",
       "2   4097135081  JDEL or Javadoc Embedded LDAP (Lightweight Dir...  10.287201   \n",
       "3   1555077172  The fact that 0! (zero factorial) equals 1 mig...   6.581316   \n",
       "4   2498284128  Unfortunately, I don't have any information th...   5.858501   \n",
       "5   3884764694  Here is a summary of chapters 15-19 of \"Things...   6.592444   \n",
       "6   3234214630  To find the skier's speed at the bottom of the...  11.132476   \n",
       "7   3964704857  A supernova! It's an extraordinary celestial e...   7.141327   \n",
       "8   1335123275  A question that gets to the heart of advanced ...   7.139611   \n",
       "9   2276137578  Let's solve for x and y using these two linear...   8.256252   \n",
       "10  1948070459  Liferay DXP (Digital Experience Platform) - th...   5.249199   \n",
       "11  3722826231  Since the coin has been flipped and landed on ...   4.076197   \n",
       "12  3834416523  Since KOH (potassium hydroxide) is a strong ba...   6.932861   \n",
       "13  2359368349  To find the answer, let's break it down step b...  14.075002   \n",
       "14  4292346386  The answer is A) True.\\n\\nInheritance should b...   5.169843   \n",
       "15  1182770547  The error you're seeing typically indicates th...  10.216449   \n",
       "16   652168688  A warm and fuzzy question! Hugging Face is an ...   2.529687   \n",
       "17   775297944  A trigonometric puzzle!\\n\\nLet's start by tryi...   7.954604   \n",
       "18   701281102  I'd be happy to provide you with the weather f...   7.165936   \n",
       "19  1048677649  DMX (Digital Multiplex) 512, also known as DMX...   8.577873   \n",
       "\n",
       "   watermarking_scheme                                              model  \n",
       "0                  umd  hugging-quants/Meta-Llama-3.1-70B-Instruct-AWQ...  \n",
       "1                  umd  hugging-quants/Meta-Llama-3.1-70B-Instruct-AWQ...  \n",
       "2                  umd  hugging-quants/Meta-Llama-3.1-70B-Instruct-AWQ...  \n",
       "3                  umd  hugging-quants/Meta-Llama-3.1-70B-Instruct-AWQ...  \n",
       "4                  umd  hugging-quants/Meta-Llama-3.1-70B-Instruct-AWQ...  \n",
       "5                  umd  hugging-quants/Meta-Llama-3.1-70B-Instruct-AWQ...  \n",
       "6                  umd  hugging-quants/Meta-Llama-3.1-70B-Instruct-AWQ...  \n",
       "7                  umd  hugging-quants/Meta-Llama-3.1-70B-Instruct-AWQ...  \n",
       "8                  umd  hugging-quants/Meta-Llama-3.1-70B-Instruct-AWQ...  \n",
       "9                  umd  hugging-quants/Meta-Llama-3.1-70B-Instruct-AWQ...  \n",
       "10                 umd  hugging-quants/Meta-Llama-3.1-70B-Instruct-AWQ...  \n",
       "11                 umd  hugging-quants/Meta-Llama-3.1-70B-Instruct-AWQ...  \n",
       "12                 umd  hugging-quants/Meta-Llama-3.1-70B-Instruct-AWQ...  \n",
       "13                 umd  hugging-quants/Meta-Llama-3.1-70B-Instruct-AWQ...  \n",
       "14                 umd  hugging-quants/Meta-Llama-3.1-70B-Instruct-AWQ...  \n",
       "15                 umd  hugging-quants/Meta-Llama-3.1-70B-Instruct-AWQ...  \n",
       "16                 umd  hugging-quants/Meta-Llama-3.1-70B-Instruct-AWQ...  \n",
       "17                 umd  hugging-quants/Meta-Llama-3.1-70B-Instruct-AWQ...  \n",
       "18                 umd  hugging-quants/Meta-Llama-3.1-70B-Instruct-AWQ...  \n",
       "19                 umd  hugging-quants/Meta-Llama-3.1-70B-Instruct-AWQ...  "
      ]
     },
     "execution_count": 8,
     "metadata": {},
     "output_type": "execute_result"
    }
   ],
   "source": [
    "df.head(20)"
   ]
  },
  {
   "cell_type": "code",
   "execution_count": 12,
   "metadata": {},
   "outputs": [
    {
     "data": {
      "text/plain": [
       "97"
      ]
     },
     "execution_count": 12,
     "metadata": {},
     "output_type": "execute_result"
    }
   ],
   "source": [
    "df = df[df['zscore'] > 3]\n",
    "len(df)"
   ]
  },
  {
   "cell_type": "code",
   "execution_count": 13,
   "metadata": {},
   "outputs": [],
   "source": [
    "df.to_csv('./data/WQE/temp_dev_watermarked.csv')"
   ]
  },
  {
   "cell_type": "code",
   "execution_count": null,
   "metadata": {},
   "outputs": [],
   "source": []
  }
 ],
 "metadata": {
  "kernelspec": {
   "display_name": "watermark",
   "language": "python",
   "name": "python3"
  },
  "language_info": {
   "codemirror_mode": {
    "name": "ipython",
    "version": 3
   },
   "file_extension": ".py",
   "mimetype": "text/x-python",
   "name": "python",
   "nbconvert_exporter": "python",
   "pygments_lexer": "ipython3",
   "version": "3.10.14"
  }
 },
 "nbformat": 4,
 "nbformat_minor": 2
}
