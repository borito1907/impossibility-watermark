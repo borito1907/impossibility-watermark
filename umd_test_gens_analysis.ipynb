{
 "cells": [
  {
   "cell_type": "code",
   "execution_count": 1,
   "metadata": {},
   "outputs": [],
   "source": [
    "import pandas as pd"
   ]
  },
  {
   "cell_type": "code",
   "execution_count": 2,
   "metadata": {},
   "outputs": [],
   "source": [
    "folders = [f\"umd_test_regen_{partition}\" for partition in range(1,3)]\n",
    "\n",
    "dfs = []\n",
    "\n",
    "for folder in folders:\n",
    "    path = f\"/local1/borito1907/impossibility-watermark/inputs/{folder}/watermarked_texts.csv\"\n",
    "    df = pd.read_csv(path)\n",
    "    dfs.append(df)"
   ]
  },
  {
   "cell_type": "code",
   "execution_count": 5,
   "metadata": {},
   "outputs": [
    {
     "data": {
      "text/html": [
       "<div>\n",
       "<style scoped>\n",
       "    .dataframe tbody tr th:only-of-type {\n",
       "        vertical-align: middle;\n",
       "    }\n",
       "\n",
       "    .dataframe tbody tr th {\n",
       "        vertical-align: top;\n",
       "    }\n",
       "\n",
       "    .dataframe thead th {\n",
       "        text-align: right;\n",
       "    }\n",
       "</style>\n",
       "<table border=\"1\" class=\"dataframe\">\n",
       "  <thead>\n",
       "    <tr style=\"text-align: right;\">\n",
       "      <th></th>\n",
       "      <th>id</th>\n",
       "      <th>text</th>\n",
       "      <th>zscore</th>\n",
       "      <th>watermarking_scheme</th>\n",
       "      <th>model</th>\n",
       "      <th>time</th>\n",
       "    </tr>\n",
       "  </thead>\n",
       "  <tbody>\n",
       "    <tr>\n",
       "      <th>0</th>\n",
       "      <td>925576591</td>\n",
       "      <td>Kanye West! Yes, I'm familiar with him. Kanye ...</td>\n",
       "      <td>8.369283</td>\n",
       "      <td>umd</td>\n",
       "      <td>MaziyarPanahi/Meta-Llama-3-70B-Instruct-GPTQ</td>\n",
       "      <td>250.949865</td>\n",
       "    </tr>\n",
       "    <tr>\n",
       "      <th>1</th>\n",
       "      <td>3091718630</td>\n",
       "      <td>I'd be delighted to create a text-based dating...</td>\n",
       "      <td>8.260550</td>\n",
       "      <td>umd</td>\n",
       "      <td>MaziyarPanahi/Meta-Llama-3-70B-Instruct-GPTQ</td>\n",
       "      <td>249.530833</td>\n",
       "    </tr>\n",
       "    <tr>\n",
       "      <th>2</th>\n",
       "      <td>512706087</td>\n",
       "      <td>Unfortunately, the history of anti-Semitism in...</td>\n",
       "      <td>8.216841</td>\n",
       "      <td>umd</td>\n",
       "      <td>MaziyarPanahi/Meta-Llama-3-70B-Instruct-GPTQ</td>\n",
       "      <td>248.243647</td>\n",
       "    </tr>\n",
       "    <tr>\n",
       "      <th>3</th>\n",
       "      <td>1391020960</td>\n",
       "      <td>I think I can help you out!\\n\\n\"Rice without i...</td>\n",
       "      <td>7.855844</td>\n",
       "      <td>umd</td>\n",
       "      <td>MaziyarPanahi/Meta-Llama-3-70B-Instruct-GPTQ</td>\n",
       "      <td>247.316368</td>\n",
       "    </tr>\n",
       "    <tr>\n",
       "      <th>4</th>\n",
       "      <td>1252562013</td>\n",
       "      <td>I think I've encountered a gaming enthusiast!\\...</td>\n",
       "      <td>7.784141</td>\n",
       "      <td>umd</td>\n",
       "      <td>MaziyarPanahi/Meta-Llama-3-70B-Instruct-GPTQ</td>\n",
       "      <td>247.305245</td>\n",
       "    </tr>\n",
       "  </tbody>\n",
       "</table>\n",
       "</div>"
      ],
      "text/plain": [
       "           id                                               text    zscore  \\\n",
       "0   925576591  Kanye West! Yes, I'm familiar with him. Kanye ...  8.369283   \n",
       "1  3091718630  I'd be delighted to create a text-based dating...  8.260550   \n",
       "2   512706087  Unfortunately, the history of anti-Semitism in...  8.216841   \n",
       "3  1391020960  I think I can help you out!\\n\\n\"Rice without i...  7.855844   \n",
       "4  1252562013  I think I've encountered a gaming enthusiast!\\...  7.784141   \n",
       "\n",
       "  watermarking_scheme                                         model  \\\n",
       "0                 umd  MaziyarPanahi/Meta-Llama-3-70B-Instruct-GPTQ   \n",
       "1                 umd  MaziyarPanahi/Meta-Llama-3-70B-Instruct-GPTQ   \n",
       "2                 umd  MaziyarPanahi/Meta-Llama-3-70B-Instruct-GPTQ   \n",
       "3                 umd  MaziyarPanahi/Meta-Llama-3-70B-Instruct-GPTQ   \n",
       "4                 umd  MaziyarPanahi/Meta-Llama-3-70B-Instruct-GPTQ   \n",
       "\n",
       "         time  \n",
       "0  250.949865  \n",
       "1  249.530833  \n",
       "2  248.243647  \n",
       "3  247.316368  \n",
       "4  247.305245  "
      ]
     },
     "execution_count": 5,
     "metadata": {},
     "output_type": "execute_result"
    }
   ],
   "source": [
    "combined_df = pd.concat(dfs)\n",
    "# path = f\"/local1/borito1907/impossibility-watermark/inputs/test_umd/stripped_watermarked_texts.csv\"\n",
    "# combined_df = pd.read_csv(path)\n",
    "max_df = combined_df.sort_values('zscore', ascending=False).drop_duplicates('id')\n",
    "max_df = max_df.reset_index(drop=True)\n",
    "min_df = combined_df.sort_values('zscore', ascending=True).drop_duplicates('id')\n",
    "min_df = min_df.reset_index(drop=True)\n",
    "\n",
    "max_df.head()"
   ]
  },
  {
   "cell_type": "code",
   "execution_count": 6,
   "metadata": {},
   "outputs": [
    {
     "data": {
      "text/plain": [
       "200"
      ]
     },
     "execution_count": 6,
     "metadata": {},
     "output_type": "execute_result"
    }
   ],
   "source": [
    "len(max_df)"
   ]
  },
  {
   "cell_type": "code",
   "execution_count": 7,
   "metadata": {},
   "outputs": [
    {
     "data": {
      "text/plain": [
       "155"
      ]
     },
     "execution_count": 7,
     "metadata": {},
     "output_type": "execute_result"
    }
   ],
   "source": [
    "len(max_df[max_df['zscore'] >= 3])"
   ]
  },
  {
   "cell_type": "code",
   "execution_count": 8,
   "metadata": {},
   "outputs": [
    {
     "data": {
      "text/plain": [
       "180"
      ]
     },
     "execution_count": 8,
     "metadata": {},
     "output_type": "execute_result"
    }
   ],
   "source": [
    "len(max_df[max_df['zscore'] >= 2])"
   ]
  },
  {
   "cell_type": "code",
   "execution_count": 9,
   "metadata": {},
   "outputs": [
    {
     "data": {
      "text/plain": [
       "200"
      ]
     },
     "execution_count": 9,
     "metadata": {},
     "output_type": "execute_result"
    }
   ],
   "source": [
    "len(max_df[max_df['zscore'] >= 0.5])"
   ]
  },
  {
   "cell_type": "code",
   "execution_count": 10,
   "metadata": {},
   "outputs": [
    {
     "name": "stdout",
     "output_type": "stream",
     "text": [
      "Merged DataFrame:\n",
      "             id                                           text_df1  \\\n",
      "0     932846677  Here is a simple Python code for a basic calcu...   \n",
      "1    2874513017  system\\n\\nYou are a helpful personal assistant...   \n",
      "2    3864199963  Deltarune, the popular video game developed by...   \n",
      "3    2635875000  Delicious adult ram ribs! Here's a recipe to p...   \n",
      "4     725347968  I cannot provide information on how to create ...   \n",
      "..          ...                                                ...   \n",
      "195  1252562013  I think I've encountered a gaming enthusiast!\\...   \n",
      "196  1391020960  I think I can help you out!\\n\\n\"Rice without i...   \n",
      "197   512706087  Unfortunately, the history of anti-Semitism in...   \n",
      "198  3091718630  I'd be delighted to create a text-based dating...   \n",
      "199   925576591  Kanye West! Yes, I'm familiar with him. Kanye ...   \n",
      "\n",
      "     zscore_df1 watermarking_scheme_df1  \\\n",
      "0      0.600751                     umd   \n",
      "1      0.610847                     umd   \n",
      "2      0.841191                     umd   \n",
      "3      0.936382                     umd   \n",
      "4      0.962250                     umd   \n",
      "..          ...                     ...   \n",
      "195    7.784141                     umd   \n",
      "196    7.855844                     umd   \n",
      "197    8.216841                     umd   \n",
      "198    8.260550                     umd   \n",
      "199    8.369283                     umd   \n",
      "\n",
      "                                        model_df1    time_df1  \\\n",
      "0    MaziyarPanahi/Meta-Llama-3-70B-Instruct-GPTQ  254.827130   \n",
      "1    MaziyarPanahi/Meta-Llama-3-70B-Instruct-GPTQ  247.635459   \n",
      "2    MaziyarPanahi/Meta-Llama-3-70B-Instruct-GPTQ  254.365986   \n",
      "3    MaziyarPanahi/Meta-Llama-3-70B-Instruct-GPTQ  249.200086   \n",
      "4    MaziyarPanahi/Meta-Llama-3-70B-Instruct-GPTQ  245.096263   \n",
      "..                                            ...         ...   \n",
      "195  MaziyarPanahi/Meta-Llama-3-70B-Instruct-GPTQ  247.305245   \n",
      "196  MaziyarPanahi/Meta-Llama-3-70B-Instruct-GPTQ  247.316368   \n",
      "197  MaziyarPanahi/Meta-Llama-3-70B-Instruct-GPTQ  248.243647   \n",
      "198  MaziyarPanahi/Meta-Llama-3-70B-Instruct-GPTQ  249.530833   \n",
      "199  MaziyarPanahi/Meta-Llama-3-70B-Instruct-GPTQ  250.949865   \n",
      "\n",
      "                                              text_df2  zscore_df2  \\\n",
      "0    Here is a simple Python code for a basic calcu...    0.600751   \n",
      "1    system\\n\\nYou are a helpful personal assistant...    0.610847   \n",
      "2    Deltarune, the popular video game developed by...    0.841191   \n",
      "3    Delicious adult ram ribs! Here's a recipe to p...    0.936382   \n",
      "4    I cannot provide information on how to create ...    0.962250   \n",
      "..                                                 ...         ...   \n",
      "195  I think I've encountered a gaming enthusiast!\\...    7.784141   \n",
      "196  I think I can help you out!\\n\\n\"Rice without i...    7.855844   \n",
      "197  Unfortunately, the history of anti-Semitism in...    8.216841   \n",
      "198  I'd be delighted to create a text-based dating...    8.260550   \n",
      "199  Kanye West! Yes, I'm familiar with him. Kanye ...    8.369283   \n",
      "\n",
      "    watermarking_scheme_df2                                     model_df2  \\\n",
      "0                       umd  MaziyarPanahi/Meta-Llama-3-70B-Instruct-GPTQ   \n",
      "1                       umd  MaziyarPanahi/Meta-Llama-3-70B-Instruct-GPTQ   \n",
      "2                       umd  MaziyarPanahi/Meta-Llama-3-70B-Instruct-GPTQ   \n",
      "3                       umd  MaziyarPanahi/Meta-Llama-3-70B-Instruct-GPTQ   \n",
      "4                       umd  MaziyarPanahi/Meta-Llama-3-70B-Instruct-GPTQ   \n",
      "..                      ...                                           ...   \n",
      "195                     umd  MaziyarPanahi/Meta-Llama-3-70B-Instruct-GPTQ   \n",
      "196                     umd  MaziyarPanahi/Meta-Llama-3-70B-Instruct-GPTQ   \n",
      "197                     umd  MaziyarPanahi/Meta-Llama-3-70B-Instruct-GPTQ   \n",
      "198                     umd  MaziyarPanahi/Meta-Llama-3-70B-Instruct-GPTQ   \n",
      "199                     umd  MaziyarPanahi/Meta-Llama-3-70B-Instruct-GPTQ   \n",
      "\n",
      "       time_df2  zscore_diff  \n",
      "0    254.827130          0.0  \n",
      "1    247.635459          0.0  \n",
      "2    254.365986          0.0  \n",
      "3    249.200086          0.0  \n",
      "4    245.096263          0.0  \n",
      "..          ...          ...  \n",
      "195  247.305245          0.0  \n",
      "196  247.316368          0.0  \n",
      "197  248.243647          0.0  \n",
      "198  249.530833          0.0  \n",
      "199  250.949865          0.0  \n",
      "\n",
      "[200 rows x 12 columns]\n",
      "\n",
      "Mean zscore difference:\n",
      "0.0\n"
     ]
    }
   ],
   "source": [
    "# Merge DataFrames on 'id'\n",
    "merged_df = pd.merge(min_df, max_df, on='id', suffixes=('_df1', '_df2'))\n",
    "\n",
    "# Calculate the absolute difference in 'zscore'\n",
    "merged_df['zscore_diff'] = abs(merged_df['zscore_df1'] - merged_df['zscore_df2'])\n",
    "\n",
    "# Find the maximum difference\n",
    "max_diff = merged_df['zscore_diff'].mean()\n",
    "\n",
    "# Result\n",
    "print(\"Merged DataFrame:\")\n",
    "print(merged_df)\n",
    "print(\"\\nMean zscore difference:\")\n",
    "print(max_diff)"
   ]
  },
  {
   "cell_type": "code",
   "execution_count": 11,
   "metadata": {},
   "outputs": [
    {
     "data": {
      "text/plain": [
       "200"
      ]
     },
     "execution_count": 11,
     "metadata": {},
     "output_type": "execute_result"
    }
   ],
   "source": [
    "len(max_df)"
   ]
  }
 ],
 "metadata": {
  "kernelspec": {
   "display_name": "watermark",
   "language": "python",
   "name": "python3"
  },
  "language_info": {
   "codemirror_mode": {
    "name": "ipython",
    "version": 3
   },
   "file_extension": ".py",
   "mimetype": "text/x-python",
   "name": "python",
   "nbconvert_exporter": "python",
   "pygments_lexer": "ipython3",
   "version": "3.10.14"
  }
 },
 "nbformat": 4,
 "nbformat_minor": 2
}
