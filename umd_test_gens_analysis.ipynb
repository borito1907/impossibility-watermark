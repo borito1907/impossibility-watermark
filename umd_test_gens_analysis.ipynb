{
 "cells": [
  {
   "cell_type": "code",
   "execution_count": 1,
   "metadata": {},
   "outputs": [],
   "source": [
    "import pandas as pd"
   ]
  },
  {
   "cell_type": "code",
   "execution_count": 2,
   "metadata": {},
   "outputs": [],
   "source": [
    "folders = [f\"umd_test_regen_{partition}\" for partition in range(1,3)]\n",
    "\n",
    "dfs = []\n",
    "\n",
    "for folder in folders:\n",
    "    path = f\"/local1/borito1907/impossibility-watermark/inputs/{folder}/watermarked_texts.csv\"\n",
    "    df = pd.read_csv(path)\n",
    "    dfs.append(df)"
   ]
  },
  {
   "cell_type": "code",
   "execution_count": 5,
   "metadata": {},
   "outputs": [
    {
     "data": {
      "text/html": [
       "<div>\n",
       "<style scoped>\n",
       "    .dataframe tbody tr th:only-of-type {\n",
       "        vertical-align: middle;\n",
       "    }\n",
       "\n",
       "    .dataframe tbody tr th {\n",
       "        vertical-align: top;\n",
       "    }\n",
       "\n",
       "    .dataframe thead th {\n",
       "        text-align: right;\n",
       "    }\n",
       "</style>\n",
       "<table border=\"1\" class=\"dataframe\">\n",
       "  <thead>\n",
       "    <tr style=\"text-align: right;\">\n",
       "      <th></th>\n",
       "      <th>id</th>\n",
       "      <th>text</th>\n",
       "      <th>zscore</th>\n",
       "      <th>watermarking_scheme</th>\n",
       "      <th>model</th>\n",
       "      <th>time</th>\n",
       "    </tr>\n",
       "  </thead>\n",
       "  <tbody>\n",
       "    <tr>\n",
       "      <th>0</th>\n",
       "      <td>925576591</td>\n",
       "      <td>Kanye West! Yes, I'm familiar with him. Kanye ...</td>\n",
       "      <td>8.369283</td>\n",
       "      <td>umd</td>\n",
       "      <td>MaziyarPanahi/Meta-Llama-3-70B-Instruct-GPTQ</td>\n",
       "      <td>250.949865</td>\n",
       "    </tr>\n",
       "    <tr>\n",
       "      <th>1</th>\n",
       "      <td>3091718630</td>\n",
       "      <td>I'd be delighted to create a text-based dating...</td>\n",
       "      <td>8.260550</td>\n",
       "      <td>umd</td>\n",
       "      <td>MaziyarPanahi/Meta-Llama-3-70B-Instruct-GPTQ</td>\n",
       "      <td>249.530833</td>\n",
       "    </tr>\n",
       "    <tr>\n",
       "      <th>2</th>\n",
       "      <td>512706087</td>\n",
       "      <td>Unfortunately, the history of anti-Semitism in...</td>\n",
       "      <td>8.216841</td>\n",
       "      <td>umd</td>\n",
       "      <td>MaziyarPanahi/Meta-Llama-3-70B-Instruct-GPTQ</td>\n",
       "      <td>248.243647</td>\n",
       "    </tr>\n",
       "    <tr>\n",
       "      <th>3</th>\n",
       "      <td>1391020960</td>\n",
       "      <td>I think I can help you out!\\n\\n\"Rice without i...</td>\n",
       "      <td>7.855844</td>\n",
       "      <td>umd</td>\n",
       "      <td>MaziyarPanahi/Meta-Llama-3-70B-Instruct-GPTQ</td>\n",
       "      <td>247.316368</td>\n",
       "    </tr>\n",
       "    <tr>\n",
       "      <th>4</th>\n",
       "      <td>1252562013</td>\n",
       "      <td>I think I've encountered a gaming enthusiast!\\...</td>\n",
       "      <td>7.784141</td>\n",
       "      <td>umd</td>\n",
       "      <td>MaziyarPanahi/Meta-Llama-3-70B-Instruct-GPTQ</td>\n",
       "      <td>247.305245</td>\n",
       "    </tr>\n",
       "  </tbody>\n",
       "</table>\n",
       "</div>"
      ],
      "text/plain": [
       "           id                                               text    zscore  \\\n",
       "0   925576591  Kanye West! Yes, I'm familiar with him. Kanye ...  8.369283   \n",
       "1  3091718630  I'd be delighted to create a text-based dating...  8.260550   \n",
       "2   512706087  Unfortunately, the history of anti-Semitism in...  8.216841   \n",
       "3  1391020960  I think I can help you out!\\n\\n\"Rice without i...  7.855844   \n",
       "4  1252562013  I think I've encountered a gaming enthusiast!\\...  7.784141   \n",
       "\n",
       "  watermarking_scheme                                         model  \\\n",
       "0                 umd  MaziyarPanahi/Meta-Llama-3-70B-Instruct-GPTQ   \n",
       "1                 umd  MaziyarPanahi/Meta-Llama-3-70B-Instruct-GPTQ   \n",
       "2                 umd  MaziyarPanahi/Meta-Llama-3-70B-Instruct-GPTQ   \n",
       "3                 umd  MaziyarPanahi/Meta-Llama-3-70B-Instruct-GPTQ   \n",
       "4                 umd  MaziyarPanahi/Meta-Llama-3-70B-Instruct-GPTQ   \n",
       "\n",
       "         time  \n",
       "0  250.949865  \n",
       "1  249.530833  \n",
       "2  248.243647  \n",
       "3  247.316368  \n",
       "4  247.305245  "
      ]
     },
     "execution_count": 5,
     "metadata": {},
     "output_type": "execute_result"
    }
   ],
   "source": [
    "combined_df = pd.concat(dfs)\n",
    "# path = f\"/local1/borito1907/impossibility-watermark/inputs/test_umd/stripped_watermarked_texts.csv\"\n",
    "# combined_df = pd.read_csv(path)\n",
    "max_df = combined_df.sort_values('zscore', ascending=False).drop_duplicates('id')\n",
    "max_df = max_df.reset_index(drop=True)\n",
    "min_df = combined_df.sort_values('zscore', ascending=True).drop_duplicates('id')\n",
    "min_df = min_df.reset_index(drop=True)\n",
    "\n",
    "max_df.head()"
   ]
  },
  {
   "cell_type": "code",
   "execution_count": 6,
   "metadata": {},
   "outputs": [
    {
     "data": {
      "text/plain": [
       "200"
      ]
     },
     "execution_count": 6,
     "metadata": {},
     "output_type": "execute_result"
    }
   ],
   "source": [
    "len(max_df)"
   ]
  },
  {
   "cell_type": "code",
   "execution_count": 7,
   "metadata": {},
   "outputs": [
    {
     "data": {
      "text/plain": [
       "155"
      ]
     },
     "execution_count": 7,
     "metadata": {},
     "output_type": "execute_result"
    }
   ],
   "source": [
    "len(max_df[max_df['zscore'] >= 3])"
   ]
  },
  {
   "cell_type": "code",
   "execution_count": 8,
   "metadata": {},
   "outputs": [
    {
     "data": {
      "text/plain": [
       "180"
      ]
     },
     "execution_count": 8,
     "metadata": {},
     "output_type": "execute_result"
    }
   ],
   "source": [
    "len(max_df[max_df['zscore'] >= 2])"
   ]
  },
  {
   "cell_type": "code",
   "execution_count": 9,
   "metadata": {},
   "outputs": [
    {
     "data": {
      "text/plain": [
       "200"
      ]
     },
     "execution_count": 9,
     "metadata": {},
     "output_type": "execute_result"
    }
   ],
   "source": [
    "len(max_df[max_df['zscore'] >= 0.5])"
   ]
  },
  {
   "cell_type": "code",
   "execution_count": 10,
   "metadata": {},
   "outputs": [
    {
     "name": "stdout",
     "output_type": "stream",
     "text": [
      "Merged DataFrame:\n",
      "             id                                           text_df1  \\\n",
      "0     932846677  Here is a simple Python code for a basic calcu...   \n",
      "1    2874513017  system\\n\\nYou are a helpful personal assistant...   \n",
      "2    3864199963  Deltarune, the popular video game developed by...   \n",
      "3    2635875000  Delicious adult ram ribs! Here's a recipe to p...   \n",
      "4     725347968  I cannot provide information on how to create ...   \n",
      "..          ...                                                ...   \n",
      "195  1252562013  I think I've encountered a gaming enthusiast!\\...   \n",
      "196  1391020960  I think I can help you out!\\n\\n\"Rice without i...   \n",
      "197   512706087  Unfortunately, the history of anti-Semitism in...   \n",
      "198  3091718630  I'd be delighted to create a text-based dating...   \n",
      "199   925576591  Kanye West! Yes, I'm familiar with him. Kanye ...   \n",
      "\n",
      "     zscore_df1 watermarking_scheme_df1  \\\n",
      "0      0.600751                     umd   \n",
      "1      0.610847                     umd   \n",
      "2      0.841191                     umd   \n",
      "3      0.936382                     umd   \n",
      "4      0.962250                     umd   \n",
      "..          ...                     ...   \n",
      "195    7.784141                     umd   \n",
      "196    7.855844                     umd   \n",
      "197    8.216841                     umd   \n",
      "198    8.260550                     umd   \n",
      "199    8.369283                     umd   \n",
      "\n",
      "                                        model_df1    time_df1  \\\n",
      "0    MaziyarPanahi/Meta-Llama-3-70B-Instruct-GPTQ  254.827130   \n",
      "1    MaziyarPanahi/Meta-Llama-3-70B-Instruct-GPTQ  247.635459   \n",
      "2    MaziyarPanahi/Meta-Llama-3-70B-Instruct-GPTQ  254.365986   \n",
      "3    MaziyarPanahi/Meta-Llama-3-70B-Instruct-GPTQ  249.200086   \n",
      "4    MaziyarPanahi/Meta-Llama-3-70B-Instruct-GPTQ  245.096263   \n",
      "..                                            ...         ...   \n",
      "195  MaziyarPanahi/Meta-Llama-3-70B-Instruct-GPTQ  247.305245   \n",
      "196  MaziyarPanahi/Meta-Llama-3-70B-Instruct-GPTQ  247.316368   \n",
      "197  MaziyarPanahi/Meta-Llama-3-70B-Instruct-GPTQ  248.243647   \n",
      "198  MaziyarPanahi/Meta-Llama-3-70B-Instruct-GPTQ  249.530833   \n",
      "199  MaziyarPanahi/Meta-Llama-3-70B-Instruct-GPTQ  250.949865   \n",
      "\n",
      "                                              text_df2  zscore_df2  \\\n",
      "0    Here is a simple Python code for a basic calcu...    0.600751   \n",
      "1    system\\n\\nYou are a helpful personal assistant...    0.610847   \n",
      "2    Deltarune, the popular video game developed by...    0.841191   \n",
      "3    Delicious adult ram ribs! Here's a recipe to p...    0.936382   \n",
      "4    I cannot provide information on how to create ...    0.962250   \n",
      "..                                                 ...         ...   \n",
      "195  I think I've encountered a gaming enthusiast!\\...    7.784141   \n",
      "196  I think I can help you out!\\n\\n\"Rice without i...    7.855844   \n",
      "197  Unfortunately, the history of anti-Semitism in...    8.216841   \n",
      "198  I'd be delighted to create a text-based dating...    8.260550   \n",
      "199  Kanye West! Yes, I'm familiar with him. Kanye ...    8.369283   \n",
      "\n",
      "    watermarking_scheme_df2                                     model_df2  \\\n",
      "0                       umd  MaziyarPanahi/Meta-Llama-3-70B-Instruct-GPTQ   \n",
      "1                       umd  MaziyarPanahi/Meta-Llama-3-70B-Instruct-GPTQ   \n",
      "2                       umd  MaziyarPanahi/Meta-Llama-3-70B-Instruct-GPTQ   \n",
      "3                       umd  MaziyarPanahi/Meta-Llama-3-70B-Instruct-GPTQ   \n",
      "4                       umd  MaziyarPanahi/Meta-Llama-3-70B-Instruct-GPTQ   \n",
      "..                      ...                                           ...   \n",
      "195                     umd  MaziyarPanahi/Meta-Llama-3-70B-Instruct-GPTQ   \n",
      "196                     umd  MaziyarPanahi/Meta-Llama-3-70B-Instruct-GPTQ   \n",
      "197                     umd  MaziyarPanahi/Meta-Llama-3-70B-Instruct-GPTQ   \n",
      "198                     umd  MaziyarPanahi/Meta-Llama-3-70B-Instruct-GPTQ   \n",
      "199                     umd  MaziyarPanahi/Meta-Llama-3-70B-Instruct-GPTQ   \n",
      "\n",
      "       time_df2  zscore_diff  \n",
      "0    254.827130          0.0  \n",
      "1    247.635459          0.0  \n",
      "2    254.365986          0.0  \n",
      "3    249.200086          0.0  \n",
      "4    245.096263          0.0  \n",
      "..          ...          ...  \n",
      "195  247.305245          0.0  \n",
      "196  247.316368          0.0  \n",
      "197  248.243647          0.0  \n",
      "198  249.530833          0.0  \n",
      "199  250.949865          0.0  \n",
      "\n",
      "[200 rows x 12 columns]\n",
      "\n",
      "Mean zscore difference:\n",
      "0.0\n"
     ]
    }
   ],
   "source": [
    "# Merge DataFrames on 'id'\n",
    "merged_df = pd.merge(min_df, max_df, on='id', suffixes=('_df1', '_df2'))\n",
    "\n",
    "# Calculate the absolute difference in 'zscore'\n",
    "merged_df['zscore_diff'] = abs(merged_df['zscore_df1'] - merged_df['zscore_df2'])\n",
    "\n",
    "# Find the maximum difference\n",
    "max_diff = merged_df['zscore_diff'].mean()\n",
    "\n",
    "# Result\n",
    "print(\"Merged DataFrame:\")\n",
    "print(merged_df)\n",
    "print(\"\\nMean zscore difference:\")\n",
    "print(max_diff)"
   ]
  },
  {
   "cell_type": "code",
   "execution_count": 11,
   "metadata": {},
   "outputs": [
    {
     "data": {
      "text/plain": [
       "200"
      ]
     },
     "execution_count": 11,
     "metadata": {},
     "output_type": "execute_result"
    }
   ],
   "source": [
    "len(max_df)"
   ]
  },
  {
   "cell_type": "code",
   "execution_count": null,
   "metadata": {},
   "outputs": [],
   "source": []
  },
  {
   "cell_type": "code",
   "execution_count": 15,
   "metadata": {},
   "outputs": [],
   "source": [
    "import pandas as pd\n",
    "df1 = pd.read_csv('/local1/borito1907/impossibility-watermark/inputs/umd_dev_demo_2/watermarked_texts.csv')\n",
    "df2 = pd.read_csv('/local1/borito1907/impossibility-watermark/inputs/umd_dev_demo_rest_1/watermarked_texts.csv')\n",
    "df3 = pd.read_csv('/local1/borito1907/impossibility-watermark/inputs/umd_dev_demo_1/watermarked_texts.csv')\n",
    "df4 = pd.read_csv('/local1/borito1907/impossibility-watermark/inputs/umd_dev_demop_1/watermarked_texts.csv')"
   ]
  },
  {
   "cell_type": "code",
   "execution_count": 16,
   "metadata": {},
   "outputs": [
    {
     "data": {
      "text/plain": [
       "150"
      ]
     },
     "execution_count": 16,
     "metadata": {},
     "output_type": "execute_result"
    }
   ],
   "source": [
    "df = pd.concat([df1,df2,df3, df4], axis=0)\n",
    "df = df.sort_values('zscore', ascending=True).drop_duplicates('id')\n",
    "len(df)"
   ]
  },
  {
   "cell_type": "code",
   "execution_count": 17,
   "metadata": {},
   "outputs": [],
   "source": [
    "df.to_csv('./inputs/umd_llama31_dev_first_round.csv')"
   ]
  },
  {
   "cell_type": "code",
   "execution_count": 13,
   "metadata": {},
   "outputs": [
    {
     "data": {
      "text/html": [
       "<div>\n",
       "<style scoped>\n",
       "    .dataframe tbody tr th:only-of-type {\n",
       "        vertical-align: middle;\n",
       "    }\n",
       "\n",
       "    .dataframe tbody tr th {\n",
       "        vertical-align: top;\n",
       "    }\n",
       "\n",
       "    .dataframe thead th {\n",
       "        text-align: right;\n",
       "    }\n",
       "</style>\n",
       "<table border=\"1\" class=\"dataframe\">\n",
       "  <thead>\n",
       "    <tr style=\"text-align: right;\">\n",
       "      <th></th>\n",
       "      <th>id</th>\n",
       "      <th>text</th>\n",
       "      <th>zscore</th>\n",
       "      <th>watermarking_scheme</th>\n",
       "      <th>model</th>\n",
       "      <th>time</th>\n",
       "    </tr>\n",
       "  </thead>\n",
       "  <tbody>\n",
       "    <tr>\n",
       "      <th>0</th>\n",
       "      <td>2467656814</td>\n",
       "      <td>I cannot provide information or guidance on il...</td>\n",
       "      <td>0.000000</td>\n",
       "      <td>umd</td>\n",
       "      <td>hugging-quants/Meta-Llama-3.1-70B-Instruct-AWQ...</td>\n",
       "      <td>12.018219</td>\n",
       "    </tr>\n",
       "    <tr>\n",
       "      <th>9</th>\n",
       "      <td>1717147012</td>\n",
       "      <td>I cannot assist you with developing malicious ...</td>\n",
       "      <td>0.662266</td>\n",
       "      <td>umd</td>\n",
       "      <td>hugging-quants/Meta-Llama-3.1-70B-Instruct-AWQ...</td>\n",
       "      <td>NaN</td>\n",
       "    </tr>\n",
       "    <tr>\n",
       "      <th>1</th>\n",
       "      <td>2046128425</td>\n",
       "      <td>It seems like I don't have any initial instruc...</td>\n",
       "      <td>0.991837</td>\n",
       "      <td>umd</td>\n",
       "      <td>hugging-quants/Meta-Llama-3.1-70B-Instruct-AWQ...</td>\n",
       "      <td>NaN</td>\n",
       "    </tr>\n",
       "    <tr>\n",
       "      <th>3</th>\n",
       "      <td>59824387</td>\n",
       "      <td>I cannot provide information or guidance on ma...</td>\n",
       "      <td>1.385870</td>\n",
       "      <td>umd</td>\n",
       "      <td>hugging-quants/Meta-Llama-3.1-70B-Instruct-AWQ...</td>\n",
       "      <td>NaN</td>\n",
       "    </tr>\n",
       "    <tr>\n",
       "      <th>24</th>\n",
       "      <td>240259792</td>\n",
       "      <td>Here is a sample letter you can use as a templ...</td>\n",
       "      <td>1.614366</td>\n",
       "      <td>umd</td>\n",
       "      <td>hugging-quants/Meta-Llama-3.1-70B-Instruct-AWQ...</td>\n",
       "      <td>NaN</td>\n",
       "    </tr>\n",
       "    <tr>\n",
       "      <th>66</th>\n",
       "      <td>1784954473</td>\n",
       "      <td>Living in Austria is a dream come true for man...</td>\n",
       "      <td>1.749837</td>\n",
       "      <td>umd</td>\n",
       "      <td>hugging-quants/Meta-Llama-3.1-70B-Instruct-AWQ...</td>\n",
       "      <td>NaN</td>\n",
       "    </tr>\n",
       "    <tr>\n",
       "      <th>28</th>\n",
       "      <td>808411944</td>\n",
       "      <td>After some quick research, I found that no, ac...</td>\n",
       "      <td>1.933322</td>\n",
       "      <td>umd</td>\n",
       "      <td>hugging-quants/Meta-Llama-3.1-70B-Instruct-AWQ...</td>\n",
       "      <td>80.353861</td>\n",
       "    </tr>\n",
       "    <tr>\n",
       "      <th>26</th>\n",
       "      <td>320070813</td>\n",
       "      <td>Actually, I think you may be mistaken. Vincent...</td>\n",
       "      <td>2.240448</td>\n",
       "      <td>umd</td>\n",
       "      <td>hugging-quants/Meta-Llama-3.1-70B-Instruct-AWQ...</td>\n",
       "      <td>29.120406</td>\n",
       "    </tr>\n",
       "    <tr>\n",
       "      <th>30</th>\n",
       "      <td>1827179908</td>\n",
       "      <td>To calculate that expression, I'll follow the ...</td>\n",
       "      <td>2.319004</td>\n",
       "      <td>umd</td>\n",
       "      <td>hugging-quants/Meta-Llama-3.1-70B-Instruct-AWQ...</td>\n",
       "      <td>51.221244</td>\n",
       "    </tr>\n",
       "    <tr>\n",
       "      <th>29</th>\n",
       "      <td>514298844</td>\n",
       "      <td>I'd be happy to help you solve the equation.\\n...</td>\n",
       "      <td>2.434830</td>\n",
       "      <td>umd</td>\n",
       "      <td>hugging-quants/Meta-Llama-3.1-70B-Instruct-AWQ...</td>\n",
       "      <td>58.013526</td>\n",
       "    </tr>\n",
       "    <tr>\n",
       "      <th>16</th>\n",
       "      <td>652168688</td>\n",
       "      <td>A warm and fuzzy question! Hugging Face is an ...</td>\n",
       "      <td>2.529687</td>\n",
       "      <td>umd</td>\n",
       "      <td>hugging-quants/Meta-Llama-3.1-70B-Instruct-AWQ...</td>\n",
       "      <td>NaN</td>\n",
       "    </tr>\n",
       "    <tr>\n",
       "      <th>27</th>\n",
       "      <td>2740954635</td>\n",
       "      <td>system\\n\\nYou are a helpful personal assistant...</td>\n",
       "      <td>2.529822</td>\n",
       "      <td>umd</td>\n",
       "      <td>hugging-quants/Meta-Llama-3.1-70B-Instruct-AWQ...</td>\n",
       "      <td>40.393855</td>\n",
       "    </tr>\n",
       "    <tr>\n",
       "      <th>19</th>\n",
       "      <td>1597293371</td>\n",
       "      <td>system\\n\\nYou are a helpful personal assistant...</td>\n",
       "      <td>2.681722</td>\n",
       "      <td>umd</td>\n",
       "      <td>hugging-quants/Meta-Llama-3.1-70B-Instruct-AWQ...</td>\n",
       "      <td>NaN</td>\n",
       "    </tr>\n",
       "    <tr>\n",
       "      <th>16</th>\n",
       "      <td>193910852</td>\n",
       "      <td>The title \"Father of Modern Astronautics\" is o...</td>\n",
       "      <td>2.741273</td>\n",
       "      <td>umd</td>\n",
       "      <td>hugging-quants/Meta-Llama-3.1-70B-Instruct-AWQ...</td>\n",
       "      <td>107.834227</td>\n",
       "    </tr>\n",
       "    <tr>\n",
       "      <th>7</th>\n",
       "      <td>1357737918</td>\n",
       "      <td>It seems like you want to access your webcam u...</td>\n",
       "      <td>2.765050</td>\n",
       "      <td>umd</td>\n",
       "      <td>hugging-quants/Meta-Llama-3.1-70B-Instruct-AWQ...</td>\n",
       "      <td>NaN</td>\n",
       "    </tr>\n",
       "    <tr>\n",
       "      <th>5</th>\n",
       "      <td>78956673</td>\n",
       "      <td>system\\n\\nYou are a helpful personal assistant...</td>\n",
       "      <td>2.789280</td>\n",
       "      <td>umd</td>\n",
       "      <td>hugging-quants/Meta-Llama-3.1-70B-Instruct-AWQ...</td>\n",
       "      <td>87.614381</td>\n",
       "    </tr>\n",
       "    <tr>\n",
       "      <th>37</th>\n",
       "      <td>3480799188</td>\n",
       "      <td>A niche topic! After some quick research, I fo...</td>\n",
       "      <td>2.810109</td>\n",
       "      <td>umd</td>\n",
       "      <td>hugging-quants/Meta-Llama-3.1-70B-Instruct-AWQ...</td>\n",
       "      <td>NaN</td>\n",
       "    </tr>\n",
       "    <tr>\n",
       "      <th>11</th>\n",
       "      <td>3554528113</td>\n",
       "      <td>Mamba can refer to different things, but here ...</td>\n",
       "      <td>2.926254</td>\n",
       "      <td>umd</td>\n",
       "      <td>hugging-quants/Meta-Llama-3.1-70B-Instruct-AWQ...</td>\n",
       "      <td>73.309257</td>\n",
       "    </tr>\n",
       "    <tr>\n",
       "      <th>35</th>\n",
       "      <td>1799741625</td>\n",
       "      <td>Creating a TikTok scraper bot in Go! That's an...</td>\n",
       "      <td>3.139320</td>\n",
       "      <td>umd</td>\n",
       "      <td>hugging-quants/Meta-Llama-3.1-70B-Instruct-AWQ...</td>\n",
       "      <td>NaN</td>\n",
       "    </tr>\n",
       "    <tr>\n",
       "      <th>10</th>\n",
       "      <td>984857340</td>\n",
       "      <td>I'd love to give it a try\\nHere's a quick rhym...</td>\n",
       "      <td>3.333333</td>\n",
       "      <td>umd</td>\n",
       "      <td>hugging-quants/Meta-Llama-3.1-70B-Instruct-AWQ...</td>\n",
       "      <td>NaN</td>\n",
       "    </tr>\n",
       "  </tbody>\n",
       "</table>\n",
       "</div>"
      ],
      "text/plain": [
       "            id                                               text    zscore  \\\n",
       "0   2467656814  I cannot provide information or guidance on il...  0.000000   \n",
       "9   1717147012  I cannot assist you with developing malicious ...  0.662266   \n",
       "1   2046128425  It seems like I don't have any initial instruc...  0.991837   \n",
       "3     59824387  I cannot provide information or guidance on ma...  1.385870   \n",
       "24   240259792  Here is a sample letter you can use as a templ...  1.614366   \n",
       "66  1784954473  Living in Austria is a dream come true for man...  1.749837   \n",
       "28   808411944  After some quick research, I found that no, ac...  1.933322   \n",
       "26   320070813  Actually, I think you may be mistaken. Vincent...  2.240448   \n",
       "30  1827179908  To calculate that expression, I'll follow the ...  2.319004   \n",
       "29   514298844  I'd be happy to help you solve the equation.\\n...  2.434830   \n",
       "16   652168688  A warm and fuzzy question! Hugging Face is an ...  2.529687   \n",
       "27  2740954635  system\\n\\nYou are a helpful personal assistant...  2.529822   \n",
       "19  1597293371  system\\n\\nYou are a helpful personal assistant...  2.681722   \n",
       "16   193910852  The title \"Father of Modern Astronautics\" is o...  2.741273   \n",
       "7   1357737918  It seems like you want to access your webcam u...  2.765050   \n",
       "5     78956673  system\\n\\nYou are a helpful personal assistant...  2.789280   \n",
       "37  3480799188  A niche topic! After some quick research, I fo...  2.810109   \n",
       "11  3554528113  Mamba can refer to different things, but here ...  2.926254   \n",
       "35  1799741625  Creating a TikTok scraper bot in Go! That's an...  3.139320   \n",
       "10   984857340  I'd love to give it a try\\nHere's a quick rhym...  3.333333   \n",
       "\n",
       "   watermarking_scheme                                              model  \\\n",
       "0                  umd  hugging-quants/Meta-Llama-3.1-70B-Instruct-AWQ...   \n",
       "9                  umd  hugging-quants/Meta-Llama-3.1-70B-Instruct-AWQ...   \n",
       "1                  umd  hugging-quants/Meta-Llama-3.1-70B-Instruct-AWQ...   \n",
       "3                  umd  hugging-quants/Meta-Llama-3.1-70B-Instruct-AWQ...   \n",
       "24                 umd  hugging-quants/Meta-Llama-3.1-70B-Instruct-AWQ...   \n",
       "66                 umd  hugging-quants/Meta-Llama-3.1-70B-Instruct-AWQ...   \n",
       "28                 umd  hugging-quants/Meta-Llama-3.1-70B-Instruct-AWQ...   \n",
       "26                 umd  hugging-quants/Meta-Llama-3.1-70B-Instruct-AWQ...   \n",
       "30                 umd  hugging-quants/Meta-Llama-3.1-70B-Instruct-AWQ...   \n",
       "29                 umd  hugging-quants/Meta-Llama-3.1-70B-Instruct-AWQ...   \n",
       "16                 umd  hugging-quants/Meta-Llama-3.1-70B-Instruct-AWQ...   \n",
       "27                 umd  hugging-quants/Meta-Llama-3.1-70B-Instruct-AWQ...   \n",
       "19                 umd  hugging-quants/Meta-Llama-3.1-70B-Instruct-AWQ...   \n",
       "16                 umd  hugging-quants/Meta-Llama-3.1-70B-Instruct-AWQ...   \n",
       "7                  umd  hugging-quants/Meta-Llama-3.1-70B-Instruct-AWQ...   \n",
       "5                  umd  hugging-quants/Meta-Llama-3.1-70B-Instruct-AWQ...   \n",
       "37                 umd  hugging-quants/Meta-Llama-3.1-70B-Instruct-AWQ...   \n",
       "11                 umd  hugging-quants/Meta-Llama-3.1-70B-Instruct-AWQ...   \n",
       "35                 umd  hugging-quants/Meta-Llama-3.1-70B-Instruct-AWQ...   \n",
       "10                 umd  hugging-quants/Meta-Llama-3.1-70B-Instruct-AWQ...   \n",
       "\n",
       "          time  \n",
       "0    12.018219  \n",
       "9          NaN  \n",
       "1          NaN  \n",
       "3          NaN  \n",
       "24         NaN  \n",
       "66         NaN  \n",
       "28   80.353861  \n",
       "26   29.120406  \n",
       "30   51.221244  \n",
       "29   58.013526  \n",
       "16         NaN  \n",
       "27   40.393855  \n",
       "19         NaN  \n",
       "16  107.834227  \n",
       "7          NaN  \n",
       "5    87.614381  \n",
       "37         NaN  \n",
       "11   73.309257  \n",
       "35         NaN  \n",
       "10         NaN  "
      ]
     },
     "execution_count": 13,
     "metadata": {},
     "output_type": "execute_result"
    }
   ],
   "source": [
    "df.head(20)"
   ]
  },
  {
   "cell_type": "code",
   "execution_count": null,
   "metadata": {},
   "outputs": [],
   "source": []
  },
  {
   "cell_type": "code",
   "execution_count": 14,
   "metadata": {},
   "outputs": [
    {
     "data": {
      "text/plain": [
       "132"
      ]
     },
     "execution_count": 14,
     "metadata": {},
     "output_type": "execute_result"
    }
   ],
   "source": [
    "df = df[df['zscore'] > 3]\n",
    "len(df)"
   ]
  },
  {
   "cell_type": "code",
   "execution_count": 13,
   "metadata": {},
   "outputs": [],
   "source": [
    "df.to_csv('./data/WQE/temp_dev_watermarked.csv')"
   ]
  },
  {
   "cell_type": "markdown",
   "metadata": {},
   "source": [
    "## UMD Llama3.1 Test Generations"
   ]
  },
  {
   "cell_type": "code",
   "execution_count": 1,
   "metadata": {},
   "outputs": [],
   "source": [
    "import pandas as pd\n",
    "\n",
    "df1 = pd.read_csv('/local1/borito1907/impossibility-watermark/inputs/umd_test_llama31_1/watermarked_texts.csv')\n",
    "df2 = pd.read_csv('inputs/umd_test_llama31_2/watermarked_texts.csv')\n",
    "df3 = pd.read_csv('/local1/borito1907/impossibility-watermark/inputs/umd_test_llama31_3/watermarked_texts.csv')\n",
    "df4 = pd.read_csv('/local1/borito1907/impossibility-watermark/inputs/umd_test_llama31_4/watermarked_texts.csv')\n",
    "\n",
    "df = pd.concat([df1,df2,df3,df4], axis=0)"
   ]
  },
  {
   "cell_type": "code",
   "execution_count": 2,
   "metadata": {},
   "outputs": [
    {
     "data": {
      "text/plain": [
       "1210"
      ]
     },
     "execution_count": 2,
     "metadata": {},
     "output_type": "execute_result"
    }
   ],
   "source": [
    "len(df)"
   ]
  },
  {
   "cell_type": "code",
   "execution_count": 18,
   "metadata": {},
   "outputs": [
    {
     "data": {
      "text/plain": [
       "150"
      ]
     },
     "execution_count": 18,
     "metadata": {},
     "output_type": "execute_result"
    }
   ],
   "source": [
    "df = pd.read_csv('/local1/borito1907/impossibility-watermark/inputs/umd_llama31_dev_first_round_2.csv')\n",
    "len(df)"
   ]
  },
  {
   "cell_type": "code",
   "execution_count": 21,
   "metadata": {},
   "outputs": [
    {
     "data": {
      "text/html": [
       "<div>\n",
       "<style scoped>\n",
       "    .dataframe tbody tr th:only-of-type {\n",
       "        vertical-align: middle;\n",
       "    }\n",
       "\n",
       "    .dataframe tbody tr th {\n",
       "        vertical-align: top;\n",
       "    }\n",
       "\n",
       "    .dataframe thead th {\n",
       "        text-align: right;\n",
       "    }\n",
       "</style>\n",
       "<table border=\"1\" class=\"dataframe\">\n",
       "  <thead>\n",
       "    <tr style=\"text-align: right;\">\n",
       "      <th></th>\n",
       "      <th>id</th>\n",
       "      <th>text</th>\n",
       "      <th>zscore</th>\n",
       "      <th>watermarking_scheme</th>\n",
       "      <th>model</th>\n",
       "    </tr>\n",
       "  </thead>\n",
       "  <tbody>\n",
       "    <tr>\n",
       "      <th>11</th>\n",
       "      <td>2740954635</td>\n",
       "      <td>The answer to this classic riddle is not becau...</td>\n",
       "      <td>3.613328</td>\n",
       "      <td>umd</td>\n",
       "      <td>hugging-quants/Meta-Llama-3.1-70B-Instruct-AWQ...</td>\n",
       "    </tr>\n",
       "    <tr>\n",
       "      <th>12</th>\n",
       "      <td>1597293371</td>\n",
       "      <td>Here is the C program:\\n```c\\n#include &lt;Window...</td>\n",
       "      <td>3.050636</td>\n",
       "      <td>umd</td>\n",
       "      <td>hugging-quants/Meta-Llama-3.1-70B-Instruct-AWQ...</td>\n",
       "    </tr>\n",
       "    <tr>\n",
       "      <th>15</th>\n",
       "      <td>78956673</td>\n",
       "      <td>In Frank Herbert's classic science fiction nov...</td>\n",
       "      <td>3.346872</td>\n",
       "      <td>umd</td>\n",
       "      <td>hugging-quants/Meta-Llama-3.1-70B-Instruct-AWQ...</td>\n",
       "    </tr>\n",
       "    <tr>\n",
       "      <th>18</th>\n",
       "      <td>1799741625</td>\n",
       "      <td>Creating a TikTok scraper bot in Go! That's an...</td>\n",
       "      <td>3.139320</td>\n",
       "      <td>umd</td>\n",
       "      <td>hugging-quants/Meta-Llama-3.1-70B-Instruct-AWQ...</td>\n",
       "    </tr>\n",
       "    <tr>\n",
       "      <th>19</th>\n",
       "      <td>984857340</td>\n",
       "      <td>I'd love to give it a try\\nHere's a quick rhym...</td>\n",
       "      <td>3.333333</td>\n",
       "      <td>umd</td>\n",
       "      <td>hugging-quants/Meta-Llama-3.1-70B-Instruct-AWQ...</td>\n",
       "    </tr>\n",
       "    <tr>\n",
       "      <th>...</th>\n",
       "      <td>...</td>\n",
       "      <td>...</td>\n",
       "      <td>...</td>\n",
       "      <td>...</td>\n",
       "      <td>...</td>\n",
       "    </tr>\n",
       "    <tr>\n",
       "      <th>145</th>\n",
       "      <td>1586391092</td>\n",
       "      <td>Malaysia, officially known as the Federation o...</td>\n",
       "      <td>14.640326</td>\n",
       "      <td>umd</td>\n",
       "      <td>hugging-quants/Meta-Llama-3.1-70B-Instruct-AWQ...</td>\n",
       "    </tr>\n",
       "    <tr>\n",
       "      <th>146</th>\n",
       "      <td>2753526163</td>\n",
       "      <td>The Five Nights at Freddy's (FNAF) lore is a c...</td>\n",
       "      <td>15.363251</td>\n",
       "      <td>umd</td>\n",
       "      <td>hugging-quants/Meta-Llama-3.1-70B-Instruct-AWQ...</td>\n",
       "    </tr>\n",
       "    <tr>\n",
       "      <th>147</th>\n",
       "      <td>2686573247</td>\n",
       "      <td>**Mortgage Sales Roleplay Script**\\n\\n**Sales ...</td>\n",
       "      <td>16.296862</td>\n",
       "      <td>umd</td>\n",
       "      <td>hugging-quants/Meta-Llama-3.1-70B-Instruct-AWQ...</td>\n",
       "    </tr>\n",
       "    <tr>\n",
       "      <th>148</th>\n",
       "      <td>812682245</td>\n",
       "      <td>To evaluate this expression, I'll follow the o...</td>\n",
       "      <td>16.660065</td>\n",
       "      <td>umd</td>\n",
       "      <td>hugging-quants/Meta-Llama-3.1-70B-Instruct-AWQ...</td>\n",
       "    </tr>\n",
       "    <tr>\n",
       "      <th>149</th>\n",
       "      <td>2480759274</td>\n",
       "      <td>The Silmarillion is an epic work of fantasy by...</td>\n",
       "      <td>19.200148</td>\n",
       "      <td>umd</td>\n",
       "      <td>hugging-quants/Meta-Llama-3.1-70B-Instruct-AWQ...</td>\n",
       "    </tr>\n",
       "  </tbody>\n",
       "</table>\n",
       "<p>135 rows × 5 columns</p>\n",
       "</div>"
      ],
      "text/plain": [
       "             id                                               text     zscore  \\\n",
       "11   2740954635  The answer to this classic riddle is not becau...   3.613328   \n",
       "12   1597293371  Here is the C program:\\n```c\\n#include <Window...   3.050636   \n",
       "15     78956673  In Frank Herbert's classic science fiction nov...   3.346872   \n",
       "18   1799741625  Creating a TikTok scraper bot in Go! That's an...   3.139320   \n",
       "19    984857340  I'd love to give it a try\\nHere's a quick rhym...   3.333333   \n",
       "..          ...                                                ...        ...   \n",
       "145  1586391092  Malaysia, officially known as the Federation o...  14.640326   \n",
       "146  2753526163  The Five Nights at Freddy's (FNAF) lore is a c...  15.363251   \n",
       "147  2686573247  **Mortgage Sales Roleplay Script**\\n\\n**Sales ...  16.296862   \n",
       "148   812682245  To evaluate this expression, I'll follow the o...  16.660065   \n",
       "149  2480759274  The Silmarillion is an epic work of fantasy by...  19.200148   \n",
       "\n",
       "    watermarking_scheme                                              model  \n",
       "11                  umd  hugging-quants/Meta-Llama-3.1-70B-Instruct-AWQ...  \n",
       "12                  umd  hugging-quants/Meta-Llama-3.1-70B-Instruct-AWQ...  \n",
       "15                  umd  hugging-quants/Meta-Llama-3.1-70B-Instruct-AWQ...  \n",
       "18                  umd  hugging-quants/Meta-Llama-3.1-70B-Instruct-AWQ...  \n",
       "19                  umd  hugging-quants/Meta-Llama-3.1-70B-Instruct-AWQ...  \n",
       "..                  ...                                                ...  \n",
       "145                 umd  hugging-quants/Meta-Llama-3.1-70B-Instruct-AWQ...  \n",
       "146                 umd  hugging-quants/Meta-Llama-3.1-70B-Instruct-AWQ...  \n",
       "147                 umd  hugging-quants/Meta-Llama-3.1-70B-Instruct-AWQ...  \n",
       "148                 umd  hugging-quants/Meta-Llama-3.1-70B-Instruct-AWQ...  \n",
       "149                 umd  hugging-quants/Meta-Llama-3.1-70B-Instruct-AWQ...  \n",
       "\n",
       "[135 rows x 5 columns]"
      ]
     },
     "execution_count": 21,
     "metadata": {},
     "output_type": "execute_result"
    }
   ],
   "source": [
    "dff = df[df['zscore'] > 3]\n",
    "dff"
   ]
  },
  {
   "cell_type": "code",
   "execution_count": null,
   "metadata": {},
   "outputs": [],
   "source": []
  }
 ],
 "metadata": {
  "kernelspec": {
   "display_name": "watermark",
   "language": "python",
   "name": "python3"
  },
  "language_info": {
   "codemirror_mode": {
    "name": "ipython",
    "version": 3
   },
   "file_extension": ".py",
   "mimetype": "text/x-python",
   "name": "python",
   "nbconvert_exporter": "python",
   "pygments_lexer": "ipython3",
   "version": "3.10.14"
  }
 },
 "nbformat": 4,
 "nbformat_minor": 2
}
