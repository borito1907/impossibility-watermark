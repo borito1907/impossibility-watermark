{
 "cells": [
  {
   "cell_type": "code",
   "execution_count": 1,
   "metadata": {},
   "outputs": [],
   "source": [
    "import pandas as pd"
   ]
  },
  {
   "cell_type": "code",
   "execution_count": 3,
   "metadata": {},
   "outputs": [],
   "source": [
    "folders = [f\"umd_test_{partition}\" for partition in range(1,8)]\n",
    "\n",
    "dfs = []\n",
    "\n",
    "for folder in folders:\n",
    "    path = f\"/local1/borito1907/impossibility-watermark/inputs/{folder}/stripped_watermarked_texts.csv\"\n",
    "    df = pd.read_csv(path)\n",
    "    dfs.append(df)"
   ]
  },
  {
   "cell_type": "code",
   "execution_count": 4,
   "metadata": {},
   "outputs": [
    {
     "data": {
      "text/html": [
       "<div>\n",
       "<style scoped>\n",
       "    .dataframe tbody tr th:only-of-type {\n",
       "        vertical-align: middle;\n",
       "    }\n",
       "\n",
       "    .dataframe tbody tr th {\n",
       "        vertical-align: top;\n",
       "    }\n",
       "\n",
       "    .dataframe thead th {\n",
       "        text-align: right;\n",
       "    }\n",
       "</style>\n",
       "<table border=\"1\" class=\"dataframe\">\n",
       "  <thead>\n",
       "    <tr style=\"text-align: right;\">\n",
       "      <th></th>\n",
       "      <th>id</th>\n",
       "      <th>text</th>\n",
       "      <th>zscore</th>\n",
       "      <th>watermarking_scheme</th>\n",
       "      <th>model</th>\n",
       "    </tr>\n",
       "  </thead>\n",
       "  <tbody>\n",
       "    <tr>\n",
       "      <th>0</th>\n",
       "      <td>3572451762</td>\n",
       "      <td>As soon as Emma walked into the room, not-so-q...</td>\n",
       "      <td>16.684628</td>\n",
       "      <td>umd</td>\n",
       "      <td>MaziyarPanahi/Meta-Llama-3-70B-Instruct-GPTQ</td>\n",
       "    </tr>\n",
       "    <tr>\n",
       "      <th>1</th>\n",
       "      <td>4215775875</td>\n",
       "      <td>In F. Scott Fitzgerald's The Great Gatsby,, tw...</td>\n",
       "      <td>16.189910</td>\n",
       "      <td>umd</td>\n",
       "      <td>MaziyarPanahi/Meta-Llama-3-70B-Instruct-GPTQ</td>\n",
       "    </tr>\n",
       "    <tr>\n",
       "      <th>2</th>\n",
       "      <td>1153169536</td>\n",
       "      <td>'think I can do that at all,, you're asking me...</td>\n",
       "      <td>15.990975</td>\n",
       "      <td>umd</td>\n",
       "      <td>MaziyarPanahi/Meta-Llama-3-70B-Instruct-GPTQ</td>\n",
       "    </tr>\n",
       "    <tr>\n",
       "      <th>3</th>\n",
       "      <td>4263936275</td>\n",
       "      <td>Whiskers,'thecuriouscat,livedinapet-friendlyap...</td>\n",
       "      <td>15.224442</td>\n",
       "      <td>umd</td>\n",
       "      <td>MaziyarPanahi/Meta-Llama-3-70B-Instruct-GPTQ</td>\n",
       "    </tr>\n",
       "    <tr>\n",
       "      <th>4</th>\n",
       "      <td>2769527133</td>\n",
       "      <td>In the captivating and thought-provoking game,...</td>\n",
       "      <td>14.553392</td>\n",
       "      <td>umd</td>\n",
       "      <td>MaziyarPanahi/Meta-Llama-3-70B-Instruct-GPTQ</td>\n",
       "    </tr>\n",
       "  </tbody>\n",
       "</table>\n",
       "</div>"
      ],
      "text/plain": [
       "           id                                               text     zscore  \\\n",
       "0  3572451762  As soon as Emma walked into the room, not-so-q...  16.684628   \n",
       "1  4215775875  In F. Scott Fitzgerald's The Great Gatsby,, tw...  16.189910   \n",
       "2  1153169536  'think I can do that at all,, you're asking me...  15.990975   \n",
       "3  4263936275  Whiskers,'thecuriouscat,livedinapet-friendlyap...  15.224442   \n",
       "4  2769527133  In the captivating and thought-provoking game,...  14.553392   \n",
       "\n",
       "  watermarking_scheme                                         model  \n",
       "0                 umd  MaziyarPanahi/Meta-Llama-3-70B-Instruct-GPTQ  \n",
       "1                 umd  MaziyarPanahi/Meta-Llama-3-70B-Instruct-GPTQ  \n",
       "2                 umd  MaziyarPanahi/Meta-Llama-3-70B-Instruct-GPTQ  \n",
       "3                 umd  MaziyarPanahi/Meta-Llama-3-70B-Instruct-GPTQ  \n",
       "4                 umd  MaziyarPanahi/Meta-Llama-3-70B-Instruct-GPTQ  "
      ]
     },
     "execution_count": 4,
     "metadata": {},
     "output_type": "execute_result"
    }
   ],
   "source": [
    "combined_df = pd.concat(dfs)\n",
    "max_df = combined_df.sort_values('zscore', ascending=False).drop_duplicates('id')\n",
    "max_df = max_df.reset_index(drop=True)\n",
    "min_df = combined_df.sort_values('zscore', ascending=True).drop_duplicates('id')\n",
    "min_df = min_df.reset_index(drop=True)\n",
    "\n",
    "max_df.head()"
   ]
  },
  {
   "cell_type": "code",
   "execution_count": 5,
   "metadata": {},
   "outputs": [],
   "source": [
    "# max_df.to_csv(\"./inputs/semstamp_max.csv\")"
   ]
  },
  {
   "cell_type": "code",
   "execution_count": 6,
   "metadata": {},
   "outputs": [
    {
     "data": {
      "text/plain": [
       "1237"
      ]
     },
     "execution_count": 6,
     "metadata": {},
     "output_type": "execute_result"
    }
   ],
   "source": [
    "len(max_df[max_df['zscore'] >= 3])"
   ]
  },
  {
   "cell_type": "code",
   "execution_count": 7,
   "metadata": {},
   "outputs": [
    {
     "data": {
      "text/plain": [
       "1337"
      ]
     },
     "execution_count": 7,
     "metadata": {},
     "output_type": "execute_result"
    }
   ],
   "source": [
    "len(max_df[max_df['zscore'] >= 2])"
   ]
  },
  {
   "cell_type": "code",
   "execution_count": 8,
   "metadata": {},
   "outputs": [
    {
     "data": {
      "text/plain": [
       "1400"
      ]
     },
     "execution_count": 8,
     "metadata": {},
     "output_type": "execute_result"
    }
   ],
   "source": [
    "len(max_df[max_df['zscore'] >= 0.5])"
   ]
  },
  {
   "cell_type": "code",
   "execution_count": 9,
   "metadata": {},
   "outputs": [
    {
     "name": "stdout",
     "output_type": "stream",
     "text": [
      "Merged DataFrame:\n",
      "              id                                           text_df1  \\\n",
      "0     3541296111  Nostalgia! The lyrics to the \"Arthur\" theme so...   \n",
      "1      932846677  Here is a simple Python code for a calculator:...   \n",
      "2      915355120  Let's break it down step by step:\\n\\n**Equatio...   \n",
      "3     1451922783  Traditional Greek Apple Pie, also known as \"Mi...   \n",
      "4     4174542085  The average distance from Earth to Pluto is ab...   \n",
      "...          ...                                                ...   \n",
      "1395  2769527133  In the captivating and thought-provoking game,...   \n",
      "1396  4263936275  Whiskers,'thecuriouscat,livedinapet-friendlyap...   \n",
      "1397  1153169536  'think I can do that at all,, you're asking me...   \n",
      "1398  4215775875  In F. Scott Fitzgerald's The Great Gatsby,, tw...   \n",
      "1399  3572451762  As soon as Emma walked into the room, not-so-q...   \n",
      "\n",
      "      zscore_df1 watermarking_scheme_df1  \\\n",
      "0       0.560772                     umd   \n",
      "1       0.627293                     umd   \n",
      "2       0.667587                     umd   \n",
      "3       0.669150                     umd   \n",
      "4       0.733604                     umd   \n",
      "...          ...                     ...   \n",
      "1395   14.553392                     umd   \n",
      "1396   15.224442                     umd   \n",
      "1397   15.990975                     umd   \n",
      "1398   16.189910                     umd   \n",
      "1399   16.684628                     umd   \n",
      "\n",
      "                                         model_df1  \\\n",
      "0     MaziyarPanahi/Meta-Llama-3-70B-Instruct-GPTQ   \n",
      "1     MaziyarPanahi/Meta-Llama-3-70B-Instruct-GPTQ   \n",
      "2     MaziyarPanahi/Meta-Llama-3-70B-Instruct-GPTQ   \n",
      "3     MaziyarPanahi/Meta-Llama-3-70B-Instruct-GPTQ   \n",
      "4     MaziyarPanahi/Meta-Llama-3-70B-Instruct-GPTQ   \n",
      "...                                            ...   \n",
      "1395  MaziyarPanahi/Meta-Llama-3-70B-Instruct-GPTQ   \n",
      "1396  MaziyarPanahi/Meta-Llama-3-70B-Instruct-GPTQ   \n",
      "1397  MaziyarPanahi/Meta-Llama-3-70B-Instruct-GPTQ   \n",
      "1398  MaziyarPanahi/Meta-Llama-3-70B-Instruct-GPTQ   \n",
      "1399  MaziyarPanahi/Meta-Llama-3-70B-Instruct-GPTQ   \n",
      "\n",
      "                                               text_df2  zscore_df2  \\\n",
      "0     Nostalgia! The lyrics to the \"Arthur\" theme so...    0.560772   \n",
      "1     Here is a simple Python code for a calculator:...    0.627293   \n",
      "2     Let's break it down step by step:\\n\\n**Equatio...    0.667587   \n",
      "3     Traditional Greek Apple Pie, also known as \"Mi...    0.669150   \n",
      "4     The average distance from Earth to Pluto is ab...    0.733604   \n",
      "...                                                 ...         ...   \n",
      "1395  In the captivating and thought-provoking game,...   14.553392   \n",
      "1396  Whiskers,'thecuriouscat,livedinapet-friendlyap...   15.224442   \n",
      "1397  'think I can do that at all,, you're asking me...   15.990975   \n",
      "1398  In F. Scott Fitzgerald's The Great Gatsby,, tw...   16.189910   \n",
      "1399  As soon as Emma walked into the room, not-so-q...   16.684628   \n",
      "\n",
      "     watermarking_scheme_df2                                     model_df2  \\\n",
      "0                        umd  MaziyarPanahi/Meta-Llama-3-70B-Instruct-GPTQ   \n",
      "1                        umd  MaziyarPanahi/Meta-Llama-3-70B-Instruct-GPTQ   \n",
      "2                        umd  MaziyarPanahi/Meta-Llama-3-70B-Instruct-GPTQ   \n",
      "3                        umd  MaziyarPanahi/Meta-Llama-3-70B-Instruct-GPTQ   \n",
      "4                        umd  MaziyarPanahi/Meta-Llama-3-70B-Instruct-GPTQ   \n",
      "...                      ...                                           ...   \n",
      "1395                     umd  MaziyarPanahi/Meta-Llama-3-70B-Instruct-GPTQ   \n",
      "1396                     umd  MaziyarPanahi/Meta-Llama-3-70B-Instruct-GPTQ   \n",
      "1397                     umd  MaziyarPanahi/Meta-Llama-3-70B-Instruct-GPTQ   \n",
      "1398                     umd  MaziyarPanahi/Meta-Llama-3-70B-Instruct-GPTQ   \n",
      "1399                     umd  MaziyarPanahi/Meta-Llama-3-70B-Instruct-GPTQ   \n",
      "\n",
      "      zscore_diff  \n",
      "0             0.0  \n",
      "1             0.0  \n",
      "2             0.0  \n",
      "3             0.0  \n",
      "4             0.0  \n",
      "...           ...  \n",
      "1395          0.0  \n",
      "1396          0.0  \n",
      "1397          0.0  \n",
      "1398          0.0  \n",
      "1399          0.0  \n",
      "\n",
      "[1400 rows x 10 columns]\n",
      "\n",
      "Mean zscore difference:\n",
      "0.0\n"
     ]
    }
   ],
   "source": [
    "# Merge DataFrames on 'id'\n",
    "merged_df = pd.merge(min_df, max_df, on='id', suffixes=('_df1', '_df2'))\n",
    "\n",
    "# Calculate the absolute difference in 'zscore'\n",
    "merged_df['zscore_diff'] = abs(merged_df['zscore_df1'] - merged_df['zscore_df2'])\n",
    "\n",
    "# Find the maximum difference\n",
    "max_diff = merged_df['zscore_diff'].mean()\n",
    "\n",
    "# Result\n",
    "print(\"Merged DataFrame:\")\n",
    "print(merged_df)\n",
    "print(\"\\nMean zscore difference:\")\n",
    "print(max_diff)"
   ]
  },
  {
   "cell_type": "code",
   "execution_count": 10,
   "metadata": {},
   "outputs": [
    {
     "data": {
      "text/plain": [
       "1400"
      ]
     },
     "execution_count": 10,
     "metadata": {},
     "output_type": "execute_result"
    }
   ],
   "source": [
    "len(max_df)"
   ]
  },
  {
   "cell_type": "code",
   "execution_count": null,
   "metadata": {},
   "outputs": [],
   "source": []
  }
 ],
 "metadata": {
  "kernelspec": {
   "display_name": "watermark",
   "language": "python",
   "name": "python3"
  },
  "language_info": {
   "codemirror_mode": {
    "name": "ipython",
    "version": 3
   },
   "file_extension": ".py",
   "mimetype": "text/x-python",
   "name": "python",
   "nbconvert_exporter": "python",
   "pygments_lexer": "ipython3",
   "version": "3.10.14"
  }
 },
 "nbformat": 4,
 "nbformat_minor": 2
}
