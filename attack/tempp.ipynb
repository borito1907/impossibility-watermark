{
 "cells": [
  {
   "cell_type": "code",
   "execution_count": 8,
   "metadata": {},
   "outputs": [],
   "source": [
    "import pandas as pd\n",
    "\n",
    "df = pd.read_csv('/data2/borito1907/impossibility-watermark/inputs/adaptive_dev_neo_delta0.50_1/watermarked_texts.csv')\n",
    "\n",
    "df['text'] = df['text'].apply(lambda x: x.rstrip('<|eot_id|>') if x.endswith('<|eot_id|>') else x)\n",
    "# df.to_csv('/data2/borito1907/impossibility-watermark/data/WQE_adaptive/adaptive_delta_0.5.csv')"
   ]
  },
  {
   "cell_type": "code",
   "execution_count": null,
   "metadata": {},
   "outputs": [],
   "source": []
  }
 ],
 "metadata": {
  "kernelspec": {
   "display_name": "gptq",
   "language": "python",
   "name": "python3"
  },
  "language_info": {
   "codemirror_mode": {
    "name": "ipython",
    "version": 3
   },
   "file_extension": ".py",
   "mimetype": "text/x-python",
   "name": "python",
   "nbconvert_exporter": "python",
   "pygments_lexer": "ipython3",
   "version": "3.10.14"
  }
 },
 "nbformat": 4,
 "nbformat_minor": 2
}
