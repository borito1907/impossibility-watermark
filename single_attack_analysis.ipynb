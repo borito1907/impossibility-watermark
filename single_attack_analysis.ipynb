{
 "cells": [
  {
   "cell_type": "markdown",
   "metadata": {},
   "source": [
    "### Imports and GUI Code"
   ]
  },
  {
   "cell_type": "code",
   "execution_count": 1,
   "metadata": {},
   "outputs": [],
   "source": [
    "import os\n",
    "import pandas as pd\n",
    "import ipywidgets as widgets\n",
    "from IPython.display import display, Markdown\n",
    "\n",
    "# Output widgets for separate displays2\n",
    "info_output_initial = widgets.Output()\n",
    "info_output_last_successful = widgets.Output()\n",
    "\n",
    "# Additional output widget for the CSV overview\n",
    "csv_overview_output = widgets.Output()\n",
    "\n",
    "def construct_filepath(entropy, output_number, attack_id):\n",
    "    return f\"./results/stationary_distribution/robustness_analysis/entropy_{entropy}/output_{output_number}/corpuses/attack_{attack_id}.csv\"\n",
    "\n",
    "def display_csv_overview(entropy, output_number, attack_id, quality_preserved_only, ignore_short_texts):\n",
    "    csv_filepath = construct_filepath(entropy, output_number, attack_id)\n",
    "    with csv_overview_output:\n",
    "        csv_overview_output.clear_output()\n",
    "        if not os.path.exists(csv_filepath):\n",
    "            display(Markdown(f\"**File not found. Please check the inputs and try again.**\"))\n",
    "            return\n",
    "\n",
    "        df = pd.read_csv(csv_filepath)\n",
    "\n",
    "        if quality_preserved_only:\n",
    "            df = df[df['quality_preserved'] == True]\n",
    "        if ignore_short_texts:\n",
    "            df = df[df['mutated_text_len'] >= 0.95 * df['current_text_len']]\n",
    "\n",
    "        display_info = [\n",
    "            f\"**Entropy:** {entropy}, **Output Number:** {output_number}, **Attack Id:** {attack_id}\",\n",
    "            f\"**Starting z-score:** {df.iloc[0]['watermark_score']}\",\n",
    "            f\"**Total perturbation attempts:** {len(df) - 1}\",\n",
    "            f\"**Short length count:** {df[df['mutated_text_len'] < 0.95 * df['current_text_len']].shape[0]}\",\n",
    "            f\"**Quality preserved perturbations:** {df['quality_preserved'].sum()}\",\n",
    "            f\"**Attack successful:** {not df.iloc[-1]['watermark_detected']}\",\n",
    "        ]\n",
    "        \n",
    "        display(Markdown('\\n\\n'.join(display_info)))\n",
    "\n",
    "def highlight_new_words(initial_text, perturbed_text):\n",
    "    initial_words = set(initial_text.split())\n",
    "    perturbed_words = perturbed_text.split()\n",
    "    highlighted_text = ' '.join([f\"<span style='background-color: #ccffcc'>{word}</span>\" if word not in initial_words else word for word in perturbed_words])\n",
    "    return highlighted_text\n",
    "\n",
    "def display_with_initial_version(entropy, output_number, attack_id, perturbation_idx):\n",
    "    csv_filepath = construct_filepath(entropy, output_number, attack_id)\n",
    "    with info_output_initial:\n",
    "        info_output_initial.clear_output()\n",
    "        if not os.path.exists(csv_filepath):\n",
    "            display(Markdown(f\"**File not found. Please check the inputs and try again.**\"))\n",
    "            return\n",
    "\n",
    "        df = pd.read_csv(csv_filepath)\n",
    "        perturbation_idx = int(perturbation_idx) if perturbation_idx.isdigit() else None\n",
    "\n",
    "        if perturbation_idx is not None and 0 <= perturbation_idx < len(df):\n",
    "            initial_text = df.iloc[0]['current_text']\n",
    "            selected_perturbed_text = df.iloc[perturbation_idx]['current_text']\n",
    "            current_diff_highlighted = highlight_new_words(initial_text, selected_perturbed_text)\n",
    "\n",
    "            display_info = [\n",
    "                f\"**Perturbation Index:** {perturbation_idx}\",\n",
    "                f\"**Initial Version:** {initial_text}\",\n",
    "                f\"**Selected Perturbed Version:** {current_diff_highlighted}\",\n",
    "            ]\n",
    "        else:\n",
    "            display_info = [\"**Please enter a valid perturbation index.**\"]\n",
    "\n",
    "        display(Markdown('\\n\\n'.join(display_info)))\n",
    "\n",
    "def display_with_last_successful(entropy, output_number, attack_id, perturbation_idx):\n",
    "    csv_filepath = construct_filepath(entropy, output_number, attack_id)\n",
    "    with info_output_last_successful:\n",
    "        info_output_last_successful.clear_output()\n",
    "        if not os.path.exists(csv_filepath):\n",
    "            display(Markdown(f\"**File not found. Please check the inputs and try again.**\"))\n",
    "            return\n",
    "\n",
    "        df = pd.read_csv(csv_filepath)\n",
    "        perturbation_idx = int(perturbation_idx) if perturbation_idx.isdigit() else None\n",
    "\n",
    "        if perturbation_idx is not None:\n",
    "            # Find the last successful perturbation before the current index\n",
    "            last_success_df = df.iloc[:perturbation_idx][df['quality_preserved'] == True].tail(1)\n",
    "            if not last_success_df.empty:\n",
    "                last_success_text = last_success_df.iloc[0]['mutated_text']\n",
    "                selected_perturbed_text = df.iloc[perturbation_idx]['mutated_text']\n",
    "                initial_text = df.iloc[0]['mutated_text']\n",
    "                last_success_highlighted = highlight_new_words(initial_text, last_success_text)\n",
    "                current_diff_highlighted = highlight_new_words(last_success_text, selected_perturbed_text)\n",
    "\n",
    "                display_info = [\n",
    "                    f\"**Perturbation Index:** {perturbation_idx}\",\n",
    "                    f\"**Last Successful Perturbed Version:** {last_success_highlighted}\",\n",
    "                    f\"**Selected Perturbed Version:** {current_diff_highlighted}\",\n",
    "                ]\n",
    "            else:\n",
    "                display_info = [\"**No successful perturbation found before this index.**\"]\n",
    "        else:\n",
    "            display_info = [\"**Please enter a valid perturbation index.**\"]\n",
    "\n",
    "        display(Markdown('\\n\\n'.join(display_info)))\n",
    "\n",
    "# Widgets for filtering\n",
    "quality_preserved_checkbox = widgets.Checkbox(value=False, description='Quality Preserved Only', disabled=False)\n",
    "ignore_short_texts_checkbox = widgets.Checkbox(value=False, description='Ignore Short Texts', disabled=False)\n",
    "\n",
    "# Widgets for Entropy, Output Number, and Attack Id\n",
    "entropy_input = widgets.IntText(value=0, description='Entropy:', style={'description_width': 'initial'})\n",
    "output_number_input = widgets.IntText(value=0, description='Output Number:', style={'description_width': 'initial'})\n",
    "attack_id_input = widgets.Text(value='', placeholder='Enter Attack Id', description='Attack Id:', style={'description_width': 'initial'})\n",
    "perturbation_idx_input = widgets.Text(value='', placeholder='Enter perturbation index', description='Perturbation Index:', disabled=False, style={'description_width': 'initial'})\n",
    "\n",
    "# Observing changes in the inputs and perturbation index\n",
    "def on_input_change(change):\n",
    "    display_csv_overview(entropy_input.value, output_number_input.value, attack_id_input.value, quality_preserved_checkbox.value, ignore_short_texts_checkbox.value)\n",
    "    display_with_initial_version(entropy_input.value, output_number_input.value, attack_id_input.value, perturbation_idx_input.value)\n",
    "    display_with_last_successful(entropy_input.value, output_number_input.value, attack_id_input.value, perturbation_idx_input.value)\n",
    "\n",
    "entropy_input.observe(on_input_change, names='value')\n",
    "output_number_input.observe(on_input_change, names='value')\n",
    "attack_id_input.observe(on_input_change, names='value')\n",
    "perturbation_idx_input.observe(on_input_change, names='value')\n",
    "quality_preserved_checkbox.observe(on_input_change, names='value')\n",
    "ignore_short_texts_checkbox.observe(on_input_change, names='value')\n",
    "\n",
    "# Display input widgets\n",
    "input_widgets = widgets.VBox([\n",
    "    entropy_input,\n",
    "    output_number_input,\n",
    "    attack_id_input,\n",
    "    perturbation_idx_input,\n",
    "    quality_preserved_checkbox,\n",
    "    ignore_short_texts_checkbox\n",
    "])\n"
   ]
  },
  {
   "cell_type": "markdown",
   "metadata": {},
   "source": [
    "### The Good Stuff"
   ]
  },
  {
   "cell_type": "code",
   "execution_count": 2,
   "metadata": {},
   "outputs": [
    {
     "data": {
      "application/vnd.jupyter.widget-view+json": {
       "model_id": "095d990b9583406994f2064cc1552ba5",
       "version_major": 2,
       "version_minor": 0
      },
      "text/plain": [
       "VBox(children=(IntText(value=0, description='Entropy:', style=DescriptionStyle(description_width='initial')), …"
      ]
     },
     "metadata": {},
     "output_type": "display_data"
    },
    {
     "data": {
      "application/vnd.jupyter.widget-view+json": {
       "model_id": "4dcc5a2feab2431aa3f6008dcf8006af",
       "version_major": 2,
       "version_minor": 0
      },
      "text/plain": [
       "Output()"
      ]
     },
     "metadata": {},
     "output_type": "display_data"
    }
   ],
   "source": [
    "\n",
    "input_widgets = widgets.VBox([entropy_input, output_number_input, attack_id_input, perturbation_idx_input, quality_preserved_checkbox, ignore_short_texts_checkbox])\n",
    "\n",
    "display(input_widgets)\n",
    "display(csv_overview_output)"
   ]
  },
  {
   "cell_type": "code",
   "execution_count": 3,
   "metadata": {},
   "outputs": [
    {
     "data": {
      "application/vnd.jupyter.widget-view+json": {
       "model_id": "fd488311f75e44489b693402067257ed",
       "version_major": 2,
       "version_minor": 0
      },
      "text/plain": [
       "Output()"
      ]
     },
     "metadata": {},
     "output_type": "display_data"
    }
   ],
   "source": [
    "display(info_output_initial)"
   ]
  },
  {
   "cell_type": "code",
   "execution_count": 4,
   "metadata": {},
   "outputs": [
    {
     "data": {
      "application/vnd.jupyter.widget-view+json": {
       "model_id": "8a38973418e24f97a68b48fbd8831237",
       "version_major": 2,
       "version_minor": 0
      },
      "text/plain": [
       "Output()"
      ]
     },
     "metadata": {},
     "output_type": "display_data"
    }
   ],
   "source": [
    "display(info_output_last_successful)"
   ]
  },
  {
   "cell_type": "markdown",
   "metadata": {},
   "source": [
    "## In-Depth Analysis"
   ]
  },
  {
   "cell_type": "code",
   "execution_count": 5,
   "metadata": {},
   "outputs": [],
   "source": [
    "df = pd.read_csv('/local1/borito1907/impossibility-watermark/results/stationary_distribution/robustness_analysis/entropy_5/output_1/corpuses/attack_edit_1.csv')"
   ]
  },
  {
   "cell_type": "code",
   "execution_count": null,
   "metadata": {},
   "outputs": [],
   "source": []
  }
 ],
 "metadata": {
  "kernelspec": {
   "display_name": "watermark",
   "language": "python",
   "name": "python3"
  },
  "language_info": {
   "codemirror_mode": {
    "name": "ipython",
    "version": 3
   },
   "file_extension": ".py",
   "mimetype": "text/x-python",
   "name": "python",
   "nbconvert_exporter": "python",
   "pygments_lexer": "ipython3",
   "version": "3.12.2"
  }
 },
 "nbformat": 4,
 "nbformat_minor": 2
}
