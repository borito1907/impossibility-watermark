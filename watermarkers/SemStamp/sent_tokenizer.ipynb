{
 "cells": [
  {
   "cell_type": "code",
   "execution_count": 3,
   "metadata": {},
   "outputs": [
    {
     "data": {
      "text/plain": [
       "['is THAT what you mean, Mrs. Hussey?']"
      ]
     },
     "execution_count": 3,
     "metadata": {},
     "output_type": "execute_result"
    }
   ],
   "source": [
    "# https://stackoverflow.com/questions/34805790/how-to-avoid-nltks-sentence-tokenizer-splitting-on-abbreviations\n",
    "\n",
    "from nltk.tokenize.punkt import PunktSentenceTokenizer, PunktParameters\n",
    "punkt_param = PunktParameters()\n",
    "punkt_param.abbrev_types = set(['dr', 'vs', 'mr', 'mrs', 'prof', 'inc'])\n",
    "sentence_splitter = PunktSentenceTokenizer(punkt_param)\n",
    "text = \"is THAT what you mean, Mrs. Hussey?\"\n",
    "sentences = sentence_splitter.tokenize(text)\n",
    "\n",
    "sentences"
   ]
  },
  {
   "cell_type": "code",
   "execution_count": 7,
   "metadata": {},
   "outputs": [
    {
     "data": {
      "text/plain": [
       "['The main responsibilities of a U.S. Senator include:\\n\\n1.',\n",
       " '**Lawmaking**: Senators introduce, with representatives from the House and co-sponsor bills that become laws.',\n",
       " 'They debate, a bill in committee and on the Senate floor before voting.',\n",
       " '2.',\n",
       " \"**Representing Constituents**: Each senator represents the interests of their state's residents by listening to their concerns,199,, considerations in making informed decisions.\",\n",
       " '3.',\n",
       " '**Committee Work**: Senators serve in committees to discuss bills, issues, and hold hearings or investigations that are related in one specialized issue like agriculture justice or financial services.',\n",
       " '4.',\n",
       " '**Budget Approval**: The Congressional power giving them authority over government spending  federal budget  passed.',\n",
       " '5.',\n",
       " '**Consent/Advice**: Senators must agree appointments federal judges ambassadors Cabinet-level secretary as well President nominates.',\n",
       " '(Note: Some wording modifications have been made for improved readability.',\n",
       " ')assistant\\n\\nThe main responsibilities of a U.S. Senator include:\\n\\n\\n1.',\n",
       " '**Lawmaking**: Senators introduce bills, co-sponsor legislation with representatives from the House, and engage in debates in committee and on the Senate floor before voting.',\n",
       " '2.',\n",
       " \"**Representing Constituents**: Each senator represents the interests of their state's residents by listening to their concerns, considering constituent feedback, and keeping in mind local needs when making informed decisions.\"]"
      ]
     },
     "execution_count": 7,
     "metadata": {},
     "output_type": "execute_result"
    }
   ],
   "source": [
    "from nltk.tokenize.punkt import PunktSentenceTokenizer, PunktParameters\n",
    "punkt_param = PunktParameters()\n",
    "punkt_param.abbrev_types = set(['dr', 'vs', 'mr', 'mrs', 'prof', 'inc', \"u.s.a\", \"u.s\"])\n",
    "sentence_splitter = PunktSentenceTokenizer(punkt_param)\n",
    "\n",
    "list_txt = \"\"\"The main responsibilities of a U.S. Senator include:\n",
    "\n",
    "1. **Lawmaking**: Senators introduce, with representatives from the House and co-sponsor bills that become laws. They debate, a bill in committee and on the Senate floor before voting.\n",
    "2. **Representing Constituents**: Each senator represents the interests of their state's residents by listening to their concerns,199,, considerations in making informed decisions.\n",
    "3. **Committee Work**: Senators serve in committees to discuss bills, issues, and hold hearings or investigations that are related in one specialized issue like agriculture justice or financial services. \n",
    "4. **Budget Approval**: The Congressional power giving them authority over government spending  federal budget  passed.\n",
    "5. **Consent/Advice**: Senators must agree appointments federal judges ambassadors Cabinet-level secretary as well President nominates.\n",
    "\n",
    "(Note: Some wording modifications have been made for improved readability.)assistant\n",
    "\n",
    "The main responsibilities of a U.S. Senator include:\n",
    "\n",
    "\n",
    "1. **Lawmaking**: Senators introduce bills, co-sponsor legislation with representatives from the House, and engage in debates in committee and on the Senate floor before voting.\n",
    "\n",
    "\n",
    "2. **Representing Constituents**: Each senator represents the interests of their state's residents by listening to their concerns, considering constituent feedback, and keeping in mind local needs when making informed decisions.\"\"\"\n",
    "\n",
    "sentences = sentence_splitter.tokenize(list_txt)\n",
    "\n",
    "sentences "
   ]
  },
  {
   "cell_type": "code",
   "execution_count": 9,
   "metadata": {},
   "outputs": [
    {
     "data": {
      "text/plain": [
       "['The main responsibilities of a U.S. Senator include:\\n\\n1.',\n",
       " '1. **Lawmaking**: Senators introduce, with representatives from the House and co-sponsor bills that become laws.',\n",
       " 'They debate, a bill in committee and on the Senate floor before voting.',\n",
       " '2.',\n",
       " \"2. **Representing Constituents**: Each senator represents the interests of their state's residents by listening to their concerns,199,, considerations in making informed decisions.\",\n",
       " '3.',\n",
       " '3. **Committee Work**: Senators serve in committees to discuss bills, issues, and hold hearings or investigations that are related in one specialized issue like agriculture justice or financial services.',\n",
       " '4.',\n",
       " '4. **Budget Approval**: The Congressional power giving them authority over government spending  federal budget  passed.',\n",
       " '5.',\n",
       " '5. **Consent/Advice**: Senators must agree appointments federal judges ambassadors Cabinet-level secretary as well President nominates.',\n",
       " '(Note: Some wording modifications have been made for improved readability.',\n",
       " ')assistant\\n\\nThe main responsibilities of a U.S. Senator include:\\n\\n\\n1.',\n",
       " '6. **Lawmaking**: Senators introduce bills, co-sponsor legislation with representatives from the House, and engage in debates in committee and on the Senate floor before voting.',\n",
       " '2.',\n",
       " \"7. **Representing Constituents**: Each senator represents the interests of their state's residents by listening to their concerns, considering constituent feedback, and keeping in mind local needs when making informed decisions.\"]"
      ]
     },
     "execution_count": 9,
     "metadata": {},
     "output_type": "execute_result"
    }
   ],
   "source": [
    "def parse_sentences(sentences):\n",
    "    \n",
    "\n",
    "processed_sentences = add_digits_to_sentences(sentences)\n",
    "processed_sentences\n"
   ]
  },
  {
   "cell_type": "code",
   "execution_count": 10,
   "metadata": {},
   "outputs": [
    {
     "data": {
      "text/plain": [
       "['The main responsibilities of a U.S. Senator include:\\n\\n1.',\n",
       " '**Lawmaking**: Senators introduce, with representatives from the House and co-sponsor bills that become laws.',\n",
       " 'They debate, a bill in committee and on the Senate floor before voting.',\n",
       " \"2. **Representing Constituents**: Each senator represents the interests of their state's residents by listening to their concerns,199,, considerations in making informed decisions.\",\n",
       " '3. **Committee Work**: Senators serve in committees to discuss bills, issues, and hold hearings or investigations that are related in one specialized issue like agriculture justice or financial services.',\n",
       " '4. **Budget Approval**: The Congressional power giving them authority over government spending  federal budget  passed.',\n",
       " '5. **Consent/Advice**: Senators must agree appointments federal judges ambassadors Cabinet-level secretary as well President nominates.',\n",
       " '(Note: Some wording modifications have been made for improved readability.',\n",
       " ')assistant\\n\\nThe main responsibilities of a U.S. Senator include:\\n\\n\\n1.',\n",
       " '**Lawmaking**: Senators introduce bills, co-sponsor legislation with representatives from the House, and engage in debates in committee and on the Senate floor before voting.',\n",
       " \"2. **Representing Constituents**: Each senator represents the interests of their state's residents by listening to their concerns, considering constituent feedback, and keeping in mind local needs when making informed decisions.\"]"
      ]
     },
     "execution_count": 10,
     "metadata": {},
     "output_type": "execute_result"
    }
   ],
   "source": [
    "import re\n",
    "\n",
    "def handle_bullet_points(sentences):\n",
    "    new_sentences = []\n",
    "    digit_pattern = re.compile(r'^\\d+\\.$')\n",
    "    \n",
    "    i = 0\n",
    "    while i < len(sentences) - 1:\n",
    "        if digit_pattern.match(sentences[i].strip()):\n",
    "            new_sentences.append(f'{sentences[i].strip()} {sentences[i + 1]}')\n",
    "            i += 1  # Skip the next element as it's already added\n",
    "        else:\n",
    "            new_sentences.append(sentences[i])\n",
    "        i += 1\n",
    "    \n",
    "    return new_sentences\n",
    "\n",
    "new_sentences = add_digits_to_sentences(sentences)\n",
    "new_sentences"
   ]
  },
  {
   "cell_type": "code",
   "execution_count": null,
   "metadata": {},
   "outputs": [],
   "source": []
  }
 ],
 "metadata": {
  "kernelspec": {
   "display_name": "watermark",
   "language": "python",
   "name": "python3"
  },
  "language_info": {
   "codemirror_mode": {
    "name": "ipython",
    "version": 3
   },
   "file_extension": ".py",
   "mimetype": "text/x-python",
   "name": "python",
   "nbconvert_exporter": "python",
   "pygments_lexer": "ipython3",
   "version": "3.10.14"
  }
 },
 "nbformat": 4,
 "nbformat_minor": 2
}
