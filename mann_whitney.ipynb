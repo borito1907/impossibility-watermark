{
 "cells": [
  {
   "cell_type": "code",
   "execution_count": 1,
   "metadata": {},
   "outputs": [
    {
     "name": "stderr",
     "output_type": "stream",
     "text": [
      "[nltk_data] Downloading package benepar_en3 to\n",
      "[nltk_data]     /home/borito1907/nltk_data...\n",
      "[nltk_data]   Package benepar_en3 is already up-to-date!\n"
     ]
    }
   ],
   "source": [
    "import re\n",
    "import json\n",
    "import pandas as pd\n",
    "import matplotlib.pyplot as plt\n",
    "import os\n",
    "from datetime import datetime, timedelta\n",
    "from diversity_oracle import DiversityOracle\n",
    "from utils import save_to_csv"
   ]
  },
  {
   "cell_type": "code",
   "execution_count": 2,
   "metadata": {},
   "outputs": [],
   "source": [
    "import numpy as np\n",
    "from scipy.stats import mannwhitneyu\n",
    "\n",
    "def compute_mann_whitney_u(scores, window1_size, window2_size):\n",
    "    \"\"\"\n",
    "    Computes the Mann-Whitney U test statistic and p-value between two sliding windows of scores.\n",
    "    \n",
    "    Args:\n",
    "        scores (list or np.array): A list or array of scores.\n",
    "        window1_size (int): The size of the first window.\n",
    "        window2_size (int): The size of the second window.\n",
    "        \n",
    "    Returns:\n",
    "        tuple: A tuple containing the U statistic and the p-value.\n",
    "    \"\"\"\n",
    "    # Ensure that the input is a numpy array\n",
    "    scores = np.array(scores)\n",
    "    \n",
    "    # Compute the number of scores\n",
    "    num_scores = len(scores)\n",
    "    \n",
    "    # Check if the windows are valid\n",
    "    if window1_size + window2_size != num_scores:\n",
    "        raise ValueError(\"The sum of the window sizes should be equal to the number of scores.\")\n",
    "    \n",
    "    # Define the two windows\n",
    "    window1 = scores[:window1_size]\n",
    "    window2 = scores[window2_size:]\n",
    "    \n",
    "    # Compute the Mann-Whitney U test\n",
    "    u_stat, p_val = mannwhitneyu(window1, window2, alternative='two-sided')\n",
    "    \n",
    "    return u_stat, p_val"
   ]
  },
  {
   "cell_type": "code",
   "execution_count": null,
   "metadata": {},
   "outputs": [],
   "source": [
    "plots_folder = \"./plots/plots_1/\"\n",
    "folder = '1_evan_1_4_1/'\n",
    "\n",
    "csv_path = os.path.join(plots_folder, folder, 'div_df.csv')\n",
    "\n",
    "div_df = pd.read_csv(csv_path)\n",
    "\n",
    "important_metrics = elements = [\n",
    "    'TokenSemantics',\n",
    "    'PartOfSpeechSequence',\n",
    "    'mattr',\n",
    "    'hdd',\n",
    "    'mtld',\n",
    "    'normalized_unique_unigrams',\n",
    "    'normalized_unique_bigrams',\n",
    "    'normalized_unique_trigrams'\n",
    "]\n",
    "\n",
    "for metric in important_metrics:\n",
    "    window_size = 25\n",
    "    metric_scores = div_df[metric].tail(window_size * 2).to_numpy()\n",
    "\n",
    "    u_stat, p_val = compute_mann_whitney_u(metric_scores, window_size, window_size)\n",
    "    print(f\"Metric: {metric}\")\n",
    "    print(f\"U_stat, p_val: {u_stat}, {p_val}\")"
   ]
  },
  {
   "cell_type": "code",
   "execution_count": null,
   "metadata": {},
   "outputs": [],
   "source": [
    "plots_folder = \"./plots/plots_1/\"\n",
    "folder = '1_evan_1_4_1/'\n",
    "\n",
    "csv_path = os.path.join(plots_folder, folder, 'div_df.csv')\n",
    "\n",
    "div_df = pd.read_csv(csv_path)\n",
    "\n",
    "metric = \"normalized_unique_unigrams\"\n",
    "\n",
    "window_sizes = range(10,30,5)\n",
    "\n",
    "for window_size in window_sizes:\n",
    "    metric_scores = div_df[metric].tail(window_size * 2).to_numpy()\n",
    "\n",
    "    u_stat, p_val = compute_mann_whitney_u(metric_scores, window_size, window_size)\n",
    "    print(f\"Window Size: {window_size}\")\n",
    "    print(f\"Metric: {metric}\")\n",
    "    print(f\"U_stat, p_val: {u_stat}, {p_val}\")"
   ]
  },
  {
   "cell_type": "code",
   "execution_count": null,
   "metadata": {},
   "outputs": [],
   "source": []
  }
 ],
 "metadata": {
  "kernelspec": {
   "display_name": "watermark",
   "language": "python",
   "name": "python3"
  },
  "language_info": {
   "codemirror_mode": {
    "name": "ipython",
    "version": 3
   },
   "file_extension": ".py",
   "mimetype": "text/x-python",
   "name": "python",
   "nbconvert_exporter": "python",
   "pygments_lexer": "ipython3",
   "version": "3.11.7"
  }
 },
 "nbformat": 4,
 "nbformat_minor": 2
}
