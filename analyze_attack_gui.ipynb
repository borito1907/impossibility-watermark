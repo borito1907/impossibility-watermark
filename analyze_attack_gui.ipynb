{
 "cells": [
  {
   "cell_type": "markdown",
   "metadata": {},
   "source": [
    "### Imports and GUI Code"
   ]
  },
  {
   "cell_type": "code",
   "execution_count": 1,
   "metadata": {},
   "outputs": [],
   "source": [
    "import os\n",
    "import pandas as pd\n",
    "import ipywidgets as widgets\n",
    "from IPython.display import display, Markdown\n",
    "\n",
    "# Output widgets for separate displays\n",
    "info_output_initial = widgets.Output()\n",
    "info_output_last_successful = widgets.Output()\n",
    "\n",
    "# Additional output widget for the CSV overview\n",
    "csv_overview_output = widgets.Output()\n",
    "\n",
    "def display_csv_overview(filename, quality_preserved_only, ignore_short_texts):\n",
    "    directory = \"./eval/results/\"\n",
    "    csv_filepath = os.path.join(directory, filename)\n",
    "    with csv_overview_output:\n",
    "        csv_overview_output.clear_output()\n",
    "        if not os.path.exists(csv_filepath):\n",
    "            display(Markdown(f\"**File `{filename}` not found. Please check the filename and try again.**\"))\n",
    "            return\n",
    "\n",
    "        df = pd.read_csv(csv_filepath)\n",
    "\n",
    "        if quality_preserved_only:\n",
    "            df = df[df['quality_preserved'] == True]\n",
    "        if ignore_short_texts:\n",
    "            df = df[df['mutated_text_len'] >= 0.95 * df['current_text_len']]\n",
    "\n",
    "        display_info = [\n",
    "            f\"**File name:** {filename}\",\n",
    "            f\"**Starting z-score:** {df.iloc[0]['watermark_score']}\",\n",
    "            f\"**Total perturbation attempts:** {len(df) - 1}\",\n",
    "            f\"**Short length count:** {df[df['mutated_text_len'] < 0.95 * df['current_text_len']].shape[0]}\",\n",
    "            f\"**Quality preserved perturbations:** {df['quality_preserved'].sum()}\",\n",
    "            f\"**Attack successful:** {not df.iloc[-1]['watermark_detected']}\",\n",
    "        ]\n",
    "        \n",
    "        display(Markdown('\\n\\n'.join(display_info)))\n",
    "\n",
    "# Widgets for filtering\n",
    "quality_preserved_checkbox = widgets.Checkbox(value=False, description='Quality Preserved Only', disabled=False)\n",
    "ignore_short_texts_checkbox = widgets.Checkbox(value=False, description='Ignore Short Texts', disabled=False)\n",
    "\n",
    "def on_filter_change(change):\n",
    "    display_csv_overview(filename_input.value, quality_preserved_checkbox.value, ignore_short_texts_checkbox.value)\n",
    "    \n",
    "# Observing changes in the checkboxes\n",
    "quality_preserved_checkbox.observe(on_filter_change, names='value')\n",
    "ignore_short_texts_checkbox.observe(on_filter_change, names='value')\n",
    "\n",
    "def highlight_new_words(initial_text, perturbed_text):\n",
    "    \"\"\"Highlight new words in the perturbed text that are not in the initial text.\"\"\"\n",
    "    initial_words = set(initial_text.split())\n",
    "    perturbed_words = perturbed_text.split()\n",
    "    highlighted_text = ' '.join([f\"<span style='background-color: #ccffcc'>{word}</span>\" if word not in initial_words else word for word in perturbed_words])\n",
    "    return highlighted_text\n",
    "\n",
    "def display_with_initial_version(filename, perturbation_idx):\n",
    "    directory = \"./eval/results/\"\n",
    "    csv_filepath = os.path.join(directory, filename)\n",
    "    with info_output_initial:\n",
    "        info_output_initial.clear_output()\n",
    "        if not os.path.exists(csv_filepath):\n",
    "            display(Markdown(f\"**File `{filename}` not found. Please check the filename and try again.**\"))\n",
    "            return\n",
    "\n",
    "        df = pd.read_csv(csv_filepath)\n",
    "\n",
    "        if perturbation_idx.isdigit():\n",
    "            perturbation_idx = int(perturbation_idx)\n",
    "            if 0 <= perturbation_idx < len(df):\n",
    "                initial_text = df.iloc[0]['mutated_text']\n",
    "                selected_perturbed_text = df.iloc[perturbation_idx]['mutated_text']\n",
    "                current_diff_highlighted = highlight_new_words(initial_text, selected_perturbed_text)\n",
    "\n",
    "                display_info = [\n",
    "                    f\"**Perturbation Index:** {perturbation_idx}\",\n",
    "                    f\"**Initial Version:** {initial_text}\",\n",
    "                    f\"**Selected Perturbed Version:** {current_diff_highlighted}\",\n",
    "                ]\n",
    "            else:\n",
    "                display_info = [\"**Perturbed version index out of range. Please enter a valid index.**\"]\n",
    "        else:\n",
    "            display_info = [\"**Please enter a valid perturbation index.**\"]\n",
    "\n",
    "        display(Markdown('\\n\\n'.join(display_info)))\n",
    "\n",
    "def display_with_last_successful(filename, perturbation_idx):\n",
    "    directory = \"./eval/results/\"\n",
    "    csv_filepath = os.path.join(directory, filename)\n",
    "    with info_output_last_successful:\n",
    "        info_output_last_successful.clear_output()\n",
    "        if not os.path.exists(csv_filepath):\n",
    "            display(Markdown(f\"**File `{filename}` not found. Please check the filename and try again.**\"))\n",
    "            return\n",
    "\n",
    "        df = pd.read_csv(csv_filepath)\n",
    "\n",
    "        if perturbation_idx.isdigit():\n",
    "            perturbation_idx = int(perturbation_idx)\n",
    "            last_success = df[(df.index < perturbation_idx) & (df['quality_preserved'] == True)].tail(1)\n",
    "            initial_text = df.iloc[0]['mutated_text']\n",
    "\n",
    "            if not last_success.empty:\n",
    "                last_success_text = last_success.iloc[0]['mutated_text']\n",
    "                selected_perturbed_text = df.iloc[perturbation_idx]['mutated_text']\n",
    "                last_success_highlighted = highlight_new_words(initial_text, last_success_text)\n",
    "                current_diff_highlighted = highlight_new_words(last_success_text, selected_perturbed_text)\n",
    "\n",
    "                display_info = [\n",
    "                    f\"**Perturbation Index:** {perturbation_idx}\",\n",
    "                    f\"**Last Successful Perturbed Version:** {last_success_highlighted}\",\n",
    "                    f\"**Selected Perturbed Version:** {current_diff_highlighted}\",\n",
    "                ]\n",
    "            else:\n",
    "                display_info = [\"**No successful perturbation found before this index.**\"]\n",
    "        else:\n",
    "            display_info = [\"**Please enter a valid perturbation index.**\"]\n",
    "\n",
    "        display(Markdown('\\n\\n'.join(display_info)))\n",
    "\n",
    "# Widgets for input\n",
    "filename_input = widgets.Text(value='', placeholder='Enter CSV filename (e.g., completion_1.csv)', description='Filename:', disabled=False, style={'description_width': 'initial'})\n",
    "perturbation_idx_input = widgets.Text(value='', placeholder='Enter perturbation index', description='Perturbation Index:', disabled=False, style={'description_width': 'initial'})\n",
    "\n",
    "def on_input_change(change):\n",
    "    display_with_initial_version(filename_input.value, perturbation_idx_input.value)\n",
    "    display_with_last_successful(filename_input.value, perturbation_idx_input.value)\n"
   ]
  },
  {
   "cell_type": "markdown",
   "metadata": {},
   "source": [
    "### The Good Stuff"
   ]
  },
  {
   "cell_type": "code",
   "execution_count": 2,
   "metadata": {},
   "outputs": [
    {
     "data": {
      "application/vnd.jupyter.widget-view+json": {
       "model_id": "6a7d849562244e42b3691f1aa8d9d4ff",
       "version_major": 2,
       "version_minor": 0
      },
      "text/plain": [
       "Text(value='', description='Filename:', placeholder='Enter CSV filename (e.g., completion_1.csv)', style=TextS…"
      ]
     },
     "metadata": {},
     "output_type": "display_data"
    },
    {
     "data": {
      "application/vnd.jupyter.widget-view+json": {
       "model_id": "1052ea01f0de4ccd9f9805b07bb8fcdd",
       "version_major": 2,
       "version_minor": 0
      },
      "text/plain": [
       "Text(value='', description='Perturbation Index:', placeholder='Enter perturbation index', style=TextStyle(desc…"
      ]
     },
     "metadata": {},
     "output_type": "display_data"
    }
   ],
   "source": [
    "\n",
    "filename_input.observe(on_input_change, names='value')\n",
    "perturbation_idx_input.observe(on_input_change, names='value')\n",
    "\n",
    "# Display input widgets and initially empty output widgets\n",
    "display(filename_input, perturbation_idx_input)\n"
   ]
  },
  {
   "cell_type": "code",
   "execution_count": 3,
   "metadata": {},
   "outputs": [
    {
     "data": {
      "application/vnd.jupyter.widget-view+json": {
       "model_id": "4793fbdac9f448a0b074764d95f8ef59",
       "version_major": 2,
       "version_minor": 0
      },
      "text/plain": [
       "Checkbox(value=False, description='Quality Preserved Only')"
      ]
     },
     "metadata": {},
     "output_type": "display_data"
    },
    {
     "data": {
      "application/vnd.jupyter.widget-view+json": {
       "model_id": "9504b7d76cfd4294aaf49b0896baed53",
       "version_major": 2,
       "version_minor": 0
      },
      "text/plain": [
       "Checkbox(value=False, description='Ignore Short Texts')"
      ]
     },
     "metadata": {},
     "output_type": "display_data"
    },
    {
     "data": {
      "application/vnd.jupyter.widget-view+json": {
       "model_id": "57bcd472d4464d24b45dd38fc20ee8a7",
       "version_major": 2,
       "version_minor": 0
      },
      "text/plain": [
       "Output()"
      ]
     },
     "metadata": {},
     "output_type": "display_data"
    }
   ],
   "source": [
    "\n",
    "# Display the widgets and the initially empty CSV overview output widget\n",
    "display(quality_preserved_checkbox, ignore_short_texts_checkbox)\n",
    "display(csv_overview_output)"
   ]
  },
  {
   "cell_type": "code",
   "execution_count": 4,
   "metadata": {},
   "outputs": [
    {
     "data": {
      "application/vnd.jupyter.widget-view+json": {
       "model_id": "b2ac326202fd475b89bdd659b8fa1e14",
       "version_major": 2,
       "version_minor": 0
      },
      "text/plain": [
       "Output()"
      ]
     },
     "metadata": {},
     "output_type": "display_data"
    }
   ],
   "source": [
    "display(info_output_initial)"
   ]
  },
  {
   "cell_type": "code",
   "execution_count": 5,
   "metadata": {},
   "outputs": [
    {
     "data": {
      "application/vnd.jupyter.widget-view+json": {
       "model_id": "860a845f4f08415abcea79e99938eb30",
       "version_major": 2,
       "version_minor": 0
      },
      "text/plain": [
       "Output()"
      ]
     },
     "metadata": {},
     "output_type": "display_data"
    }
   ],
   "source": [
    "display(info_output_last_successful)"
   ]
  },
  {
   "cell_type": "code",
   "execution_count": null,
   "metadata": {},
   "outputs": [],
   "source": [
    "\n"
   ]
  },
  {
   "cell_type": "code",
   "execution_count": null,
   "metadata": {},
   "outputs": [],
   "source": []
  }
 ],
 "metadata": {
  "kernelspec": {
   "display_name": "watermark",
   "language": "python",
   "name": "python3"
  },
  "language_info": {
   "codemirror_mode": {
    "name": "ipython",
    "version": 3
   },
   "file_extension": ".py",
   "mimetype": "text/x-python",
   "name": "python",
   "nbconvert_exporter": "python",
   "pygments_lexer": "ipython3",
   "version": "3.11.7"
  }
 },
 "nbformat": 4,
 "nbformat_minor": 2
}
