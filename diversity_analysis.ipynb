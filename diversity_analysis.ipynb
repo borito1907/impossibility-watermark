{
 "cells": [
  {
   "cell_type": "markdown",
   "metadata": {},
   "source": [
    "## Imports and Helper Functions"
   ]
  },
  {
   "cell_type": "code",
   "execution_count": 1,
   "metadata": {},
   "outputs": [
    {
     "name": "stderr",
     "output_type": "stream",
     "text": [
      "[nltk_data] Downloading package benepar_en3 to\n",
      "[nltk_data]     /home/borito1907/nltk_data...\n",
      "[nltk_data]   Package benepar_en3 is already up-to-date!\n"
     ]
    }
   ],
   "source": [
    "import re\n",
    "import json\n",
    "import pandas as pd\n",
    "import matplotlib.pyplot as plt\n",
    "import os\n",
    "from datetime import datetime, timedelta\n",
    "from diversity_oracle import DiversityOracle"
   ]
  },
  {
   "cell_type": "code",
   "execution_count": 3,
   "metadata": {},
   "outputs": [],
   "source": [
    "# FILE-BASED SEARCH\n",
    "\n",
    "div_oracle = DiversityOracle()\n",
    "\n",
    "# Read the content of the text file\n",
    "def find_csv(txt_file_path):\n",
    "    with open(txt_file_path, 'r') as file:\n",
    "        content = file.read()\n",
    "\n",
    "    # Search for the first occurrence of 'attack_*.csv' pattern\n",
    "    match = re.search(r'attack_.*\\.csv', content)\n",
    "\n",
    "    if match:\n",
    "        csv_filename = match.group(0)\n",
    "        return csv_filename\n",
    "    return None\n",
    "\n",
    "def count_words(text):\n",
    "    if text is None:\n",
    "        return 0\n",
    "    return len(text.split())\n",
    "\n",
    "def get_success_dfs(csv_files):\n",
    "    dfs = []\n",
    "    for file in csv_files:\n",
    "        df = pd.read_csv(file)\n",
    "        dfs.append(df[df['quality_preserved'] == True])\n",
    "    return dfs\n",
    "\n",
    "def create_corpuses(dfs):\n",
    "    corpuses = []\n",
    "    min_length = min(len(df) for df in dfs)\n",
    "    \n",
    "    for i in range(min_length):\n",
    "        corpus = [df.iloc[i]['mutated_text'] for df in dfs]\n",
    "        corpuses.append(corpus)\n",
    "    return corpuses\n",
    "\n",
    "def get_diversity_df(corpuses):\n",
    "    df = div_oracle(corpuses)\n",
    "    return df\n",
    "\n",
    "def plot_metric(df, column_name):\n",
    "\n",
    "    # Plotting\n",
    "    plt.figure(figsize=(10, 6))  # Set the figure size (optional)\n",
    "    plt.plot(df.index, df[column_name], marker='o', linestyle='-', color='b')  # Plot with line and markers\n",
    "    plt.title(f\"Evolution of {column_name}\")  # Title of the plot\n",
    "    plt.xlabel('Step Number')  # X-axis label\n",
    "    plt.ylabel(column_name)  # Y-axis label, replace with your column name\n",
    "    plt.grid(True)  # Show grid\n",
    "    plt.show()\n",
    "\n",
    "def save_plots(df, folder):\n",
    "    for column_name in df.columns:\n",
    "        plt.figure(figsize=(10, 6))\n",
    "        plt.plot(df.index, df[column_name], marker='o', linestyle='-', color='b')\n",
    "        plt.title(f'Evolution of {column_name} Values Over Rows')\n",
    "        plt.xlabel('Step Number')\n",
    "        plt.ylabel(column_name)\n",
    "        plt.grid(True)\n",
    "        \n",
    "        # Save the figure as a PNG file\n",
    "        filename = f'{folder}{column_name}.png'\n",
    "        plt.savefig(filename, dpi=300)\n",
    "        \n",
    "        # Clear the current figure to avoid overlapping of plots\n",
    "        plt.clf()  # Use plt.close() if you want to close the figure completely       "
   ]
  },
  {
   "cell_type": "markdown",
   "metadata": {},
   "source": [
    "## Batch Analysis"
   ]
  },
  {
   "cell_type": "code",
   "execution_count": 5,
   "metadata": {},
   "outputs": [
    {
     "ename": "NameError",
     "evalue": "name 'get_diversity_df' is not defined",
     "output_type": "error",
     "traceback": [
      "\u001b[0;31m---------------------------------------------------------------------------\u001b[0m",
      "\u001b[0;31mNameError\u001b[0m                                 Traceback (most recent call last)",
      "Cell \u001b[0;32mIn[5], line 12\u001b[0m\n\u001b[1;32m      8\u001b[0m csv_filepath \u001b[38;5;241m=\u001b[39m os\u001b[38;5;241m.\u001b[39mpath\u001b[38;5;241m.\u001b[39mjoin(directory, csv_filename)\n\u001b[1;32m     10\u001b[0m csv_files \u001b[38;5;241m=\u001b[39m [csv_filepath]\n\u001b[0;32m---> 12\u001b[0m div_df \u001b[38;5;241m=\u001b[39m \u001b[43mget_diversity_df\u001b[49m(csv_files)\n\u001b[1;32m     14\u001b[0m path \u001b[38;5;241m=\u001b[39m os\u001b[38;5;241m.\u001b[39mpath\u001b[38;5;241m.\u001b[39mjoin(plots_folder, txt_file_name)\n\u001b[1;32m     16\u001b[0m save_plots(div_df, path)\n",
      "\u001b[0;31mNameError\u001b[0m: name 'get_diversity_df' is not defined"
     ]
    }
   ],
   "source": [
    "txt_file_directory = \"./second_round/\"\n",
    "plots_folder = \"./plots/plots_1/\"\n",
    "\n",
    "for txt_filename in os.listdir(txt_file_directory):\n",
    "    txt_filepath = os.path.join(txt_file_directory, txt_filename)\n",
    "    csv_filename = find_csv(txt_filepath)\n",
    "    directory = \"./eval/results/\"\n",
    "    csv_filepath = os.path.join(directory, csv_filename)\n",
    "\n",
    "    csv_files = [csv_filepath]\n",
    "\n",
    "    div_df = get_diversity_df(csv_files)\n",
    "\n",
    "    path = os.path.join(plots_folder, txt_file_name)\n",
    "\n",
    "    save_plots(div_df, path)\n"
   ]
  },
  {
   "cell_type": "markdown",
   "metadata": {},
   "source": [
    "## Analysis using File Path"
   ]
  }
 ],
 "metadata": {
  "kernelspec": {
   "display_name": "watermark",
   "language": "python",
   "name": "python3"
  },
  "language_info": {
   "codemirror_mode": {
    "name": "ipython",
    "version": 3
   },
   "file_extension": ".py",
   "mimetype": "text/x-python",
   "name": "python",
   "nbconvert_exporter": "python",
   "pygments_lexer": "ipython3",
   "version": "3.11.7"
  }
 },
 "nbformat": 4,
 "nbformat_minor": 2
}
