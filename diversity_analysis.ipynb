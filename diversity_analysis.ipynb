{
 "cells": [
  {
   "cell_type": "markdown",
   "metadata": {},
   "source": [
    "## Imports and Helper Functions"
   ]
  },
  {
   "cell_type": "code",
   "execution_count": 2,
   "metadata": {},
   "outputs": [
    {
     "name": "stderr",
     "output_type": "stream",
     "text": [
      "[nltk_data] Downloading package benepar_en3 to\n",
      "[nltk_data]     /home/borito1907/nltk_data...\n",
      "[nltk_data]   Package benepar_en3 is already up-to-date!\n"
     ]
    }
   ],
   "source": [
    "import re\n",
    "import json\n",
    "import pandas as pd\n",
    "import matplotlib.pyplot as plt\n",
    "import os\n",
    "from datetime import datetime, timedelta\n",
    "from diversity_oracle import DiversityOracle\n",
    "from utils import save_to_csv, find_csv, count_words"
   ]
  },
  {
   "cell_type": "code",
   "execution_count": 3,
   "metadata": {},
   "outputs": [],
   "source": [
    "# FILE-BASED SEARCH\n",
    "\n",
    "div_oracle = DiversityOracle()\n",
    "\n",
    "def get_success_dfs(csv_files):\n",
    "    dfs = []\n",
    "    for file in csv_files:\n",
    "        df = pd.read_csv(file)\n",
    "        dfs.append(df[df['quality_preserved'] == True])\n",
    "    return dfs\n",
    "\n",
    "def create_corpuses(dfs):\n",
    "    corpuses = []\n",
    "    min_length = min(len(df) for df in dfs)\n",
    "    \n",
    "    for i in range(min_length):\n",
    "        corpus = [df.iloc[i]['mutated_text'] for df in dfs]\n",
    "        corpuses.append(corpus)\n",
    "    return corpuses\n",
    "\n",
    "def get_diversity_df(csv_files):\n",
    "    dfs = get_success_dfs(csv_files)\n",
    "    corpuses = create_corpuses(dfs)\n",
    "    metric_dicts = []\n",
    "    for corpus in corpuses:\n",
    "        metrics = div_oracle(corpus)\n",
    "        metric_dict = {metric['metric_name']: metric['diversity_score'] for metric in metrics}\n",
    "        metric_dicts.append(metric_dict)\n",
    "    \n",
    "    df = pd.DataFrame(metric_dicts)\n",
    "    return df\n",
    "\n",
    "def plot_metric(df, column_name):\n",
    "\n",
    "    # Plotting\n",
    "    plt.figure(figsize=(10, 6))  # Set the figure size (optional)\n",
    "    plt.plot(df.index, df[column_name], marker='o', linestyle='-', color='b')  # Plot with line and markers\n",
    "    plt.title(f\"Evolution of {column_name}\")  # Title of the plot\n",
    "    plt.xlabel('Step Number')  # X-axis label\n",
    "    plt.ylabel(column_name)  # Y-axis label, replace with your column name\n",
    "    plt.grid(True)  # Show grid\n",
    "    plt.show()\n",
    "\n",
    "def save_plots(df, folder):\n",
    "    for column_name in df.columns:\n",
    "        plt.figure(figsize=(10, 6))\n",
    "        plt.plot(df.index, df[column_name], marker='o', linestyle='-', color='b')\n",
    "        plt.title(f'Evolution of {column_name} Values Over Rows')\n",
    "        plt.xlabel('Step Number')\n",
    "        plt.ylabel(column_name)\n",
    "        plt.grid(True)\n",
    "        \n",
    "        # Save the figure as a PNG file\n",
    "        filename = f'{folder}/{column_name}.png'\n",
    "        plt.savefig(filename, dpi=300)\n",
    "        \n",
    "        # Clear the current figure to avoid overlapping of plots\n",
    "        plt.clf()  # Use plt.close() if you want to close the figure completely       "
   ]
  },
  {
   "cell_type": "markdown",
   "metadata": {},
   "source": [
    "## Batch Analysis"
   ]
  },
  {
   "cell_type": "code",
   "execution_count": 5,
   "metadata": {},
   "outputs": [
    {
     "name": "stdout",
     "output_type": "stream",
     "text": [
      "Filename: 3_evan_1_1.txt\n"
     ]
    }
   ],
   "source": [
    "txt_file_directory = \"./third_round/\"\n",
    "plots_folder = \"./plots/plots_3/\"\n",
    "\n",
    "for txt_filename in os.listdir(txt_file_directory):\n",
    "    print(f\"Filename: {txt_filename}\")\n",
    "    txt_filepath = os.path.join(txt_file_directory, txt_filename)\n",
    "    csv_filename = find_csv(txt_filepath)\n",
    "    directory = \"./eval/results/\"\n",
    "    csv_filepath = os.path.join(directory, csv_filename)\n",
    "\n",
    "    csv_files = [csv_filepath]\n",
    "    \n",
    "    div_df = get_diversity_df(csv_files)\n",
    "    \n",
    "    directory_path = os.path.join(plots_folder, txt_filename[:-4])\n",
    "    if not os.path.exists(directory_path):\n",
    "        os.makedirs(directory_path, exist_ok=True)\n",
    "    csv_path = os.path.join(directory_path, 'div_df.csv')\n",
    "\n",
    "    save_to_csv(div_df, csv_path)\n",
    "    save_plots(div_df, directory_path)"
   ]
  },
  {
   "cell_type": "markdown",
   "metadata": {},
   "source": [
    "## Analysis using File Path"
   ]
  },
  {
   "cell_type": "code",
   "execution_count": 2,
   "metadata": {},
   "outputs": [
    {
     "ename": "NameError",
     "evalue": "name 'os' is not defined",
     "output_type": "error",
     "traceback": [
      "\u001b[0;31m---------------------------------------------------------------------------\u001b[0m",
      "\u001b[0;31mNameError\u001b[0m                                 Traceback (most recent call last)",
      "Cell \u001b[0;32mIn[2], line 6\u001b[0m\n\u001b[1;32m      3\u001b[0m txt_file_directory \u001b[38;5;241m=\u001b[39m \u001b[38;5;124m\"\u001b[39m\u001b[38;5;124m./first_round/\u001b[39m\u001b[38;5;124m\"\u001b[39m\n\u001b[1;32m      4\u001b[0m plots_folder \u001b[38;5;241m=\u001b[39m \u001b[38;5;124m\"\u001b[39m\u001b[38;5;124m./plots/plots_1/\u001b[39m\u001b[38;5;124m\"\u001b[39m\n\u001b[0;32m----> 6\u001b[0m sorted_txt_filenames \u001b[38;5;241m=\u001b[39m \u001b[38;5;28msorted\u001b[39m(\u001b[43mos\u001b[49m\u001b[38;5;241m.\u001b[39mlistdir(txt_file_directory))\n\u001b[1;32m      8\u001b[0m txt_filename \u001b[38;5;241m=\u001b[39m sorted_txt_filenames[\u001b[38;5;241m0\u001b[39m]\n\u001b[1;32m     12\u001b[0m image_path \u001b[38;5;241m=\u001b[39m os\u001b[38;5;241m.\u001b[39mpath\u001b[38;5;241m.\u001b[39mjoin(plots_folder, txt_filename)\n",
      "\u001b[0;31mNameError\u001b[0m: name 'os' is not defined"
     ]
    }
   ],
   "source": [
    "from IPython.display import Image, display\n",
    "\n",
    "txt_file_directory = \"./first_round/\"\n",
    "plots_folder = \"./plots/plots_1/\"\n",
    "\n",
    "sorted_txt_filenames = sorted(os.listdir(txt_file_directory))\n",
    "\n",
    "txt_filename = sorted_txt_filenames[0]\n",
    "\n",
    "\n",
    "\n",
    "image_path = os.path.join(plots_folder, txt_filename)\n",
    "\n",
    "display(Image(filename = image_path))\n",
    "\n",
    "\n",
    "    "
   ]
  },
  {
   "cell_type": "markdown",
   "metadata": {},
   "source": [
    "## Mann-Whitney U-Test"
   ]
  },
  {
   "cell_type": "code",
   "execution_count": null,
   "metadata": {},
   "outputs": [],
   "source": [
    "import numpy as np\n",
    "from scipy.stats import mannwhitneyu\n",
    "\n",
    "\n",
    "\n",
    "def compute_mann_whitney_u(scores, window1_size, window2_size):\n",
    "    \"\"\"\n",
    "    Computes the Mann-Whitney U test statistic and p-value between two sliding windows of scores.\n",
    "    \n",
    "    Args:\n",
    "        scores (list or np.array): A list or array of scores.\n",
    "        window1_size (int): The size of the first window.\n",
    "        window2_size (int): The size of the second window.\n",
    "        \n",
    "    Returns:\n",
    "        tuple: A tuple containing the U statistic and the p-value.\n",
    "    \"\"\"\n",
    "    # Ensure that the input is a numpy array\n",
    "    scores = np.array(scores)\n",
    "    \n",
    "    # Compute the number of scores\n",
    "    num_scores = len(scores)\n",
    "    \n",
    "    # Check if the windows are valid\n",
    "    if window1_size + window2_size != num_scores:\n",
    "        raise ValueError(\"The sum of the window sizes should be equal to the number of scores.\")\n",
    "    \n",
    "    # Define the two windows\n",
    "    window1 = scores[:window1_size]\n",
    "    window2 = scores[window2_size:]\n",
    "    \n",
    "    # Compute the Mann-Whitney U test\n",
    "    u_stat, p_val = mannwhitneyu(window1, window2, alternative='two-sided')\n",
    "    \n",
    "    return u_stat, p_val"
   ]
  },
  {
   "cell_type": "code",
   "execution_count": null,
   "metadata": {},
   "outputs": [],
   "source": [
    "txt_file_directory = \"./first_round/\"\n",
    "plots_folder = \"./plots/plots_1/\"\n",
    "folder = '1_evan_1_2_1/'\n",
    "\n",
    "csv_path = os.path.join(txt_file_directory, plots_folder, folder, 'div_df.csv')\n",
    "\n",
    "div_df = pd.read_csv(csv_path)\n",
    "\n"
   ]
  }
 ],
 "metadata": {
  "kernelspec": {
   "display_name": "watermark",
   "language": "python",
   "name": "python3"
  },
  "language_info": {
   "codemirror_mode": {
    "name": "ipython",
    "version": 3
   },
   "file_extension": ".py",
   "mimetype": "text/x-python",
   "name": "python",
   "nbconvert_exporter": "python",
   "pygments_lexer": "ipython3",
   "version": "3.11.7"
  }
 },
 "nbformat": 4,
 "nbformat_minor": 2
}
