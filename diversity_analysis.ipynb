{
 "cells": [
  {
   "cell_type": "markdown",
   "metadata": {},
   "source": [
    "## Imports and Helper Functions"
   ]
  },
  {
   "cell_type": "code",
   "execution_count": 2,
   "metadata": {},
   "outputs": [
    {
     "name": "stderr",
     "output_type": "stream",
     "text": [
      "[nltk_data] Downloading package benepar_en3 to\n",
      "[nltk_data]     /home/borito1907/nltk_data...\n",
      "[nltk_data]   Package benepar_en3 is already up-to-date!\n"
     ]
    }
   ],
   "source": [
    "import re\n",
    "import json\n",
    "import pandas as pd\n",
    "import matplotlib.pyplot as plt\n",
    "import os\n",
    "from datetime import datetime, timedelta\n",
    "from diversity_oracle import DiversityOracle\n",
    "from utils import save_to_csv, find_csv, count_words"
   ]
  },
  {
   "cell_type": "code",
   "execution_count": 3,
   "metadata": {},
   "outputs": [],
   "source": [
    "div_oracle = DiversityOracle(metrics = {}, verbose=False, normalized=False)\n",
    "normalized_div_oracle = DiversityOracle(metrics = {}, verbose=False, normalized=True)\n",
    "\n",
    "def get_success_dfs(csv_files):\n",
    "    dfs = []\n",
    "    for file in csv_files:\n",
    "        df = pd.read_csv(file)\n",
    "        dfs.append(df[df['quality_preserved'] == True])\n",
    "    return dfs\n",
    "\n",
    "def create_corpuses(dfs, normalized):\n",
    "    corpuses = []\n",
    "    min_length = min(len(df) for df in dfs)\n",
    "    \n",
    "    if normalized:\n",
    "        for i in range(min_length):\n",
    "            corpus = [df.iloc[i]['mutated_text'] for df in dfs]\n",
    "            corpuses.append(corpus)\n",
    "    else:\n",
    "        for i in range(min_length):\n",
    "            corpus = [text for df in dfs for text in df.iloc[:i+1]['mutated_text']]\n",
    "            corpuses.append(corpus)\n",
    "    return corpuses\n",
    "\n",
    "def get_diversity_df(csv_files, normalized):\n",
    "    dfs = get_success_dfs(csv_files)\n",
    "    corpuses = create_corpuses(dfs, normalized)\n",
    "    metric_dicts = []\n",
    "    for corpus in corpuses:\n",
    "        if normalized:\n",
    "            metrics = normalized_div_oracle(corpus)\n",
    "        else:\n",
    "            metrics = div_oracle(corpus)\n",
    "        metric_dict = {metric['metric_name']: metric['diversity_score'] for metric in metrics}\n",
    "        \n",
    "        metric_dicts.append(metric_dict)\n",
    "    \n",
    "    df = pd.DataFrame(metric_dicts)\n",
    "    return df\n",
    "\n",
    "def plot_metric(df, column_name):\n",
    "\n",
    "    # Plotting\n",
    "    plt.figure(figsize=(10, 6))  # Set the figure size (optional)\n",
    "    plt.plot(df.index, df[column_name], marker='o', linestyle='-', color='b')  # Plot with line and markers\n",
    "    plt.title(f\"Evolution of {column_name}\")  # Title of the plot\n",
    "    plt.xlabel('Step Number')  # X-axis label\n",
    "    plt.ylabel(column_name)  # Y-axis label, replace with your column name\n",
    "    plt.grid(True)  # Show grid\n",
    "    plt.show()\n",
    "\n",
    "def save_plots(df, folder):\n",
    "    for column_name in df.columns:\n",
    "        plt.figure(figsize=(10, 6))\n",
    "        plt.plot(df.index, df[column_name], marker='o', linestyle='-', color='b')\n",
    "        plt.title(f'Evolution of {column_name} Values Over Rows')\n",
    "        plt.xlabel('Step Number')\n",
    "        plt.ylabel(column_name)\n",
    "        plt.grid(True)\n",
    "        \n",
    "        # Save the figure as a PNG file\n",
    "        filename = f'{folder}/{column_name}.png'\n",
    "        plt.savefig(filename, dpi=300)\n",
    "        \n",
    "        # Clear the current figure to avoid overlapping of plots\n",
    "        plt.clf()  # Use plt.close() if you want to close the figure completely       "
   ]
  },
  {
   "cell_type": "markdown",
   "metadata": {},
   "source": [
    "## Batch Analysis"
   ]
  },
  {
   "cell_type": "code",
   "execution_count": 4,
   "metadata": {},
   "outputs": [
    {
     "name": "stdout",
     "output_type": "stream",
     "text": [
      "Filename: 4_evan_1_1.txt\n",
      "Data appended to ./plots/plots_4/4_evan_1_1/normalized_div_df.csv\n",
      "Filename: 4_evan_1_2.txt\n",
      "Data appended to ./plots/plots_4/4_evan_1_2/normalized_div_df.csv\n",
      "Filename: 4_evan_1_3.txt\n",
      "Data appended to ./plots/plots_4/4_evan_1_3/normalized_div_df.csv\n",
      "Filename: 4_evan_3_1.txt\n",
      "Data appended to ./plots/plots_4/4_evan_3_1/normalized_div_df.csv\n",
      "Filename: 4_evan_3_2.txt\n",
      "Data appended to ./plots/plots_4/4_evan_3_2/normalized_div_df.csv\n"
     ]
    },
    {
     "data": {
      "text/plain": [
       "<Figure size 1000x600 with 0 Axes>"
      ]
     },
     "metadata": {},
     "output_type": "display_data"
    },
    {
     "data": {
      "text/plain": [
       "<Figure size 1000x600 with 0 Axes>"
      ]
     },
     "metadata": {},
     "output_type": "display_data"
    },
    {
     "data": {
      "text/plain": [
       "<Figure size 1000x600 with 0 Axes>"
      ]
     },
     "metadata": {},
     "output_type": "display_data"
    },
    {
     "data": {
      "text/plain": [
       "<Figure size 1000x600 with 0 Axes>"
      ]
     },
     "metadata": {},
     "output_type": "display_data"
    },
    {
     "data": {
      "text/plain": [
       "<Figure size 1000x600 with 0 Axes>"
      ]
     },
     "metadata": {},
     "output_type": "display_data"
    },
    {
     "data": {
      "text/plain": [
       "<Figure size 1000x600 with 0 Axes>"
      ]
     },
     "metadata": {},
     "output_type": "display_data"
    },
    {
     "data": {
      "text/plain": [
       "<Figure size 1000x600 with 0 Axes>"
      ]
     },
     "metadata": {},
     "output_type": "display_data"
    },
    {
     "data": {
      "text/plain": [
       "<Figure size 1000x600 with 0 Axes>"
      ]
     },
     "metadata": {},
     "output_type": "display_data"
    },
    {
     "data": {
      "text/plain": [
       "<Figure size 1000x600 with 0 Axes>"
      ]
     },
     "metadata": {},
     "output_type": "display_data"
    },
    {
     "data": {
      "text/plain": [
       "<Figure size 1000x600 with 0 Axes>"
      ]
     },
     "metadata": {},
     "output_type": "display_data"
    },
    {
     "data": {
      "text/plain": [
       "<Figure size 1000x600 with 0 Axes>"
      ]
     },
     "metadata": {},
     "output_type": "display_data"
    },
    {
     "data": {
      "text/plain": [
       "<Figure size 1000x600 with 0 Axes>"
      ]
     },
     "metadata": {},
     "output_type": "display_data"
    },
    {
     "data": {
      "text/plain": [
       "<Figure size 1000x600 with 0 Axes>"
      ]
     },
     "metadata": {},
     "output_type": "display_data"
    },
    {
     "data": {
      "text/plain": [
       "<Figure size 1000x600 with 0 Axes>"
      ]
     },
     "metadata": {},
     "output_type": "display_data"
    },
    {
     "data": {
      "text/plain": [
       "<Figure size 1000x600 with 0 Axes>"
      ]
     },
     "metadata": {},
     "output_type": "display_data"
    },
    {
     "data": {
      "text/plain": [
       "<Figure size 1000x600 with 0 Axes>"
      ]
     },
     "metadata": {},
     "output_type": "display_data"
    },
    {
     "data": {
      "text/plain": [
       "<Figure size 1000x600 with 0 Axes>"
      ]
     },
     "metadata": {},
     "output_type": "display_data"
    },
    {
     "data": {
      "text/plain": [
       "<Figure size 1000x600 with 0 Axes>"
      ]
     },
     "metadata": {},
     "output_type": "display_data"
    },
    {
     "data": {
      "text/plain": [
       "<Figure size 1000x600 with 0 Axes>"
      ]
     },
     "metadata": {},
     "output_type": "display_data"
    },
    {
     "data": {
      "text/plain": [
       "<Figure size 1000x600 with 0 Axes>"
      ]
     },
     "metadata": {},
     "output_type": "display_data"
    },
    {
     "data": {
      "text/plain": [
       "<Figure size 1000x600 with 0 Axes>"
      ]
     },
     "metadata": {},
     "output_type": "display_data"
    },
    {
     "data": {
      "text/plain": [
       "<Figure size 1000x600 with 0 Axes>"
      ]
     },
     "metadata": {},
     "output_type": "display_data"
    },
    {
     "data": {
      "text/plain": [
       "<Figure size 1000x600 with 0 Axes>"
      ]
     },
     "metadata": {},
     "output_type": "display_data"
    },
    {
     "data": {
      "text/plain": [
       "<Figure size 1000x600 with 0 Axes>"
      ]
     },
     "metadata": {},
     "output_type": "display_data"
    },
    {
     "data": {
      "text/plain": [
       "<Figure size 1000x600 with 0 Axes>"
      ]
     },
     "metadata": {},
     "output_type": "display_data"
    },
    {
     "data": {
      "text/plain": [
       "<Figure size 1000x600 with 0 Axes>"
      ]
     },
     "metadata": {},
     "output_type": "display_data"
    },
    {
     "data": {
      "text/plain": [
       "<Figure size 1000x600 with 0 Axes>"
      ]
     },
     "metadata": {},
     "output_type": "display_data"
    },
    {
     "data": {
      "text/plain": [
       "<Figure size 1000x600 with 0 Axes>"
      ]
     },
     "metadata": {},
     "output_type": "display_data"
    },
    {
     "data": {
      "text/plain": [
       "<Figure size 1000x600 with 0 Axes>"
      ]
     },
     "metadata": {},
     "output_type": "display_data"
    },
    {
     "data": {
      "text/plain": [
       "<Figure size 1000x600 with 0 Axes>"
      ]
     },
     "metadata": {},
     "output_type": "display_data"
    },
    {
     "data": {
      "text/plain": [
       "<Figure size 1000x600 with 0 Axes>"
      ]
     },
     "metadata": {},
     "output_type": "display_data"
    },
    {
     "data": {
      "text/plain": [
       "<Figure size 1000x600 with 0 Axes>"
      ]
     },
     "metadata": {},
     "output_type": "display_data"
    },
    {
     "data": {
      "text/plain": [
       "<Figure size 1000x600 with 0 Axes>"
      ]
     },
     "metadata": {},
     "output_type": "display_data"
    },
    {
     "data": {
      "text/plain": [
       "<Figure size 1000x600 with 0 Axes>"
      ]
     },
     "metadata": {},
     "output_type": "display_data"
    },
    {
     "data": {
      "text/plain": [
       "<Figure size 1000x600 with 0 Axes>"
      ]
     },
     "metadata": {},
     "output_type": "display_data"
    }
   ],
   "source": [
    "# Normalized Values\n",
    "attack_type = \"completions\"\n",
    "txt_file_directory = f\"./{attack_type}/\"\n",
    "plots_folder = f\"./plots/plots_{attack_type}/\"\n",
    "\n",
    "for txt_filename in os.listdir(txt_file_directory):\n",
    "    print(f\"Filename: {txt_filename}\")\n",
    "    txt_filepath = os.path.join(txt_file_directory, txt_filename)\n",
    "    csv_filename = find_csv(txt_filepath)\n",
    "    directory = \"./eval/results/\"\n",
    "    csv_filepath = os.path.join(directory, csv_filename)\n",
    "\n",
    "    csv_files = [csv_filepath]\n",
    "    \n",
    "    div_df = get_diversity_df(csv_files, True)\n",
    "    \n",
    "    directory_path = os.path.join(plots_folder, txt_filename[:-4])\n",
    "    if not os.path.exists(directory_path):\n",
    "        os.makedirs(directory_path, exist_ok=True)\n",
    "    csv_path = os.path.join(directory_path, 'normalized_div_df.csv')\n",
    "\n",
    "    save_to_csv(div_df, csv_path)\n",
    "    save_plots(div_df, directory_path)"
   ]
  },
  {
   "cell_type": "code",
   "execution_count": null,
   "metadata": {},
   "outputs": [],
   "source": [
    "# Non-normalized Values\n",
    "txt_file_directory = \"./third_round/\"\n",
    "plots_folder = \"./plots/plots_3/\"\n",
    "\n",
    "for txt_filename in os.listdir(txt_file_directory):\n",
    "    print(f\"Filename: {txt_filename}\")\n",
    "    txt_filepath = os.path.join(txt_file_directory, txt_filename)\n",
    "    csv_filename = find_csv(txt_filepath)\n",
    "    directory = \"./eval/results/\"\n",
    "    csv_filepath = os.path.join(directory, csv_filename)\n",
    "\n",
    "    csv_files = [csv_filepath]\n",
    "    \n",
    "    div_df = get_diversity_df(csv_files, False)\n",
    "    \n",
    "    directory_path = os.path.join(plots_folder, txt_filename[:-4])\n",
    "    if not os.path.exists(directory_path):\n",
    "        os.makedirs(directory_path, exist_ok=True)\n",
    "    csv_path = os.path.join(directory_path, 'div_df.csv')\n",
    "\n",
    "    save_to_csv(div_df, csv_path)\n",
    "    save_plots(div_df, directory_path)"
   ]
  },
  {
   "cell_type": "markdown",
   "metadata": {},
   "source": [
    "## Analysis using File Path"
   ]
  },
  {
   "cell_type": "code",
   "execution_count": 4,
   "metadata": {},
   "outputs": [
    {
     "ename": "ValueError",
     "evalue": "Cannot embed the 'csv' image format",
     "output_type": "error",
     "traceback": [
      "\u001b[0;31m---------------------------------------------------------------------------\u001b[0m",
      "\u001b[0;31mValueError\u001b[0m                                Traceback (most recent call last)",
      "Cell \u001b[0;32mIn[4], line 14\u001b[0m\n\u001b[1;32m     10\u001b[0m image_dir_path \u001b[38;5;241m=\u001b[39m os\u001b[38;5;241m.\u001b[39mpath\u001b[38;5;241m.\u001b[39mjoin(plots_folder, txt_filename)\n\u001b[1;32m     12\u001b[0m \u001b[38;5;28;01mfor\u001b[39;00m image_path \u001b[38;5;129;01min\u001b[39;00m os\u001b[38;5;241m.\u001b[39mlistdir(image_dir_path):\n\u001b[0;32m---> 14\u001b[0m     display(\u001b[43mImage\u001b[49m\u001b[43m(\u001b[49m\u001b[43mfilename\u001b[49m\u001b[43m \u001b[49m\u001b[38;5;241;43m=\u001b[39;49m\u001b[43m \u001b[49m\u001b[43mimage_path\u001b[49m\u001b[43m)\u001b[49m)\n\u001b[1;32m     15\u001b[0m     \u001b[38;5;28;01mbreak\u001b[39;00m\n",
      "File \u001b[0;32m~/anaconda3/envs/watermark/lib/python3.11/site-packages/IPython/core/display.py:961\u001b[0m, in \u001b[0;36mImage.__init__\u001b[0;34m(self, data, url, filename, format, embed, width, height, retina, unconfined, metadata, alt)\u001b[0m\n\u001b[1;32m    958\u001b[0m \u001b[38;5;28mself\u001b[39m\u001b[38;5;241m.\u001b[39membed \u001b[38;5;241m=\u001b[39m embed \u001b[38;5;28;01mif\u001b[39;00m embed \u001b[38;5;129;01mis\u001b[39;00m \u001b[38;5;129;01mnot\u001b[39;00m \u001b[38;5;28;01mNone\u001b[39;00m \u001b[38;5;28;01melse\u001b[39;00m (url \u001b[38;5;129;01mis\u001b[39;00m \u001b[38;5;28;01mNone\u001b[39;00m)\n\u001b[1;32m    960\u001b[0m \u001b[38;5;28;01mif\u001b[39;00m \u001b[38;5;28mself\u001b[39m\u001b[38;5;241m.\u001b[39membed \u001b[38;5;129;01mand\u001b[39;00m \u001b[38;5;28mself\u001b[39m\u001b[38;5;241m.\u001b[39mformat \u001b[38;5;129;01mnot\u001b[39;00m \u001b[38;5;129;01min\u001b[39;00m \u001b[38;5;28mself\u001b[39m\u001b[38;5;241m.\u001b[39m_ACCEPTABLE_EMBEDDINGS:\n\u001b[0;32m--> 961\u001b[0m     \u001b[38;5;28;01mraise\u001b[39;00m \u001b[38;5;167;01mValueError\u001b[39;00m(\u001b[38;5;124m\"\u001b[39m\u001b[38;5;124mCannot embed the \u001b[39m\u001b[38;5;124m'\u001b[39m\u001b[38;5;132;01m%s\u001b[39;00m\u001b[38;5;124m'\u001b[39m\u001b[38;5;124m image format\u001b[39m\u001b[38;5;124m\"\u001b[39m \u001b[38;5;241m%\u001b[39m (\u001b[38;5;28mself\u001b[39m\u001b[38;5;241m.\u001b[39mformat))\n\u001b[1;32m    962\u001b[0m \u001b[38;5;28;01mif\u001b[39;00m \u001b[38;5;28mself\u001b[39m\u001b[38;5;241m.\u001b[39membed:\n\u001b[1;32m    963\u001b[0m     \u001b[38;5;28mself\u001b[39m\u001b[38;5;241m.\u001b[39m_mimetype \u001b[38;5;241m=\u001b[39m \u001b[38;5;28mself\u001b[39m\u001b[38;5;241m.\u001b[39m_MIMETYPES\u001b[38;5;241m.\u001b[39mget(\u001b[38;5;28mself\u001b[39m\u001b[38;5;241m.\u001b[39mformat)\n",
      "\u001b[0;31mValueError\u001b[0m: Cannot embed the 'csv' image format"
     ]
    }
   ],
   "source": [
    "from IPython.display import Image, display\n",
    "\n",
    "txt_file_directory = \"./third_round/\"\n",
    "plots_folder = \"./plots/plots_3/\"\n",
    "\n",
    "sorted_txt_filenames = sorted(os.listdir(txt_file_directory))\n",
    "\n",
    "txt_filename = sorted_txt_filenames[0][:-4]\n",
    "\n",
    "image_dir_path = os.path.join(plots_folder, txt_filename)\n",
    "\n",
    "for image_path in os.listdir(image_dir_path):\n",
    "    \n",
    "    display(Image(filename = image_path))\n",
    "    break"
   ]
  },
  {
   "cell_type": "markdown",
   "metadata": {},
   "source": [
    "## Mann-Whitney U-Test"
   ]
  },
  {
   "cell_type": "code",
   "execution_count": null,
   "metadata": {},
   "outputs": [],
   "source": [
    "import numpy as np\n",
    "from scipy.stats import mannwhitneyu\n",
    "\n",
    "def compute_mann_whitney_u(scores, window1_size, window2_size):\n",
    "    \"\"\"\n",
    "    Computes the Mann-Whitney U test statistic and p-value between two sliding windows of scores.\n",
    "    \n",
    "    Args:\n",
    "        scores (list or np.array): A list or array of scores.\n",
    "        window1_size (int): The size of the first window.\n",
    "        window2_size (int): The size of the second window.\n",
    "        \n",
    "    Returns:\n",
    "        tuple: A tuple containing the U statistic and the p-value.\n",
    "    \"\"\"\n",
    "    # Ensure that the input is a numpy array\n",
    "    scores = np.array(scores)\n",
    "    \n",
    "    # Compute the number of scores\n",
    "    num_scores = len(scores)\n",
    "    \n",
    "    # Check if the windows are valid\n",
    "    if window1_size + window2_size != num_scores:\n",
    "        raise ValueError(\"The sum of the window sizes should be equal to the number of scores.\")\n",
    "    \n",
    "    # Define the two windows\n",
    "    window1 = scores[:window1_size]\n",
    "    window2 = scores[window2_size:]\n",
    "    \n",
    "    # Compute the Mann-Whitney U test\n",
    "    u_stat, p_val = mannwhitneyu(window1, window2, alternative='two-sided')\n",
    "    \n",
    "    return u_stat, p_val"
   ]
  }
 ],
 "metadata": {
  "kernelspec": {
   "display_name": "watermark",
   "language": "python",
   "name": "python3"
  },
  "language_info": {
   "codemirror_mode": {
    "name": "ipython",
    "version": 3
   },
   "file_extension": ".py",
   "mimetype": "text/x-python",
   "name": "python",
   "nbconvert_exporter": "python",
   "pygments_lexer": "ipython3",
   "version": "3.11.7"
  }
 },
 "nbformat": 4,
 "nbformat_minor": 2
}
