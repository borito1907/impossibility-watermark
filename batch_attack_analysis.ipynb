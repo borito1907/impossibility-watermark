{
 "cells": [
  {
   "cell_type": "code",
   "execution_count": 1,
   "metadata": {},
   "outputs": [
    {
     "name": "stdout",
     "output_type": "stream",
     "text": [
      "Summary for Entropy 1:\n",
      "Output Folder Corpuses Subdirectory      Attack File  Total Perturbations  Successful Perturbations\n",
      "     output_1              corpuses     attack_1.csv                  120                         8\n",
      "     output_1              corpuses     attack_2.csv                  258                        31\n",
      "     output_1              corpuses   attack_2_1.csv                 1258                        67\n",
      "     output_1              corpuses attack_2_1_1.csv                 1509                        67\n",
      "     output_1              corpuses attack_2_1_2.csv                 1509                        67\n",
      "     output_1              corpuses     attack_3.csv                  600                        33\n",
      "     output_1              corpuses   attack_3_1.csv                 1377                       103\n",
      "     output_1              corpuses attack_3_1_1.csv                 1426                       120\n",
      "     output_1              corpuses     attack_4.csv                  600                        50\n",
      "     output_1              corpuses   attack_4_1.csv                 1013                       105\n",
      "     output_1              corpuses     attack_5.csv                  951                       101\n",
      "     output_2              corpuses     attack_1.csv                  369                        48\n",
      "     output_2              corpuses   attack_1_1.csv                  572                       103\n",
      "     output_2              corpuses     attack_2.csv                  600                        55\n",
      "     output_2              corpuses   attack_2_1.csv                  827                       110\n",
      "     output_2              corpuses     attack_3.csv                 1000                        57\n",
      "     output_2              corpuses   attack_3_1.csv                 2000                        83\n",
      "     output_2              corpuses attack_3_1_1.csv                 2660                       100\n",
      "     output_2              corpuses     attack_4.csv                  843                       113\n",
      "     output_3              corpuses     attack_1.csv                 1076                       101\n",
      "     output_3              corpuses     attack_2.csv                 1494                       101\n",
      "     output_3              corpuses     attack_3.csv                  770                       101\n",
      "     output_3              corpuses     attack_4.csv                  411                       101\n"
     ]
    }
   ],
   "source": [
    "import os\n",
    "import pandas as pd\n",
    "\n",
    "def construct_entropy_folder_path(entropy):\n",
    "    return f\"./results/stationary_distribution/robustness_analysis/entropy_{entropy}\"\n",
    "\n",
    "def summarize_attack_data(entropy):\n",
    "    entropy_folder_path = construct_entropy_folder_path(entropy)\n",
    "    \n",
    "    if not os.path.exists(entropy_folder_path):\n",
    "        print(f\"Entropy folder not found: {entropy_folder_path}\")\n",
    "        return\n",
    "    \n",
    "    summary_data = []\n",
    "    \n",
    "    for output_folder in os.listdir(entropy_folder_path):\n",
    "        output_folder_path = os.path.join(entropy_folder_path, output_folder)\n",
    "        \n",
    "        if os.path.isdir(output_folder_path) and output_folder.startswith(\"output\"):\n",
    "            corpuses_path = os.path.join(output_folder_path, \"corpuses\")\n",
    "            \n",
    "            if os.path.exists(corpuses_path):\n",
    "                for attack_file in os.listdir(corpuses_path):\n",
    "                    if attack_file.startswith(\"attack_\") and attack_file.endswith(\".csv\"):\n",
    "                        attack_file_path = os.path.join(corpuses_path, attack_file)\n",
    "                        # print(f\"Processing file: {attack_file_path}\")  # Debugging print\n",
    "                        df = pd.read_csv(attack_file_path)\n",
    "                        \n",
    "                        total_perturbations = len(df) - 1\n",
    "                        successful_perturbations = df['quality_preserved'].sum()\n",
    "                        \n",
    "                        summary_data.append({\n",
    "                            'Output Folder': output_folder,\n",
    "                            'Corpuses Subdirectory': \"corpuses\",\n",
    "                            'Attack File': attack_file,\n",
    "                            'Total Perturbations': total_perturbations,\n",
    "                            'Successful Perturbations': successful_perturbations\n",
    "                        })\n",
    "            else:\n",
    "                print(f\"No 'corpuses' subdirectory found in {output_folder_path}\")\n",
    "                \n",
    "    if summary_data:\n",
    "        summary_df = pd.DataFrame(summary_data)\n",
    "        summary_df = summary_df.sort_values(['Output Folder', 'Attack File'])\n",
    "        print(f\"Summary for Entropy {entropy}:\")\n",
    "        print(summary_df.to_string(index=False))  # Changed to print\n",
    "\n",
    "if __name__ == '__main__':\n",
    "    entropy = input(\"Enter entropy: \")\n",
    "    summarize_attack_data(entropy)\n"
   ]
  },
  {
   "cell_type": "markdown",
   "metadata": {},
   "source": []
  }
 ],
 "metadata": {
  "kernelspec": {
   "display_name": "watermark",
   "language": "python",
   "name": "python3"
  },
  "language_info": {
   "codemirror_mode": {
    "name": "ipython",
    "version": 3
   },
   "file_extension": ".py",
   "mimetype": "text/x-python",
   "name": "python",
   "nbconvert_exporter": "python",
   "pygments_lexer": "ipython3",
   "version": "3.12.2"
  }
 },
 "nbformat": 4,
 "nbformat_minor": 2
}
