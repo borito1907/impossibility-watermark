{
 "cells": [
  {
   "cell_type": "code",
   "execution_count": 1,
   "metadata": {},
   "outputs": [
    {
     "name": "stderr",
     "output_type": "stream",
     "text": [
      "/local1/borito1907/anaconda3/envs/watermark/lib/python3.10/site-packages/transformers/utils/hub.py:127: FutureWarning: Using `TRANSFORMERS_CACHE` is deprecated and will be removed in v5 of Transformers. Use `HF_HOME` instead.\n",
      "  warnings.warn(\n"
     ]
    },
    {
     "data": {
      "application/vnd.jupyter.widget-view+json": {
       "model_id": "45e21074875e432f8549411052753b25",
       "version_major": 2,
       "version_minor": 0
      },
      "text/plain": [
       "tokenizer_config.json:   0%|          | 0.00/50.9k [00:00<?, ?B/s]"
      ]
     },
     "metadata": {},
     "output_type": "display_data"
    },
    {
     "data": {
      "application/vnd.jupyter.widget-view+json": {
       "model_id": "2ab7d7ea5de44d369a97113248735b1c",
       "version_major": 2,
       "version_minor": 0
      },
      "text/plain": [
       "tokenizer.json:   0%|          | 0.00/9.08M [00:00<?, ?B/s]"
      ]
     },
     "metadata": {},
     "output_type": "display_data"
    },
    {
     "data": {
      "application/vnd.jupyter.widget-view+json": {
       "model_id": "3791a8fb5fd64bfc8efc4720ac0818e2",
       "version_major": 2,
       "version_minor": 0
      },
      "text/plain": [
       "special_tokens_map.json:   0%|          | 0.00/301 [00:00<?, ?B/s]"
      ]
     },
     "metadata": {},
     "output_type": "display_data"
    }
   ],
   "source": [
    "from transformers import AutoModelForCausalLM, AutoTokenizer\n",
    "\n",
    "\n",
    "tokenizer = AutoTokenizer.from_pretrained(\n",
    "                \"MaziyarPanahi/Meta-Llama-3-70B-Instruct-GPTQ\", \n",
    "                use_fast=True)\n",
    "\n"
   ]
  },
  {
   "cell_type": "code",
   "execution_count": 4,
   "metadata": {},
   "outputs": [
    {
     "name": "stdout",
     "output_type": "stream",
     "text": [
      "\u000b\n"
     ]
    }
   ],
   "source": [
    "token_ids = [199, 201]\n",
    "\n",
    "# Decode the token IDs to get the corresponding text\n",
    "decoded_text = tokenizer.decode(token_ids)\n",
    "\n",
    "print(decoded_text)"
   ]
  },
  {
   "cell_type": "code",
   "execution_count": 60,
   "metadata": {},
   "outputs": [],
   "source": [
    "ids = tokenizer('Is it related to a particular book series, vgame,201, or perhaps a mythology?')"
   ]
  },
  {
   "cell_type": "code",
   "execution_count": 109,
   "metadata": {},
   "outputs": [],
   "source": [
    "ids2 = tokenizer(\"Surrounded by the majestic Alps,uu2019s picturesque landscapes,  snow-capped mountains and rolling hills Austria offers a high quality of life that seamlessly blends tradition with modernity From sipping coffee at a quaint Viennese cafe to hiking through the stunning Salzkammergut region or simply strolling along the tranquil Danube River you'll find endless opportunities to soak up the country's rich history and culture Not to mention the world-renowned chocolate cake and pastries that will satisfy any sweet tooth With its excellent healthcare system low crime rate and welcoming locals Austria has become a popular destination for expats and digital nomads alike Whether you're looking to immerse yourself in the vibrant cultural scene explore the great outdoors or simply enjoy a more relaxed pace of life Austria has something to offer everyoneassistant\")"
   ]
  },
  {
   "cell_type": "code",
   "execution_count": 110,
   "metadata": {},
   "outputs": [],
   "source": [
    "ids3 = tokenizer(\" filled with mythical creatures,199,, ancient magic,\")"
   ]
  },
  {
   "cell_type": "code",
   "execution_count": 111,
   "metadata": {},
   "outputs": [
    {
     "data": {
      "text/plain": [
       "{'input_ids': [3957, 433, 5552, 311, 264, 4040, 2363, 4101, 11, 348, 5924, 11, 679, 11, 477, 8530, 264, 59492, 30], 'attention_mask': [1, 1, 1, 1, 1, 1, 1, 1, 1, 1, 1, 1, 1, 1, 1, 1, 1, 1, 1]}"
      ]
     },
     "execution_count": 111,
     "metadata": {},
     "output_type": "execute_result"
    }
   ],
   "source": [
    "ids"
   ]
  },
  {
   "cell_type": "code",
   "execution_count": 112,
   "metadata": {},
   "outputs": [
    {
     "data": {
      "text/plain": [
       "{'input_ids': [23912, 45091, 555, 279, 81389, 94000, 11, 31172, 679, 24, 82, 75001, 55890, 11, 220, 12056, 1824, 5795, 24405, 323, 20700, 35231, 35998, 6209, 264, 1579, 4367, 315, 2324, 430, 61440, 58943, 14135, 449, 6617, 488, 5659, 274, 5772, 11033, 520, 264, 88608, 11655, 2734, 2423, 42030, 311, 38464, 1555, 279, 20441, 8375, 41796, 67699, 70, 332, 5654, 477, 5042, 357, 16608, 3235, 279, 68040, 11824, 3845, 11188, 499, 3358, 1505, 26762, 10708, 311, 61792, 709, 279, 3224, 596, 9257, 3925, 323, 7829, 2876, 311, 6420, 279, 1917, 94109, 18838, 18414, 19692, 323, 3347, 4108, 430, 690, 27651, 904, 10437, 26588, 3161, 1202, 9250, 18985, 1887, 3428, 9977, 4478, 323, 36387, 25958, 35998, 706, 3719, 264, 5526, 9284, 369, 1367, 1900, 323, 7528, 9859, 7819, 27083, 13440, 499, 2351, 3411, 311, 26612, 325, 6261, 304, 279, 34076, 13042, 6237, 13488, 279, 2294, 34632, 477, 5042, 4774, 264, 810, 31467, 18338, 315, 2324, 35998, 706, 2555, 311, 3085, 5127, 78191], 'attention_mask': [1, 1, 1, 1, 1, 1, 1, 1, 1, 1, 1, 1, 1, 1, 1, 1, 1, 1, 1, 1, 1, 1, 1, 1, 1, 1, 1, 1, 1, 1, 1, 1, 1, 1, 1, 1, 1, 1, 1, 1, 1, 1, 1, 1, 1, 1, 1, 1, 1, 1, 1, 1, 1, 1, 1, 1, 1, 1, 1, 1, 1, 1, 1, 1, 1, 1, 1, 1, 1, 1, 1, 1, 1, 1, 1, 1, 1, 1, 1, 1, 1, 1, 1, 1, 1, 1, 1, 1, 1, 1, 1, 1, 1, 1, 1, 1, 1, 1, 1, 1, 1, 1, 1, 1, 1, 1, 1, 1, 1, 1, 1, 1, 1, 1, 1, 1, 1, 1, 1, 1, 1, 1, 1, 1, 1, 1, 1, 1, 1, 1, 1, 1, 1, 1, 1, 1, 1, 1, 1, 1, 1, 1, 1, 1, 1, 1, 1, 1, 1, 1, 1, 1, 1, 1, 1, 1, 1, 1, 1]}"
      ]
     },
     "execution_count": 112,
     "metadata": {},
     "output_type": "execute_result"
    }
   ],
   "source": [
    "ids2"
   ]
  },
  {
   "cell_type": "code",
   "execution_count": 113,
   "metadata": {},
   "outputs": [
    {
     "data": {
      "text/plain": [
       "\"Surrounded by the majestic Alps,uu2019s picturesque landscapes,  snow-capped mountains and rolling hills Austria offers a high quality of life that seamlessly blends tradition with modernity From sipping coffee at a quaint Viennese cafe to hiking through the stunning Salzkammergut region or simply strolling along the tranquil Danube River you'll find endless opportunities to soak up the country's rich history and culture Not to mention the world-renowned chocolate cake and pastries that will satisfy any sweet tooth With its excellent healthcare system low crime rate and welcoming locals Austria has become a popular destination for expats and digital nomads alike Whether you're looking to immerse yourself in the vibrant cultural scene explore the great outdoors or simply enjoy a more relaxed pace of life Austria has something to offer everyoneassistant\""
      ]
     },
     "execution_count": 113,
     "metadata": {},
     "output_type": "execute_result"
    }
   ],
   "source": [
    "tokenizer.decode(ids2['input_ids'])"
   ]
  },
  {
   "cell_type": "code",
   "execution_count": 97,
   "metadata": {},
   "outputs": [
    {
     "data": {
      "text/plain": [
       "{'input_ids': [10409, 449, 84219, 20566, 11, 2550, 10856, 14154, 11204, 11], 'attention_mask': [1, 1, 1, 1, 1, 1, 1, 1, 1, 1]}"
      ]
     },
     "execution_count": 97,
     "metadata": {},
     "output_type": "execute_result"
    }
   ],
   "source": [
    "ids3"
   ]
  },
  {
   "cell_type": "code",
   "execution_count": 114,
   "metadata": {},
   "outputs": [
    {
     "data": {
      "text/plain": [
       "'uu'"
      ]
     },
     "execution_count": 114,
     "metadata": {},
     "output_type": "execute_result"
    }
   ],
   "source": [
    "tokenizer.decode([31172])"
   ]
  },
  {
   "cell_type": "code",
   "execution_count": 40,
   "metadata": {},
   "outputs": [
    {
     "data": {
      "application/vnd.jupyter.widget-view+json": {
       "model_id": "1f87e89a7534437dadf24148c5d4e596",
       "version_major": 2,
       "version_minor": 0
      },
      "text/plain": [
       "tokenizer_config.json:   0%|          | 0.00/51.0k [00:00<?, ?B/s]"
      ]
     },
     "metadata": {},
     "output_type": "display_data"
    },
    {
     "data": {
      "application/vnd.jupyter.widget-view+json": {
       "model_id": "935d841238414828a33ab53695de64f2",
       "version_major": 2,
       "version_minor": 0
      },
      "text/plain": [
       "tokenizer.json:   0%|          | 0.00/9.09M [00:00<?, ?B/s]"
      ]
     },
     "metadata": {},
     "output_type": "display_data"
    },
    {
     "data": {
      "application/vnd.jupyter.widget-view+json": {
       "model_id": "02a67f7a91e446c2b4db0643c8de4e35",
       "version_major": 2,
       "version_minor": 0
      },
      "text/plain": [
       "special_tokens_map.json:   0%|          | 0.00/73.0 [00:00<?, ?B/s]"
      ]
     },
     "metadata": {},
     "output_type": "display_data"
    }
   ],
   "source": [
    "tokenizer2 = AutoTokenizer.from_pretrained(\n",
    "                \"meta-llama/Meta-Llama-3-70B-Instruct\", \n",
    "                use_fast=True)\n"
   ]
  },
  {
   "cell_type": "code",
   "execution_count": 46,
   "metadata": {},
   "outputs": [],
   "source": [
    "tokenizer2.pad_token_id"
   ]
  },
  {
   "cell_type": "code",
   "execution_count": 47,
   "metadata": {},
   "outputs": [
    {
     "data": {
      "text/plain": [
       "'Is it related to a particular book series, vgame,201, or perhaps a mythology?'"
      ]
     },
     "execution_count": 47,
     "metadata": {},
     "output_type": "execute_result"
    }
   ],
   "source": [
    "tokenizer2.decode(ids['input_ids'])"
   ]
  },
  {
   "cell_type": "code",
   "execution_count": 5,
   "metadata": {},
   "outputs": [],
   "source": [
    "import pandas as pd\n",
    "\n",
    "df = pd.read_csv('/local1/borito1907/impossibility-watermark/inputs/dev_semstamp/watermarked_texts.csv')"
   ]
  },
  {
   "cell_type": "code",
   "execution_count": 6,
   "metadata": {},
   "outputs": [
    {
     "data": {
      "text/html": [
       "<div>\n",
       "<style scoped>\n",
       "    .dataframe tbody tr th:only-of-type {\n",
       "        vertical-align: middle;\n",
       "    }\n",
       "\n",
       "    .dataframe tbody tr th {\n",
       "        vertical-align: top;\n",
       "    }\n",
       "\n",
       "    .dataframe thead th {\n",
       "        text-align: right;\n",
       "    }\n",
       "</style>\n",
       "<table border=\"1\" class=\"dataframe\">\n",
       "  <thead>\n",
       "    <tr style=\"text-align: right;\">\n",
       "      <th></th>\n",
       "      <th>id</th>\n",
       "      <th>text</th>\n",
       "      <th>zscore</th>\n",
       "      <th>watermarking_scheme</th>\n",
       "      <th>model</th>\n",
       "    </tr>\n",
       "  </thead>\n",
       "  <tbody>\n",
       "    <tr>\n",
       "      <th>93</th>\n",
       "      <td>3480799188</td>\n",
       "      <td>Holy Magic Century is a fascinating topic! Fro...</td>\n",
       "      <td>2.556039</td>\n",
       "      <td>semstamp_lsh</td>\n",
       "      <td>MaziyarPanahi/Meta-Llama-3-70B-Instruct-GPTQ</td>\n",
       "    </tr>\n",
       "  </tbody>\n",
       "</table>\n",
       "</div>"
      ],
      "text/plain": [
       "            id                                               text    zscore  \\\n",
       "93  3480799188  Holy Magic Century is a fascinating topic! Fro...  2.556039   \n",
       "\n",
       "   watermarking_scheme                                         model  \n",
       "93        semstamp_lsh  MaziyarPanahi/Meta-Llama-3-70B-Instruct-GPTQ  "
      ]
     },
     "execution_count": 6,
     "metadata": {},
     "output_type": "execute_result"
    }
   ],
   "source": [
    "df[df['id'] == 3480799188]"
   ]
  },
  {
   "cell_type": "code",
   "execution_count": null,
   "metadata": {},
   "outputs": [],
   "source": []
  }
 ],
 "metadata": {
  "kernelspec": {
   "display_name": "watermark",
   "language": "python",
   "name": "python3"
  },
  "language_info": {
   "codemirror_mode": {
    "name": "ipython",
    "version": 3
   },
   "file_extension": ".py",
   "mimetype": "text/x-python",
   "name": "python",
   "nbconvert_exporter": "python",
   "pygments_lexer": "ipython3",
   "version": "3.10.14"
  }
 },
 "nbformat": 4,
 "nbformat_minor": 2
}
