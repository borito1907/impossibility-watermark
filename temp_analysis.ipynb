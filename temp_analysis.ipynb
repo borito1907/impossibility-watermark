{
 "cells": [
  {
   "cell_type": "code",
   "execution_count": 4,
   "metadata": {},
   "outputs": [
    {
     "name": "stdout",
     "output_type": "stream",
     "text": [
      "Results for 1_2-2_2_05_16_llama_mass_huge_batch.log:\n",
      "Perturbed 1 success rate: 30.00%\n",
      "Perturbed 2 success rate: 90.00%\n",
      "Results for 1_2-2_3_05_16_llama_mass_huge_batch.log:\n",
      "Perturbed 1 success rate: 40.00%\n",
      "Perturbed 2 success rate: 70.00%\n",
      "Results for 1_2-2_4_05_16_llama_mass_huge_batch.log:\n",
      "Perturbed 1 success rate: 20.00%\n",
      "Perturbed 2 success rate: 40.00%\n",
      "Results for 1_3-2_2_05_16_llama_mass_huge_batch.log:\n",
      "Perturbed 1 success rate: 60.00%\n",
      "Perturbed 2 success rate: 100.00%\n",
      "Results for 1_3-2_3_05_16_llama_mass_huge_batch.log:\n",
      "Perturbed 1 success rate: 70.00%\n",
      "Perturbed 2 success rate: 70.00%\n",
      "Results for 1_3-2_4_05_16_llama_mass_huge_batch.log:\n",
      "Perturbed 1 success rate: 80.00%\n",
      "Perturbed 2 success rate: 30.00%\n"
     ]
    }
   ],
   "source": [
    "import os\n",
    "import re\n",
    "\n",
    "def parse_log_file(file_path):\n",
    "    with open(file_path, 'r') as file:\n",
    "        lines = file.readlines()\n",
    "        \n",
    "    results = []\n",
    "    for line in lines:\n",
    "        match = re.search(r'\\[.*?\\]\\[__main__\\]\\[INFO\\] - Perturbed (\\d+) success rate: (\\d+\\.\\d+)%', line)\n",
    "        if match:\n",
    "            perturbed_number = int(match.group(1))\n",
    "            success_rate = float(match.group(2))\n",
    "            results.append((perturbed_number, success_rate))\n",
    "    return results\n",
    "\n",
    "def parse_logs_in_directory(directory_path):\n",
    "    log_files = [f for f in os.listdir(directory_path) if f.endswith('mass_huge_batch.log')]\n",
    "    \n",
    "    all_results = {}\n",
    "    for log_file in log_files:\n",
    "        file_path = os.path.join(directory_path, log_file)\n",
    "        results = parse_log_file(file_path)\n",
    "        all_results[log_file] = results\n",
    "    \n",
    "    return all_results\n",
    "\n",
    "# Example usage:\n",
    "directory_path = './results/stationary_distribution/robustness_analysis/entropy_6/distinguisher_results/'\n",
    "results = parse_logs_in_directory(directory_path)\n",
    "\n",
    "for log_file, log_results in results.items():\n",
    "    print(f'Results for {log_file}:')\n",
    "    for perturbed_number, success_rate in log_results:\n",
    "        print(f'Perturbed {perturbed_number} success rate: {success_rate:.2f}%')\n"
   ]
  },
  {
   "cell_type": "code",
   "execution_count": null,
   "metadata": {},
   "outputs": [],
   "source": []
  }
 ],
 "metadata": {
  "kernelspec": {
   "display_name": "watermark",
   "language": "python",
   "name": "python3"
  },
  "language_info": {
   "codemirror_mode": {
    "name": "ipython",
    "version": 3
   },
   "file_extension": ".py",
   "mimetype": "text/x-python",
   "name": "python",
   "nbconvert_exporter": "python",
   "pygments_lexer": "ipython3",
   "version": "3.12.2"
  }
 },
 "nbformat": 4,
 "nbformat_minor": 2
}
