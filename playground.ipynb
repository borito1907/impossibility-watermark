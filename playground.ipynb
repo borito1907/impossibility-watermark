{
 "cells": [
  {
   "cell_type": "code",
   "execution_count": 4,
   "metadata": {},
   "outputs": [
    {
     "data": {
      "text/plain": [
       "Index(['step_num', 'current_text', 'mutated_text', 'current_text_len',\n",
       "       'mutated_text_len', 'length_issue', 'quality_analysis',\n",
       "       'quality_preserved', 'watermark_detected', 'watermark_score',\n",
       "       'backtrack', 'timestamp'],\n",
       "      dtype='object')"
      ]
     },
     "execution_count": 4,
     "metadata": {},
     "output_type": "execute_result"
    }
   ],
   "source": [
    "import pandas as pd\n",
    "import matplotlib.pyplot as plt\n",
    "\n",
    "# df = pd.read_csv('./semstamp_attacks/filtered_data.csv')\n",
    "# df = pd.read_csv('semstamp_attacks/06_01_prompt_based_lotr_3.csv')\n",
    "# df = pd.read_csv('06_01_prompt_based_gpt.csv')\n",
    "df = pd.read_csv('semstamp_attacks/06_01_prompt_based_lotr_word.csv')\n",
    "\n",
    "df.columns"
   ]
  },
  {
   "cell_type": "code",
   "execution_count": 5,
   "metadata": {},
   "outputs": [
    {
     "data": {
      "text/plain": [
       "72"
      ]
     },
     "execution_count": 5,
     "metadata": {},
     "output_type": "execute_result"
    }
   ],
   "source": [
    "len(df)"
   ]
  },
  {
   "cell_type": "code",
   "execution_count": 6,
   "metadata": {},
   "outputs": [
    {
     "data": {
      "text/plain": [
       "'{\\'original_analysis\\': \\'### Analysis and Comparison of Responses:\\\\n\\\\n#### Repetition:\\\\n- Response A: Doesn\\\\\\'t have any unnecessary repetition.\\\\n- Response B: Contains repetitive sentences and phrases, such as \"The struggle for power is a dominant force that drives the plot forward, propelling characters towards their destinies.\" This repetition lowers the quality of the response.\\\\n\\\\n#### Grammar:\\\\n- Response A: Well-structured sentences with correct grammar and punctuation.\\\\n- Response B: Also well-structured with correct grammar and punctuation, except for missing a space before the dash in \"Middle-earth—including the Elves.\"\\\\n\\\\n#### Coherence:\\\\n- Both responses are well-structured and easy to follow. They present a coherent analysis of the role of power in the Lord of the Rings series.\\\\n\\\\n#### Relevance:\\\\n- Both responses directly address the given prompt by discussing the role of power in the Lord of the Rings series.\\\\n\\\\n#### Accuracy:\\\\n- Both responses accurately portray the significant role of power in the Lord of the Rings series and provide insightful examples to support their arguments.\\\\n\\\\n### Conclusion:\\\\nAfter careful analysis, Response A is considered better due to its lack of repetitive sentences and strong coherence. While Response B also provides a good analysis, the repetition of certain phrases diminishes its quality. Additionally, Response A maintains consistency throughout and is slightly more polished in terms of formatting.\\', \\'original_answer\\': \\'A\\', \\'followup_analysis\\': \\'### Analysis of Responses:\\\\n\\\\n#### Repetition:\\\\n- Response A and Response B both start with identical sentences which is unnecessary repetition.\\\\n- Both responses repeat the description of the One Ring being the primary embodiment of power, leading to repetition.\\\\n\\\\n#### Grammar:\\\\n- Both responses have good grammar, no capitalization errors, and punctuation mistakes.\\\\n\\\\n#### Coherence:\\\\n- Both responses are well-structured, with clear introduction, body paragraphs, and conclusion making them easy to understand.\\\\n\\\\n#### Relevance:\\\\n- Both responses directly address the given prompt by discussing the role of power in the Lord of the Rings series.\\\\n\\\\n#### Accuracy:\\\\n- Both responses accurately describe the central theme of power in the Lord of the Rings series without providing any misinformation.\\\\n\\\\n### Conclusion:\\\\nBoth responses A and B are equally well-written in terms of grammar, coherence, relevance, and accuracy. However, Response B is slightly better due to being more concise and avoiding unnecessary repetition in the introductory paragraph.\\', \\'followup_answer\\': \\'B\\', \\'quality_preserved\\': False}'"
      ]
     },
     "execution_count": 6,
     "metadata": {},
     "output_type": "execute_result"
    }
   ],
   "source": [
    "len_filtered_df = df[df[\"length_issue\"] == False]\n",
    "\n",
    "len_filtered_df[\"quality_analysis\"][1]"
   ]
  },
  {
   "cell_type": "code",
   "execution_count": 7,
   "metadata": {},
   "outputs": [
    {
     "data": {
      "text/plain": [
       "72"
      ]
     },
     "execution_count": 7,
     "metadata": {},
     "output_type": "execute_result"
    }
   ],
   "source": [
    "len(len_filtered_df)"
   ]
  },
  {
   "cell_type": "code",
   "execution_count": 8,
   "metadata": {},
   "outputs": [],
   "source": [
    "import pandas as pd\n",
    "import ast\n",
    "from collections import Counter\n",
    "\n",
    "def parse_and_aggregate_quality_analysis(data):\n",
    "    # Filter rows where 'length_issue' is False\n",
    "    filtered_data = data[data['length_issue'] == False]\n",
    "\n",
    "    # Convert the quality_analysis column from string to dictionary\n",
    "    quality_analysis_dicts = filtered_data['quality_analysis'].apply(ast.literal_eval)\n",
    "\n",
    "    # Initialize counters for original and follow-up analyses\n",
    "    original_analysis_counter = Counter()\n",
    "    followup_analysis_counter = Counter()\n",
    "\n",
    "    for analysis in quality_analysis_dicts:\n",
    "        # Extract original and followup analyses\n",
    "        original_answer = analysis.get('original_answer', '')\n",
    "        followup_answer = analysis.get('followup_answer', '')\n",
    "\n",
    "        # Update the counters\n",
    "        original_analysis_counter[original_answer] += 1\n",
    "        if followup_answer:\n",
    "            followup_analysis_counter[followup_answer] += 1\n",
    "\n",
    "    # Convert counters to DataFrames for better readability\n",
    "    original_analysis_agg = pd.DataFrame(original_analysis_counter.items(), columns=['Analysis', 'Count'])\n",
    "    followup_analysis_agg = pd.DataFrame(followup_analysis_counter.items(), columns=['Analysis', 'Count'])\n",
    "\n",
    "    return original_analysis_agg, followup_analysis_agg\n",
    "\n",
    "# Example usage with the provided data\n",
    "original_analysis_agg, followup_analysis_agg = parse_and_aggregate_quality_analysis(len_filtered_df)\n",
    "\n"
   ]
  },
  {
   "cell_type": "code",
   "execution_count": 9,
   "metadata": {},
   "outputs": [
    {
     "data": {
      "text/html": [
       "<div>\n",
       "<style scoped>\n",
       "    .dataframe tbody tr th:only-of-type {\n",
       "        vertical-align: middle;\n",
       "    }\n",
       "\n",
       "    .dataframe tbody tr th {\n",
       "        vertical-align: top;\n",
       "    }\n",
       "\n",
       "    .dataframe thead th {\n",
       "        text-align: right;\n",
       "    }\n",
       "</style>\n",
       "<table border=\"1\" class=\"dataframe\">\n",
       "  <thead>\n",
       "    <tr style=\"text-align: right;\">\n",
       "      <th></th>\n",
       "      <th>Analysis</th>\n",
       "      <th>Count</th>\n",
       "    </tr>\n",
       "  </thead>\n",
       "  <tbody>\n",
       "    <tr>\n",
       "      <th>0</th>\n",
       "      <td>A</td>\n",
       "      <td>29</td>\n",
       "    </tr>\n",
       "    <tr>\n",
       "      <th>1</th>\n",
       "      <td>Equal</td>\n",
       "      <td>34</td>\n",
       "    </tr>\n",
       "    <tr>\n",
       "      <th>2</th>\n",
       "      <td>B</td>\n",
       "      <td>9</td>\n",
       "    </tr>\n",
       "  </tbody>\n",
       "</table>\n",
       "</div>"
      ],
      "text/plain": [
       "  Analysis  Count\n",
       "0        A     29\n",
       "1    Equal     34\n",
       "2        B      9"
      ]
     },
     "execution_count": 9,
     "metadata": {},
     "output_type": "execute_result"
    }
   ],
   "source": [
    "original_analysis_agg"
   ]
  },
  {
   "cell_type": "code",
   "execution_count": 10,
   "metadata": {},
   "outputs": [
    {
     "data": {
      "text/html": [
       "<div>\n",
       "<style scoped>\n",
       "    .dataframe tbody tr th:only-of-type {\n",
       "        vertical-align: middle;\n",
       "    }\n",
       "\n",
       "    .dataframe tbody tr th {\n",
       "        vertical-align: top;\n",
       "    }\n",
       "\n",
       "    .dataframe thead th {\n",
       "        text-align: right;\n",
       "    }\n",
       "</style>\n",
       "<table border=\"1\" class=\"dataframe\">\n",
       "  <thead>\n",
       "    <tr style=\"text-align: right;\">\n",
       "      <th></th>\n",
       "      <th>Analysis</th>\n",
       "      <th>Count</th>\n",
       "    </tr>\n",
       "  </thead>\n",
       "  <tbody>\n",
       "    <tr>\n",
       "      <th>0</th>\n",
       "      <td>A</td>\n",
       "      <td>18</td>\n",
       "    </tr>\n",
       "    <tr>\n",
       "      <th>1</th>\n",
       "      <td>B</td>\n",
       "      <td>9</td>\n",
       "    </tr>\n",
       "    <tr>\n",
       "      <th>2</th>\n",
       "      <td>Equal</td>\n",
       "      <td>45</td>\n",
       "    </tr>\n",
       "  </tbody>\n",
       "</table>\n",
       "</div>"
      ],
      "text/plain": [
       "  Analysis  Count\n",
       "0        A     18\n",
       "1        B      9\n",
       "2    Equal     45"
      ]
     },
     "execution_count": 10,
     "metadata": {},
     "output_type": "execute_result"
    }
   ],
   "source": [
    "followup_analysis_agg"
   ]
  },
  {
   "cell_type": "code",
   "execution_count": 11,
   "metadata": {},
   "outputs": [],
   "source": [
    "quality_preserved_df = df[df['quality_preserved'] == True]"
   ]
  },
  {
   "cell_type": "code",
   "execution_count": 12,
   "metadata": {},
   "outputs": [
    {
     "data": {
      "text/plain": [
       "40"
      ]
     },
     "execution_count": 12,
     "metadata": {},
     "output_type": "execute_result"
    }
   ],
   "source": [
    "len(quality_preserved_df)"
   ]
  },
  {
   "cell_type": "code",
   "execution_count": 19,
   "metadata": {},
   "outputs": [
    {
     "data": {
      "text/plain": [
       "\" In J.R.R. Tolkien's esteemed Lord of the Rings series, power is a pervasive and profound theme that underscores the narrative's exploration of morality, toils, and triumphs. The struggle for power is a dominant force that drives the plot forward, propelling characters towards their destinies. The primary embodiment of power in the series is, undoubtedly, the One Ring. Forged by the Dark Lord Sauron, this talismanic artifact represents the apex of dark power, corrupting all who come into contact with it. The Ring's insidious influence seduces even the strongest of wills, exemplified by Boromir's tragic fallibility. As the quest to destroy the Ring unfolds, the pernicious nature of power becomes increasingly apparent, its corrosive effects seeping into the very fabric of Middle-earth's social hierarchy. Conversely, the free peoples of Middle-earth – including the Elves, Dwarves, and Humans – exemplify an alternative form of power: one rooted in wisdom, courage, and fellowship. This benevolent power is epitomized by the Fellowship's collective efforts to vanquish Sauron's malevolent regime. The leader of this coalition, Aragorn (Strider), embodies the responsible exercise of power demonstrating humility, empathy, and selflessness throughout his journey. \""
      ]
     },
     "execution_count": 19,
     "metadata": {},
     "output_type": "execute_result"
    }
   ],
   "source": [
    "quality_preserved_df[\"mutated_text\"].iloc[1]"
   ]
  },
  {
   "cell_type": "code",
   "execution_count": 20,
   "metadata": {},
   "outputs": [
    {
     "data": {
      "image/png": "[encoded data removed]",
      "text/plain": [
       "<Figure size 1000x600 with 1 Axes>"
      ]
     },
     "metadata": {},
     "output_type": "display_data"
    }
   ],
   "source": [
    "\n",
    "# Plotting the watermark_scores\n",
    "plt.figure(figsize=(10, 6))\n",
    "plt.plot(df['watermark_score'], marker='o', linestyle='-', color='b')\n",
    "plt.title('Watermark Scores')\n",
    "plt.xlabel('Index')\n",
    "plt.ylabel('Watermark Score')\n",
    "plt.grid(True)\n",
    "plt.show()"
   ]
  },
  {
   "cell_type": "code",
   "execution_count": 14,
   "metadata": {},
   "outputs": [
    {
     "data": {
      "text/plain": [
       "\" In J.R.R. Tolkien's esteemed Lord of the Rings series, power is a pervasive and profound theme that underscores the narrative's themes of morality, toils, and triumphs. The struggle for power is a dominant force that drives the plot forward, propelling characters towards their destinies. The primary embodiment of power in the series is, undoubtedly, the One Ring. Forged by the Dark Lord Sauron, this talismanic artifact represents the apex of dark power, corrupting all who come into contact with it. The Ring's insidious influence seduces even the strongest of wills, exemplified by Boromir's tragic fallibility. As the quest to destroy the Ring unfolds, the pernicious nature of power becomes increasingly apparent, its corrosive effects seeping into the very fabric of Middle-earth's social hierarchy. Conversely, the free peoples of Middle-earth – including the Elves, Dwarves, and Humans – exemplify an alternative form of power: one rooted in wisdom, courage, and fellowship. This benevolent power is epitomized by the Fellowship's collective efforts to vanquish Sauron's malevolent regime. The leader of this coalition, Aragorn (Strider), personifies the responsible exercise of power, demonstrating humility, empathy, and selflessness throughout his journey. \""
      ]
     },
     "execution_count": 14,
     "metadata": {},
     "output_type": "execute_result"
    }
   ],
   "source": [
    "df['mutated_text'].iloc[0]"
   ]
  },
  {
   "cell_type": "markdown",
   "metadata": {},
   "source": [
    "##### LALALALA"
   ]
  },
  {
   "cell_type": "code",
   "execution_count": 2,
   "metadata": {},
   "outputs": [
    {
     "data": {
      "text/plain": [
       "300"
      ]
     },
     "execution_count": 2,
     "metadata": {},
     "output_type": "execute_result"
    }
   ],
   "source": [
    "import pandas as pd\n",
    "\n",
    "df = pd.read_csv('/local1/borito1907/impossibility-watermark/data/WQE/val.csv')\n",
    "len(df)"
   ]
  },
  {
   "cell_type": "code",
   "execution_count": 3,
   "metadata": {},
   "outputs": [
    {
     "data": {
      "text/plain": [
       "1400"
      ]
     },
     "execution_count": 3,
     "metadata": {},
     "output_type": "execute_result"
    }
   ],
   "source": [
    "df = pd.read_csv('/local1/borito1907/impossibility-watermark/data/WQE/test.csv')\n",
    "len(df)"
   ]
  },
  {
   "cell_type": "code",
   "execution_count": null,
   "metadata": {},
   "outputs": [],
   "source": []
  }
 ],
 "metadata": {
  "kernelspec": {
   "display_name": "watermark",
   "language": "python",
   "name": "python3"
  },
  "language_info": {
   "codemirror_mode": {
    "name": "ipython",
    "version": 3
   },
   "file_extension": ".py",
   "mimetype": "text/x-python",
   "name": "python",
   "nbconvert_exporter": "python",
   "pygments_lexer": "ipython3",
   "version": "3.10.14"
  }
 },
 "nbformat": 4,
 "nbformat_minor": 2
}
