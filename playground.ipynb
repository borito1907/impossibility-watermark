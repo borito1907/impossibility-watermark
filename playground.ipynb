{
 "cells": [
  {
   "cell_type": "code",
   "execution_count": 2,
   "metadata": {},
   "outputs": [],
   "source": [
    "import os\n",
    "import json\n",
    "import shutil\n",
    "from utils import find_csv, count_words, get_prompt_and_completion_from_json, query_openai, get_completion_from_openai, save_to_csv"
   ]
  },
  {
   "cell_type": "code",
   "execution_count": 3,
   "metadata": {},
   "outputs": [
    {
     "name": "stdout",
     "output_type": "stream",
     "text": [
      "Data appended to ./inputs/dynamic_prompts.csv\n"
     ]
    }
   ],
   "source": [
    "# Prompt/Watermarked Output File Prepper\n",
    "\n",
    "prompt = \"\"\"Write a 250-word story about Evan, an American tourist, who falls for Emilie, a lively barista, during a spring festival in Paris. They bond over their love for art and the city's charm, leading to walks along the Seine, where the festival's joy spills over. Their connection deepens amid shared laughter and explorations of quaint streets.\"\"\"\n",
    "stats = [{'num': 5, 'text': prompt}]\n",
    "save_to_csv(stats, './inputs','dynamic_prompts.csv')"
   ]
  },
  {
   "cell_type": "code",
   "execution_count": 5,
   "metadata": {},
   "outputs": [
    {
     "name": "stdout",
     "output_type": "stream",
     "text": [
      "Filename: 4_evan_1_1.txt\n",
      "CSV Filename: attack_2024-03-04.23.36.12.csv\n",
      "CSV Filepath: ./eval/results/attack_2024-03-04.23.36.12.csv\n",
      "New CSV Filepath: ./eval/results/4_evan_1_1.csv\n",
      "Filename: 4_evan_1_2.txt\n",
      "CSV Filename: attack_2024-03-04.23.40.54.csv\n",
      "CSV Filepath: ./eval/results/attack_2024-03-04.23.40.54.csv\n",
      "New CSV Filepath: ./eval/results/4_evan_1_2.csv\n",
      "Filename: 4_evan_1_3.txt\n",
      "CSV Filename: attack_2024-03-04.23.41.59.csv\n",
      "CSV Filepath: ./eval/results/attack_2024-03-04.23.41.59.csv\n",
      "New CSV Filepath: ./eval/results/4_evan_1_3.csv\n",
      "Filename: 4_evan_3_1.txt\n",
      "CSV Filename: attack_2024-03-04.23.57.13.csv\n",
      "CSV Filepath: ./eval/results/attack_2024-03-04.23.57.13.csv\n",
      "New CSV Filepath: ./eval/results/4_evan_3_1.csv\n",
      "Filename: 4_evan_3_2.txt\n",
      "CSV Filename: attack_2024-03-04.23.57.26.csv\n",
      "CSV Filepath: ./eval/results/attack_2024-03-04.23.57.26.csv\n",
      "New CSV Filepath: ./eval/results/4_evan_3_2.csv\n",
      "Filename: 4_evan_1_1_1.txt\n",
      "CSV Filename: 4_evan_1_1_1.csv\n",
      "CSV Filepath: ./eval/results/4_evan_1_1_1.csv\n",
      "New CSV Filepath: ./eval/results/4_evan_1_1_1.csv\n",
      "Filename: 4_evan_1_2_1.txt\n",
      "CSV Filename: 4_evan_1_2_1.csv\n",
      "CSV Filepath: ./eval/results/4_evan_1_2_1.csv\n",
      "New CSV Filepath: ./eval/results/4_evan_1_2_1.csv\n",
      "Filename: 4_evan_1_3_1.txt\n",
      "CSV Filename: 4_evan_1_3_1.csv\n",
      "CSV Filepath: ./eval/results/4_evan_1_3_1.csv\n",
      "New CSV Filepath: ./eval/results/4_evan_1_3_1.csv\n",
      "Filename: 4_evan_2_1.txt\n",
      "CSV Filename: attack_2024-03-05.12.45.47.csv\n",
      "CSV Filepath: ./eval/results/attack_2024-03-05.12.45.47.csv\n",
      "New CSV Filepath: ./eval/results/4_evan_2_1.csv\n",
      "Filename: 4_evan_2_2.txt\n",
      "CSV Filename: attack_2024-03-05.12.46.07.csv\n",
      "CSV Filepath: ./eval/results/attack_2024-03-05.12.46.07.csv\n",
      "New CSV Filepath: ./eval/results/4_evan_2_2.csv\n",
      "Filename: 4_evan_2_3.txt\n",
      "CSV Filename: attack_2024-03-05.12.46.14.csv\n",
      "CSV Filepath: ./eval/results/attack_2024-03-05.12.46.14.csv\n",
      "New CSV Filepath: ./eval/results/4_evan_2_3.csv\n",
      "Filename: 4_evan_2_4.txt\n",
      "CSV Filename: attack_2024-03-05.12.46.17.csv\n",
      "CSV Filepath: ./eval/results/attack_2024-03-05.12.46.17.csv\n",
      "New CSV Filepath: ./eval/results/4_evan_2_4.csv\n"
     ]
    }
   ],
   "source": [
    "# Rename CSV Files like text files\n",
    "\n",
    "txt_file_directory = \"./fourth_round/\"\n",
    "csv_file_directory = './eval/results/'\n",
    "for txt_filename in os.listdir(txt_file_directory):\n",
    "    print(f\"Filename: {txt_filename}\")\n",
    "    txt_filepath = os.path.join(txt_file_directory, txt_filename)\n",
    "    csv_filename = find_csv(txt_filepath)\n",
    "    if csv_filename is None:\n",
    "        csv_filename = txt_filename[:-4] + '.csv'\n",
    "    print(f\"CSV Filename: {csv_filename}\")\n",
    "    csv_filepath = os.path.join(csv_file_directory, csv_filename)\n",
    "    print(f\"CSV Filepath: {csv_filepath}\")\n",
    "    new_csv_filepath = os.path.join(csv_file_directory, f\"{txt_filename[:-4]}.csv\")\n",
    "    print(f\"New CSV Filepath: {new_csv_filepath}\")\n",
    "    # Move the file\n",
    "    if csv_filepath != new_csv_filepath:\n",
    "        shutil.copy(csv_filepath, new_csv_filepath)"
   ]
  },
  {
   "cell_type": "code",
   "execution_count": null,
   "metadata": {},
   "outputs": [],
   "source": []
  }
 ],
 "metadata": {
  "kernelspec": {
   "display_name": "watermark",
   "language": "python",
   "name": "python3"
  },
  "language_info": {
   "codemirror_mode": {
    "name": "ipython",
    "version": 3
   },
   "file_extension": ".py",
   "mimetype": "text/x-python",
   "name": "python",
   "nbconvert_exporter": "python",
   "pygments_lexer": "ipython3",
   "version": "3.11.7"
  }
 },
 "nbformat": 4,
 "nbformat_minor": 2
}
