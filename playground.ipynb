{
 "cells": [
  {
   "cell_type": "code",
   "execution_count": 3,
   "metadata": {},
   "outputs": [],
   "source": [
    "import os\n",
    "import json\n",
    "import shutil\n",
    "from utils import save_to_csv, get_mutated_text, get_nth_successful_perturbation\n",
    "import pandas as pd"
   ]
  },
  {
   "cell_type": "code",
   "execution_count": 8,
   "metadata": {},
   "outputs": [
    {
     "name": "stdout",
     "output_type": "stream",
     "text": [
      "Data appended to ./inputs/round_7_outputs.csv\n"
     ]
    }
   ],
   "source": [
    "# Prompt/Watermarked Output File Prepper\n",
    "\n",
    "prompt = \"\"\"In the heart of Paris, amidst the labyrinth of its charming streets, Evan, an American tourist, found himself in a quaint café that seemed to be a portal to a bygone era. Behind the counter, preparing coffee with an artist's precision, was Emilie, a barista whose smile had the warmth of the Parisian sun. The moment Evan saw her, his heart whispered tales of love, a feeling so sudden yet profound.\n",
    "\n",
    "Evan became a regular at the café, not just for the coffee but for the chance encounters that allowed him to steal moments with Emilie. Their conversations, filled with laughter and shared dreams, soon blossomed into a beautiful friendship. It wasn't long before they found themselves wandering along the banks of the Seine, immersed in the city's enchanting lights and their burgeoning love.\n",
    "\n",
    "Their adventures led them to the majestic Louvre, where amidst the whispers of history and art, they discovered the timeless beauty of love. The paintings and sculptures bore witness to their growing affection, a testament to their own unfolding story.\n",
    "\n",
    "On a clear, starry night, they found a secluded spot by the river for a picnic. Surrounded by the melody of the night and the glow of the city, Evan confessed his feelings under the Parisian sky. Emilie, with tears of joy in her eyes, reciprocated, sealing their love.\n",
    "\n",
    "Years later, Evan and Emilie, now married, reminisce about their Parisian love story, a tale of serendipity and destiny. Their love, like the city that brought them together, remains timeless, a beacon of happiness and togetherness. In Paris, they found love, and in each other, they found home.\"\"\"\n",
    "stats = [{'num': 2, 'text': prompt}]\n",
    "save_to_csv(stats, './inputs','round_7_outputs.csv')"
   ]
  },
  {
   "cell_type": "code",
   "execution_count": 9,
   "metadata": {},
   "outputs": [
    {
     "data": {
      "text/plain": [
       "\"Evan, an American tourist, strolled lazily along the cobblestone veins of Paris in the spring, captivated by its allure. He stumbled upon a quaint bistro, the aroma of freshly brewed coffee and recently baked pastries drawing him in. Here, he received a warm welcome from Emily, the barista, whose jovial nature and vibrant smile brightened his day. Regular visits became routine, driven not just by the appeal of caffeine and carbs, but also by Emily's radiant grin. Despite linguistic hurdles, their exchanges flowed smoothly due to their common interests - espresso and croissants. This mutual fascination fostered a bond and mutual respect between them. As time went on, Evan found himself increasingly drawn to Emily. Paris' charm echoed his internal struggle, as he balanced local commitments with escalating feelings for Emily. One evening, while wandering near the Seine, their relationship deepened. As he readied to depart, he confided in Emily, sharing that Paris had provided him not only with a travel journal but also an emotional voyage filled with significant meaning. On his final visit to the cafe, he expressed these sentiments to Emily. She listened intently, comprehending every word, her expression mirroring comprehension and empathy. Both acknowledged the ephemeral nature of their companionship, valuing it as a unique chapter within the narrative of their lives. Post-travel, Evan fondly remembered Paris and Emily, chronicling an unforeseen romance, symbolic of how love can be both impactful and transient.\""
      ]
     },
     "execution_count": 9,
     "metadata": {},
     "output_type": "execute_result"
    }
   ],
   "source": [
    "entropy = 1\n",
    "output = 1\n",
    "attack_id = \"2_1\"\n",
    "\n",
    "csv_file_directory = f\"results/stationary_distribution/robustness_analysis/entropy_{entropy}/\"\n",
    "\n",
    "first_perturbed_csv_filename = f\"output_{output}/corpuses/attack_{attack_id}.csv\"\n",
    "csv_file_path = os.path.join(csv_file_directory, first_perturbed_csv_filename)\n",
    "\n",
    "text = get_nth_successful_perturbation(csv_file_path, 30)\n",
    "\n",
    "text"
   ]
  },
  {
   "cell_type": "code",
   "execution_count": null,
   "metadata": {},
   "outputs": [],
   "source": [
    "entropy = 1\n",
    "output = 1\n",
    "attack_id = \"2_1\"\n",
    "\n",
    "csv_file_directory = f\"results/stationary_distribution/robustness_analysis/entropy_{entropy}/\"\n",
    "first_perturbed_csv_filename = f\"output_{output}/corpuses/attack_{attack_id}.csv\"\n",
    "csv_file_path = os.path.join(csv_file_directory, first_perturbed_csv_filename)\n",
    "\n"
   ]
  },
  {
   "cell_type": "code",
   "execution_count": 6,
   "metadata": {},
   "outputs": [
    {
     "data": {
      "text/plain": [
       "num                                                     7\n",
       "text    Write me a 250-word story: \\n\\n* Evan is an Am...\n",
       "Name: 6, dtype: object"
      ]
     },
     "execution_count": 6,
     "metadata": {},
     "output_type": "execute_result"
    }
   ],
   "source": [
    "df = pd.read_csv(\"/local1/borito1907/impossibility-watermark/inputs/dynamic_prompts.csv\")\n",
    "df.iloc[-1]"
   ]
  },
  {
   "cell_type": "code",
   "execution_count": 4,
   "metadata": {},
   "outputs": [
    {
     "name": "stdout",
     "output_type": "stream",
     "text": [
      "[]\n"
     ]
    }
   ],
   "source": [
    "from langchain_core.prompts import PromptTemplate\n",
    "import textwrap\n",
    "\n",
    "second_instructions = textwrap.dedent(\"\"\"\n",
    "Response: {{response}}\n",
    "                                                   \n",
    "Read the above the response given by another LLM. Does the LLM think Story A was created from Story 1 or Story 2?\n",
    "                                                   \n",
    "If the LLM thinks it is Story 1, respond with a 1. If the LLM thinks it is story 2, respond with a 2.\"\"\")\n",
    "    \n",
    "second_prompt = PromptTemplate(\n",
    "    input_variables=[\"response\"],\n",
    "    template=second_instructions\n",
    ")\n",
    "\n",
    "print(second_prompt.input_variables)"
   ]
  },
  {
   "cell_type": "code",
   "execution_count": 7,
   "metadata": {},
   "outputs": [
    {
     "name": "stdout",
     "output_type": "stream",
     "text": [
      "input_variables=['story_1', 'story_2', 'story_a'] template='\\nStory 1: {story_1}\\n\\nStory 2: {story_2}\\n\\nStory A: {story_a}\\n\\nStory A was created by modifying Story 1 or Story 2. Which one? Explain your reasoning in-depth before responding. Both stories have similar themes and plots, so focus on specific details to\\nmake a decision.'\n"
     ]
    }
   ],
   "source": [
    "first_instructions = textwrap.dedent(\"\"\"\n",
    "Story 1: {story_1}\n",
    "\n",
    "Story 2: {story_2}\n",
    "\n",
    "Story A: {story_a}\n",
    "                                            \n",
    "Story A was created by modifying Story 1 or Story 2. Which one? Explain your reasoning in-depth before responding. Both stories have similar themes and plots, so focus on specific details to\n",
    "make a decision.\"\"\")\n",
    "\n",
    "first_prompt = PromptTemplate(\n",
    "    template=first_instructions,\n",
    "    input_variables=[\"story_1\", \"story_2\", \"story_a\"],\n",
    ")\n",
    "\n",
    "print(first_prompt)\n",
    "\n"
   ]
  },
  {
   "cell_type": "code",
   "execution_count": null,
   "metadata": {},
   "outputs": [],
   "source": []
  }
 ],
 "metadata": {
  "kernelspec": {
   "display_name": "watermark",
   "language": "python",
   "name": "python3"
  },
  "language_info": {
   "codemirror_mode": {
    "name": "ipython",
    "version": 3
   },
   "file_extension": ".py",
   "mimetype": "text/x-python",
   "name": "python",
   "nbconvert_exporter": "python",
   "pygments_lexer": "ipython3",
   "version": "3.12.2"
  }
 },
 "nbformat": 4,
 "nbformat_minor": 2
}
