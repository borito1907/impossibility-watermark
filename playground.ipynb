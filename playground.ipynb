{
 "cells": [
  {
   "cell_type": "code",
   "execution_count": 2,
   "metadata": {},
   "outputs": [],
   "source": [
    "import os\n",
    "import json\n",
    "import shutil\n",
    "from utils import find_csv, count_words, get_prompt_and_completion_from_json, query_openai, get_completion_from_openai, save_to_csv"
   ]
  },
  {
   "cell_type": "code",
   "execution_count": 3,
   "metadata": {},
   "outputs": [
    {
     "name": "stdout",
     "output_type": "stream",
     "text": [
      "Data appended to ./inputs/dynamic_prompts.csv\n"
     ]
    }
   ],
   "source": [
    "# Prompt/Watermarked Output File Prepper\n",
    "\n",
    "prompt = \"\"\"Write a 250-word story about Evan, an American tourist, who falls for Emilie, a lively barista, during a spring festival in Paris. They bond over their love for art and the city's charm, leading to walks along the Seine, where the festival's joy spills over. Their connection deepens amid shared laughter and explorations of quaint streets.\"\"\"\n",
    "stats = [{'num': 5, 'text': prompt}]\n",
    "save_to_csv(stats, './inputs','dynamic_prompts.csv')"
   ]
  },
  {
   "cell_type": "code",
   "execution_count": 3,
   "metadata": {},
   "outputs": [
    {
     "name": "stderr",
     "output_type": "stream",
     "text": [
      "<>:1: SyntaxWarning: invalid escape sequence '\\I'\n",
      "<>:6: SyntaxWarning: invalid escape sequence '\\I'\n",
      "<>:1: SyntaxWarning: invalid escape sequence '\\I'\n",
      "<>:6: SyntaxWarning: invalid escape sequence '\\I'\n",
      "/tmp/ipykernel_3896631/1408337641.py:1: SyntaxWarning: invalid escape sequence '\\I'\n",
      "  yazi = \"\"\"[INST]\n",
      "/tmp/ipykernel_3896631/1408337641.py:6: SyntaxWarning: invalid escape sequence '\\I'\n",
      "  yazi = yazi.replace(\"\"\"[INST]\n"
     ]
    },
    {
     "data": {
      "text/plain": [
       "'Their connection naturally transcended the boundaries of the café, prompting quiet, riverside walks together along the Seine at dusk. There, they exchanged private thoughts and formed a deeper bond under the gentle veil of nightfall.'"
      ]
     },
     "execution_count": 3,
     "metadata": {},
     "output_type": "execute_result"
    }
   ],
   "source": [
    "yazi = \"\"\"[INST]\n",
    "Rewrite this sentence, introducing subtle shifts in its meaning: Inevitably, their bond surpassed the confines of the café, leading them to embark on tranquil nighttime strolls alongside the River Seine, sharing whispered secrets beneath the soft embrace of twilight.\n",
    "[\\INST]\n",
    "Their connection naturally transcended the boundaries of the café, prompting quiet, riverside walks together along the Seine at dusk. There, they exchanged private thoughts and formed a deeper bond under the gentle veil of nightfall.\"\"\"\n",
    "\n",
    "yazi = yazi.replace(\"\"\"[INST]\n",
    "Rewrite this sentence, introducing subtle shifts in its meaning: Inevitably, their bond surpassed the confines of the café, leading them to embark on tranquil nighttime strolls alongside the River Seine, sharing whispered secrets beneath the soft embrace of twilight.\n",
    "[\\INST]\"\"\", \"\").strip()\n",
    "\n",
    "yazi"
   ]
  },
  {
   "cell_type": "code",
   "execution_count": null,
   "metadata": {},
   "outputs": [],
   "source": []
  }
 ],
 "metadata": {
  "kernelspec": {
   "display_name": "watermark",
   "language": "python",
   "name": "python3"
  },
  "language_info": {
   "codemirror_mode": {
    "name": "ipython",
    "version": 3
   },
   "file_extension": ".py",
   "mimetype": "text/x-python",
   "name": "python",
   "nbconvert_exporter": "python",
   "pygments_lexer": "ipython3",
   "version": "3.12.2"
  }
 },
 "nbformat": 4,
 "nbformat_minor": 2
}
