{
 "cells": [
  {
   "cell_type": "code",
   "execution_count": 2,
   "metadata": {},
   "outputs": [],
   "source": [
    "import os\n",
    "import json\n",
    "import shutil\n",
    "from utils import save_to_csv"
   ]
  },
  {
   "cell_type": "code",
   "execution_count": 3,
   "metadata": {},
   "outputs": [
    {
     "name": "stdout",
     "output_type": "stream",
     "text": [
      "Data appended to ./inputs/round_6_outputs.csv\n"
     ]
    }
   ],
   "source": [
    "# Prompt/Watermarked Output File Prepper\n",
    "\n",
    "prompt = \"\"\"Evan, an American tourist with a keen eye for beauty and history, found himself wandering the vibrant streets of Paris during its annual spring festival. The city was alive, its streets blooming with the joys of the season, and the Seine, a mirror to the city's soul, flowed with a gentle reminder of the eternal. It was in a quaint café, nestled in the heart of this celebration, that Evan's adventure took an unexpected turn.\n",
    "\n",
    "Behind the counter was Emilie, a barista whose spirit was as lively as the streets outside. With a smile that could rival the Parisian sun, she crafted her coffees with an artist's precision, her laughter blending with the murmur of the café like a melody. Evan, drawn to this vibrant soul, found himself returning to the café each morning, their conversations soon flowing as freely as the river nearby.\n",
    "\n",
    "They shared a love for art, finding common ground in the rich tapestry of Parisian culture, its museums, and galleries offering endless adventures. Emilie introduced Evan to the city's lesser-known gems, each walk along the Seine revealing more of the city’s charm and deepening the connection between them.\n",
    "\n",
    "The festival's joy was infectious, spilling over into their every encounter. Evenings found them exploring the lively streets, the city's lights reflecting in their eyes, a silent promise of the moments yet to unfold. In the city of love, amidst the blossoms of spring, Evan found himself not just falling for Paris but for Emilie, the lively barista who embodied the city's soul.\"\"\"\n",
    "stats = [{'num': 2, 'text': prompt}]\n",
    "save_to_csv(stats, './inputs','round_6_outputs.csv')"
   ]
  },
  {
   "cell_type": "code",
   "execution_count": null,
   "metadata": {},
   "outputs": [],
   "source": []
  }
 ],
 "metadata": {
  "kernelspec": {
   "display_name": "watermark",
   "language": "python",
   "name": "python3"
  },
  "language_info": {
   "codemirror_mode": {
    "name": "ipython",
    "version": 3
   },
   "file_extension": ".py",
   "mimetype": "text/x-python",
   "name": "python",
   "nbconvert_exporter": "python",
   "pygments_lexer": "ipython3",
   "version": "3.12.2"
  }
 },
 "nbformat": 4,
 "nbformat_minor": 2
}
