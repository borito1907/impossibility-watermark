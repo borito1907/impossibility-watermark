{
 "cells": [
  {
   "cell_type": "code",
   "execution_count": 13,
   "metadata": {},
   "outputs": [
    {
     "data": {
      "text/plain": [
       "Index(['step_num', 'current_text', 'mutated_text', 'current_text_len',\n",
       "       'mutated_text_len', 'length_issue', 'quality_analysis',\n",
       "       'quality_preserved', 'watermark_detected', 'watermark_score',\n",
       "       'backtrack', 'timestamp'],\n",
       "      dtype='object')"
      ]
     },
     "execution_count": 13,
     "metadata": {},
     "output_type": "execute_result"
    }
   ],
   "source": [
    "import pandas as pd\n",
    "import matplotlib.pyplot as plt\n",
    "\n",
    "# df = pd.read_csv('./semstamp_attacks/filtered_data.csv')\n",
    "# df = pd.read_csv('semstamp_attacks/06_01_prompt_based_lotr_3.csv')\n",
    "df = pd.read_csv('06_01_prompt_based_gpt.csv')\n",
    "\n",
    "df.columns"
   ]
  },
  {
   "cell_type": "code",
   "execution_count": 14,
   "metadata": {},
   "outputs": [
    {
     "data": {
      "text/plain": [
       "25"
      ]
     },
     "execution_count": 14,
     "metadata": {},
     "output_type": "execute_result"
    }
   ],
   "source": [
    "len(df)"
   ]
  },
  {
   "cell_type": "code",
   "execution_count": 15,
   "metadata": {},
   "outputs": [
    {
     "data": {
      "text/plain": [
       "'{\\'original_analysis\\': \\'### Analysis and Recommendation:\\\\n\\\\nBoth Response A and Response B are very similar in content and structure. They both effectively discuss the role of power in the Lord of the Rings series, mentioning key aspects such as the One Ring\\\\\\'s corrupting influence and the contrasting benevolent power of the free peoples.\\\\n\\\\nHowever, Response A has slightly better coherence and flow due to the use of transitional phrases like \"Conversely\" to connect ideas. Response A also introduces Boromir\\\\\\'s tragic fallibility to provide a deeper analysis of the corrupting influence of power.\\\\n\\\\nIn terms of grammar and accuracy, both responses are equally strong with no noticeable errors.\\\\n\\\\nAlthough Response B is well-written, Response A offers a bit more depth and insight into the theme of power by including additional details and transitions. Therefore, **I recommend Response A** as the better choice for its nuanced analysis and enhanced coherence.\\', \\'original_answer\\': \\'A\\', \\'followup_analysis\\': \\'### Response Analysis:\\\\n\\\\n1. **Repetition:** Both responses have a significant amount of repetition. They essentially cover the same points and structure the ideas in the same way, making them redundant.\\\\n\\\\n2. **Grammar:** Both responses are well-written in terms of grammar. There are no glaring grammatical errors, capitalization mistakes, or punctuation issues present.\\\\n\\\\n3. **Coherence:** Both responses are coherent and well-structured. The ideas flow logically from one point to the next, creating a clear and cohesive essay.\\\\n\\\\n4. **Relevance:** Both responses directly address the given prompt by discussing the role of power in the Lord of the Rings series. They elaborate on how power influences characters and shapes the narrative.\\\\n\\\\n5. **Accuracy:** Both responses accurately capture the essence of the role of power in the Lord of the Rings series. The analysis of the One Ring, its influence on characters, and the contrasting forms of power represented by different groups in Middle-earth are on point.\\\\n\\\\n### Conclusion:\\\\nIn analyzing both responses, it is clear that they are very similar in content, structure, and quality. The only notable difference between them is a single word change (\"conversely\" to \"in contrast\"). Since both responses are equally well-written and cover the same points, it ultimately comes down to personal preference regarding which transition word fits better – \"conversely\" or \"in contrast.\"\\', \\'followup_answer\\': \\'Equal\\', \\'quality_preserved\\': False}'"
      ]
     },
     "execution_count": 15,
     "metadata": {},
     "output_type": "execute_result"
    }
   ],
   "source": [
    "len_filtered_df = df[df[\"length_issue\"] == False]\n",
    "\n",
    "len_filtered_df[\"quality_analysis\"][1]\n",
    "\n"
   ]
  },
  {
   "cell_type": "code",
   "execution_count": 16,
   "metadata": {},
   "outputs": [
    {
     "data": {
      "text/plain": [
       "21"
      ]
     },
     "execution_count": 16,
     "metadata": {},
     "output_type": "execute_result"
    }
   ],
   "source": [
    "len(len_filtered_df)"
   ]
  },
  {
   "cell_type": "code",
   "execution_count": 17,
   "metadata": {},
   "outputs": [],
   "source": [
    "import pandas as pd\n",
    "import ast\n",
    "from collections import Counter\n",
    "\n",
    "def parse_and_aggregate_quality_analysis(data):\n",
    "    # Filter rows where 'length_issue' is False\n",
    "    filtered_data = data[data['length_issue'] == False]\n",
    "\n",
    "    # Convert the quality_analysis column from string to dictionary\n",
    "    quality_analysis_dicts = filtered_data['quality_analysis'].apply(ast.literal_eval)\n",
    "\n",
    "    # Initialize counters for original and follow-up analyses\n",
    "    original_analysis_counter = Counter()\n",
    "    followup_analysis_counter = Counter()\n",
    "\n",
    "    for analysis in quality_analysis_dicts:\n",
    "        # Extract original and followup analyses\n",
    "        original_answer = analysis.get('original_answer', '')\n",
    "        followup_answer = analysis.get('followup_answer', '')\n",
    "\n",
    "        # Update the counters\n",
    "        original_analysis_counter[original_answer] += 1\n",
    "        if followup_answer:\n",
    "            followup_analysis_counter[followup_answer] += 1\n",
    "\n",
    "    # Convert counters to DataFrames for better readability\n",
    "    original_analysis_agg = pd.DataFrame(original_analysis_counter.items(), columns=['Analysis', 'Count'])\n",
    "    followup_analysis_agg = pd.DataFrame(followup_analysis_counter.items(), columns=['Analysis', 'Count'])\n",
    "\n",
    "    return original_analysis_agg, followup_analysis_agg\n",
    "\n",
    "# Example usage with the provided data\n",
    "original_analysis_agg, followup_analysis_agg = parse_and_aggregate_quality_analysis(len_filtered_df)\n",
    "\n"
   ]
  },
  {
   "cell_type": "code",
   "execution_count": 18,
   "metadata": {},
   "outputs": [
    {
     "data": {
      "text/html": [
       "<div>\n",
       "<style scoped>\n",
       "    .dataframe tbody tr th:only-of-type {\n",
       "        vertical-align: middle;\n",
       "    }\n",
       "\n",
       "    .dataframe tbody tr th {\n",
       "        vertical-align: top;\n",
       "    }\n",
       "\n",
       "    .dataframe thead th {\n",
       "        text-align: right;\n",
       "    }\n",
       "</style>\n",
       "<table border=\"1\" class=\"dataframe\">\n",
       "  <thead>\n",
       "    <tr style=\"text-align: right;\">\n",
       "      <th></th>\n",
       "      <th>Analysis</th>\n",
       "      <th>Count</th>\n",
       "    </tr>\n",
       "  </thead>\n",
       "  <tbody>\n",
       "    <tr>\n",
       "      <th>0</th>\n",
       "      <td>B</td>\n",
       "      <td>5</td>\n",
       "    </tr>\n",
       "    <tr>\n",
       "      <th>1</th>\n",
       "      <td>A</td>\n",
       "      <td>8</td>\n",
       "    </tr>\n",
       "    <tr>\n",
       "      <th>2</th>\n",
       "      <td>Equal</td>\n",
       "      <td>8</td>\n",
       "    </tr>\n",
       "  </tbody>\n",
       "</table>\n",
       "</div>"
      ],
      "text/plain": [
       "  Analysis  Count\n",
       "0        B      5\n",
       "1        A      8\n",
       "2    Equal      8"
      ]
     },
     "execution_count": 18,
     "metadata": {},
     "output_type": "execute_result"
    }
   ],
   "source": [
    "original_analysis_agg"
   ]
  },
  {
   "cell_type": "code",
   "execution_count": 19,
   "metadata": {},
   "outputs": [
    {
     "data": {
      "text/html": [
       "<div>\n",
       "<style scoped>\n",
       "    .dataframe tbody tr th:only-of-type {\n",
       "        vertical-align: middle;\n",
       "    }\n",
       "\n",
       "    .dataframe tbody tr th {\n",
       "        vertical-align: top;\n",
       "    }\n",
       "\n",
       "    .dataframe thead th {\n",
       "        text-align: right;\n",
       "    }\n",
       "</style>\n",
       "<table border=\"1\" class=\"dataframe\">\n",
       "  <thead>\n",
       "    <tr style=\"text-align: right;\">\n",
       "      <th></th>\n",
       "      <th>Analysis</th>\n",
       "      <th>Count</th>\n",
       "    </tr>\n",
       "  </thead>\n",
       "  <tbody>\n",
       "    <tr>\n",
       "      <th>0</th>\n",
       "      <td>A</td>\n",
       "      <td>9</td>\n",
       "    </tr>\n",
       "    <tr>\n",
       "      <th>1</th>\n",
       "      <td>Equal</td>\n",
       "      <td>11</td>\n",
       "    </tr>\n",
       "    <tr>\n",
       "      <th>2</th>\n",
       "      <td>B</td>\n",
       "      <td>1</td>\n",
       "    </tr>\n",
       "  </tbody>\n",
       "</table>\n",
       "</div>"
      ],
      "text/plain": [
       "  Analysis  Count\n",
       "0        A      9\n",
       "1    Equal     11\n",
       "2        B      1"
      ]
     },
     "execution_count": 19,
     "metadata": {},
     "output_type": "execute_result"
    }
   ],
   "source": [
    "followup_analysis_agg"
   ]
  },
  {
   "cell_type": "code",
   "execution_count": 20,
   "metadata": {},
   "outputs": [],
   "source": [
    "quality_preserved_df = df[df['quality_preserved'] == True]"
   ]
  },
  {
   "cell_type": "code",
   "execution_count": 21,
   "metadata": {},
   "outputs": [
    {
     "data": {
      "text/plain": [
       "13"
      ]
     },
     "execution_count": 21,
     "metadata": {},
     "output_type": "execute_result"
    }
   ],
   "source": [
    "len(quality_preserved_df)"
   ]
  },
  {
   "cell_type": "code",
   "execution_count": 22,
   "metadata": {},
   "outputs": [
    {
     "data": {
      "image/png": "[encoded data removed]",
      "text/plain": [
       "<Figure size 1000x600 with 1 Axes>"
      ]
     },
     "metadata": {},
     "output_type": "display_data"
    }
   ],
   "source": [
    "\n",
    "# Plotting the watermark_scores\n",
    "plt.figure(figsize=(10, 6))\n",
    "plt.plot(df['watermark_score'], marker='o', linestyle='-', color='b')\n",
    "plt.title('Watermark Scores')\n",
    "plt.xlabel('Index')\n",
    "plt.ylabel('Watermark Score')\n",
    "plt.grid(True)\n",
    "plt.show()"
   ]
  },
  {
   "cell_type": "code",
   "execution_count": 26,
   "metadata": {},
   "outputs": [
    {
     "data": {
      "text/plain": [
       "\"In J.R.R. Tolkien's esteemed Lord of the Rings series, power is a pervasive and profound theme that underscores the narrative's exploration of morality, toils, and triumphs. The struggle for power is a dominant force that drives the plot forward, propelling characters towards their destinies. The primary embodiment of power in the series is, undoubtedly, the One Ring. Crafted by the Dark Lord Sauron, this cursed artifact embodies the pinnacle of dark power, exerting a corrupting influence on all who touch it. The Ring's insidious influence seduces even the strongest of wills, exemplified by Boromir's tragic fallibility. As the quest to destroy the Ring unfolds, the pernicious nature of power becomes increasingly apparent, its corrosive effects seeping into the very fabric of Middle-earth's social hierarchy. Conversely, the free peoples of Middle-earth – including the Elves, Dwarves, and Humans – exemplify an alternative form of power: one rooted in wisdom, courage, and fellowship. This benevolent power is epitomized by the Fellowship's collective efforts to vanquish Sauron's malevolent regime. The leader of this coalition, Aragorn (Strider), personifies the responsible exercise of power, demonstrating humility, empathy, and selflessness throughout his journey.\""
      ]
     },
     "execution_count": 26,
     "metadata": {},
     "output_type": "execute_result"
    }
   ],
   "source": [
    "df['mutated_text'].iloc[0]"
   ]
  },
  {
   "cell_type": "code",
   "execution_count": null,
   "metadata": {},
   "outputs": [],
   "source": []
  }
 ],
 "metadata": {
  "kernelspec": {
   "display_name": "watermark",
   "language": "python",
   "name": "python3"
  },
  "language_info": {
   "codemirror_mode": {
    "name": "ipython",
    "version": 3
   },
   "file_extension": ".py",
   "mimetype": "text/x-python",
   "name": "python",
   "nbconvert_exporter": "python",
   "pygments_lexer": "ipython3",
   "version": "3.10.14"
  }
 },
 "nbformat": 4,
 "nbformat_minor": 2
}
