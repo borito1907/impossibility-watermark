{
 "cells": [
  {
   "cell_type": "code",
   "execution_count": 28,
   "metadata": {},
   "outputs": [],
   "source": [
    "import pandas as pd"
   ]
  },
  {
   "cell_type": "markdown",
   "metadata": {},
   "source": [
    "### Analyze SemStamp Generations with low z-score or failure"
   ]
  },
  {
   "cell_type": "code",
   "execution_count": 29,
   "metadata": {},
   "outputs": [],
   "source": [
    "semstamp = pd.read_csv('/local1/borito1907/impossibility-watermark/inputs/dev_semstamp/watermarked_texts.csv')\n",
    "semstamp_regen = pd.read_csv('/local1/borito1907/impossibility-watermark/inputs/dev_semstamp_regen/watermarked_texts.csv')"
   ]
  },
  {
   "cell_type": "code",
   "execution_count": 30,
   "metadata": {},
   "outputs": [
    {
     "data": {
      "text/plain": [
       "58"
      ]
     },
     "execution_count": 30,
     "metadata": {},
     "output_type": "execute_result"
    }
   ],
   "source": [
    "len(semstamp[semstamp['zscore'] < 3])"
   ]
  },
  {
   "cell_type": "code",
   "execution_count": 31,
   "metadata": {},
   "outputs": [
    {
     "data": {
      "text/html": [
       "<div>\n",
       "<style scoped>\n",
       "    .dataframe tbody tr th:only-of-type {\n",
       "        vertical-align: middle;\n",
       "    }\n",
       "\n",
       "    .dataframe tbody tr th {\n",
       "        vertical-align: top;\n",
       "    }\n",
       "\n",
       "    .dataframe thead th {\n",
       "        text-align: right;\n",
       "    }\n",
       "</style>\n",
       "<table border=\"1\" class=\"dataframe\">\n",
       "  <thead>\n",
       "    <tr style=\"text-align: right;\">\n",
       "      <th></th>\n",
       "      <th>id</th>\n",
       "      <th>text</th>\n",
       "      <th>zscore</th>\n",
       "      <th>watermarking_scheme</th>\n",
       "      <th>model</th>\n",
       "    </tr>\n",
       "  </thead>\n",
       "  <tbody>\n",
       "    <tr>\n",
       "      <th>9</th>\n",
       "      <td>3096214989</td>\n",
       "      <td>Here is an essay about the \"hot dog electrocut...</td>\n",
       "      <td>0.980196</td>\n",
       "      <td>semstamp_lsh</td>\n",
       "      <td>MaziyarPanahi/Meta-Llama-3-70B-Instruct-GPTQ</td>\n",
       "    </tr>\n",
       "    <tr>\n",
       "      <th>23</th>\n",
       "      <td>1597293371</td>\n",
       "      <td>Here is a C program that detects DLL injection...</td>\n",
       "      <td>1.732051</td>\n",
       "      <td>semstamp_lsh</td>\n",
       "      <td>MaziyarPanahi/Meta-Llama-3-70B-Instruct-GPTQ</td>\n",
       "    </tr>\n",
       "    <tr>\n",
       "      <th>25</th>\n",
       "      <td>3766590058</td>\n",
       "      <td>Here are some new novel ideas across various g...</td>\n",
       "      <td>0.816497</td>\n",
       "      <td>semstamp_lsh</td>\n",
       "      <td>MaziyarPanahi/Meta-Llama-3-70B-Instruct-GPTQ</td>\n",
       "    </tr>\n",
       "    <tr>\n",
       "      <th>34</th>\n",
       "      <td>355073874</td>\n",
       "      <td>Creating a complete video player in Python wit...</td>\n",
       "      <td>1.666667</td>\n",
       "      <td>semstamp_lsh</td>\n",
       "      <td>MaziyarPanahi/Meta-Llama-3-70B-Instruct-GPTQ</td>\n",
       "    </tr>\n",
       "    <tr>\n",
       "      <th>45</th>\n",
       "      <td>4215140113</td>\n",
       "      <td>Here is the classic \"Hello, World!\" program in...</td>\n",
       "      <td>0.745356</td>\n",
       "      <td>semstamp_lsh</td>\n",
       "      <td>MaziyarPanahi/Meta-Llama-3-70B-Instruct-GPTQ</td>\n",
       "    </tr>\n",
       "    <tr>\n",
       "      <th>46</th>\n",
       "      <td>193910852</td>\n",
       "      <td>The founder of modern astronautics is Konstant...</td>\n",
       "      <td>0.870388</td>\n",
       "      <td>semstamp_lsh</td>\n",
       "      <td>MaziyarPanahi/Meta-Llama-3-70B-Instruct-GPTQ</td>\n",
       "    </tr>\n",
       "    <tr>\n",
       "      <th>53</th>\n",
       "      <td>3175821665</td>\n",
       "      <td>A fascinating topic in nuclear physics!\\n\\nNuc...</td>\n",
       "      <td>1.347151</td>\n",
       "      <td>semstamp_lsh</td>\n",
       "      <td>MaziyarPanahi/Meta-Llama-3-70B-Instruct-GPTQ</td>\n",
       "    </tr>\n",
       "    <tr>\n",
       "      <th>54</th>\n",
       "      <td>320070813</td>\n",
       "      <td>I apologize, some confusion here!\\n\\nVincent v...</td>\n",
       "      <td>1.347151</td>\n",
       "      <td>semstamp_lsh</td>\n",
       "      <td>MaziyarPanahi/Meta-Llama-3-70B-Instruct-GPTQ</td>\n",
       "    </tr>\n",
       "    <tr>\n",
       "      <th>55</th>\n",
       "      <td>2740954635</td>\n",
       "      <td>I think there may be some confusion here!\\n\\nA...</td>\n",
       "      <td>1.091089</td>\n",
       "      <td>semstamp_lsh</td>\n",
       "      <td>MaziyarPanahi/Meta-Llama-3-70B-Instruct-GPTQ</td>\n",
       "    </tr>\n",
       "    <tr>\n",
       "      <th>57</th>\n",
       "      <td>2732058171</td>\n",
       "      <td>The Alfa Romeo 164!\\n\\nOne of the most unique ...</td>\n",
       "      <td>1.095445</td>\n",
       "      <td>semstamp_lsh</td>\n",
       "      <td>MaziyarPanahi/Meta-Llama-3-70B-Instruct-GPTQ</td>\n",
       "    </tr>\n",
       "  </tbody>\n",
       "</table>\n",
       "</div>"
      ],
      "text/plain": [
       "            id                                               text    zscore  \\\n",
       "9   3096214989  Here is an essay about the \"hot dog electrocut...  0.980196   \n",
       "23  1597293371  Here is a C program that detects DLL injection...  1.732051   \n",
       "25  3766590058  Here are some new novel ideas across various g...  0.816497   \n",
       "34   355073874  Creating a complete video player in Python wit...  1.666667   \n",
       "45  4215140113  Here is the classic \"Hello, World!\" program in...  0.745356   \n",
       "46   193910852  The founder of modern astronautics is Konstant...  0.870388   \n",
       "53  3175821665  A fascinating topic in nuclear physics!\\n\\nNuc...  1.347151   \n",
       "54   320070813  I apologize, some confusion here!\\n\\nVincent v...  1.347151   \n",
       "55  2740954635  I think there may be some confusion here!\\n\\nA...  1.091089   \n",
       "57  2732058171  The Alfa Romeo 164!\\n\\nOne of the most unique ...  1.095445   \n",
       "\n",
       "   watermarking_scheme                                         model  \n",
       "9         semstamp_lsh  MaziyarPanahi/Meta-Llama-3-70B-Instruct-GPTQ  \n",
       "23        semstamp_lsh  MaziyarPanahi/Meta-Llama-3-70B-Instruct-GPTQ  \n",
       "25        semstamp_lsh  MaziyarPanahi/Meta-Llama-3-70B-Instruct-GPTQ  \n",
       "34        semstamp_lsh  MaziyarPanahi/Meta-Llama-3-70B-Instruct-GPTQ  \n",
       "45        semstamp_lsh  MaziyarPanahi/Meta-Llama-3-70B-Instruct-GPTQ  \n",
       "46        semstamp_lsh  MaziyarPanahi/Meta-Llama-3-70B-Instruct-GPTQ  \n",
       "53        semstamp_lsh  MaziyarPanahi/Meta-Llama-3-70B-Instruct-GPTQ  \n",
       "54        semstamp_lsh  MaziyarPanahi/Meta-Llama-3-70B-Instruct-GPTQ  \n",
       "55        semstamp_lsh  MaziyarPanahi/Meta-Llama-3-70B-Instruct-GPTQ  \n",
       "57        semstamp_lsh  MaziyarPanahi/Meta-Llama-3-70B-Instruct-GPTQ  "
      ]
     },
     "execution_count": 31,
     "metadata": {},
     "output_type": "execute_result"
    }
   ],
   "source": [
    "semstamp[semstamp['zscore'] < 2].head(10)"
   ]
  },
  {
   "cell_type": "code",
   "execution_count": 34,
   "metadata": {},
   "outputs": [
    {
     "name": "stdout",
     "output_type": "stream",
     "text": [
      "IDs in df1 but not in df2: [3359225860, 812682245, 1827179908, 2427411471, 1433151637, 3685312925, 2488576159, 2485458980, 3126507428, 808411944, 2046128425, 4292800712, 1804415178, 701281102, 3158391763, 1068482775, 3740859354, 2095526493, 3643961439, 2272523237, 2276137578, 2971134321, 2569765367, 2239247101]\n"
     ]
    },
    {
     "data": {
      "text/plain": [
       "[3359225860,\n",
       " 812682245,\n",
       " 1827179908,\n",
       " 2427411471,\n",
       " 1433151637,\n",
       " 3685312925,\n",
       " 2488576159,\n",
       " 2485458980,\n",
       " 3126507428,\n",
       " 808411944,\n",
       " 2046128425,\n",
       " 4292800712,\n",
       " 1804415178,\n",
       " 701281102,\n",
       " 3158391763,\n",
       " 1068482775,\n",
       " 3740859354,\n",
       " 2095526493,\n",
       " 3643961439,\n",
       " 2272523237,\n",
       " 2276137578,\n",
       " 2971134321,\n",
       " 2569765367,\n",
       " 2239247101]"
      ]
     },
     "execution_count": 34,
     "metadata": {},
     "output_type": "execute_result"
    }
   ],
   "source": [
    "import pandas as pd\n",
    "\n",
    "df1 = pd.read_csv('/local1/borito1907/impossibility-watermark/data/WQE/dev.csv')\n",
    "\n",
    "# Extract the ID columns\n",
    "ids_df1 = set(df1['id'])\n",
    "ids_df2 = set(semstamp['id'])\n",
    "ids_in_df1_not_in_df2 = list(ids_df1 - ids_df2)\n",
    "\n",
    "print(f\"IDs in df1 but not in df2: {ids_in_df1_not_in_df2}\")\n",
    "\n",
    "ids_in_df1_not_in_df2"
   ]
  },
  {
   "cell_type": "code",
   "execution_count": 35,
   "metadata": {},
   "outputs": [
    {
     "data": {
      "text/plain": [
       "[[3359225860, 812682245, 1827179908, 2427411471, 1433151637],\n",
       " [3685312925, 2488576159, 2485458980, 3126507428, 808411944],\n",
       " [2046128425, 4292800712, 1804415178, 701281102, 3158391763],\n",
       " [1068482775, 3740859354, 2095526493, 3643961439, 2272523237],\n",
       " [2276137578, 2971134321, 2569765367, 2239247101]]"
      ]
     },
     "execution_count": 35,
     "metadata": {},
     "output_type": "execute_result"
    }
   ],
   "source": [
    "def divide_list(input_list, chunk_size=5):\n",
    "    return [input_list[i:i + chunk_size] for i in range(0, len(input_list), chunk_size)]\n",
    "\n",
    "divide_list(ids_in_df1_not_in_df2)"
   ]
  },
  {
   "cell_type": "code",
   "execution_count": null,
   "metadata": {},
   "outputs": [],
   "source": []
  }
 ],
 "metadata": {
  "kernelspec": {
   "display_name": "watermark",
   "language": "python",
   "name": "python3"
  },
  "language_info": {
   "codemirror_mode": {
    "name": "ipython",
    "version": 3
   },
   "file_extension": ".py",
   "mimetype": "text/x-python",
   "name": "python",
   "nbconvert_exporter": "python",
   "pygments_lexer": "ipython3",
   "version": "3.10.14"
  }
 },
 "nbformat": 4,
 "nbformat_minor": 2
}
