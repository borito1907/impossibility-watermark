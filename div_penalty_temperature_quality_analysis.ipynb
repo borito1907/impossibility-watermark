{
 "cells": [
  {
   "cell_type": "markdown",
   "metadata": {},
   "source": [
    "## Imports"
   ]
  },
  {
   "cell_type": "code",
   "execution_count": 15,
   "metadata": {},
   "outputs": [],
   "source": [
    "import pandas as pd\n",
    "import matplotlib.pyplot as plt\n",
    "import os\n",
    "import re"
   ]
  },
  {
   "cell_type": "markdown",
   "metadata": {},
   "source": [
    "## Single File Analysis"
   ]
  },
  {
   "cell_type": "code",
   "execution_count": 16,
   "metadata": {},
   "outputs": [
    {
     "data": {
      "text/html": [
       "<div>\n",
       "<style scoped>\n",
       "    .dataframe tbody tr th:only-of-type {\n",
       "        vertical-align: middle;\n",
       "    }\n",
       "\n",
       "    .dataframe tbody tr th {\n",
       "        vertical-align: top;\n",
       "    }\n",
       "\n",
       "    .dataframe thead th {\n",
       "        text-align: right;\n",
       "    }\n",
       "</style>\n",
       "<table border=\"1\" class=\"dataframe\">\n",
       "  <thead>\n",
       "    <tr style=\"text-align: right;\">\n",
       "      <th></th>\n",
       "      <th>total_sentences</th>\n",
       "      <th>candidate_text</th>\n",
       "      <th>passed_margin_test</th>\n",
       "      <th>candidate_text_lsh</th>\n",
       "      <th>accept_mask</th>\n",
       "      <th>one_sentence</th>\n",
       "      <th>current_num_tries</th>\n",
       "      <th>is_in_accept_mask</th>\n",
       "    </tr>\n",
       "  </thead>\n",
       "  <tbody>\n",
       "    <tr>\n",
       "      <th>0</th>\n",
       "      <td>1</td>\n",
       "      <td>She finds herself caught in the middle of a c...</td>\n",
       "      <td>True</td>\n",
       "      <td>7.0</td>\n",
       "      <td>6,0</td>\n",
       "      <td>True</td>\n",
       "      <td>1</td>\n",
       "      <td>False</td>\n",
       "    </tr>\n",
       "    <tr>\n",
       "      <th>1</th>\n",
       "      <td>2</td>\n",
       "      <td>Captain Marvel 2 is reportedly happening, and...</td>\n",
       "      <td>True</td>\n",
       "      <td>7.0</td>\n",
       "      <td>6,0</td>\n",
       "      <td>True</td>\n",
       "      <td>2</td>\n",
       "      <td>False</td>\n",
       "    </tr>\n",
       "    <tr>\n",
       "      <th>2</th>\n",
       "      <td>3</td>\n",
       "      <td>Here are all the best Captain Marvel quotes a...</td>\n",
       "      <td>True</td>\n",
       "      <td>1.0</td>\n",
       "      <td>6,0</td>\n",
       "      <td>True</td>\n",
       "      <td>3</td>\n",
       "      <td>False</td>\n",
       "    </tr>\n",
       "    <tr>\n",
       "      <th>3</th>\n",
       "      <td>4</td>\n",
       "      <td>It was announced today that a sequel to Capta...</td>\n",
       "      <td>True</td>\n",
       "      <td>7.0</td>\n",
       "      <td>6,0</td>\n",
       "      <td>True</td>\n",
       "      <td>4</td>\n",
       "      <td>False</td>\n",
       "    </tr>\n",
       "    <tr>\n",
       "      <th>4</th>\n",
       "      <td>5</td>\n",
       "      <td>Captain Marvel also stars Samuel L. Jackson, ...</td>\n",
       "      <td>True</td>\n",
       "      <td>2.0</td>\n",
       "      <td>6,0</td>\n",
       "      <td>True</td>\n",
       "      <td>5</td>\n",
       "      <td>False</td>\n",
       "    </tr>\n",
       "  </tbody>\n",
       "</table>\n",
       "</div>"
      ],
      "text/plain": [
       "   total_sentences                                     candidate_text  \\\n",
       "0                1   She finds herself caught in the middle of a c...   \n",
       "1                2   Captain Marvel 2 is reportedly happening, and...   \n",
       "2                3   Here are all the best Captain Marvel quotes a...   \n",
       "3                4   It was announced today that a sequel to Capta...   \n",
       "4                5   Captain Marvel also stars Samuel L. Jackson, ...   \n",
       "\n",
       "   passed_margin_test  candidate_text_lsh accept_mask one_sentence  \\\n",
       "0                True                 7.0         6,0         True   \n",
       "1                True                 7.0         6,0         True   \n",
       "2                True                 1.0         6,0         True   \n",
       "3                True                 7.0         6,0         True   \n",
       "4                True                 2.0         6,0         True   \n",
       "\n",
       "   current_num_tries  is_in_accept_mask  \n",
       "0                  1              False  \n",
       "1                  2              False  \n",
       "2                  3              False  \n",
       "3                  4              False  \n",
       "4                  5              False  "
      ]
     },
     "execution_count": 16,
     "metadata": {},
     "output_type": "execute_result"
    }
   ],
   "source": [
    "# Load the CSV file\n",
    "# file_path = '/local1/borito1907/impossibility-watermark/inputs/prompt_based_saves/prompt_1_temp_100_divp_5_attempt_1/stats.csv'\n",
    "# file_path = '/local1/borito1907/impossibility-watermark/inputs/c4_saves/c4_3_temp_100_divp_5_attempt_1/stats.csv'\n",
    "file_path = 'inputs/c4_saves/c4_1_temp_100_divp_20_attempt_1/stats.csv'\n",
    "df = pd.read_csv(file_path)\n",
    "\n",
    "# Function to safely convert accept_mask to a list of integers\n",
    "def convert_accept_mask(mask):\n",
    "    if pd.isna(mask):\n",
    "        return []\n",
    "    return [int(i) for i in str(mask).split(',')]\n",
    "\n",
    "# Convert the accept_mask column to a list of integers for each row\n",
    "df['accept_mask_list'] = df['accept_mask'].apply(convert_accept_mask)\n",
    "\n",
    "# Add the new column that checks if candidate_text_lsh is in the accept_mask_list\n",
    "df['is_in_accept_mask'] = df.apply(lambda row: row['candidate_text_lsh'] in row['accept_mask_list'], axis=1)\n",
    "\n",
    "# Drop the intermediate accept_mask_list column\n",
    "df.drop(columns=['accept_mask_list'], inplace=True)\n",
    "\n",
    "# Display the updated dataframe\n",
    "df.head()"
   ]
  },
  {
   "cell_type": "code",
   "execution_count": 17,
   "metadata": {},
   "outputs": [
    {
     "data": {
      "text/html": [
       "<div>\n",
       "<style scoped>\n",
       "    .dataframe tbody tr th:only-of-type {\n",
       "        vertical-align: middle;\n",
       "    }\n",
       "\n",
       "    .dataframe tbody tr th {\n",
       "        vertical-align: top;\n",
       "    }\n",
       "\n",
       "    .dataframe thead th {\n",
       "        text-align: right;\n",
       "    }\n",
       "</style>\n",
       "<table border=\"1\" class=\"dataframe\">\n",
       "  <thead>\n",
       "    <tr style=\"text-align: right;\">\n",
       "      <th></th>\n",
       "      <th>index</th>\n",
       "      <th>previous_false_count</th>\n",
       "    </tr>\n",
       "  </thead>\n",
       "  <tbody>\n",
       "    <tr>\n",
       "      <th>0</th>\n",
       "      <td>9</td>\n",
       "      <td>9</td>\n",
       "    </tr>\n",
       "    <tr>\n",
       "      <th>1</th>\n",
       "      <td>17</td>\n",
       "      <td>7</td>\n",
       "    </tr>\n",
       "    <tr>\n",
       "      <th>2</th>\n",
       "      <td>24</td>\n",
       "      <td>6</td>\n",
       "    </tr>\n",
       "    <tr>\n",
       "      <th>3</th>\n",
       "      <td>54</td>\n",
       "      <td>29</td>\n",
       "    </tr>\n",
       "    <tr>\n",
       "      <th>4</th>\n",
       "      <td>59</td>\n",
       "      <td>4</td>\n",
       "    </tr>\n",
       "  </tbody>\n",
       "</table>\n",
       "</div>"
      ],
      "text/plain": [
       "   index  previous_false_count\n",
       "0      9                     9\n",
       "1     17                     7\n",
       "2     24                     6\n",
       "3     54                    29\n",
       "4     59                     4"
      ]
     },
     "execution_count": 17,
     "metadata": {},
     "output_type": "execute_result"
    }
   ],
   "source": [
    "# Initialize a list to hold the results\n",
    "results = []\n",
    "\n",
    "# Initialize a counter for previous False values\n",
    "previous_false_count = 0\n",
    "\n",
    "# Iterate over the rows of the DataFrame\n",
    "for index, row in df.iterrows():\n",
    "    if row['is_in_accept_mask']:\n",
    "        results.append({'index': index, 'previous_false_count': previous_false_count})\n",
    "        previous_false_count = 0  # Reset the counter after encountering True\n",
    "    else:\n",
    "        previous_false_count += 1\n",
    "\n",
    "# Create a DataFrame from the results\n",
    "result_df = pd.DataFrame(results)\n",
    "\n",
    "# Display the result DataFrame\n",
    "result_df.head()"
   ]
  },
  {
   "cell_type": "code",
   "execution_count": 18,
   "metadata": {},
   "outputs": [
    {
     "data": {
      "text/plain": [
       "True    156\n",
       "Name: one_sentence, dtype: int64"
      ]
     },
     "execution_count": 18,
     "metadata": {},
     "output_type": "execute_result"
    }
   ],
   "source": [
    "# Analyze one sentence\n",
    "\n",
    "# Assuming df is your DataFrame and it includes the 'one_sentence' column\n",
    "one_sentence_counts = df['one_sentence'].value_counts()\n",
    "\n",
    "# Display the results\n",
    "one_sentence_counts\n"
   ]
  },
  {
   "cell_type": "code",
   "execution_count": 19,
   "metadata": {},
   "outputs": [
    {
     "data": {
      "image/png": "[encoded data removed]",
      "text/plain": [
       "<Figure size 1000x600 with 1 Axes>"
      ]
     },
     "metadata": {},
     "output_type": "display_data"
    }
   ],
   "source": [
    "# Plot the one_sentence column\n",
    "plt.figure(figsize=(10, 6))\n",
    "plt.plot(df['total_sentences'], df['one_sentence'], marker='o', linestyle='-', color='b')\n",
    "plt.xlabel('Row Index')\n",
    "plt.ylabel('one_sentence')\n",
    "plt.title('one_sentence values by Row Index')\n",
    "plt.grid(True)\n",
    "plt.yticks([0, 1], ['False', 'True'])\n",
    "plt.show()"
   ]
  },
  {
   "cell_type": "code",
   "execution_count": 20,
   "metadata": {},
   "outputs": [
    {
     "data": {
      "image/png": "[encoded data removed]",
      "text/plain": [
       "<Figure size 1000x600 with 1 Axes>"
      ]
     },
     "metadata": {},
     "output_type": "display_data"
    }
   ],
   "source": [
    "# Replace NaN values in 'accept_mask' with a default value\n",
    "df['accept_mask'] = df['accept_mask'].fillna(\"-1,-1\")\n",
    "\n",
    "# Convert 'accept_mask' column from strings to two separate columns of integers\n",
    "df[['accept_mask_1', 'accept_mask_2']] = df['accept_mask'].str.split(',', expand=True).astype(int)\n",
    "\n",
    "# Plot the scatter plot\n",
    "plt.figure(figsize=(10, 6))\n",
    "plt.scatter(df['total_sentences'], df['candidate_text_lsh'], color='blue', label='candidate_text_lsh')\n",
    "plt.scatter(df['total_sentences'], df['accept_mask_1'], color='red', label='accept_mask_1', marker='x')\n",
    "plt.scatter(df['total_sentences'], df['accept_mask_2'], color='green', label='accept_mask_2', marker='x')\n",
    "plt.xlabel('Total Sentences')\n",
    "plt.ylabel('Partition')\n",
    "plt.title('Partition and Accept Mask over Sentences')\n",
    "plt.legend()\n",
    "plt.grid(True)\n",
    "plt.show()"
   ]
  },
  {
   "cell_type": "markdown",
   "metadata": {},
   "source": [
    "## Batch Analysis"
   ]
  },
  {
   "cell_type": "code",
   "execution_count": 21,
   "metadata": {},
   "outputs": [
    {
     "name": "stdout",
     "output_type": "stream",
     "text": [
      "The file 'inputs/prompt_based_saves/prompt_1_temp_100_divp_5_attempt_2/stats.csv' does not have the correct total_sentences sequence.\n",
      "The file 'inputs/prompt_based_saves/prompt_2_temp_100_divp_15_attempt_1/stats.csv' does not have the correct total_sentences sequence.\n",
      "The file 'inputs/prompt_based_saves/prompt_2_temp_100_divp_5_attempt_1/stats.csv' does not have the correct total_sentences sequence.\n",
      "    temperature  diversity_penalty  mean_previous_false_count  \\\n",
      "0           100                 15                  65.785714   \n",
      "1           100                 15                 119.714286   \n",
      "2           100                 15                 112.666667   \n",
      "3           100                 20                  76.250000   \n",
      "4           100                 20                 103.900000   \n",
      "..          ...                ...                        ...   \n",
      "76          170                 20                  17.428571   \n",
      "77          170                 20                  17.375000   \n",
      "78          170                  5                  23.833333   \n",
      "79          170                  5                  27.333333   \n",
      "80          170                  5                  18.300000   \n",
      "\n",
      "    max_previous_false_count  \n",
      "0                        199  \n",
      "1                        504  \n",
      "2                        410  \n",
      "3                        200  \n",
      "4                        331  \n",
      "..                       ...  \n",
      "76                       107  \n",
      "77                        84  \n",
      "78                       100  \n",
      "79                       104  \n",
      "80                        83  \n",
      "\n",
      "[81 rows x 4 columns]\n"
     ]
    }
   ],
   "source": [
    "# Define the base directory containing all the subdirectories\n",
    "base_dir = 'inputs/prompt_based_saves'\n",
    "\n",
    "# Function to safely convert accept_mask to a list of integers\n",
    "def convert_accept_mask(mask):\n",
    "    if pd.isna(mask):\n",
    "        return []\n",
    "    return [int(i) for i in str(mask).split(',')]\n",
    "\n",
    "def check_total_sentences_increment(csv_file):\n",
    "    # Load the DataFrame from the CSV file\n",
    "    df = pd.read_csv(csv_file)\n",
    "    \n",
    "    # Check if the 'total_sentences' column is incremented by 1 at each row starting from 1\n",
    "    expected_sequence = range(1, len(df) + 1)\n",
    "    if not df['total_sentences'].equals(pd.Series(expected_sequence)):\n",
    "        print(f\"The file '{csv_file}' does not have the correct total_sentences sequence.\")\n",
    "\n",
    "# Function to process a single stats.csv file\n",
    "def process_stats_file(file_path):\n",
    "    df = pd.read_csv(file_path)\n",
    "    \n",
    "    # Convert the accept_mask column to a list of integers for each row\n",
    "    df['accept_mask_list'] = df['accept_mask'].apply(convert_accept_mask)\n",
    "    \n",
    "    # Add the new column that checks if candidate_text_lsh is in the accept_mask_list\n",
    "    df['is_in_accept_mask'] = df.apply(lambda row: row['candidate_text_lsh'] in row['accept_mask_list'], axis=1)\n",
    "    \n",
    "    # Drop the intermediate accept_mask_list column\n",
    "    df.drop(columns=['accept_mask_list'], inplace=True)\n",
    "    \n",
    "    # Initialize a list to hold the results\n",
    "    results = []\n",
    "\n",
    "    # Initialize a counter for previous False values\n",
    "    previous_false_count = 0\n",
    "\n",
    "    # Iterate over the rows of the DataFrame\n",
    "    for index, row in df.iterrows():\n",
    "        if row['is_in_accept_mask']:\n",
    "            results.append(previous_false_count)\n",
    "            previous_false_count = 0  # Reset the counter after encountering True\n",
    "        else:\n",
    "            previous_false_count += 1\n",
    "\n",
    "    # Create a Series from the results\n",
    "    result_series = pd.Series(results)\n",
    "    return result_series.mean(), result_series.max()\n",
    "\n",
    "# Initialize a list to hold the aggregated results\n",
    "aggregated_results = []\n",
    "\n",
    "# Iterate over all subdirectories and process each stats.csv file\n",
    "for subdir in os.listdir(base_dir):\n",
    "    subdir_path = os.path.join(base_dir, subdir)\n",
    "    # if os.path.isdir(subdir_path) and \"prompt_3\" in subdir_path:\n",
    "    if os.path.isdir(subdir_path):\n",
    "        stats_file_path = os.path.join(subdir_path, 'stats.csv')\n",
    "        if os.path.isfile(stats_file_path):\n",
    "            check_total_sentences_increment(stats_file_path)\n",
    "            mean_false_count, max_false_count = process_stats_file(stats_file_path)\n",
    "            temp = int(subdir.split('_')[3])\n",
    "            divp = int(subdir.split('_')[5])\n",
    "            aggregated_results.append({'temperature': temp, 'diversity_penalty': divp, 'mean_previous_false_count': mean_false_count, 'max_previous_false_count': max_false_count})\n",
    "\n",
    "# Create a DataFrame from the aggregated results\n",
    "aggregated_df = pd.DataFrame(aggregated_results)\n",
    "\n",
    "# Display the aggregated DataFrame\n",
    "print(aggregated_df)\n",
    "\n",
    "# Optionally, you can save this aggregated DataFrame to a CSV file\n",
    "aggregated_df.to_csv('aggregated_results.csv', index=False)\n"
   ]
  },
  {
   "cell_type": "code",
   "execution_count": 22,
   "metadata": {},
   "outputs": [
    {
     "name": "stdout",
     "output_type": "stream",
     "text": [
      "    temperature  diversity_penalty   z_score   time_taken\n",
      "0           100                 15  4.340868  1677.743756\n",
      "1           100                 15  1.761410  1503.589673\n",
      "2           100                 15  2.100420  1644.151959\n",
      "3           100                 20  2.777460  1278.614672\n",
      "4           100                 20  2.309401  1773.135307\n",
      "..          ...                ...       ...          ...\n",
      "76          170                 20  4.898979   360.616465\n",
      "77          170                 20  4.898979   392.271068\n",
      "78          170                  5  4.582576   451.929633\n",
      "79          170                  5  4.582576   473.875992\n",
      "80          170                  5  5.477226   509.020704\n",
      "\n",
      "[81 rows x 4 columns]\n"
     ]
    }
   ],
   "source": [
    "def parse_logfile(file_path):\n",
    "    z_score = None\n",
    "    time_taken = None\n",
    "\n",
    "    try:\n",
    "        with open(file_path, 'r') as file:\n",
    "            lines = file.readlines()[-5:]  # Only read the last 5 lines\n",
    "            for line in lines:\n",
    "                if 'Score:' in line:\n",
    "                    z_score = float(line.split('Score: ')[1].strip())\n",
    "                if 'Time taken:' in line:\n",
    "                    time_taken = float(line.split('Time taken: ')[1].strip())\n",
    "    except Exception as e:\n",
    "        print(f\"Error processing file {file_path}: {e}\")\n",
    "                \n",
    "    return z_score, time_taken\n",
    "\n",
    "# Initialize a list to hold the aggregated results\n",
    "aggregated_results = []\n",
    "\n",
    "# Iterate over all subdirectories and process each logfile.log\n",
    "for subdir in os.listdir(base_dir):\n",
    "    subdir_path = os.path.join(base_dir, subdir)\n",
    "    # if os.path.isdir(subdir_path) and \"prompt_3\" in subdir_path:\n",
    "    if os.path.isdir(subdir_path):\n",
    "        log_file_path = os.path.join(subdir_path, 'logfile.log')\n",
    "        if os.path.isfile(log_file_path):\n",
    "            z_score, time_taken = parse_logfile(log_file_path)\n",
    "            temp = int(subdir.split('_')[3])\n",
    "            divp = int(subdir.split('_')[5])\n",
    "            aggregated_results.append({'temperature': temp, 'diversity_penalty': divp, 'z_score': z_score, 'time_taken': time_taken})\n",
    "\n",
    "# Create a DataFrame from the aggregated results\n",
    "log_df = pd.DataFrame(aggregated_results)\n",
    "\n",
    "# Display the aggregated DataFrame\n",
    "print(log_df)\n",
    "\n",
    "# Optionally, you can save this aggregated DataFrame to a CSV file\n",
    "log_df.to_csv('logfile_results.csv', index=False)\n"
   ]
  },
  {
   "cell_type": "code",
   "execution_count": 23,
   "metadata": {},
   "outputs": [
    {
     "data": {
      "text/plain": [
       "{'time_taken < 300': 0,\n",
       " 'time_taken < 600': 37,\n",
       " 'time_taken < 900': 53,\n",
       " 'time_taken < 1200': 65}"
      ]
     },
     "execution_count": 23,
     "metadata": {},
     "output_type": "execute_result"
    }
   ],
   "source": [
    "# Now let's find the count of rows with time_taken greater than 2, 3, 4, and 5 respectively\n",
    "time_taken_less_than_2 = log_df[log_df['time_taken'] < 300.0].shape[0]\n",
    "time_taken_less_than_3 = log_df[log_df['time_taken'] < 600.0].shape[0]\n",
    "time_taken_less_than_4 = log_df[log_df['time_taken'] < 900.0].shape[0]\n",
    "time_taken_less_than_5 = log_df[log_df['time_taken'] < 1200.0].shape[0]\n",
    "\n",
    "time_taken_counts = {\n",
    "    'time_taken < 300': time_taken_less_than_2,\n",
    "    'time_taken < 600': time_taken_less_than_3,\n",
    "    'time_taken < 900': time_taken_less_than_4,\n",
    "    'time_taken < 1200': time_taken_less_than_5\n",
    "}\n",
    "\n",
    "time_taken_counts"
   ]
  },
  {
   "cell_type": "code",
   "execution_count": 24,
   "metadata": {},
   "outputs": [
    {
     "data": {
      "text/plain": [
       "{'z_score < 2': 2, 'z_score < 3': 16, 'z_score < 4': 30, 'z_score < 5': 63}"
      ]
     },
     "execution_count": 24,
     "metadata": {},
     "output_type": "execute_result"
    }
   ],
   "source": [
    "\n",
    "# Now let's find the count of rows with z_score greater than 2, 3, 4, and 5 respectively\n",
    "z_score_less_than_2 = log_df[log_df['z_score'] < 2.0].shape[0]\n",
    "z_score_less_than_3 = log_df[log_df['z_score'] < 3.0].shape[0]\n",
    "z_score_less_than_4 = log_df[log_df['z_score'] < 4.0].shape[0]\n",
    "z_score_less_than_5 = log_df[log_df['z_score'] < 5.0].shape[0]\n",
    "\n",
    "z_score_counts = {\n",
    "    'z_score < 2': z_score_less_than_2,\n",
    "    'z_score < 3': z_score_less_than_3,\n",
    "    'z_score < 4': z_score_less_than_4,\n",
    "    'z_score < 5': z_score_less_than_5\n",
    "}\n",
    "\n",
    "z_score_counts"
   ]
  },
  {
   "cell_type": "code",
   "execution_count": 25,
   "metadata": {},
   "outputs": [
    {
     "data": {
      "image/png": "[encoded data removed]",
      "text/plain": [
       "<Figure size 1000x800 with 2 Axes>"
      ]
     },
     "metadata": {},
     "output_type": "display_data"
    },
    {
     "data": {
      "text/html": [
       "<div>\n",
       "<style scoped>\n",
       "    .dataframe tbody tr th:only-of-type {\n",
       "        vertical-align: middle;\n",
       "    }\n",
       "\n",
       "    .dataframe tbody tr th {\n",
       "        vertical-align: top;\n",
       "    }\n",
       "\n",
       "    .dataframe thead th {\n",
       "        text-align: right;\n",
       "    }\n",
       "</style>\n",
       "<table border=\"1\" class=\"dataframe\">\n",
       "  <thead>\n",
       "    <tr style=\"text-align: right;\">\n",
       "      <th>diversity_penalty</th>\n",
       "      <th>5</th>\n",
       "      <th>15</th>\n",
       "      <th>20</th>\n",
       "    </tr>\n",
       "    <tr>\n",
       "      <th>temperature</th>\n",
       "      <th></th>\n",
       "      <th></th>\n",
       "      <th></th>\n",
       "    </tr>\n",
       "  </thead>\n",
       "  <tbody>\n",
       "    <tr>\n",
       "      <th>100</th>\n",
       "      <td>3.259355</td>\n",
       "      <td>3.848051</td>\n",
       "      <td>4.149216</td>\n",
       "    </tr>\n",
       "    <tr>\n",
       "      <th>130</th>\n",
       "      <td>3.909039</td>\n",
       "      <td>4.190258</td>\n",
       "      <td>4.091026</td>\n",
       "    </tr>\n",
       "    <tr>\n",
       "      <th>170</th>\n",
       "      <td>4.423331</td>\n",
       "      <td>4.508443</td>\n",
       "      <td>4.603820</td>\n",
       "    </tr>\n",
       "  </tbody>\n",
       "</table>\n",
       "</div>"
      ],
      "text/plain": [
       "diversity_penalty        5         15        20\n",
       "temperature                                    \n",
       "100                3.259355  3.848051  4.149216\n",
       "130                3.909039  4.190258  4.091026\n",
       "170                4.423331  4.508443  4.603820"
      ]
     },
     "execution_count": 25,
     "metadata": {},
     "output_type": "execute_result"
    }
   ],
   "source": [
    "log_df = log_df.dropna()\n",
    "\n",
    "# Create a pivot table for the z-score\n",
    "pivot_table_z_score = log_df.pivot_table(\n",
    "    values='z_score',\n",
    "    index='temperature',\n",
    "    columns='diversity_penalty',\n",
    "    aggfunc='mean'\n",
    ")\n",
    "\n",
    "# Plotting the pivot table as a heatmap\n",
    "plt.figure(figsize=(10, 8))\n",
    "plt.title('Z-Score by Temperature and Diversity Penalty')\n",
    "plt.xlabel('Diversity Penalty')\n",
    "plt.ylabel('Temperature')\n",
    "plt.imshow(pivot_table_z_score, cmap='viridis', aspect='auto')\n",
    "plt.colorbar(label='Z-Score')\n",
    "plt.xticks(ticks=range(len(pivot_table_z_score.columns)), labels=pivot_table_z_score.columns)\n",
    "plt.yticks(ticks=range(len(pivot_table_z_score.index)), labels=pivot_table_z_score.index)\n",
    "plt.show()\n",
    "\n",
    "pivot_table_z_score\n"
   ]
  },
  {
   "cell_type": "code",
   "execution_count": 26,
   "metadata": {},
   "outputs": [
    {
     "data": {
      "image/png": "[encoded data removed]",
      "text/plain": [
       "<Figure size 1000x800 with 2 Axes>"
      ]
     },
     "metadata": {},
     "output_type": "display_data"
    },
    {
     "data": {
      "text/html": [
       "<div>\n",
       "<style scoped>\n",
       "    .dataframe tbody tr th:only-of-type {\n",
       "        vertical-align: middle;\n",
       "    }\n",
       "\n",
       "    .dataframe tbody tr th {\n",
       "        vertical-align: top;\n",
       "    }\n",
       "\n",
       "    .dataframe thead th {\n",
       "        text-align: right;\n",
       "    }\n",
       "</style>\n",
       "<table border=\"1\" class=\"dataframe\">\n",
       "  <thead>\n",
       "    <tr style=\"text-align: right;\">\n",
       "      <th>diversity_penalty</th>\n",
       "      <th>5</th>\n",
       "      <th>15</th>\n",
       "      <th>20</th>\n",
       "    </tr>\n",
       "    <tr>\n",
       "      <th>temperature</th>\n",
       "      <th></th>\n",
       "      <th></th>\n",
       "      <th></th>\n",
       "    </tr>\n",
       "  </thead>\n",
       "  <tbody>\n",
       "    <tr>\n",
       "      <th>100</th>\n",
       "      <td>1361.403987</td>\n",
       "      <td>989.471156</td>\n",
       "      <td>788.994979</td>\n",
       "    </tr>\n",
       "    <tr>\n",
       "      <th>130</th>\n",
       "      <td>893.139486</td>\n",
       "      <td>829.442289</td>\n",
       "      <td>744.471791</td>\n",
       "    </tr>\n",
       "    <tr>\n",
       "      <th>170</th>\n",
       "      <td>726.271942</td>\n",
       "      <td>807.156063</td>\n",
       "      <td>632.934536</td>\n",
       "    </tr>\n",
       "  </tbody>\n",
       "</table>\n",
       "</div>"
      ],
      "text/plain": [
       "diversity_penalty           5           15          20\n",
       "temperature                                           \n",
       "100                1361.403987  989.471156  788.994979\n",
       "130                 893.139486  829.442289  744.471791\n",
       "170                 726.271942  807.156063  632.934536"
      ]
     },
     "execution_count": 26,
     "metadata": {},
     "output_type": "execute_result"
    }
   ],
   "source": [
    "# Create a pivot table for the time taken\n",
    "pivot_table_time_taken = log_df.pivot_table(\n",
    "    values='time_taken',\n",
    "    index='temperature',\n",
    "    columns='diversity_penalty',\n",
    "    aggfunc='mean'\n",
    ")\n",
    "\n",
    "# Plotting the pivot table as a heatmap\n",
    "plt.figure(figsize=(10, 8))\n",
    "plt.title('Time Taken by Temperature and Diversity Penalty')\n",
    "plt.xlabel('Diversity Penalty')\n",
    "plt.ylabel('Temperature')\n",
    "plt.imshow(pivot_table_time_taken, cmap='viridis', aspect='auto')\n",
    "plt.colorbar(label='Time Taken (seconds)')\n",
    "plt.xticks(ticks=range(len(pivot_table_time_taken.columns)), labels=pivot_table_time_taken.columns)\n",
    "plt.yticks(ticks=range(len(pivot_table_time_taken.index)), labels=pivot_table_time_taken.index)\n",
    "plt.show()\n",
    "\n",
    "pivot_table_time_taken\n"
   ]
  },
  {
   "cell_type": "markdown",
   "metadata": {},
   "source": [
    "## Quality Analysis"
   ]
  },
  {
   "cell_type": "code",
   "execution_count": 27,
   "metadata": {},
   "outputs": [
    {
     "name": "stdout",
     "output_type": "stream",
     "text": [
      "    temperature  diversity_penalty  quality_score\n",
      "0           100                 15              5\n",
      "1           100                 15              5\n",
      "2           100                 15              4\n",
      "3           100                 20              4\n",
      "4           100                 20              5\n",
      "..          ...                ...            ...\n",
      "76          170                 20              4\n",
      "77          170                 20              4\n",
      "78          170                  5              4\n",
      "79          170                  5              5\n",
      "80          170                  5              5\n",
      "\n",
      "[81 rows x 3 columns]\n"
     ]
    }
   ],
   "source": [
    "def parse_quality_logfile(file_path):\n",
    "    score_pattern = re.compile(r\"Score:\\s*(\\d+)\")\n",
    "    \n",
    "    with open(file_path, 'r') as file:\n",
    "        lines = file.readlines()\n",
    "        \n",
    "    # Find the last non-empty line\n",
    "    for line in reversed(lines):\n",
    "        if line.strip():  # Check if the line is not just whitespace\n",
    "            match = score_pattern.search(line)\n",
    "            if match:\n",
    "                return int(match.group(1))\n",
    "    \n",
    "    # If no score is found, raise an exception\n",
    "    raise ValueError(\"No score found in the log file\")\n",
    "\n",
    "# Initialize a list to hold the aggregated results\n",
    "aggregated_results = []\n",
    "\n",
    "# Iterate over all subdirectories and process each logfile.log\n",
    "for subdir in os.listdir(base_dir):\n",
    "    subdir_path = os.path.join(base_dir, subdir)\n",
    "    # if os.path.isdir(subdir_path) and \"prompt_3\" in subdir_path:\n",
    "    if os.path.isdir(subdir_path):\n",
    "        log_file_path = os.path.join(subdir_path, 'quality_logfile_without_commas.log')\n",
    "        if os.path.isfile(log_file_path):\n",
    "            quality_score = parse_quality_logfile(log_file_path)\n",
    "            temp = int(subdir.split('_')[3])\n",
    "            divp = int(subdir.split('_')[5])\n",
    "            aggregated_results.append({'temperature': temp, 'diversity_penalty': divp, 'quality_score': quality_score})\n",
    "\n",
    "# Create a DataFrame from the aggregated results\n",
    "quality_df = pd.DataFrame(aggregated_results)\n",
    "\n",
    "# Display the aggregated DataFrame\n",
    "print(quality_df)\n",
    "\n",
    "# Optionally, you can save this aggregated DataFrame to a CSV file\n",
    "quality_df.to_csv('prompt_based_quality_result.csv', index=False)\n"
   ]
  },
  {
   "cell_type": "code",
   "execution_count": null,
   "metadata": {},
   "outputs": [],
   "source": []
  }
 ],
 "metadata": {
  "kernelspec": {
   "display_name": "watermark_2",
   "language": "python",
   "name": "python3"
  },
  "language_info": {
   "codemirror_mode": {
    "name": "ipython",
    "version": 3
   },
   "file_extension": ".py",
   "mimetype": "text/x-python",
   "name": "python",
   "nbconvert_exporter": "python",
   "pygments_lexer": "ipython3",
   "version": "3.10.14"
  }
 },
 "nbformat": 4,
 "nbformat_minor": 2
}
