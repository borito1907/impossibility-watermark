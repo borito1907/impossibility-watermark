{
 "cells": [
  {
   "cell_type": "markdown",
   "metadata": {},
   "source": [
    "## Imports"
   ]
  },
  {
   "cell_type": "code",
   "execution_count": 52,
   "metadata": {},
   "outputs": [],
   "source": [
    "import pandas as pd\n",
    "import matplotlib.pyplot as plt\n",
    "import os\n",
    "import re"
   ]
  },
  {
   "cell_type": "markdown",
   "metadata": {},
   "source": [
    "## Single File Analysis"
   ]
  },
  {
   "cell_type": "code",
   "execution_count": 53,
   "metadata": {},
   "outputs": [
    {
     "data": {
      "text/html": [
       "<div>\n",
       "<style scoped>\n",
       "    .dataframe tbody tr th:only-of-type {\n",
       "        vertical-align: middle;\n",
       "    }\n",
       "\n",
       "    .dataframe tbody tr th {\n",
       "        vertical-align: top;\n",
       "    }\n",
       "\n",
       "    .dataframe thead th {\n",
       "        text-align: right;\n",
       "    }\n",
       "</style>\n",
       "<table border=\"1\" class=\"dataframe\">\n",
       "  <thead>\n",
       "    <tr style=\"text-align: right;\">\n",
       "      <th></th>\n",
       "      <th>total_sentences</th>\n",
       "      <th>candidate_text</th>\n",
       "      <th>passed_margin_test</th>\n",
       "      <th>candidate_text_lsh</th>\n",
       "      <th>accept_mask</th>\n",
       "      <th>one_sentence</th>\n",
       "      <th>current_num_tries</th>\n",
       "      <th>is_in_accept_mask</th>\n",
       "    </tr>\n",
       "  </thead>\n",
       "  <tbody>\n",
       "    <tr>\n",
       "      <th>0</th>\n",
       "      <td>1</td>\n",
       "      <td>She finds herself caught in the middle of a c...</td>\n",
       "      <td>True</td>\n",
       "      <td>7.0</td>\n",
       "      <td>6,0</td>\n",
       "      <td>True</td>\n",
       "      <td>1</td>\n",
       "      <td>False</td>\n",
       "    </tr>\n",
       "    <tr>\n",
       "      <th>1</th>\n",
       "      <td>2</td>\n",
       "      <td>Captain Marvel 2 is reportedly happening, and...</td>\n",
       "      <td>True</td>\n",
       "      <td>7.0</td>\n",
       "      <td>6,0</td>\n",
       "      <td>True</td>\n",
       "      <td>2</td>\n",
       "      <td>False</td>\n",
       "    </tr>\n",
       "    <tr>\n",
       "      <th>2</th>\n",
       "      <td>3</td>\n",
       "      <td>Here are all the best Captain Marvel quotes a...</td>\n",
       "      <td>True</td>\n",
       "      <td>1.0</td>\n",
       "      <td>6,0</td>\n",
       "      <td>True</td>\n",
       "      <td>3</td>\n",
       "      <td>False</td>\n",
       "    </tr>\n",
       "    <tr>\n",
       "      <th>3</th>\n",
       "      <td>4</td>\n",
       "      <td>It was announced today that a sequel to Capta...</td>\n",
       "      <td>True</td>\n",
       "      <td>7.0</td>\n",
       "      <td>6,0</td>\n",
       "      <td>True</td>\n",
       "      <td>4</td>\n",
       "      <td>False</td>\n",
       "    </tr>\n",
       "    <tr>\n",
       "      <th>4</th>\n",
       "      <td>5</td>\n",
       "      <td>Captain Marvel also stars Samuel L. Jackson, ...</td>\n",
       "      <td>True</td>\n",
       "      <td>2.0</td>\n",
       "      <td>6,0</td>\n",
       "      <td>True</td>\n",
       "      <td>5</td>\n",
       "      <td>False</td>\n",
       "    </tr>\n",
       "  </tbody>\n",
       "</table>\n",
       "</div>"
      ],
      "text/plain": [
       "   total_sentences                                     candidate_text  \\\n",
       "0                1   She finds herself caught in the middle of a c...   \n",
       "1                2   Captain Marvel 2 is reportedly happening, and...   \n",
       "2                3   Here are all the best Captain Marvel quotes a...   \n",
       "3                4   It was announced today that a sequel to Capta...   \n",
       "4                5   Captain Marvel also stars Samuel L. Jackson, ...   \n",
       "\n",
       "   passed_margin_test  candidate_text_lsh accept_mask one_sentence  \\\n",
       "0                True                 7.0         6,0         True   \n",
       "1                True                 7.0         6,0         True   \n",
       "2                True                 1.0         6,0         True   \n",
       "3                True                 7.0         6,0         True   \n",
       "4                True                 2.0         6,0         True   \n",
       "\n",
       "   current_num_tries  is_in_accept_mask  \n",
       "0                  1              False  \n",
       "1                  2              False  \n",
       "2                  3              False  \n",
       "3                  4              False  \n",
       "4                  5              False  "
      ]
     },
     "execution_count": 53,
     "metadata": {},
     "output_type": "execute_result"
    }
   ],
   "source": [
    "# Load the CSV file\n",
    "# file_path = '/local1/borito1907/impossibility-watermark/inputs/prompt_based_saves/prompt_1_temp_100_divp_5_attempt_1/stats.csv'\n",
    "# file_path = '/local1/borito1907/impossibility-watermark/inputs/c4_saves/c4_3_temp_100_divp_5_attempt_1/stats.csv'\n",
    "file_path = 'inputs/c4_saves/c4_1_temp_100_divp_20_attempt_1/stats.csv'\n",
    "df = pd.read_csv(file_path)\n",
    "\n",
    "# Function to safely convert accept_mask to a list of integers\n",
    "def convert_accept_mask(mask):\n",
    "    if pd.isna(mask):\n",
    "        return []\n",
    "    return [int(i) for i in str(mask).split(',')]\n",
    "\n",
    "# Convert the accept_mask column to a list of integers for each row\n",
    "df['accept_mask_list'] = df['accept_mask'].apply(convert_accept_mask)\n",
    "\n",
    "# Add the new column that checks if candidate_text_lsh is in the accept_mask_list\n",
    "df['is_in_accept_mask'] = df.apply(lambda row: row['candidate_text_lsh'] in row['accept_mask_list'], axis=1)\n",
    "\n",
    "# Drop the intermediate accept_mask_list column\n",
    "df.drop(columns=['accept_mask_list'], inplace=True)\n",
    "\n",
    "# Display the updated dataframe\n",
    "df.head()"
   ]
  },
  {
   "cell_type": "code",
   "execution_count": 54,
   "metadata": {},
   "outputs": [
    {
     "data": {
      "text/html": [
       "<div>\n",
       "<style scoped>\n",
       "    .dataframe tbody tr th:only-of-type {\n",
       "        vertical-align: middle;\n",
       "    }\n",
       "\n",
       "    .dataframe tbody tr th {\n",
       "        vertical-align: top;\n",
       "    }\n",
       "\n",
       "    .dataframe thead th {\n",
       "        text-align: right;\n",
       "    }\n",
       "</style>\n",
       "<table border=\"1\" class=\"dataframe\">\n",
       "  <thead>\n",
       "    <tr style=\"text-align: right;\">\n",
       "      <th></th>\n",
       "      <th>index</th>\n",
       "      <th>previous_false_count</th>\n",
       "    </tr>\n",
       "  </thead>\n",
       "  <tbody>\n",
       "    <tr>\n",
       "      <th>0</th>\n",
       "      <td>9</td>\n",
       "      <td>9</td>\n",
       "    </tr>\n",
       "    <tr>\n",
       "      <th>1</th>\n",
       "      <td>17</td>\n",
       "      <td>7</td>\n",
       "    </tr>\n",
       "    <tr>\n",
       "      <th>2</th>\n",
       "      <td>24</td>\n",
       "      <td>6</td>\n",
       "    </tr>\n",
       "    <tr>\n",
       "      <th>3</th>\n",
       "      <td>54</td>\n",
       "      <td>29</td>\n",
       "    </tr>\n",
       "    <tr>\n",
       "      <th>4</th>\n",
       "      <td>59</td>\n",
       "      <td>4</td>\n",
       "    </tr>\n",
       "  </tbody>\n",
       "</table>\n",
       "</div>"
      ],
      "text/plain": [
       "   index  previous_false_count\n",
       "0      9                     9\n",
       "1     17                     7\n",
       "2     24                     6\n",
       "3     54                    29\n",
       "4     59                     4"
      ]
     },
     "execution_count": 54,
     "metadata": {},
     "output_type": "execute_result"
    }
   ],
   "source": [
    "# Initialize a list to hold the results\n",
    "results = []\n",
    "\n",
    "# Initialize a counter for previous False values\n",
    "previous_false_count = 0\n",
    "\n",
    "# Iterate over the rows of the DataFrame\n",
    "for index, row in df.iterrows():\n",
    "    if row['is_in_accept_mask']:\n",
    "        results.append({'index': index, 'previous_false_count': previous_false_count})\n",
    "        previous_false_count = 0  # Reset the counter after encountering True\n",
    "    else:\n",
    "        previous_false_count += 1\n",
    "\n",
    "# Create a DataFrame from the results\n",
    "result_df = pd.DataFrame(results)\n",
    "\n",
    "# Display the result DataFrame\n",
    "result_df.head()"
   ]
  },
  {
   "cell_type": "code",
   "execution_count": 55,
   "metadata": {},
   "outputs": [
    {
     "data": {
      "text/plain": [
       "True    156\n",
       "Name: one_sentence, dtype: int64"
      ]
     },
     "execution_count": 55,
     "metadata": {},
     "output_type": "execute_result"
    }
   ],
   "source": [
    "# Analyze one sentence\n",
    "\n",
    "# Assuming df is your DataFrame and it includes the 'one_sentence' column\n",
    "one_sentence_counts = df['one_sentence'].value_counts()\n",
    "\n",
    "# Display the results\n",
    "one_sentence_counts\n"
   ]
  },
  {
   "cell_type": "code",
   "execution_count": 56,
   "metadata": {},
   "outputs": [
    {
     "data": {
      "image/png": "[encoded data removed]",
      "text/plain": [
       "<Figure size 1000x600 with 1 Axes>"
      ]
     },
     "metadata": {},
     "output_type": "display_data"
    }
   ],
   "source": [
    "# Plot the one_sentence column\n",
    "plt.figure(figsize=(10, 6))\n",
    "plt.plot(df['total_sentences'], df['one_sentence'], marker='o', linestyle='-', color='b')\n",
    "plt.xlabel('Row Index')\n",
    "plt.ylabel('one_sentence')\n",
    "plt.title('one_sentence values by Row Index')\n",
    "plt.grid(True)\n",
    "plt.yticks([0, 1], ['False', 'True'])\n",
    "plt.show()"
   ]
  },
  {
   "cell_type": "code",
   "execution_count": 57,
   "metadata": {},
   "outputs": [
    {
     "data": {
      "image/png": "[encoded data removed]",
      "text/plain": [
       "<Figure size 1000x600 with 1 Axes>"
      ]
     },
     "metadata": {},
     "output_type": "display_data"
    }
   ],
   "source": [
    "# Replace NaN values in 'accept_mask' with a default value\n",
    "df['accept_mask'] = df['accept_mask'].fillna(\"-1,-1\")\n",
    "\n",
    "# Convert 'accept_mask' column from strings to two separate columns of integers\n",
    "df[['accept_mask_1', 'accept_mask_2']] = df['accept_mask'].str.split(',', expand=True).astype(int)\n",
    "\n",
    "# Plot the scatter plot\n",
    "plt.figure(figsize=(10, 6))\n",
    "plt.scatter(df['total_sentences'], df['candidate_text_lsh'], color='blue', label='candidate_text_lsh')\n",
    "plt.scatter(df['total_sentences'], df['accept_mask_1'], color='red', label='accept_mask_1', marker='x')\n",
    "plt.scatter(df['total_sentences'], df['accept_mask_2'], color='green', label='accept_mask_2', marker='x')\n",
    "plt.xlabel('Total Sentences')\n",
    "plt.ylabel('Partition')\n",
    "plt.title('Partition and Accept Mask over Sentences')\n",
    "plt.legend()\n",
    "plt.grid(True)\n",
    "plt.show()"
   ]
  },
  {
   "cell_type": "markdown",
   "metadata": {},
   "source": [
    "## Batch Analysis"
   ]
  },
  {
   "cell_type": "code",
   "execution_count": 58,
   "metadata": {},
   "outputs": [
    {
     "name": "stdout",
     "output_type": "stream",
     "text": [
      "The file 'inputs/tokenizer_prompt_based_saves/prompt_1_temp_50_divp_0_attempt_1/stats.csv' does not have the correct total_sentences sequence.\n",
      "The file 'inputs/tokenizer_prompt_based_saves/prompt_2_temp_50_divp_0_attempt_1/stats.csv' does not have the correct total_sentences sequence.\n",
      "The file 'inputs/tokenizer_prompt_based_saves/prompt_2_temp_50_divp_10_attempt_1/stats.csv' does not have the correct total_sentences sequence.\n",
      "The file 'inputs/tokenizer_prompt_based_saves/prompt_1_temp_100_divp_10_attempt_1/stats.csv' does not have the correct total_sentences sequence.\n",
      "The file 'inputs/tokenizer_prompt_based_saves/prompt_4_temp_50_divp_0_attempt_2/stats.csv' does not have the correct total_sentences sequence.\n",
      "The file 'inputs/tokenizer_prompt_based_saves/prompt_4_temp_50_divp_10_attempt_2/stats.csv' does not have the correct total_sentences sequence.\n",
      "The file 'inputs/tokenizer_prompt_based_saves/prompt_2_temp_150_divp_20_attempt_1/stats.csv' does not have the correct total_sentences sequence.\n",
      "The file 'inputs/tokenizer_prompt_based_saves/prompt_1_temp_180_divp_10_attempt_1/stats.csv' does not have the correct total_sentences sequence.\n",
      "The file 'inputs/tokenizer_prompt_based_saves/prompt_4_temp_100_divp_20_attempt_2/stats.csv' does not have the correct total_sentences sequence.\n",
      "The file 'inputs/tokenizer_prompt_based_saves/prompt_2_temp_50_divp_0_attempt_2/stats.csv' does not have the correct total_sentences sequence.\n",
      "The file 'inputs/tokenizer_prompt_based_saves/prompt_1_temp_50_divp_0_attempt_2/stats.csv' does not have the correct total_sentences sequence.\n",
      "The file 'inputs/tokenizer_prompt_based_saves/prompt_4_temp_150_divp_10_attempt_2/stats.csv' does not have the correct total_sentences sequence.\n",
      "The file 'inputs/tokenizer_prompt_based_saves/prompt_2_temp_50_divp_10_attempt_2/stats.csv' does not have the correct total_sentences sequence.\n",
      "The file 'inputs/tokenizer_prompt_based_saves/prompt_4_temp_180_divp_0_attempt_2/stats.csv' does not have the correct total_sentences sequence.\n",
      "The file 'inputs/tokenizer_prompt_based_saves/prompt_2_temp_50_divp_20_attempt_2/stats.csv' does not have the correct total_sentences sequence.\n",
      "The file 'inputs/tokenizer_prompt_based_saves/prompt_4_temp_50_divp_0_attempt_3/stats.csv' does not have the correct total_sentences sequence.\n",
      "The file 'inputs/tokenizer_prompt_based_saves/prompt_2_temp_100_divp_20_attempt_2/stats.csv' does not have the correct total_sentences sequence.\n",
      "The file 'inputs/tokenizer_prompt_based_saves/prompt_1_temp_100_divp_20_attempt_2/stats.csv' does not have the correct total_sentences sequence.\n",
      "The file 'inputs/tokenizer_prompt_based_saves/prompt_2_temp_150_divp_0_attempt_2/stats.csv' does not have the correct total_sentences sequence.\n",
      "The file 'inputs/tokenizer_prompt_based_saves/prompt_1_temp_150_divp_0_attempt_2/stats.csv' does not have the correct total_sentences sequence.\n",
      "The file 'inputs/tokenizer_prompt_based_saves/prompt_1_temp_50_divp_0_attempt_3/stats.csv' does not have the correct total_sentences sequence.\n",
      "The file 'inputs/tokenizer_prompt_based_saves/prompt_4_temp_180_divp_10_attempt_3/stats.csv' does not have the correct total_sentences sequence.\n",
      "    temperature  diversity_penalty  mean_previous_false_count  \\\n",
      "0            50                  0                   4.518681   \n",
      "1            50                  0                   3.597800   \n",
      "2            50                  0                  42.500000   \n",
      "3            50                 10                  35.000000   \n",
      "4            50                 20                  24.888889   \n",
      "..          ...                ...                        ...   \n",
      "77           50                  0                   5.575000   \n",
      "78          180                  0                  20.615385   \n",
      "79          180                  0                   1.396396   \n",
      "80          180                 10                  13.166667   \n",
      "81          180                 10                   0.852273   \n",
      "\n",
      "    max_previous_false_count  \n",
      "0                        170  \n",
      "1                        306  \n",
      "2                         80  \n",
      "3                        112  \n",
      "4                        110  \n",
      "..                       ...  \n",
      "77                       190  \n",
      "78                       102  \n",
      "79                        47  \n",
      "80                        43  \n",
      "81                        22  \n",
      "\n",
      "[82 rows x 4 columns]\n"
     ]
    }
   ],
   "source": [
    "# Define the base directory containing all the subdirectories\n",
    "base_dir = 'inputs/tokenizer_prompt_based_saves'\n",
    "\n",
    "# Function to safely convert accept_mask to a list of integers\n",
    "def convert_accept_mask(mask):\n",
    "    if pd.isna(mask):\n",
    "        return []\n",
    "    return [int(i) for i in str(mask).split(',')]\n",
    "\n",
    "def check_total_sentences_increment(csv_file):\n",
    "    # Load the DataFrame from the CSV file\n",
    "    df = pd.read_csv(csv_file)\n",
    "    \n",
    "    # Check if the 'total_sentences' column is incremented by 1 at each row starting from 1\n",
    "    expected_sequence = range(1, len(df) + 1)\n",
    "    if not df['total_sentences'].equals(pd.Series(expected_sequence)):\n",
    "        print(f\"The file '{csv_file}' does not have the correct total_sentences sequence.\")\n",
    "\n",
    "# Function to process a single stats.csv file\n",
    "def process_stats_file(file_path):\n",
    "    df = pd.read_csv(file_path)\n",
    "    \n",
    "    # Convert the accept_mask column to a list of integers for each row\n",
    "    df['accept_mask_list'] = df['accept_mask'].apply(convert_accept_mask)\n",
    "    \n",
    "    # Add the new column that checks if candidate_text_lsh is in the accept_mask_list\n",
    "    df['is_in_accept_mask'] = df.apply(lambda row: row['candidate_text_lsh'] in row['accept_mask_list'], axis=1)\n",
    "    \n",
    "    # Drop the intermediate accept_mask_list column\n",
    "    df.drop(columns=['accept_mask_list'], inplace=True)\n",
    "    \n",
    "    # Initialize a list to hold the results\n",
    "    results = []\n",
    "\n",
    "    # Initialize a counter for previous False values\n",
    "    previous_false_count = 0\n",
    "\n",
    "    # Iterate over the rows of the DataFrame\n",
    "    for index, row in df.iterrows():\n",
    "        if row['is_in_accept_mask']:\n",
    "            results.append(previous_false_count)\n",
    "            previous_false_count = 0  # Reset the counter after encountering True\n",
    "        else:\n",
    "            previous_false_count += 1\n",
    "\n",
    "    # Create a Series from the results\n",
    "    result_series = pd.Series(results)\n",
    "    return result_series.mean(), result_series.max()\n",
    "\n",
    "# Initialize a list to hold the aggregated results\n",
    "aggregated_results = []\n",
    "\n",
    "# Iterate over all subdirectories and process each stats.csv file\n",
    "for subdir in os.listdir(base_dir):\n",
    "    subdir_path = os.path.join(base_dir, subdir)\n",
    "    # if os.path.isdir(subdir_path) and \"prompt_3\" in subdir_path:\n",
    "    if os.path.isdir(subdir_path):\n",
    "        stats_file_path = os.path.join(subdir_path, 'stats.csv')\n",
    "        if os.path.isfile(stats_file_path):\n",
    "            check_total_sentences_increment(stats_file_path)\n",
    "            mean_false_count, max_false_count = process_stats_file(stats_file_path)\n",
    "            temp = int(subdir.split('_')[3])\n",
    "            divp = int(subdir.split('_')[5])\n",
    "            aggregated_results.append({'temperature': temp, 'diversity_penalty': divp, 'mean_previous_false_count': mean_false_count, 'max_previous_false_count': max_false_count})\n",
    "\n",
    "# Create a DataFrame from the aggregated results\n",
    "aggregated_df = pd.DataFrame(aggregated_results)\n",
    "\n",
    "# Display the aggregated DataFrame\n",
    "print(aggregated_df)\n",
    "\n",
    "# Optionally, you can save this aggregated DataFrame to a CSV file\n",
    "aggregated_df.to_csv('aggregated_results.csv', index=False)\n"
   ]
  },
  {
   "cell_type": "code",
   "execution_count": 59,
   "metadata": {},
   "outputs": [
    {
     "name": "stdout",
     "output_type": "stream",
     "text": [
      "    temperature  diversity_penalty   z_score    time_taken\n",
      "0            50                  0  1.825742   7235.908170\n",
      "1            50                  0  1.347151  11417.867770\n",
      "2            50                  0  1.414214   1983.163372\n",
      "3            50                 10  1.807392   1234.602818\n",
      "4            50                 20  2.449490   2016.525404\n",
      "..          ...                ...       ...           ...\n",
      "78           50                  0       NaN           NaN\n",
      "79          180                  0  2.836833   1399.644654\n",
      "80          180                  0  0.816497   1445.718227\n",
      "81          180                 10       NaN           NaN\n",
      "82          180                 10       NaN           NaN\n",
      "\n",
      "[83 rows x 4 columns]\n"
     ]
    }
   ],
   "source": [
    "def parse_logfile(file_path):\n",
    "    z_score = None\n",
    "    time_taken = None\n",
    "\n",
    "    try:\n",
    "        with open(file_path, 'r') as file:\n",
    "            lines = file.readlines()[-5:]  # Only read the last 5 lines\n",
    "            for line in lines:\n",
    "                if 'Score:' in line:\n",
    "                    z_score = float(line.split('Score: ')[1].strip())\n",
    "                if 'Time taken:' in line:\n",
    "                    time_taken = float(line.split('Time taken: ')[1].strip())\n",
    "    except Exception as e:\n",
    "        print(f\"Error processing file {file_path}: {e}\")\n",
    "                \n",
    "    return z_score, time_taken\n",
    "\n",
    "# Initialize a list to hold the aggregated results\n",
    "aggregated_results = []\n",
    "\n",
    "# Iterate over all subdirectories and process each logfile.log\n",
    "for subdir in os.listdir(base_dir):\n",
    "    subdir_path = os.path.join(base_dir, subdir)\n",
    "    # if os.path.isdir(subdir_path) and \"prompt_3\" in subdir_path:\n",
    "    if os.path.isdir(subdir_path):\n",
    "        log_file_path = os.path.join(subdir_path, 'logfile.log')\n",
    "        if os.path.isfile(log_file_path):\n",
    "            z_score, time_taken = parse_logfile(log_file_path)\n",
    "            temp = int(subdir.split('_')[3])\n",
    "            divp = int(subdir.split('_')[5])\n",
    "            aggregated_results.append({'temperature': temp, 'diversity_penalty': divp, 'z_score': z_score, 'time_taken': time_taken})\n",
    "\n",
    "# Create a DataFrame from the aggregated results\n",
    "log_df = pd.DataFrame(aggregated_results)\n",
    "\n",
    "# Display the aggregated DataFrame\n",
    "print(log_df)\n",
    "\n",
    "# Optionally, you can save this aggregated DataFrame to a CSV file\n",
    "log_df.to_csv('logfile_results.csv', index=False)\n"
   ]
  },
  {
   "cell_type": "code",
   "execution_count": 60,
   "metadata": {},
   "outputs": [
    {
     "data": {
      "text/plain": [
       "{'time_taken < 300': 0,\n",
       " 'time_taken < 600': 4,\n",
       " 'time_taken < 900': 7,\n",
       " 'time_taken < 1200': 11}"
      ]
     },
     "execution_count": 60,
     "metadata": {},
     "output_type": "execute_result"
    }
   ],
   "source": [
    "# Now let's find the count of rows with time_taken greater than 2, 3, 4, and 5 respectively\n",
    "time_taken_less_than_2 = log_df[log_df['time_taken'] < 300.0].shape[0]\n",
    "time_taken_less_than_3 = log_df[log_df['time_taken'] < 600.0].shape[0]\n",
    "time_taken_less_than_4 = log_df[log_df['time_taken'] < 900.0].shape[0]\n",
    "time_taken_less_than_5 = log_df[log_df['time_taken'] < 1200.0].shape[0]\n",
    "\n",
    "time_taken_counts = {\n",
    "    'time_taken < 300': time_taken_less_than_2,\n",
    "    'time_taken < 600': time_taken_less_than_3,\n",
    "    'time_taken < 900': time_taken_less_than_4,\n",
    "    'time_taken < 1200': time_taken_less_than_5\n",
    "}\n",
    "\n",
    "time_taken_counts"
   ]
  },
  {
   "cell_type": "code",
   "execution_count": 61,
   "metadata": {},
   "outputs": [
    {
     "data": {
      "text/plain": [
       "{'z_score < 2': 41, 'z_score < 3': 66, 'z_score < 4': 72, 'z_score < 5': 78}"
      ]
     },
     "execution_count": 61,
     "metadata": {},
     "output_type": "execute_result"
    }
   ],
   "source": [
    "\n",
    "# Now let's find the count of rows with z_score greater than 2, 3, 4, and 5 respectively\n",
    "z_score_less_than_2 = log_df[log_df['z_score'] < 2.0].shape[0]\n",
    "z_score_less_than_3 = log_df[log_df['z_score'] < 3.0].shape[0]\n",
    "z_score_less_than_4 = log_df[log_df['z_score'] < 4.0].shape[0]\n",
    "z_score_less_than_5 = log_df[log_df['z_score'] < 5.0].shape[0]\n",
    "\n",
    "z_score_counts = {\n",
    "    'z_score < 2': z_score_less_than_2,\n",
    "    'z_score < 3': z_score_less_than_3,\n",
    "    'z_score < 4': z_score_less_than_4,\n",
    "    'z_score < 5': z_score_less_than_5\n",
    "}\n",
    "\n",
    "z_score_counts"
   ]
  },
  {
   "cell_type": "code",
   "execution_count": 62,
   "metadata": {},
   "outputs": [
    {
     "data": {
      "image/png": "[encoded data removed]",
      "text/plain": [
       "<Figure size 1000x800 with 2 Axes>"
      ]
     },
     "metadata": {},
     "output_type": "display_data"
    },
    {
     "data": {
      "text/html": [
       "<div>\n",
       "<style scoped>\n",
       "    .dataframe tbody tr th:only-of-type {\n",
       "        vertical-align: middle;\n",
       "    }\n",
       "\n",
       "    .dataframe tbody tr th {\n",
       "        vertical-align: top;\n",
       "    }\n",
       "\n",
       "    .dataframe thead th {\n",
       "        text-align: right;\n",
       "    }\n",
       "</style>\n",
       "<table border=\"1\" class=\"dataframe\">\n",
       "  <thead>\n",
       "    <tr style=\"text-align: right;\">\n",
       "      <th>diversity_penalty</th>\n",
       "      <th>0</th>\n",
       "      <th>10</th>\n",
       "      <th>20</th>\n",
       "    </tr>\n",
       "    <tr>\n",
       "      <th>temperature</th>\n",
       "      <th></th>\n",
       "      <th></th>\n",
       "      <th></th>\n",
       "    </tr>\n",
       "  </thead>\n",
       "  <tbody>\n",
       "    <tr>\n",
       "      <th>50</th>\n",
       "      <td>1.671819</td>\n",
       "      <td>1.932557</td>\n",
       "      <td>2.477407</td>\n",
       "    </tr>\n",
       "    <tr>\n",
       "      <th>100</th>\n",
       "      <td>2.480751</td>\n",
       "      <td>2.046579</td>\n",
       "      <td>1.672051</td>\n",
       "    </tr>\n",
       "    <tr>\n",
       "      <th>150</th>\n",
       "      <td>1.935611</td>\n",
       "      <td>2.295431</td>\n",
       "      <td>1.679236</td>\n",
       "    </tr>\n",
       "    <tr>\n",
       "      <th>180</th>\n",
       "      <td>2.477873</td>\n",
       "      <td>1.984745</td>\n",
       "      <td>3.166102</td>\n",
       "    </tr>\n",
       "  </tbody>\n",
       "</table>\n",
       "</div>"
      ],
      "text/plain": [
       "diversity_penalty        0         10        20\n",
       "temperature                                    \n",
       "50                 1.671819  1.932557  2.477407\n",
       "100                2.480751  2.046579  1.672051\n",
       "150                1.935611  2.295431  1.679236\n",
       "180                2.477873  1.984745  3.166102"
      ]
     },
     "execution_count": 62,
     "metadata": {},
     "output_type": "execute_result"
    }
   ],
   "source": [
    "log_df = log_df.dropna()\n",
    "\n",
    "# Create a pivot table for the z-score\n",
    "pivot_table_z_score = log_df.pivot_table(\n",
    "    values='z_score',\n",
    "    index='temperature',\n",
    "    columns='diversity_penalty',\n",
    "    aggfunc='mean'\n",
    ")\n",
    "\n",
    "# Plotting the pivot table as a heatmap\n",
    "plt.figure(figsize=(10, 8))\n",
    "plt.title('Z-Score by Temperature and Diversity Penalty')\n",
    "plt.xlabel('Diversity Penalty')\n",
    "plt.ylabel('Temperature')\n",
    "plt.imshow(pivot_table_z_score, cmap='viridis', aspect='auto')\n",
    "plt.colorbar(label='Z-Score')\n",
    "plt.xticks(ticks=range(len(pivot_table_z_score.columns)), labels=pivot_table_z_score.columns)\n",
    "plt.yticks(ticks=range(len(pivot_table_z_score.index)), labels=pivot_table_z_score.index)\n",
    "plt.show()\n",
    "\n",
    "pivot_table_z_score\n"
   ]
  },
  {
   "cell_type": "code",
   "execution_count": 63,
   "metadata": {},
   "outputs": [
    {
     "data": {
      "image/png": "[encoded data removed]",
      "text/plain": [
       "<Figure size 1000x800 with 2 Axes>"
      ]
     },
     "metadata": {},
     "output_type": "display_data"
    },
    {
     "data": {
      "text/html": [
       "<div>\n",
       "<style scoped>\n",
       "    .dataframe tbody tr th:only-of-type {\n",
       "        vertical-align: middle;\n",
       "    }\n",
       "\n",
       "    .dataframe tbody tr th {\n",
       "        vertical-align: top;\n",
       "    }\n",
       "\n",
       "    .dataframe thead th {\n",
       "        text-align: right;\n",
       "    }\n",
       "</style>\n",
       "<table border=\"1\" class=\"dataframe\">\n",
       "  <thead>\n",
       "    <tr style=\"text-align: right;\">\n",
       "      <th>diversity_penalty</th>\n",
       "      <th>0</th>\n",
       "      <th>10</th>\n",
       "      <th>20</th>\n",
       "    </tr>\n",
       "    <tr>\n",
       "      <th>temperature</th>\n",
       "      <th></th>\n",
       "      <th></th>\n",
       "      <th></th>\n",
       "    </tr>\n",
       "  </thead>\n",
       "  <tbody>\n",
       "    <tr>\n",
       "      <th>50</th>\n",
       "      <td>5725.487532</td>\n",
       "      <td>4135.283278</td>\n",
       "      <td>2053.326717</td>\n",
       "    </tr>\n",
       "    <tr>\n",
       "      <th>100</th>\n",
       "      <td>1868.728230</td>\n",
       "      <td>2602.180105</td>\n",
       "      <td>3499.493150</td>\n",
       "    </tr>\n",
       "    <tr>\n",
       "      <th>150</th>\n",
       "      <td>3401.125329</td>\n",
       "      <td>1977.297042</td>\n",
       "      <td>2085.521657</td>\n",
       "    </tr>\n",
       "    <tr>\n",
       "      <th>180</th>\n",
       "      <td>1452.500406</td>\n",
       "      <td>2033.326861</td>\n",
       "      <td>1048.841136</td>\n",
       "    </tr>\n",
       "  </tbody>\n",
       "</table>\n",
       "</div>"
      ],
      "text/plain": [
       "diversity_penalty           0            10           20\n",
       "temperature                                             \n",
       "50                 5725.487532  4135.283278  2053.326717\n",
       "100                1868.728230  2602.180105  3499.493150\n",
       "150                3401.125329  1977.297042  2085.521657\n",
       "180                1452.500406  2033.326861  1048.841136"
      ]
     },
     "execution_count": 63,
     "metadata": {},
     "output_type": "execute_result"
    }
   ],
   "source": [
    "# Create a pivot table for the time taken\n",
    "pivot_table_time_taken = log_df.pivot_table(\n",
    "    values='time_taken',\n",
    "    index='temperature',\n",
    "    columns='diversity_penalty',\n",
    "    aggfunc='mean'\n",
    ")\n",
    "\n",
    "# Plotting the pivot table as a heatmap\n",
    "plt.figure(figsize=(10, 8))\n",
    "plt.title('Time Taken by Temperature and Diversity Penalty')\n",
    "plt.xlabel('Diversity Penalty')\n",
    "plt.ylabel('Temperature')\n",
    "plt.imshow(pivot_table_time_taken, cmap='viridis', aspect='auto')\n",
    "plt.colorbar(label='Time Taken (seconds)')\n",
    "plt.xticks(ticks=range(len(pivot_table_time_taken.columns)), labels=pivot_table_time_taken.columns)\n",
    "plt.yticks(ticks=range(len(pivot_table_time_taken.index)), labels=pivot_table_time_taken.index)\n",
    "plt.show()\n",
    "\n",
    "pivot_table_time_taken\n"
   ]
  },
  {
   "cell_type": "markdown",
   "metadata": {},
   "source": [
    "## Quality Analysis"
   ]
  },
  {
   "cell_type": "code",
   "execution_count": 64,
   "metadata": {},
   "outputs": [
    {
     "name": "stdout",
     "output_type": "stream",
     "text": [
      "Empty DataFrame\n",
      "Columns: []\n",
      "Index: []\n"
     ]
    }
   ],
   "source": [
    "def parse_quality_logfile(file_path):\n",
    "    score_pattern = re.compile(r\"Score:\\s*(\\d+)\")\n",
    "    \n",
    "    with open(file_path, 'r') as file:\n",
    "        lines = file.readlines()\n",
    "        \n",
    "    # Find the last non-empty line\n",
    "    for line in reversed(lines):\n",
    "        if line.strip():  # Check if the line is not just whitespace\n",
    "            match = score_pattern.search(line)\n",
    "            if match:\n",
    "                return int(match.group(1))\n",
    "    \n",
    "    # If no score is found, raise an exception\n",
    "    raise ValueError(\"No score found in the log file\")\n",
    "\n",
    "# Initialize a list to hold the aggregated results\n",
    "aggregated_results = []\n",
    "\n",
    "# Iterate over all subdirectories and process each logfile.log\n",
    "for subdir in os.listdir(base_dir):\n",
    "    subdir_path = os.path.join(base_dir, subdir)\n",
    "    # if os.path.isdir(subdir_path) and \"prompt_3\" in subdir_path:\n",
    "    if os.path.isdir(subdir_path):\n",
    "        log_file_path = os.path.join(subdir_path, 'quality_logfile.log')\n",
    "        if os.path.isfile(log_file_path):\n",
    "            quality_score = parse_quality_logfile(log_file_path)\n",
    "            temp = int(subdir.split('_')[3])\n",
    "            divp = int(subdir.split('_')[5])\n",
    "            aggregated_results.append({'temperature': temp, 'diversity_penalty': divp, 'quality_score': quality_score})\n",
    "\n",
    "# Create a DataFrame from the aggregated results\n",
    "quality_df = pd.DataFrame(aggregated_results)\n",
    "\n",
    "# Display the aggregated DataFrame\n",
    "print(quality_df)\n",
    "\n",
    "# Optionally, you can save this aggregated DataFrame to a CSV file\n",
    "quality_df.to_csv('prompt_based_quality_result.csv', index=False)\n"
   ]
  },
  {
   "cell_type": "code",
   "execution_count": 65,
   "metadata": {},
   "outputs": [
    {
     "ename": "KeyError",
     "evalue": "'quality_score'",
     "output_type": "error",
     "traceback": [
      "\u001b[0;31m---------------------------------------------------------------------------\u001b[0m",
      "\u001b[0;31mKeyError\u001b[0m                                  Traceback (most recent call last)",
      "Cell \u001b[0;32mIn[65], line 2\u001b[0m\n\u001b[1;32m      1\u001b[0m \u001b[38;5;66;03m# Create a pivot table for the time taken\u001b[39;00m\n\u001b[0;32m----> 2\u001b[0m pivot_table_quality \u001b[38;5;241m=\u001b[39m \u001b[43mquality_df\u001b[49m\u001b[38;5;241;43m.\u001b[39;49m\u001b[43mpivot_table\u001b[49m\u001b[43m(\u001b[49m\n\u001b[1;32m      3\u001b[0m \u001b[43m    \u001b[49m\u001b[43mvalues\u001b[49m\u001b[38;5;241;43m=\u001b[39;49m\u001b[38;5;124;43m'\u001b[39;49m\u001b[38;5;124;43mquality_score\u001b[39;49m\u001b[38;5;124;43m'\u001b[39;49m\u001b[43m,\u001b[49m\n\u001b[1;32m      4\u001b[0m \u001b[43m    \u001b[49m\u001b[43mindex\u001b[49m\u001b[38;5;241;43m=\u001b[39;49m\u001b[38;5;124;43m'\u001b[39;49m\u001b[38;5;124;43mtemperature\u001b[39;49m\u001b[38;5;124;43m'\u001b[39;49m\u001b[43m,\u001b[49m\n\u001b[1;32m      5\u001b[0m \u001b[43m    \u001b[49m\u001b[43mcolumns\u001b[49m\u001b[38;5;241;43m=\u001b[39;49m\u001b[38;5;124;43m'\u001b[39;49m\u001b[38;5;124;43mdiversity_penalty\u001b[39;49m\u001b[38;5;124;43m'\u001b[39;49m\u001b[43m,\u001b[49m\n\u001b[1;32m      6\u001b[0m \u001b[43m    \u001b[49m\u001b[43maggfunc\u001b[49m\u001b[38;5;241;43m=\u001b[39;49m\u001b[38;5;124;43m'\u001b[39;49m\u001b[38;5;124;43mmean\u001b[39;49m\u001b[38;5;124;43m'\u001b[39;49m\n\u001b[1;32m      7\u001b[0m \u001b[43m)\u001b[49m\n\u001b[1;32m      9\u001b[0m \u001b[38;5;66;03m# Plotting the pivot table as a heatmap\u001b[39;00m\n\u001b[1;32m     10\u001b[0m plt\u001b[38;5;241m.\u001b[39mfigure(figsize\u001b[38;5;241m=\u001b[39m(\u001b[38;5;241m10\u001b[39m, \u001b[38;5;241m8\u001b[39m))\n",
      "File \u001b[0;32m/local1/borito1907/anaconda3/envs/watermark/lib/python3.10/site-packages/pandas/core/frame.py:7951\u001b[0m, in \u001b[0;36mDataFrame.pivot_table\u001b[0;34m(self, values, index, columns, aggfunc, fill_value, margins, dropna, margins_name, observed, sort)\u001b[0m\n\u001b[1;32m   7934\u001b[0m \u001b[38;5;129m@Substitution\u001b[39m(\u001b[38;5;124m\"\u001b[39m\u001b[38;5;124m\"\u001b[39m)\n\u001b[1;32m   7935\u001b[0m \u001b[38;5;129m@Appender\u001b[39m(_shared_docs[\u001b[38;5;124m\"\u001b[39m\u001b[38;5;124mpivot_table\u001b[39m\u001b[38;5;124m\"\u001b[39m])\n\u001b[1;32m   7936\u001b[0m \u001b[38;5;28;01mdef\u001b[39;00m \u001b[38;5;21mpivot_table\u001b[39m(\n\u001b[0;32m   (...)\u001b[0m\n\u001b[1;32m   7947\u001b[0m     sort\u001b[38;5;241m=\u001b[39m\u001b[38;5;28;01mTrue\u001b[39;00m,\n\u001b[1;32m   7948\u001b[0m ) \u001b[38;5;241m-\u001b[39m\u001b[38;5;241m>\u001b[39m DataFrame:\n\u001b[1;32m   7949\u001b[0m     \u001b[38;5;28;01mfrom\u001b[39;00m \u001b[38;5;21;01mpandas\u001b[39;00m\u001b[38;5;21;01m.\u001b[39;00m\u001b[38;5;21;01mcore\u001b[39;00m\u001b[38;5;21;01m.\u001b[39;00m\u001b[38;5;21;01mreshape\u001b[39;00m\u001b[38;5;21;01m.\u001b[39;00m\u001b[38;5;21;01mpivot\u001b[39;00m \u001b[38;5;28;01mimport\u001b[39;00m pivot_table\n\u001b[0;32m-> 7951\u001b[0m     \u001b[38;5;28;01mreturn\u001b[39;00m \u001b[43mpivot_table\u001b[49m\u001b[43m(\u001b[49m\n\u001b[1;32m   7952\u001b[0m \u001b[43m        \u001b[49m\u001b[38;5;28;43mself\u001b[39;49m\u001b[43m,\u001b[49m\n\u001b[1;32m   7953\u001b[0m \u001b[43m        \u001b[49m\u001b[43mvalues\u001b[49m\u001b[38;5;241;43m=\u001b[39;49m\u001b[43mvalues\u001b[49m\u001b[43m,\u001b[49m\n\u001b[1;32m   7954\u001b[0m \u001b[43m        \u001b[49m\u001b[43mindex\u001b[49m\u001b[38;5;241;43m=\u001b[39;49m\u001b[43mindex\u001b[49m\u001b[43m,\u001b[49m\n\u001b[1;32m   7955\u001b[0m \u001b[43m        \u001b[49m\u001b[43mcolumns\u001b[49m\u001b[38;5;241;43m=\u001b[39;49m\u001b[43mcolumns\u001b[49m\u001b[43m,\u001b[49m\n\u001b[1;32m   7956\u001b[0m \u001b[43m        \u001b[49m\u001b[43maggfunc\u001b[49m\u001b[38;5;241;43m=\u001b[39;49m\u001b[43maggfunc\u001b[49m\u001b[43m,\u001b[49m\n\u001b[1;32m   7957\u001b[0m \u001b[43m        \u001b[49m\u001b[43mfill_value\u001b[49m\u001b[38;5;241;43m=\u001b[39;49m\u001b[43mfill_value\u001b[49m\u001b[43m,\u001b[49m\n\u001b[1;32m   7958\u001b[0m \u001b[43m        \u001b[49m\u001b[43mmargins\u001b[49m\u001b[38;5;241;43m=\u001b[39;49m\u001b[43mmargins\u001b[49m\u001b[43m,\u001b[49m\n\u001b[1;32m   7959\u001b[0m \u001b[43m        \u001b[49m\u001b[43mdropna\u001b[49m\u001b[38;5;241;43m=\u001b[39;49m\u001b[43mdropna\u001b[49m\u001b[43m,\u001b[49m\n\u001b[1;32m   7960\u001b[0m \u001b[43m        \u001b[49m\u001b[43mmargins_name\u001b[49m\u001b[38;5;241;43m=\u001b[39;49m\u001b[43mmargins_name\u001b[49m\u001b[43m,\u001b[49m\n\u001b[1;32m   7961\u001b[0m \u001b[43m        \u001b[49m\u001b[43mobserved\u001b[49m\u001b[38;5;241;43m=\u001b[39;49m\u001b[43mobserved\u001b[49m\u001b[43m,\u001b[49m\n\u001b[1;32m   7962\u001b[0m \u001b[43m        \u001b[49m\u001b[43msort\u001b[49m\u001b[38;5;241;43m=\u001b[39;49m\u001b[43msort\u001b[49m\u001b[43m,\u001b[49m\n\u001b[1;32m   7963\u001b[0m \u001b[43m    \u001b[49m\u001b[43m)\u001b[49m\n",
      "File \u001b[0;32m/local1/borito1907/anaconda3/envs/watermark/lib/python3.10/site-packages/pandas/core/reshape/pivot.py:95\u001b[0m, in \u001b[0;36mpivot_table\u001b[0;34m(data, values, index, columns, aggfunc, fill_value, margins, dropna, margins_name, observed, sort)\u001b[0m\n\u001b[1;32m     92\u001b[0m     table \u001b[38;5;241m=\u001b[39m concat(pieces, keys\u001b[38;5;241m=\u001b[39mkeys, axis\u001b[38;5;241m=\u001b[39m\u001b[38;5;241m1\u001b[39m)\n\u001b[1;32m     93\u001b[0m     \u001b[38;5;28;01mreturn\u001b[39;00m table\u001b[38;5;241m.\u001b[39m__finalize__(data, method\u001b[38;5;241m=\u001b[39m\u001b[38;5;124m\"\u001b[39m\u001b[38;5;124mpivot_table\u001b[39m\u001b[38;5;124m\"\u001b[39m)\n\u001b[0;32m---> 95\u001b[0m table \u001b[38;5;241m=\u001b[39m \u001b[43m__internal_pivot_table\u001b[49m\u001b[43m(\u001b[49m\n\u001b[1;32m     96\u001b[0m \u001b[43m    \u001b[49m\u001b[43mdata\u001b[49m\u001b[43m,\u001b[49m\n\u001b[1;32m     97\u001b[0m \u001b[43m    \u001b[49m\u001b[43mvalues\u001b[49m\u001b[43m,\u001b[49m\n\u001b[1;32m     98\u001b[0m \u001b[43m    \u001b[49m\u001b[43mindex\u001b[49m\u001b[43m,\u001b[49m\n\u001b[1;32m     99\u001b[0m \u001b[43m    \u001b[49m\u001b[43mcolumns\u001b[49m\u001b[43m,\u001b[49m\n\u001b[1;32m    100\u001b[0m \u001b[43m    \u001b[49m\u001b[43maggfunc\u001b[49m\u001b[43m,\u001b[49m\n\u001b[1;32m    101\u001b[0m \u001b[43m    \u001b[49m\u001b[43mfill_value\u001b[49m\u001b[43m,\u001b[49m\n\u001b[1;32m    102\u001b[0m \u001b[43m    \u001b[49m\u001b[43mmargins\u001b[49m\u001b[43m,\u001b[49m\n\u001b[1;32m    103\u001b[0m \u001b[43m    \u001b[49m\u001b[43mdropna\u001b[49m\u001b[43m,\u001b[49m\n\u001b[1;32m    104\u001b[0m \u001b[43m    \u001b[49m\u001b[43mmargins_name\u001b[49m\u001b[43m,\u001b[49m\n\u001b[1;32m    105\u001b[0m \u001b[43m    \u001b[49m\u001b[43mobserved\u001b[49m\u001b[43m,\u001b[49m\n\u001b[1;32m    106\u001b[0m \u001b[43m    \u001b[49m\u001b[43msort\u001b[49m\u001b[43m,\u001b[49m\n\u001b[1;32m    107\u001b[0m \u001b[43m\u001b[49m\u001b[43m)\u001b[49m\n\u001b[1;32m    108\u001b[0m \u001b[38;5;28;01mreturn\u001b[39;00m table\u001b[38;5;241m.\u001b[39m__finalize__(data, method\u001b[38;5;241m=\u001b[39m\u001b[38;5;124m\"\u001b[39m\u001b[38;5;124mpivot_table\u001b[39m\u001b[38;5;124m\"\u001b[39m)\n",
      "File \u001b[0;32m/local1/borito1907/anaconda3/envs/watermark/lib/python3.10/site-packages/pandas/core/reshape/pivot.py:141\u001b[0m, in \u001b[0;36m__internal_pivot_table\u001b[0;34m(data, values, index, columns, aggfunc, fill_value, margins, dropna, margins_name, observed, sort)\u001b[0m\n\u001b[1;32m    139\u001b[0m \u001b[38;5;28;01mfor\u001b[39;00m i \u001b[38;5;129;01min\u001b[39;00m values:\n\u001b[1;32m    140\u001b[0m     \u001b[38;5;28;01mif\u001b[39;00m i \u001b[38;5;129;01mnot\u001b[39;00m \u001b[38;5;129;01min\u001b[39;00m data:\n\u001b[0;32m--> 141\u001b[0m         \u001b[38;5;28;01mraise\u001b[39;00m \u001b[38;5;167;01mKeyError\u001b[39;00m(i)\n\u001b[1;32m    143\u001b[0m to_filter \u001b[38;5;241m=\u001b[39m []\n\u001b[1;32m    144\u001b[0m \u001b[38;5;28;01mfor\u001b[39;00m x \u001b[38;5;129;01min\u001b[39;00m keys \u001b[38;5;241m+\u001b[39m values:\n",
      "\u001b[0;31mKeyError\u001b[0m: 'quality_score'"
     ]
    }
   ],
   "source": [
    "# Create a pivot table for the time taken\n",
    "pivot_table_quality = quality_df.pivot_table(\n",
    "    values='quality_score',\n",
    "    index='temperature',\n",
    "    columns='diversity_penalty',\n",
    "    aggfunc='mean'\n",
    ")\n",
    "\n",
    "# Plotting the pivot table as a heatmap\n",
    "plt.figure(figsize=(10, 8))\n",
    "plt.title('Quality Score by Temperature and Diversity Penalty')\n",
    "plt.xlabel('Diversity Penalty')\n",
    "plt.ylabel('Temperature')\n",
    "plt.imshow(pivot_table_quality, cmap='viridis', aspect='auto')\n",
    "plt.colorbar(label='Quality Score')\n",
    "plt.xticks(ticks=range(len(pivot_table_quality.columns)), labels=pivot_table_quality.columns)\n",
    "plt.yticks(ticks=range(len(pivot_table_quality.index)), labels=pivot_table_quality.index)\n",
    "plt.show()\n",
    "\n",
    "pivot_table_quality\n"
   ]
  },
  {
   "cell_type": "code",
   "execution_count": null,
   "metadata": {},
   "outputs": [],
   "source": []
  }
 ],
 "metadata": {
  "kernelspec": {
   "display_name": "watermark_2",
   "language": "python",
   "name": "python3"
  },
  "language_info": {
   "codemirror_mode": {
    "name": "ipython",
    "version": 3
   },
   "file_extension": ".py",
   "mimetype": "text/x-python",
   "name": "python",
   "nbconvert_exporter": "python",
   "pygments_lexer": "ipython3",
   "version": "3.10.14"
  }
 },
 "nbformat": 4,
 "nbformat_minor": 2
}
