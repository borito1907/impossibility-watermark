{
 "cells": [
  {
   "cell_type": "code",
   "execution_count": 21,
   "metadata": {},
   "outputs": [
    {
     "data": {
      "application/vnd.jupyter.widget-view+json": {
       "model_id": "9501ce8432f24776ab416dc14f61486b",
       "version_major": 2,
       "version_minor": 0
      },
      "text/plain": [
       "Text(value='', description='Subdirectory:', placeholder='Type subdirectory name')"
      ]
     },
     "metadata": {},
     "output_type": "display_data"
    },
    {
     "data": {
      "application/vnd.jupyter.widget-view+json": {
       "model_id": "af7beabe83ad4fbe801dfaa94628cdd8",
       "version_major": 2,
       "version_minor": 0
      },
      "text/plain": [
       "Text(value='', description='PNG Name:', placeholder='Type PNG name')"
      ]
     },
     "metadata": {},
     "output_type": "display_data"
    },
    {
     "data": {
      "application/vnd.jupyter.widget-view+json": {
       "model_id": "d3ff1942f6e446f99191cd7a2134ca89",
       "version_major": 2,
       "version_minor": 0
      },
      "text/plain": [
       "IntSlider(value=0, description='Image Index:', max=0)"
      ]
     },
     "metadata": {},
     "output_type": "display_data"
    },
    {
     "data": {
      "application/vnd.jupyter.widget-view+json": {
       "model_id": "dc291a2e29fe49b3abf505d63bbd76e8",
       "version_major": 2,
       "version_minor": 0
      },
      "text/plain": [
       "Output()"
      ]
     },
     "metadata": {},
     "output_type": "display_data"
    }
   ],
   "source": [
    "import os\n",
    "from IPython.display import display\n",
    "import ipywidgets as widgets\n",
    "from PIL import Image\n",
    "from io import BytesIO\n",
    "\n",
    "def list_png_files(base_path, subdirectory=\"\", png_name=\"\"):\n",
    "    \"\"\"List PNG files in the directory and subdirectories, optionally filtered by subdirectory and PNG name.\"\"\"\n",
    "    png_files = []\n",
    "    target_path = os.path.join(base_path, subdirectory) if subdirectory else base_path\n",
    "    for root, dirs, files in os.walk(target_path):\n",
    "        for file in files:\n",
    "            if file.endswith(\".png\") and (png_name.lower() in file.lower() or not png_name):\n",
    "                png_files.append(os.path.join(root, file))\n",
    "    return png_files\n",
    "\n",
    "def resize_image(image_path, max_width=800, max_height=600):\n",
    "    \"\"\"Resize the image to fit within specified dimensions, maintaining aspect ratio.\"\"\"\n",
    "    with Image.open(image_path) as img:\n",
    "        img.thumbnail((max_width, max_height), Image.Resampling.LANCZOS)\n",
    "        with BytesIO() as buf:\n",
    "            img.save(buf, format='PNG')\n",
    "            image_widget = widgets.Image(value=buf.getvalue(), format='png', width=img.width, height=img.height)\n",
    "    return image_widget, image_path\n",
    "\n",
    "def browse_png_files(folder_path):\n",
    "    \"\"\"Create widgets to browse through PNG files in the given folder, with subdirectory and file name filtering.\"\"\"\n",
    "    base_path = folder_path\n",
    "    output = widgets.Output()\n",
    "    subdirectory_input = widgets.Text(value='', placeholder='Type subdirectory name', description='Subdirectory:', disabled=False)\n",
    "    png_name_input = widgets.Text(value='', placeholder='Type PNG name', description='PNG Name:', disabled=False)\n",
    "    \n",
    "    def update_image_list(subdirectory=\"\", png_name=\"\"):\n",
    "        \"\"\"Update the list of PNG files based on the specified subdirectory and PNG name.\"\"\"\n",
    "        return list_png_files(base_path, subdirectory, png_name)\n",
    "    \n",
    "    def view_image(change):\n",
    "        \"\"\"Display the selected image from the updated list.\"\"\"\n",
    "        with output:\n",
    "            output.clear_output(wait=True)\n",
    "            png_files = update_image_list(subdirectory_input.value, png_name_input.value)\n",
    "            if not png_files:\n",
    "                display(widgets.HTML(value=\"<b>No PNG files found matching the criteria.</b>\"))\n",
    "                return\n",
    "            if slider.value >= len(png_files):\n",
    "                slider.value = 0  # Reset slider if out of range\n",
    "            image_widget, file_path = resize_image(png_files[slider.value])\n",
    "            display(widgets.HTML(value=f\"<b>File Path:</b> {file_path}\"))\n",
    "            display(image_widget)\n",
    "    \n",
    "    slider = widgets.IntSlider(value=0, min=0, max=0, step=1, description='Image Index:')\n",
    "    slider.observe(view_image, names='value')\n",
    "    \n",
    "    def on_text_change(change):\n",
    "        \"\"\"Handle updates to the text inputs for subdirectory or PNG name filtering.\"\"\"\n",
    "        png_files = update_image_list(subdirectory_input.value, png_name_input.value)\n",
    "        slider.max = len(png_files) - 1  # Update slider range\n",
    "        view_image(None)\n",
    "    \n",
    "    subdirectory_input.observe(on_text_change, names='value')\n",
    "    png_name_input.observe(on_text_change, names='value')\n",
    "    \n",
    "    # Display the widgets\n",
    "    display(subdirectory_input, png_name_input, slider, output)\n",
    "    view_image(None)  # Initial call to display the first image without filters\n",
    "\n",
    "# Example usage\n",
    "entropy = 2\n",
    "output = 2\n",
    "attack = 6\n",
    "browse_png_files(f\"./results/stationary_distribution/robustness_analysis/entropy_{entropy}/output_{output}/diversity/attack_{attack}\")\n"
   ]
  },
  {
   "cell_type": "code",
   "execution_count": null,
   "metadata": {},
   "outputs": [],
   "source": []
  }
 ],
 "metadata": {
  "kernelspec": {
   "display_name": "watermark",
   "language": "python",
   "name": "python3"
  },
  "language_info": {
   "codemirror_mode": {
    "name": "ipython",
    "version": 3
   },
   "file_extension": ".py",
   "mimetype": "text/x-python",
   "name": "python",
   "nbconvert_exporter": "python",
   "pygments_lexer": "ipython3",
   "version": "3.12.2"
  }
 },
 "nbformat": 4,
 "nbformat_minor": 2
}
