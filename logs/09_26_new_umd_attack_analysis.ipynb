{
 "cells": [
  {
   "cell_type": "code",
   "execution_count": 1,
   "metadata": {},
   "outputs": [],
   "source": [
    "import pandas as pd"
   ]
  },
  {
   "cell_type": "code",
   "execution_count": 2,
   "metadata": {},
   "outputs": [],
   "source": [
    "df = pd.read_csv('/data2/borito1907/impossibility-watermark/attack_traces/DiffOracle_umd_new_WordMutator_n-steps=1000_attack_results.csv')"
   ]
  },
  {
   "cell_type": "code",
   "execution_count": 3,
   "metadata": {},
   "outputs": [],
   "source": [
    "# Initialize list to store the DataFrames\n",
    "dfs = []\n",
    "current_df = None\n",
    "\n",
    "# Iterate over the rows and split on step_num resets\n",
    "for i, row in df.iterrows():\n",
    "    # Check if the step_num resets to -1, indicating a new sequence\n",
    "    if row['mutation_num'] == -1:\n",
    "        if current_df is not None and not current_df.empty:\n",
    "            dfs.append(current_df.reset_index(drop=True))  # Save the current increasing DF\n",
    "        current_df = pd.DataFrame([row])  # Start a new DataFrame with the reset row\n",
    "    else:\n",
    "        # Append the row to the current DataFrame\n",
    "        current_df = pd.concat([current_df, pd.DataFrame([row])])\n",
    "\n",
    "# Add the last DataFrame if it exists and is non-empty\n",
    "if current_df is not None and not current_df.empty:\n",
    "    dfs.append(current_df.reset_index(drop=True))"
   ]
  },
  {
   "cell_type": "code",
   "execution_count": 4,
   "metadata": {},
   "outputs": [
    {
     "data": {
      "text/plain": [
       "10"
      ]
     },
     "execution_count": 4,
     "metadata": {},
     "output_type": "execute_result"
    }
   ],
   "source": [
    "len(dfs)"
   ]
  },
  {
   "cell_type": "code",
   "execution_count": 18,
   "metadata": {},
   "outputs": [],
   "source": [
    "# dfs[6].to_csv('./anomaly.csv')"
   ]
  },
  {
   "cell_type": "code",
   "execution_count": 19,
   "metadata": {},
   "outputs": [],
   "source": [
    "# dfs[2].to_csv('./qatar.csv')"
   ]
  },
  {
   "cell_type": "code",
   "execution_count": 20,
   "metadata": {},
   "outputs": [],
   "source": [
    "# dfs[3].to_csv('./medicaid.csv')"
   ]
  },
  {
   "cell_type": "code",
   "execution_count": 21,
   "metadata": {},
   "outputs": [],
   "source": [
    "# dfs[4].to_csv('./dark_patterns.csv')"
   ]
  },
  {
   "cell_type": "code",
   "execution_count": 22,
   "metadata": {},
   "outputs": [],
   "source": [
    "# dfs[5].to_csv('./dip_stat.csv')"
   ]
  },
  {
   "cell_type": "code",
   "execution_count": 29,
   "metadata": {},
   "outputs": [],
   "source": [
    "# dfs[9].to_csv('./chess.csv')"
   ]
  },
  {
   "cell_type": "code",
   "execution_count": null,
   "metadata": {},
   "outputs": [],
   "source": []
  }
 ],
 "metadata": {
  "kernelspec": {
   "display_name": "gptq",
   "language": "python",
   "name": "python3"
  },
  "language_info": {
   "codemirror_mode": {
    "name": "ipython",
    "version": 3
   },
   "file_extension": ".py",
   "mimetype": "text/x-python",
   "name": "python",
   "nbconvert_exporter": "python",
   "pygments_lexer": "ipython3",
   "version": "3.10.14"
  }
 },
 "nbformat": 4,
 "nbformat_minor": 2
}
