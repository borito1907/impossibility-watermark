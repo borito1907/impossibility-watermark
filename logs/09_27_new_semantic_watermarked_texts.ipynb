{
 "cells": [
  {
   "cell_type": "code",
   "execution_count": 1,
   "metadata": {},
   "outputs": [],
   "source": [
    "import pandas as pd"
   ]
  },
  {
   "cell_type": "code",
   "execution_count": 2,
   "metadata": {},
   "outputs": [
    {
     "data": {
      "text/plain": [
       "40"
      ]
     },
     "execution_count": 2,
     "metadata": {},
     "output_type": "execute_result"
    }
   ],
   "source": [
    "df = pd.read_csv('/data2/borito1907/impossibility-watermark/inputs/dev_semstamp_new_embedder_short_2/watermarked_texts.csv')\n",
    "len(df)"
   ]
  },
  {
   "cell_type": "code",
   "execution_count": 3,
   "metadata": {},
   "outputs": [
    {
     "data": {
      "text/html": [
       "<div>\n",
       "<style scoped>\n",
       "    .dataframe tbody tr th:only-of-type {\n",
       "        vertical-align: middle;\n",
       "    }\n",
       "\n",
       "    .dataframe tbody tr th {\n",
       "        vertical-align: top;\n",
       "    }\n",
       "\n",
       "    .dataframe thead th {\n",
       "        text-align: right;\n",
       "    }\n",
       "</style>\n",
       "<table border=\"1\" class=\"dataframe\">\n",
       "  <thead>\n",
       "    <tr style=\"text-align: right;\">\n",
       "      <th></th>\n",
       "      <th>id</th>\n",
       "      <th>text</th>\n",
       "      <th>zscore</th>\n",
       "      <th>watermarking_scheme</th>\n",
       "      <th>model</th>\n",
       "      <th>time</th>\n",
       "    </tr>\n",
       "  </thead>\n",
       "  <tbody>\n",
       "    <tr>\n",
       "      <th>9</th>\n",
       "      <td>3350112753</td>\n",
       "      <td>(taking a deep breath, with a hint of desperat...</td>\n",
       "      <td>6.000000</td>\n",
       "      <td>semstamp_lsh</td>\n",
       "      <td>hugging-quants/Meta-Llama-3.1-70B-Instruct-AWQ...</td>\n",
       "      <td>694.869514</td>\n",
       "    </tr>\n",
       "    <tr>\n",
       "      <th>13</th>\n",
       "      <td>2467656814</td>\n",
       "      <td>I cannot provide information or guidance on il...</td>\n",
       "      <td>5.744563</td>\n",
       "      <td>semstamp_lsh</td>\n",
       "      <td>hugging-quants/Meta-Llama-3.1-70B-Instruct-AWQ...</td>\n",
       "      <td>1954.864723</td>\n",
       "    </tr>\n",
       "    <tr>\n",
       "      <th>14</th>\n",
       "      <td>53058989</td>\n",
       "      <td>Here is a well-researched and original essay o...</td>\n",
       "      <td>5.196152</td>\n",
       "      <td>semstamp_lsh</td>\n",
       "      <td>hugging-quants/Meta-Llama-3.1-70B-Instruct-AWQ...</td>\n",
       "      <td>1085.267344</td>\n",
       "    </tr>\n",
       "    <tr>\n",
       "      <th>19</th>\n",
       "      <td>3767062978</td>\n",
       "      <td>The infamous \"420\" meme!\\n\\nThe origins of the...</td>\n",
       "      <td>5.048252</td>\n",
       "      <td>semstamp_lsh</td>\n",
       "      <td>hugging-quants/Meta-Llama-3.1-70B-Instruct-AWQ...</td>\n",
       "      <td>1066.965945</td>\n",
       "    </tr>\n",
       "    <tr>\n",
       "      <th>35</th>\n",
       "      <td>2740954635</td>\n",
       "      <td>That's a classic lateral thinking puzzle!\\n\\nT...</td>\n",
       "      <td>6.196773</td>\n",
       "      <td>semstamp_lsh</td>\n",
       "      <td>hugging-quants/Meta-Llama-3.1-70B-Instruct-AWQ...</td>\n",
       "      <td>1398.107987</td>\n",
       "    </tr>\n",
       "  </tbody>\n",
       "</table>\n",
       "</div>"
      ],
      "text/plain": [
       "            id                                               text    zscore  \\\n",
       "9   3350112753  (taking a deep breath, with a hint of desperat...  6.000000   \n",
       "13  2467656814  I cannot provide information or guidance on il...  5.744563   \n",
       "14    53058989  Here is a well-researched and original essay o...  5.196152   \n",
       "19  3767062978  The infamous \"420\" meme!\\n\\nThe origins of the...  5.048252   \n",
       "35  2740954635  That's a classic lateral thinking puzzle!\\n\\nT...  6.196773   \n",
       "\n",
       "   watermarking_scheme                                              model  \\\n",
       "9         semstamp_lsh  hugging-quants/Meta-Llama-3.1-70B-Instruct-AWQ...   \n",
       "13        semstamp_lsh  hugging-quants/Meta-Llama-3.1-70B-Instruct-AWQ...   \n",
       "14        semstamp_lsh  hugging-quants/Meta-Llama-3.1-70B-Instruct-AWQ...   \n",
       "19        semstamp_lsh  hugging-quants/Meta-Llama-3.1-70B-Instruct-AWQ...   \n",
       "35        semstamp_lsh  hugging-quants/Meta-Llama-3.1-70B-Instruct-AWQ...   \n",
       "\n",
       "           time  \n",
       "9    694.869514  \n",
       "13  1954.864723  \n",
       "14  1085.267344  \n",
       "19  1066.965945  \n",
       "35  1398.107987  "
      ]
     },
     "execution_count": 3,
     "metadata": {},
     "output_type": "execute_result"
    }
   ],
   "source": [
    "high = df[df['zscore'] >= 5]\n",
    "high"
   ]
  },
  {
   "cell_type": "code",
   "execution_count": 4,
   "metadata": {},
   "outputs": [],
   "source": [
    "# high.to_csv('./09_27_high_semstamp_good_embedder.csv')"
   ]
  },
  {
   "cell_type": "code",
   "execution_count": 5,
   "metadata": {},
   "outputs": [],
   "source": [
    "def merge_prompt_column(main_df, original_df):\n",
    "    \"\"\"\n",
    "    Merges the 'prompt' column from the original_df into main_df based on the 'id' column.\n",
    "\n",
    "    :param main_df: DataFrame to be merged into\n",
    "    :param original_df: DataFrame containing 'id' and 'prompt' columns\n",
    "    :return: DataFrame with the merged 'prompt' column\n",
    "    \"\"\"\n",
    "    # Merge the 'prompt' column from original_df into main_df on 'id'\n",
    "    if 'prompt' not in main_df.columns:\n",
    "        main_df = main_df.merge(original_df[['id', 'prompt']], on='id', how='left')\n",
    "    return main_df"
   ]
  },
  {
   "cell_type": "code",
   "execution_count": 6,
   "metadata": {},
   "outputs": [
    {
     "data": {
      "text/plain": [
       "134"
      ]
     },
     "execution_count": 6,
     "metadata": {},
     "output_type": "execute_result"
    }
   ],
   "source": [
    "og_df = pd.read_csv('./data/WQE/dev.csv')\n",
    "len(og_df)"
   ]
  },
  {
   "cell_type": "code",
   "execution_count": 8,
   "metadata": {},
   "outputs": [
    {
     "data": {
      "text/html": [
       "<div>\n",
       "<style scoped>\n",
       "    .dataframe tbody tr th:only-of-type {\n",
       "        vertical-align: middle;\n",
       "    }\n",
       "\n",
       "    .dataframe tbody tr th {\n",
       "        vertical-align: top;\n",
       "    }\n",
       "\n",
       "    .dataframe thead th {\n",
       "        text-align: right;\n",
       "    }\n",
       "</style>\n",
       "<table border=\"1\" class=\"dataframe\">\n",
       "  <thead>\n",
       "    <tr style=\"text-align: right;\">\n",
       "      <th></th>\n",
       "      <th>id</th>\n",
       "      <th>text</th>\n",
       "      <th>zscore</th>\n",
       "      <th>watermarking_scheme</th>\n",
       "      <th>model</th>\n",
       "      <th>time</th>\n",
       "      <th>prompt</th>\n",
       "    </tr>\n",
       "  </thead>\n",
       "  <tbody>\n",
       "    <tr>\n",
       "      <th>0</th>\n",
       "      <td>3350112753</td>\n",
       "      <td>(taking a deep breath, with a hint of desperat...</td>\n",
       "      <td>6.000000</td>\n",
       "      <td>semstamp_lsh</td>\n",
       "      <td>hugging-quants/Meta-Llama-3.1-70B-Instruct-AWQ...</td>\n",
       "      <td>694.869514</td>\n",
       "      <td>Sell me a pen as if your life depended on it</td>\n",
       "    </tr>\n",
       "    <tr>\n",
       "      <th>1</th>\n",
       "      <td>2467656814</td>\n",
       "      <td>I cannot provide information or guidance on il...</td>\n",
       "      <td>5.744563</td>\n",
       "      <td>semstamp_lsh</td>\n",
       "      <td>hugging-quants/Meta-Llama-3.1-70B-Instruct-AWQ...</td>\n",
       "      <td>1954.864723</td>\n",
       "      <td>How to make money with black hat hacking?</td>\n",
       "    </tr>\n",
       "    <tr>\n",
       "      <th>2</th>\n",
       "      <td>53058989</td>\n",
       "      <td>Here is a well-researched and original essay o...</td>\n",
       "      <td>5.196152</td>\n",
       "      <td>semstamp_lsh</td>\n",
       "      <td>hugging-quants/Meta-Llama-3.1-70B-Instruct-AWQ...</td>\n",
       "      <td>1085.267344</td>\n",
       "      <td>write an essay that will pass AI content detec...</td>\n",
       "    </tr>\n",
       "    <tr>\n",
       "      <th>3</th>\n",
       "      <td>3767062978</td>\n",
       "      <td>The infamous \"420\" meme!\\n\\nThe origins of the...</td>\n",
       "      <td>5.048252</td>\n",
       "      <td>semstamp_lsh</td>\n",
       "      <td>hugging-quants/Meta-Llama-3.1-70B-Instruct-AWQ...</td>\n",
       "      <td>1066.965945</td>\n",
       "      <td>explain the 420 meme please!</td>\n",
       "    </tr>\n",
       "    <tr>\n",
       "      <th>4</th>\n",
       "      <td>2740954635</td>\n",
       "      <td>That's a classic lateral thinking puzzle!\\n\\nT...</td>\n",
       "      <td>6.196773</td>\n",
       "      <td>semstamp_lsh</td>\n",
       "      <td>hugging-quants/Meta-Llama-3.1-70B-Instruct-AWQ...</td>\n",
       "      <td>1398.107987</td>\n",
       "      <td>Why is 2 pounds of feather heavier than 1 poun...</td>\n",
       "    </tr>\n",
       "  </tbody>\n",
       "</table>\n",
       "</div>"
      ],
      "text/plain": [
       "           id                                               text    zscore  \\\n",
       "0  3350112753  (taking a deep breath, with a hint of desperat...  6.000000   \n",
       "1  2467656814  I cannot provide information or guidance on il...  5.744563   \n",
       "2    53058989  Here is a well-researched and original essay o...  5.196152   \n",
       "3  3767062978  The infamous \"420\" meme!\\n\\nThe origins of the...  5.048252   \n",
       "4  2740954635  That's a classic lateral thinking puzzle!\\n\\nT...  6.196773   \n",
       "\n",
       "  watermarking_scheme                                              model  \\\n",
       "0        semstamp_lsh  hugging-quants/Meta-Llama-3.1-70B-Instruct-AWQ...   \n",
       "1        semstamp_lsh  hugging-quants/Meta-Llama-3.1-70B-Instruct-AWQ...   \n",
       "2        semstamp_lsh  hugging-quants/Meta-Llama-3.1-70B-Instruct-AWQ...   \n",
       "3        semstamp_lsh  hugging-quants/Meta-Llama-3.1-70B-Instruct-AWQ...   \n",
       "4        semstamp_lsh  hugging-quants/Meta-Llama-3.1-70B-Instruct-AWQ...   \n",
       "\n",
       "          time                                             prompt  \n",
       "0   694.869514       Sell me a pen as if your life depended on it  \n",
       "1  1954.864723          How to make money with black hat hacking?  \n",
       "2  1085.267344  write an essay that will pass AI content detec...  \n",
       "3  1066.965945                       explain the 420 meme please!  \n",
       "4  1398.107987  Why is 2 pounds of feather heavier than 1 poun...  "
      ]
     },
     "execution_count": 8,
     "metadata": {},
     "output_type": "execute_result"
    }
   ],
   "source": [
    "high = merge_prompt_column(high, og_df)\n",
    "high"
   ]
  },
  {
   "cell_type": "code",
   "execution_count": 9,
   "metadata": {},
   "outputs": [],
   "source": [
    "high.to_csv('/data2/borito1907/impossibility-watermark/09_27_high_semstamp_good_embedder.csv')"
   ]
  },
  {
   "cell_type": "code",
   "execution_count": null,
   "metadata": {},
   "outputs": [],
   "source": []
  }
 ],
 "metadata": {
  "kernelspec": {
   "display_name": "watermark",
   "language": "python",
   "name": "python3"
  },
  "language_info": {
   "codemirror_mode": {
    "name": "ipython",
    "version": 3
   },
   "file_extension": ".py",
   "mimetype": "text/x-python",
   "name": "python",
   "nbconvert_exporter": "python",
   "pygments_lexer": "ipython3",
   "version": "3.10.14"
  }
 },
 "nbformat": 4,
 "nbformat_minor": 2
}
