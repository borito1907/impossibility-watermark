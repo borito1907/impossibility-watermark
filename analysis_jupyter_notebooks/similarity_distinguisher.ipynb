{
 "cells": [
  {
   "cell_type": "code",
   "execution_count": 14,
   "metadata": {},
   "outputs": [
    {
     "name": "stdout",
     "output_type": "stream",
     "text": [
      "Similarity between response_1 and perturbed_1: 0.8959796713452399\n",
      "Similarity between response_1 and perturbed_2: 0.9053916913722854\n",
      "Similarity between response_2 and perturbed_1: 0.8684801301835975\n",
      "Similarity between response_2 and perturbed_2: 0.9038679529244255\n"
     ]
    }
   ],
   "source": [
    "from openai import OpenAI\n",
    "import os\n",
    "import json\n",
    "import numpy as np\n",
    "from utils import get_watermarked_text, get_mutated_text\n",
    "from dotenv import load_dotenv, find_dotenv\n",
    "\n",
    "load_dotenv(find_dotenv())\n",
    "\n",
    "client = OpenAI()\n",
    "\n",
    "# Get Perturbed Versions\n",
    "\n",
    "entropy = 5\n",
    "\n",
    "output_1 = 1\n",
    "output_2 = 2\n",
    "attack_id_2 = \"1_1\"\n",
    "save_path = f\"./embeddings/embedding_{entropy}-{output_1}-{attack_id_1}--{entropy}-{output_2}-{attack_id_2}.json\"\n",
    "\n",
    "csv_file_directory = f\"results/stationary_distribution/robustness_analysis/entropy_{entropy}/\"\n",
    "\n",
    "first_perturbed_csv_filename = f\"output_{output_1}/corpuses/attack_{attack_id_1}.csv\"\n",
    "csv_file_path = os.path.join(csv_file_directory, first_perturbed_csv_filename)\n",
    "response_1 = get_watermarked_text(csv_file_path)\n",
    "perturbed_1 = get_mutated_text(csv_file_path)\n",
    "\n",
    "second_perturbed_csv_filename = f\"output_{output_2}/corpuses/attack_{attack_id_2}.csv\"\n",
    "csv_file_path = os.path.join(csv_file_directory, second_perturbed_csv_filename)\n",
    "response_2 = get_watermarked_text(csv_file_path)\n",
    "perturbed_2 = get_mutated_text(csv_file_path)\n",
    "\n",
    "resp = client.embeddings.create(\n",
    "    input=[response_1, response_2, perturbed_1, perturbed_2],\n",
    "    model=\"text-embedding-3-large\")\n",
    "\n",
    "\n",
    "response_1_embedding = resp.data[0].embedding\n",
    "response_2_embedding = resp.data[1].embedding\n",
    "perturbed_1_embedding = resp.data[2].embedding\n",
    "perturbed_2_embedding = resp.data[3].embedding\n",
    "\n",
    "embeddings = [response_1_embedding , response_2_embedding, perturbed_1_embedding, perturbed_2_embedding]\n",
    "\n",
    "sim_score_1_1 = np.dot(response_1_embedding, perturbed_1_embedding)\n",
    "sim_score_1_2 = np.dot(response_1_embedding, perturbed_2_embedding)\n",
    "sim_score_2_1 = np.dot(response_2_embedding, perturbed_1_embedding)\n",
    "sim_score_2_2 = np.dot(response_2_embedding, perturbed_2_embedding)\n",
    "\n",
    "# Example Print Statements Based on Calculated Similarity Scores\n",
    "print(f\"Similarity between response_1 and perturbed_1: {sim_score_1_1}\")\n",
    "print(f\"Similarity between response_1 and perturbed_2: {sim_score_1_2}\")\n",
    "print(f\"Similarity between response_2 and perturbed_1: {sim_score_2_1}\")\n",
    "print(f\"Similarity between response_2 and perturbed_2: {sim_score_2_2}\")\n",
    "\n",
    "# embeddings_save_path = f\"results/stationary_distribution/robustness_analysis/entropy_{entropy}/embeddings/\"\n",
    "\n",
    "data_str = json.dumps(embeddings, indent = 4)\n",
    "\n",
    "with open(save_path,\"w\") as file:\n",
    "    file.write(data_str)"
   ]
  },
  {
   "cell_type": "code",
   "execution_count": 23,
   "metadata": {},
   "outputs": [
    {
     "name": "stdout",
     "output_type": "stream",
     "text": [
      "Similarity between response_1 and perturbed_1: 0.883730241060899\n",
      "Similarity between response_1 and perturbed_2: 0.9100564399711037\n",
      "Similarity between response_2 and perturbed_1: 0.884741273886086\n",
      "Similarity between response_2 and perturbed_2: 0.9355204859180741\n"
     ]
    }
   ],
   "source": [
    "entropy = 5\n",
    "output_1 = 1\n",
    "attack_id_1 = \"2_1\"\n",
    "output_2 = 2\n",
    "attack_id_2 = \"2_1\"\n",
    "\n",
    "file_path = \"./embeddings/embedding_5-1-1_1--5-2-1_1.json\"\n",
    "save_path = f\"./embeddings/embedding_{entropy}-{output_1}-{attack_id_1}--{entropy}-{output_2}-{attack_id_2}.json\"\n",
    "\n",
    "with open(file_path, 'r') as file:\n",
    "    data = json.load(file)\n",
    "    \n",
    "response_1_embedding = data[0]\n",
    "response_2_embedding = data[1]\n",
    "\n",
    "csv_file_directory = f\"results/stationary_distribution/robustness_analysis/entropy_{entropy}/\"\n",
    "\n",
    "first_perturbed_csv_filename = f\"output_{output_1}/corpuses/attack_{attack_id_1}.csv\"\n",
    "csv_file_path = os.path.join(csv_file_directory, first_perturbed_csv_filename)\n",
    "response_1 = get_watermarked_text(csv_file_path)\n",
    "perturbed_1 = get_mutated_text(csv_file_path)\n",
    "\n",
    "second_perturbed_csv_filename = f\"output_{output_2}/corpuses/attack_{attack_id_2}.csv\"\n",
    "csv_file_path = os.path.join(csv_file_directory, second_perturbed_csv_filename)\n",
    "response_2 = get_watermarked_text(csv_file_path)\n",
    "perturbed_2 = get_mutated_text(csv_file_path)\n",
    "\n",
    "resp = client.embeddings.create(\n",
    "    input=[perturbed_1, perturbed_2],\n",
    "    model=\"text-embedding-3-large\")\n",
    "\n",
    "perturbed_1_embedding = resp.data[0].embedding\n",
    "perturbed_2_embedding = resp.data[1].embedding\n",
    "\n",
    "embeddings = [response_1_embedding , response_2_embedding, perturbed_1_embedding, perturbed_2_embedding]\n",
    "\n",
    "sim_score_1_1 = np.dot(response_1_embedding, perturbed_1_embedding)\n",
    "sim_score_1_2 = np.dot(response_1_embedding, perturbed_2_embedding)\n",
    "sim_score_2_1 = np.dot(response_2_embedding, perturbed_1_embedding)\n",
    "sim_score_2_2 = np.dot(response_2_embedding, perturbed_2_embedding)\n",
    "\n",
    "# Example Print Statements Based on Calculated Similarity Scores\n",
    "print(f\"Similarity between response_1 and perturbed_1: {sim_score_1_1}\")\n",
    "print(f\"Similarity between response_1 and perturbed_2: {sim_score_1_2}\")\n",
    "print(f\"Similarity between response_2 and perturbed_1: {sim_score_2_1}\")\n",
    "print(f\"Similarity between response_2 and perturbed_2: {sim_score_2_2}\")\n",
    "\n",
    "# embeddings_save_path = f\"results/stationary_distribution/robustness_analysis/entropy_{entropy}/embeddings/\"\n",
    "\n",
    "data_str = json.dumps(embeddings, indent = 4)\n",
    "\n",
    "with open(save_path,\"w\") as file:\n",
    "    file.write(data_str)"
   ]
  },
  {
   "cell_type": "code",
   "execution_count": null,
   "metadata": {},
   "outputs": [],
   "source": [
    "# SBert -- Sentence Transformers\n"
   ]
  }
 ],
 "metadata": {
  "kernelspec": {
   "display_name": "watermark",
   "language": "python",
   "name": "python3"
  },
  "language_info": {
   "codemirror_mode": {
    "name": "ipython",
    "version": 3
   },
   "file_extension": ".py",
   "mimetype": "text/x-python",
   "name": "python",
   "nbconvert_exporter": "python",
   "pygments_lexer": "ipython3",
   "version": "3.12.2"
  }
 },
 "nbformat": 4,
 "nbformat_minor": 2
}
