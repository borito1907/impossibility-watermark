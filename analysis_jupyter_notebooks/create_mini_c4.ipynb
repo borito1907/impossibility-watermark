{
 "cells": [
  {
   "cell_type": "code",
   "execution_count": 3,
   "metadata": {},
   "outputs": [
    {
     "data": {
      "application/vnd.jupyter.widget-view+json": {
       "model_id": "2d59e0e2d86349ef975a5eff7769058f",
       "version_major": 2,
       "version_minor": 0
      },
      "text/plain": [
       "Loading dataset from disk:   0%|          | 0/74 [00:00<?, ?it/s]"
      ]
     },
     "metadata": {},
     "output_type": "display_data"
    },
    {
     "name": "stdout",
     "output_type": "stream",
     "text": [
      "10 random entries have been written to sample_c4.csv\n"
     ]
    }
   ],
   "source": [
    "import pandas as pd\n",
    "from datasets import load_from_disk\n",
    "import random\n",
    "\n",
    "# Load the C4 train dataset from the local directory\n",
    "train_dataset = load_from_disk(\"./SemStamp/data/c4_train\")\n",
    "\n",
    "# Sample 10 random entries\n",
    "sample_indices = random.sample(range(len(train_dataset)), 10)\n",
    "\n",
    "# Extract the selected entries\n",
    "data = [{\"num\": i +1, \"idx\": idx, \"text\": train_dataset[idx][\"text\"]} for i, idx in enumerate(sample_indices)]\n",
    "\n",
    "# Create a DataFrame\n",
    "df = pd.DataFrame(data)\n",
    "\n",
    "# Write the DataFrame to a CSV file\n",
    "df.to_csv(\"mini_c4.csv\", index=False)\n",
    "\n",
    "print(\"10 random entries have been written to sample_c4.csv\")\n"
   ]
  },
  {
   "cell_type": "code",
   "execution_count": null,
   "metadata": {},
   "outputs": [],
   "source": []
  }
 ],
 "metadata": {
  "kernelspec": {
   "display_name": "watermark",
   "language": "python",
   "name": "python3"
  },
  "language_info": {
   "codemirror_mode": {
    "name": "ipython",
    "version": 3
   },
   "file_extension": ".py",
   "mimetype": "text/x-python",
   "name": "python",
   "nbconvert_exporter": "python",
   "pygments_lexer": "ipython3",
   "version": "3.12.2"
  }
 },
 "nbformat": 4,
 "nbformat_minor": 2
}
