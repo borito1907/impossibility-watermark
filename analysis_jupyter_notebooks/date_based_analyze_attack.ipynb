{
 "cells": [
  {
   "cell_type": "code",
   "execution_count": null,
   "metadata": {},
   "outputs": [],
   "source": [
    "import re\n",
    "import json\n",
    "import pandas as pd\n",
    "import matplotlib.pyplot as plt\n",
    "import os\n",
    "from datetime import datetime, timedelta"
   ]
  },
  {
   "cell_type": "code",
   "execution_count": null,
   "metadata": {},
   "outputs": [],
   "source": [
    "# TIME-BASED SEARCH\n",
    "\n",
    "# Define your time range\n",
    "start_time = datetime(2024, 2, 28, 0, 0)  \n",
    "end_time = datetime(2024, 2, 28, 23, 0)     \n",
    "\n",
    "def is_within_range(file_name, start_time, end_time):\n",
    "    # Extract the date and time from the file name\n",
    "    try:\n",
    "        # Split the filename and remove the '.csv' part\n",
    "        date_str = file_name.split('/')[-1].split('_')[1].rsplit('.', 1)[0]\n",
    "        file_time = datetime.strptime(date_str, '%Y-%m-%d.%H.%M.%S')\n",
    "    except ValueError:\n",
    "        # If conversion fails, return False\n",
    "        return False\n",
    "\n",
    "    # Check if the file time is within the range\n",
    "    return start_time <= file_time <= end_time\n",
    "\n",
    "\n",
    "# Directory containing the files\n",
    "directory = \"./eval/results/\"\n",
    "\n",
    "file_count = 0\n",
    "success_count = 0\n",
    "file_list = []\n",
    "\n",
    "# Process each file\n",
    "for file_name in os.listdir(directory):\n",
    "    if file_name.endswith(\".csv\") and is_within_range(file_name, start_time, end_time):\n",
    "        file_list.append(file_name)\n",
    "        file_count += 1\n",
    "        file_path = os.path.join(directory, file_name)\n",
    "        # Process the file\n",
    "        print(f\"Processing {file_path}\")\n",
    "        \n",
    "        df = pd.read_csv(file_path)\n",
    "                \n",
    "        print(f\"Starting z-score: {df.iloc[0]['watermark_score']}\")\n",
    "        \n",
    "        print(f\"Total perturbation attemps: {len(df) - 1}\")\n",
    "        \n",
    "        count = df[df['mutated_text_len'] < 0.95 * df['current_text_len']].shape[0]\n",
    "        print(f\"Short length count: {count}\")\n",
    "        \n",
    "        quality_preserved = df['quality_preserved'].sum() - 1\n",
    "        print(f\"Quality preserved perturbations: {quality_preserved}\")\n",
    "        \n",
    "        attack_successful = (not df.iloc[-1]['watermark_detected']) and (df.iloc[-1]['quality_preserved'])\n",
    "        print(f\"Attack successful: {attack_successful}\")\n",
    "        if attack_successful:\n",
    "            success_count +=1\n",
    "            \n",
    "print(f\"File count: {file_count}\")\n",
    "print(f\"Success count: {success_count}\")"
   ]
  }
 ],
 "metadata": {
  "language_info": {
   "name": "python"
  }
 },
 "nbformat": 4,
 "nbformat_minor": 2
}
