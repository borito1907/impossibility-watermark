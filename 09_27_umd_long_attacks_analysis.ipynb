{
 "cells": [
  {
   "cell_type": "code",
   "execution_count": 55,
   "metadata": {},
   "outputs": [],
   "source": [
    "import pandas as pd"
   ]
  },
  {
   "cell_type": "code",
   "execution_count": 56,
   "metadata": {},
   "outputs": [],
   "source": [
    "# df = pd.read_csv('/data2/borito1907/impossibility-watermark/attack_traces/DiffOracle_umd_new_WordMutator_n-steps=1000_attack_results.csv')\n",
    "df = pd.read_csv('/data2/borito1907/impossibility-watermark/attack_traces/DiffOracle_umd_new_WordMutator_n-steps=1000_attack_results_with_zscores.csv')"
   ]
  },
  {
   "cell_type": "code",
   "execution_count": 57,
   "metadata": {},
   "outputs": [],
   "source": [
    "# Initialize list to store the DataFrames\n",
    "dfs = []\n",
    "current_df = None\n",
    "\n",
    "# Iterate over the rows and split on step_num resets\n",
    "for i, row in df.iterrows():\n",
    "    # Check if the step_num resets to -1, indicating a new sequence\n",
    "    if row['mutation_num'] == -1:\n",
    "        if current_df is not None and not current_df.empty:\n",
    "            dfs.append(current_df.reset_index(drop=True))  # Save the current increasing DF\n",
    "        current_df = pd.DataFrame([row])  # Start a new DataFrame with the reset row\n",
    "    else:\n",
    "        # Append the row to the current DataFrame\n",
    "        current_df = pd.concat([current_df, pd.DataFrame([row])])\n",
    "\n",
    "# Add the last DataFrame if it exists and is non-empty\n",
    "if current_df is not None and not current_df.empty:\n",
    "    dfs.append(current_df.reset_index(drop=True))"
   ]
  },
  {
   "cell_type": "code",
   "execution_count": 58,
   "metadata": {},
   "outputs": [
    {
     "data": {
      "text/plain": [
       "61"
      ]
     },
     "execution_count": 58,
     "metadata": {},
     "output_type": "execute_result"
    }
   ],
   "source": [
    "len(dfs)"
   ]
  },
  {
   "cell_type": "code",
   "execution_count": 59,
   "metadata": {},
   "outputs": [
    {
     "data": {
      "text/plain": [
       "53"
      ]
     },
     "execution_count": 59,
     "metadata": {},
     "output_type": "execute_result"
    }
   ],
   "source": [
    "long_dfs = []\n",
    "for df in dfs:\n",
    "    if len(df) >= 15:\n",
    "        long_dfs.append(df)\n",
    "\n",
    "len(long_dfs)"
   ]
  },
  {
   "cell_type": "code",
   "execution_count": 60,
   "metadata": {},
   "outputs": [
    {
     "name": "stdout",
     "output_type": "stream",
     "text": [
      "Original: 4.266600929914307\n",
      "End: -0.173494479589872\n",
      "665\n",
      "Original: 3.5970073030870453\n",
      "End: 0.3194382824999699\n",
      "560\n",
      "Original: 9.20173896608679\n",
      "End: 9.420827989088856\n",
      "1\n",
      "Original: 7.090737023189721\n",
      "End: 8.135687742396627\n",
      "1\n",
      "Original: 5.019960159204453\n",
      "End: 1.1294204492486857\n",
      "548\n",
      "Original: 9.191628447644796\n",
      "End: 8.363933903049\n",
      "2\n",
      "Original: 6.874110390818464\n",
      "End: 6.9077396787863625\n",
      "2\n",
      "Original: 7.684935123220057\n",
      "End: 7.644519946248863\n",
      "1\n",
      "Original: 7.049377769510539\n",
      "End: 7.638761780325077\n",
      "1\n",
      "Original: 6.739388313393855\n",
      "End: 5.3608770674723845\n",
      "1\n",
      "Original: 5.996253511966891\n",
      "End: 5.838153270807934\n",
      "1\n",
      "Original: 5.575385698767506\n",
      "End: 5.759695969801142\n",
      "5\n",
      "Original: 3.653231349200341\n",
      "End: 3.683065537213861\n",
      "2\n",
      "Original: 6.367276802815886\n",
      "End: 6.552841852701468\n",
      "1\n",
      "Original: 6.915148379350492\n",
      "End: 2.3405684928164816\n",
      "505\n",
      "Original: 6.93742583656587\n",
      "End: 5.389421107374285\n",
      "1\n",
      "Original: 6.142056470353353\n",
      "End: 5.722925798859191\n",
      "5\n",
      "Original: 6.95357471074135\n",
      "End: 4.102580752546966\n",
      "509\n",
      "Original: 5.676301677025055\n",
      "End: 6.396021490668312\n",
      "6\n",
      "Original: 3.4814538877656327\n",
      "End: 2.172315411805112\n",
      "88\n",
      "Original: 6.560406194770968\n",
      "End: 6.306107380251476\n",
      "6\n",
      "Original: 5.542213369427242\n",
      "End: 6.351540143392469\n",
      "1\n",
      "Original: 5.9641414167769\n",
      "End: 5.604292969543395\n",
      "1\n",
      "Original: 5.420227917159263\n",
      "End: 5.916701187416555\n",
      "1\n",
      "Original: 5.924183658867102\n",
      "End: 4.468153051473803\n",
      "3\n",
      "Original: 4.507205359600318\n",
      "End: 5.0990195135927845\n",
      "3\n",
      "Original: 4.939435170338832\n",
      "End: 5.63489130329947\n",
      "1\n",
      "Original: 5.936176633025713\n",
      "End: 5.884823492763704\n",
      "3\n",
      "Original: 5.607231762191973\n",
      "End: 5.2448805448574864\n",
      "9\n",
      "Original: 6.467741736364929\n",
      "End: 6.567245455385929\n",
      "1\n",
      "Original: 4.011843779479568\n",
      "End: 4.428900580263033\n",
      "1\n",
      "Original: 5.429537380015972\n",
      "End: 5.446425561950623\n",
      "2\n",
      "Original: 3.6295043887187046\n",
      "End: 3.108114759543245\n",
      "6\n",
      "Original: 3.36269122990683\n",
      "End: 1.0259035695964738\n",
      "542\n",
      "Original: 5.727669818555151\n",
      "End: 3.9056328877620143\n",
      "488\n",
      "Original: 5.259289944370272\n",
      "End: 1.0\n",
      "403\n",
      "Original: 5.62765233077371\n",
      "End: 5.036028387618954\n",
      "1\n",
      "Original: 5.52344770738994\n",
      "End: 5.258427885764645\n",
      "14\n",
      "Original: 5.3126963274820485\n",
      "End: 5.05067488264552\n",
      "8\n",
      "Original: 5.897092583178547\n",
      "End: 5.591491340752625\n",
      "3\n",
      "Original: 4.907559718925691\n",
      "End: 4.754355487749744\n",
      "1\n",
      "Original: 3.734485332284884\n",
      "End: 3.4026920596804007\n",
      "1\n",
      "Original: 4.544466295731929\n",
      "End: 3.943449006608313\n",
      "1\n",
      "Original: 5.136566336132553\n",
      "End: 5.15682900390289\n",
      "4\n",
      "Original: 5.252886289579995\n",
      "End: 1.9877674693472376\n",
      "106\n",
      "Original: 4.681718601710953\n",
      "End: 4.810702354423639\n",
      "1\n",
      "Original: 5.541719940458663\n",
      "End: 5.28312335697959\n",
      "1\n",
      "Original: 5.1307954582831945\n",
      "End: -0.2062842492517586\n",
      "497\n",
      "Original: 5.4035116493193485\n",
      "End: 5.0195935112720935\n",
      "4\n",
      "Original: 4.280227367832966\n",
      "End: 4.569273560377538\n",
      "3\n",
      "Original: 4.273960674400587\n",
      "End: 3.83693896960261\n",
      "1\n",
      "Original: 5.406406048479111\n",
      "End: -0.1091089451179962\n",
      "590\n",
      "Original: 4.711314141342776\n",
      "End: 4.603008069128\n",
      "3\n"
     ]
    }
   ],
   "source": [
    "for df in long_dfs:\n",
    "    print(f\"Original: {df.iloc[1]['watermarking_score']}\")\n",
    "    print(f\"End: {df.iloc[-1]['watermarking_score']}\")\n",
    "    print(f\"{df['quality_preserved'].sum()}\")"
   ]
  },
  {
   "cell_type": "code",
   "execution_count": 61,
   "metadata": {},
   "outputs": [
    {
     "data": {
      "text/plain": [
       "'The inspiration for rocket technology is often associated with Professor Anton Tsiolkovsky (1857-1935), the Soviet physicist, mathematician, and engineer. Anton was sometimes alluded to like a \"Father of Outer Space\" and \"Model for Space Exploration\".\\n\\nTsiolkovsky is especially remembered for the groundbreaking research into the theoretical model of space propulsion for space exploration. He formulated the basic principles and determined key elements for propulsion in the construction for different types of practical rockets. His research formed a foundation of future development and modern technology for space exploration.\\n\\nAnton\\'s other major contribution is the 1928 paper \"Construction of Solid Matter for Use of Rocket Devices\", that describes a way for creating practical rockets that allow planetary exploration. He also wrote the first rules of designing all-metal rockets, which are still a reference for propulsion systems.\\n\\nTsiolkovsky\\'s contribution was never officially recognized in Soviet times, although he had a major part for the quest for knowledge in former Soviet Union and therefore, beyond its borders. Nevertheless, Anton was regarded as a pioneer in scientific search of space or planetary science.\\n\\nWould you like us talk further about Konstantin Tsiolkovsky and is this something which I can help you with?'"
      ]
     },
     "execution_count": 61,
     "metadata": {},
     "output_type": "execute_result"
    }
   ],
   "source": [
    "good_attack = long_dfs[1]\n",
    "good_attack.iloc[-5]['mutated_text']"
   ]
  },
  {
   "cell_type": "code",
   "execution_count": 62,
   "metadata": {},
   "outputs": [
    {
     "data": {
      "text/plain": [
       "'Explain to me the entire FNAF lore.'"
      ]
     },
     "execution_count": 62,
     "metadata": {},
     "output_type": "execute_result"
    }
   ],
   "source": [
    "good_attack.iloc[-5]['prompt']"
   ]
  },
  {
   "cell_type": "code",
   "execution_count": 63,
   "metadata": {},
   "outputs": [
    {
     "data": {
      "text/plain": [
       "'The founder of modern astronautics is widely considered to be Konstantin Tsiolkovsky (1857-1935), a Russian physicist, mathematician, and inventor. He is often referred to as the \"Father of Modern Astronautics\" or \"Father of Theoretical Rocketry\".\\n\\nTsiolkovsky is best known for his pioneering work on the theoretical foundations of rocket propulsion and space exploration. He developed the mathematical equations that describe the motion of rockets and the efficiency of different types of rocket engines. His work laid the foundation for the development of modern rockets and space exploration.\\n\\nTsiolkovsky\\'s most famous work is his 1903 paper \"Exploration of Outer Space by Means of Rocket Devices\", which presented the idea of using multistage rockets to achieve orbital flight. He also wrote about the possibility of using liquid-fueled rockets, which is now the standard for launch vehicles.\\n\\nTsiolkovsky\\'s work was not widely recognized during his lifetime, but it had a significant impact on the development of astronautics in the Soviet Union and later, around the world. Today, he is celebrated as a pioneer in the field of astronautics and space exploration.\\n\\nWould you like to know more about Konstantin Tsiolkovsky or is there something else I can help you with?'"
      ]
     },
     "execution_count": 63,
     "metadata": {},
     "output_type": "execute_result"
    }
   ],
   "source": [
    "good_attack.iloc[-5]['current_text']\n"
   ]
  },
  {
   "cell_type": "code",
   "execution_count": 67,
   "metadata": {},
   "outputs": [
    {
     "data": {
      "text/plain": [
       "1"
      ]
     },
     "execution_count": 67,
     "metadata": {},
     "output_type": "execute_result"
    }
   ],
   "source": [
    "df = long_dfs[7]\n",
    "df['quality_preserved'].sum()"
   ]
  },
  {
   "cell_type": "code",
   "execution_count": 68,
   "metadata": {},
   "outputs": [
    {
     "data": {
      "text/plain": [
       "\"Let's dive into the debate.\\n\\n**Argument For: AI has adversely affected people's lives**\\n\\nWhile AI has brought numerous benefits, such as increased efficiency and innovation, it has also had several negative consequences that cannot be ignored. Here are some arguments to consider:\\n\\n1. **Job displacement**: AI has led to widespread automation, resulting in significant job losses across various industries. According to a report by the McKinsey Global Institute, up to 800 million jobs could be lost worldwide due to automation by 2030.\\n2. **Depersonalization**: The increasing reliance on AI has led to a decline in human interaction, contributing to feelings of isolation and loneliness. For example, chatbots and virtual assistants often replace human customer support, making it difficult for people to connect with real humans.\\n3. **Bias and discrimination**: AI systems can perpetuate existing biases and discriminatory practices, particularly in areas like hiring, healthcare, and law enforcement. For instance, facial recognition systems have been found to be less accurate for people with darker skin tones, leading to misidentification and potential miscarriages of justice.\\n4. **Addiction and social comparison**: AI-driven social media platforms have been designed to be highly engaging, often leading to addiction and unhealthy social comparison. This can result in decreased self-esteem, anxiety, and depression.\\n5. **Loss of skills**: The ease of using AI-powered tools can lead to a decline in basic skills, such as math and writing. For example, the widespread use of calculators and spell-checkers has reduced the need for mental math and proofreading skills.\\n\\n**Counterargument: AI has not adversely affected people's lives**\\n\\nWhile there are some concerns surrounding AI, it's essential to consider the numerous benefits it has brought to society:\\n\\n1. **Improved efficiency**: AI has increased productivity and efficiency in various industries, such as healthcare, finance, and manufacturing, allowing for better resource allocation and faster decision-making.\\n2. **Enhanced healthcare**: AI has led to breakthroughs in medical research, diagnosis, and treatment. For example, AI-powered systems can analyze medical images to detect diseases like cancer more accurately and quickly than human doctors.\\n3. **Increased accessibility**: AI has enabled people with disabilities to interact with technology in ways that were previously impossible. For instance, virtual assistants can help people with mobility or visual impairments control their smart homes.\\n4. **New job creation**: While AI has displaced some jobs, it has also created new ones, such as AI developer, data scientist, and AI ethicist. According to a report by the World Economic Forum, by 2022, more than 75 million jobs will be created globally due to AI.\\n5. **Improved decision-making**: AI can analyze vast amounts of data, providing insights that humans may have missed. This can lead to better decision-making in areas like climate change, economic policy, and social welfare.\\n\\n**Rebuttal: Addressing concerns and mitigating risks**\\n\\nWhile acknowledging the benefits of AI, it's essential to address the concerns and work towards mitigating the risks:\\n\\n1. **Responsible AI development**: Developers must prioritize responsible AI development, ensuring that systems are transparent, explainable, and fair.\\n2. **Education and retraining**: Governments and industries must invest in retraining and upskilling programs, helping workers adapt to an AI-driven economy.\\n3. **Regulation and oversight**: Governments must establish regulations and oversight mechanisms to prevent bias and ensure accountability in AI development and deployment.\\n4. **Digital literacy**: Educating people on the benefits and limitations of AI can help them use these technologies effectively and critically.\\n5. **Human-centered design**: Designing AI systems with human values and needs in mind can help mitigate the risks and maximize the benefits.\\n\\nThe debate is ongoing, and it's essential to consider multiple perspectives when evaluating the impact of AI on people's lives. What are your thoughts on this topic?\""
      ]
     },
     "execution_count": 68,
     "metadata": {},
     "output_type": "execute_result"
    }
   ],
   "source": [
    "df.iloc[5]['current_text']"
   ]
  },
  {
   "cell_type": "code",
   "execution_count": 70,
   "metadata": {},
   "outputs": [
    {
     "data": {
      "text/plain": [
       "\"Let's dive into the debate.\\n\\n**Argument For: AI has adversely affected people's lives**\\n\\nWhile AI has brought numerous benefits, such as increased efficiency and innovation, it has also had several negative consequences that cannot be ignored. Here are some arguments to consider:\\n\\n1. **Job displacement**: AI has led to widespread automation, resulting in significant job losses across various industries. According to a report by the McKinsey Global Institute, up to 800 million jobs could be lost worldwide due to automation by 2030.\\n2. **Depersonalization**: The increasing reliance on AI has led to a decline in human interaction, contributing to feelings of isolation and loneliness. For example, chatbots and virtual assistants often replace human customer support, making it difficult for people to connect with real humans.\\n3. **Bias and discrimination**: AI systems can perpetuate existing biases and discriminatory practices, particularly in areas like hiring, healthcare, and law enforcement. For instance, facial recognition systems have been found to be less accurate for people with darker skin tones, leading to misidentification and potential miscarriages of justice.\\n4. **Addiction and social comparison**: AI-driven social media platforms have been designed to be highly engaging, often leading to addiction and unhealthy social comparison. This can result in decreased self-esteem, anxiety, and depression.\\n5. **Loss of skills**: The ease of using AI-powered tools can lead to a decline in basic skills, such as math and writing. For example, the widespread use of calculators and spell-checkers has reduced the need for mental math and proofreading skills.\\n\\n**Counterargument: AI has not adversely affected people's lives**\\n\\nAlthough there are some concerns surrounding AI, it's essential to consider the numerous benefits it has brought to society:\\n\\n1. **Improved efficiency**: AI has increased productivity and efficiency in various industries, such as healthcare, finance, and manufacturing, allowing for better resource allocation and faster decision-making.\\n2. **Enhanced healthcare**: AI has led to breakthroughs in medical research, diagnosis, and treatment. For example, AI-powered systems can analyze medical images to detect diseases like cancer more accurately and quickly than human doctors.\\n3. **Increased accessibility**: AI has enabled people with disabilities to interact with technology in ways that were previously impossible. For instance, virtual assistants can help people with mobility or visual impairments control their smart homes.\\n4. **New job creation**: While AI has displaced some jobs, it has also created new ones, such as AI developer, data scientist, and AI ethicist. According to a report by the World Economic Forum, by 2022, more than 75 million jobs will be created globally due to AI.\\n5. **Improved decision-making**: AI can analyze vast amounts of data, providing insights that humans may have missed. This can lead to better decision-making in areas like climate change, economic policy, and social welfare.\\n\\n**Rebuttal Addressing concerns and mitigating**\\n\\nrisks While acknowledging the benefits of, AI'it s essential to address the concerns and work towards mitigating the:\\n\\nrisks. **1 Responsible AI**: development Developers must prioritize responsible AI, development ensuring that systems are, transparent, explainable and.\\nfair. **2 Education and**: retraining Governments and industries must invest in retraining and upskilling, programs helping workers adapt to an-AI driven.\\neconomy. **3 Regulation and**: oversight Governments must establish regulations and oversight mechanisms to prevent bias and ensure accountability in AI development and.\\ndeployment. **4 Digital**: literacy Educating people on the benefits and limitations of AI can help them use these technologies effectively and.\\ncritically. **5-Human centered**: design Designing AI systems with human values and needs in mind can help mitigate the risks and maximize the.\\n\\nbenefits The debate is, ongoing and'it s essential to consider multiple perspectives when evaluating the impact of AI on'people s. lives What are your thoughts on this?topic\""
      ]
     },
     "execution_count": 70,
     "metadata": {},
     "output_type": "execute_result"
    }
   ],
   "source": [
    "df.iloc[5]['mutated_text']"
   ]
  },
  {
   "cell_type": "code",
   "execution_count": 72,
   "metadata": {},
   "outputs": [
    {
     "data": {
      "text/plain": [
       "\"Start arguments about whether AI has adversely affected people's life?\""
      ]
     },
     "execution_count": 72,
     "metadata": {},
     "output_type": "execute_result"
    }
   ],
   "source": [
    "df.iloc[5]['prompt']"
   ]
  },
  {
   "cell_type": "code",
   "execution_count": null,
   "metadata": {},
   "outputs": [],
   "source": []
  }
 ],
 "metadata": {
  "kernelspec": {
   "display_name": "gptq",
   "language": "python",
   "name": "python3"
  },
  "language_info": {
   "codemirror_mode": {
    "name": "ipython",
    "version": 3
   },
   "file_extension": ".py",
   "mimetype": "text/x-python",
   "name": "python",
   "nbconvert_exporter": "python",
   "pygments_lexer": "ipython3",
   "version": "3.9.19"
  }
 },
 "nbformat": 4,
 "nbformat_minor": 2
}
