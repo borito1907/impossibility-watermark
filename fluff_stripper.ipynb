{
 "cells": [
  {
   "cell_type": "code",
   "execution_count": 64,
   "metadata": {},
   "outputs": [],
   "source": [
    "import pandas as pd\n",
    "import re"
   ]
  },
  {
   "cell_type": "code",
   "execution_count": 65,
   "metadata": {},
   "outputs": [],
   "source": [
    "# def remove_fluff(text):\n",
    "#     # Define a list of fluff patterns\n",
    "#     fluff_patterns = [\n",
    "#         r\"\\bMay I assist you\\b\\??\",\n",
    "#         r\"\\bHow can I help you\\b\\??\",\n",
    "#         r\"\\bDo you need any further assistance\\b\\??\",\n",
    "#         r\"\\bIs there anything else\\b\\??\",\n",
    "#         r\"\\bFeel free to ask\\b\\??\",\n",
    "#         r\"\\bHow may I assist you further\\b\\??\",\n",
    "#         r\"\\bYou can type anything you want\\b\",\n",
    "#         r\"\\bWhat can I help you with today\\b\\??\",\n",
    "#         # Add more patterns as needed\n",
    "#     ]\n",
    "    \n",
    "#     # Combine all patterns into a single regex\n",
    "#     fluff_regex = re.compile(r'|'.join(fluff_patterns), re.IGNORECASE)\n",
    "    \n",
    "#     # Search for the first match of a fluff sentence in the text\n",
    "#     match = fluff_regex.search(text)\n",
    "    \n",
    "#     if match:\n",
    "#         # If a fluff sentence is found, return everything before its position\n",
    "#         cleaned_text = text[:match.start()]\n",
    "#     else:\n",
    "#         # If no fluff is found, return the original text\n",
    "#         cleaned_text = text\n",
    "    \n",
    "#     return cleaned_text\n",
    "\n",
    "\n",
    "\n",
    "def remove_last_if_matches(input_string, substring = \"<|eot_id|>\") -> str:\n",
    "    if input_string.endswith(substring):\n",
    "        return input_string[:-len(substring)]\n",
    "    return input_string\n"
   ]
  },
  {
   "cell_type": "code",
   "execution_count": 66,
   "metadata": {},
   "outputs": [],
   "source": [
    "df1 = pd.read_csv('/local1/borito1907/impossibility-watermark/inputs/adaptive_dev_massive_final_1/watermarked_texts.csv')\n",
    "df2 = pd.read_csv('/local1/borito1907/impossibility-watermark/inputs/adaptive_dev_massive_final3_cont_1/watermarked_texts.csv')\n",
    "df3 = pd.read_csv('/local1/borito1907/impossibility-watermark/inputs/adaptive_dev_massive_final3_2/watermarked_texts.csv')\n",
    "df4 = pd.read_csv('/local1/borito1907/impossibility-watermark/inputs/adaptive_dev_massive_final4_cont_1/watermarked_texts.csv')\n",
    "\n",
    "df = pd.concat([df1,df2,df3,df4], axis=0)"
   ]
  },
  {
   "cell_type": "code",
   "execution_count": 67,
   "metadata": {},
   "outputs": [],
   "source": [
    "df['text'] = df['text'].apply(remove_last_if_matches)\n",
    "\n",
    "# for i in range(21,31):\n",
    "#     print(\"-\" * 100)\n",
    "#     print(df['text'].iloc[i])"
   ]
  },
  {
   "cell_type": "code",
   "execution_count": 68,
   "metadata": {},
   "outputs": [],
   "source": [
    "# df['text'] = df['text'].apply(remove_fluff)\n",
    "\n",
    "# for i in range(21,31):\n",
    "#     print(\"-\" * 100)\n",
    "#     print(df['text'].iloc[i])"
   ]
  },
  {
   "cell_type": "code",
   "execution_count": 69,
   "metadata": {},
   "outputs": [],
   "source": [
    "# df.to_csv('/local1/borito1907/impossibility-watermark/data/WQE_adaptive/dev.csv')"
   ]
  },
  {
   "cell_type": "code",
   "execution_count": null,
   "metadata": {},
   "outputs": [],
   "source": []
  }
 ],
 "metadata": {
  "kernelspec": {
   "display_name": "watermark",
   "language": "python",
   "name": "python3"
  },
  "language_info": {
   "codemirror_mode": {
    "name": "ipython",
    "version": 3
   },
   "file_extension": ".py",
   "mimetype": "text/x-python",
   "name": "python",
   "nbconvert_exporter": "python",
   "pygments_lexer": "ipython3",
   "version": "3.10.14"
  }
 },
 "nbformat": 4,
 "nbformat_minor": 2
}
