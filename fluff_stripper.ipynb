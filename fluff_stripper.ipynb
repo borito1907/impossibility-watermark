{
 "cells": [
  {
   "cell_type": "code",
   "execution_count": 106,
   "metadata": {},
   "outputs": [],
   "source": [
    "import pandas as pd\n",
    "import re"
   ]
  },
  {
   "cell_type": "code",
   "execution_count": 107,
   "metadata": {},
   "outputs": [],
   "source": [
    "def remove_fluff(text):\n",
    "    # Define a list of fluff patterns\n",
    "    fluff_patterns = [\n",
    "        r\"\\bMay I assist you\\b\\??\",\n",
    "        r\"\\bHow can I help you\\b\\??\",\n",
    "        r\"\\bDo you need any further assistance\\b\\??\",\n",
    "        r\"\\bIs there anything else\\b\\??\",\n",
    "        r\"\\bFeel free to ask\\b\\??\",\n",
    "        r\"\\bHow may I assist you further\\b\\??\",\n",
    "        r\"\\bYou can type anything you want\",\n",
    "        r\"\\bWhat can I help you with today\\b\\??\",\n",
    "        # Add more patterns as needed\n",
    "    ]\n",
    "    \n",
    "    # Combine all patterns into a single regex\n",
    "    fluff_regex = re.compile(r'|'.join(fluff_patterns), re.IGNORECASE)\n",
    "    \n",
    "    # Split the text into sentences\n",
    "    sentences = re.split(r'(?<=[.!?])\\s+', text.strip())\n",
    "    \n",
    "    # Initialize an empty list to collect non-fluff sentences\n",
    "    filtered_sentences = []\n",
    "    \n",
    "    for sentence in sentences:\n",
    "        # Check if the current sentence matches any fluff pattern\n",
    "        if fluff_regex.search(sentence):\n",
    "            break  # Stop processing if a fluff sentence is detected\n",
    "        filtered_sentences.append(sentence)\n",
    "    \n",
    "    # Join the remaining sentences into the final cleaned text\n",
    "    cleaned_text = ' '.join(filtered_sentences)\n",
    "    \n",
    "    return cleaned_text\n",
    "\n",
    "def remove_last_if_matches(input_string, substring = \"<|eot_id|>\") -> str:\n",
    "    if input_string.endswith(substring):\n",
    "        return input_string[:-len(substring)]\n",
    "    return input_string\n"
   ]
  },
  {
   "cell_type": "code",
   "execution_count": 108,
   "metadata": {},
   "outputs": [],
   "source": [
    "df1 = pd.read_csv('/local1/borito1907/impossibility-watermark/inputs/adaptive_dev_massive_final_1/watermarked_texts.csv')\n",
    "df2 = pd.read_csv('/local1/borito1907/impossibility-watermark/inputs/adaptive_dev_massive_final3_cont_1/watermarked_texts.csv')\n",
    "df3 = pd.read_csv('/local1/borito1907/impossibility-watermark/inputs/adaptive_dev_massive_final3_2/watermarked_texts.csv')\n",
    "df4 = pd.read_csv('/local1/borito1907/impossibility-watermark/inputs/adaptive_dev_massive_final4_cont_1/watermarked_texts.csv')\n",
    "\n",
    "df = pd.concat([df1,df2,df3,df4], axis=0)"
   ]
  },
  {
   "cell_type": "code",
   "execution_count": 109,
   "metadata": {},
   "outputs": [],
   "source": [
    "# df['text'] = df['text'].apply(remove_last_if_matches)\n",
    "\n",
    "# for i in range(21,31):\n",
    "#     print(\"-\" * 100)\n",
    "#     print(df['text'].iloc[i])"
   ]
  },
  {
   "cell_type": "code",
   "execution_count": 110,
   "metadata": {},
   "outputs": [],
   "source": [
    "# df['text'] = df['text'].apply(remove_fluff)\n",
    "\n",
    "# for i in range(14,20):\n",
    "#     print(\"-\" * 100)\n",
    "#     print(df['text'].iloc[i])"
   ]
  },
  {
   "cell_type": "code",
   "execution_count": null,
   "metadata": {},
   "outputs": [],
   "source": []
  }
 ],
 "metadata": {
  "kernelspec": {
   "display_name": "watermark",
   "language": "python",
   "name": "python3"
  },
  "language_info": {
   "codemirror_mode": {
    "name": "ipython",
    "version": 3
   },
   "file_extension": ".py",
   "mimetype": "text/x-python",
   "name": "python",
   "nbconvert_exporter": "python",
   "pygments_lexer": "ipython3",
   "version": "3.10.14"
  }
 },
 "nbformat": 4,
 "nbformat_minor": 2
}
