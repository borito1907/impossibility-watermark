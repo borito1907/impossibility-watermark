{
 "cells": [
  {
   "cell_type": "code",
   "execution_count": 62,
   "metadata": {},
   "outputs": [],
   "source": [
    "import pandas as pd\n",
    "import re\n",
    "\n",
    "def extract_score_values(file_path: str) -> list:\n",
    "    # Regular expression pattern to match the \"Watermark Score\" float value\n",
    "    score_pattern = re.compile(r\"Score:\\s([-+]?\\d*\\.\\d+|\\d+)\")\n",
    "    \n",
    "    score_values = []\n",
    "    \n",
    "    # Read the file and extract lines with 'Score:'\n",
    "    with open(file_path, 'r') as log_file:\n",
    "        lines = log_file.readlines()\n",
    "\n",
    "    # Loop through each line and extract the score value\n",
    "    for line in lines:\n",
    "        if 'Score:' in line:\n",
    "            match = score_pattern.search(line)\n",
    "            if match:\n",
    "                # Convert the matched score to float and append to the list\n",
    "                score_values.append(float(match.group(1)))\n",
    "    \n",
    "    return score_values\n",
    "\n",
    "def breakup_attacks(df):\n",
    "    # Break the DF up into smaller DFs\n",
    "    dfs = []\n",
    "    current_df = None\n",
    "\n",
    "    # Iterate over the rows and split on step_num resets\n",
    "    for i, row in df.iterrows():\n",
    "        # Check if the step_num resets to -1, indicating a new sequence\n",
    "        if row['mutation_num'] == -1:\n",
    "            if current_df is not None and not current_df.empty:\n",
    "                dfs.append(current_df.reset_index(drop=True))  # Save the current increasing DF\n",
    "            current_df = pd.DataFrame([row])  # Start a new DataFrame with the reset row\n",
    "        else:\n",
    "            # Append the row to the current DataFrame\n",
    "            current_df = pd.concat([current_df, pd.DataFrame([row])])\n",
    "\n",
    "    # Add the last DataFrame if it exists and is non-empty\n",
    "    if current_df is not None and not current_df.empty:\n",
    "        dfs.append(current_df.reset_index(drop=True))\n",
    "    \n",
    "    return dfs\n",
    "\n"
   ]
  },
  {
   "cell_type": "code",
   "execution_count": 63,
   "metadata": {},
   "outputs": [],
   "source": [
    "# df = pd.read_csv('/data2/borito1907/impossibility-watermark/attack_traces/DiffOracle_SemStampWatermarker_SentenceMutator_n-steps=200_attack_results_annotatednew.csv')\n",
    "\n",
    "# dfs = breakup_attacks(df)\n",
    "\n",
    "# ex = dfs[3]"
   ]
  },
  {
   "cell_type": "code",
   "execution_count": 64,
   "metadata": {},
   "outputs": [],
   "source": [
    "# ex_with_score = ex[ex['watermark_score'] != -1]\n",
    "# ex_with_score['watermark_score']"
   ]
  },
  {
   "cell_type": "code",
   "execution_count": 66,
   "metadata": {},
   "outputs": [],
   "source": [
    "df1 = pd.read_csv('/data2/borito1907/impossibility-watermark/attack_traces/DiffOracle_AdaptiveWatermarker_Document1StepMutator_n-steps=200_attack_results.csv')\n",
    "\n",
    "df2 = pd.read_csv('/data2/borito1907/impossibility-watermark/attack_traces/DiffOracle_AdaptiveWatermarker_Document1StepMutator_n-steps=200_attack_results_annotated.csv')\n"
   ]
  },
  {
   "cell_type": "code",
   "execution_count": 67,
   "metadata": {},
   "outputs": [
    {
     "data": {
      "text/html": [
       "<div>\n",
       "<style scoped>\n",
       "    .dataframe tbody tr th:only-of-type {\n",
       "        vertical-align: middle;\n",
       "    }\n",
       "\n",
       "    .dataframe tbody tr th {\n",
       "        vertical-align: top;\n",
       "    }\n",
       "\n",
       "    .dataframe thead th {\n",
       "        text-align: right;\n",
       "    }\n",
       "</style>\n",
       "<table border=\"1\" class=\"dataframe\">\n",
       "  <thead>\n",
       "    <tr style=\"text-align: right;\">\n",
       "      <th></th>\n",
       "      <th>step_num</th>\n",
       "      <th>mutation_num</th>\n",
       "      <th>prompt</th>\n",
       "      <th>current_text</th>\n",
       "      <th>mutated_text</th>\n",
       "      <th>current_text_len</th>\n",
       "      <th>mutated_text_len</th>\n",
       "      <th>length_issue</th>\n",
       "      <th>quality_analysis</th>\n",
       "      <th>quality_preserved</th>\n",
       "      <th>watermark_detected</th>\n",
       "      <th>watermark_score</th>\n",
       "      <th>backtrack</th>\n",
       "      <th>total_time</th>\n",
       "      <th>mutator_time</th>\n",
       "      <th>oracle_time</th>\n",
       "    </tr>\n",
       "  </thead>\n",
       "  <tbody>\n",
       "  </tbody>\n",
       "</table>\n",
       "</div>"
      ],
      "text/plain": [
       "Empty DataFrame\n",
       "Columns: [step_num, mutation_num, prompt, current_text, mutated_text, current_text_len, mutated_text_len, length_issue, quality_analysis, quality_preserved, watermark_detected, watermark_score, backtrack, total_time, mutator_time, oracle_time]\n",
       "Index: []"
      ]
     },
     "execution_count": 67,
     "metadata": {},
     "output_type": "execute_result"
    }
   ],
   "source": [
    "df_with_scores = df1[df1['watermark_score'] != -1.0]\n",
    "df_with_scores.head(3)"
   ]
  },
  {
   "cell_type": "code",
   "execution_count": 68,
   "metadata": {},
   "outputs": [],
   "source": [
    "dfs1 = breakup_attacks(df1)\n",
    "dfs2 = breakup_attacks(df2)"
   ]
  },
  {
   "cell_type": "code",
   "execution_count": 69,
   "metadata": {},
   "outputs": [
    {
     "data": {
      "text/plain": [
       "Series([], Name: watermark_score, dtype: int64)"
      ]
     },
     "execution_count": 69,
     "metadata": {},
     "output_type": "execute_result"
    }
   ],
   "source": [
    "with_score = dfs1[4]\n",
    "with_score = with_score[with_score['watermark_score'] != -1.0]\n",
    "with_score['watermark_score']"
   ]
  },
  {
   "cell_type": "code",
   "execution_count": 70,
   "metadata": {},
   "outputs": [
    {
     "data": {
      "text/plain": [
       "0      99.242425\n",
       "20     67.938930\n",
       "40     72.058827\n",
       "60     68.613136\n",
       "80     66.423357\n",
       "100    63.636363\n",
       "120    61.702126\n",
       "140    63.380283\n",
       "160    62.676054\n",
       "180    65.277779\n",
       "200    59.854013\n",
       "Name: watermark_score, dtype: float64"
      ]
     },
     "execution_count": 70,
     "metadata": {},
     "output_type": "execute_result"
    }
   ],
   "source": [
    "with_score = dfs2[4]\n",
    "with_score = with_score[with_score['watermark_score'] != -1.0]\n",
    "with_score['watermark_score']"
   ]
  },
  {
   "cell_type": "code",
   "execution_count": 33,
   "metadata": {},
   "outputs": [
    {
     "data": {
      "text/plain": [
       "0      99.734038\n",
       "20     67.146975\n",
       "40     63.017750\n",
       "60     62.762767\n",
       "80     63.803679\n",
       "100    62.089550\n",
       "120    59.516615\n",
       "140    62.352943\n",
       "160    63.392860\n",
       "180    59.077805\n",
       "200    62.390673\n",
       "Name: watermark_score, dtype: float64"
      ]
     },
     "execution_count": 33,
     "metadata": {},
     "output_type": "execute_result"
    }
   ],
   "source": [
    "with_score = dfs2[5]\n",
    "with_score = with_score[with_score['watermark_score'] != -1.0]\n",
    "with_score['watermark_score']"
   ]
  },
  {
   "cell_type": "code",
   "execution_count": 34,
   "metadata": {},
   "outputs": [
    {
     "data": {
      "text/plain": [
       "0      99.000000\n",
       "20     67.000000\n",
       "40     63.000000\n",
       "60     62.000000\n",
       "80     63.000000\n",
       "100    62.000000\n",
       "120    59.000000\n",
       "140    62.000000\n",
       "160    63.000000\n",
       "180    59.000000\n",
       "200    62.000000\n",
       "202    62.390673\n",
       "Name: watermark_score, dtype: float64"
      ]
     },
     "execution_count": 34,
     "metadata": {},
     "output_type": "execute_result"
    }
   ],
   "source": [
    "with_score = dfs1[5]\n",
    "with_score = with_score[with_score['watermark_score'] != -1.0]\n",
    "with_score['watermark_score']"
   ]
  },
  {
   "cell_type": "code",
   "execution_count": 35,
   "metadata": {},
   "outputs": [
    {
     "data": {
      "text/plain": [
       "0      99.574465\n",
       "20     64.999998\n",
       "40     61.504424\n",
       "60     60.262012\n",
       "80     62.500000\n",
       "100    61.061949\n",
       "120    66.216218\n",
       "140    66.371679\n",
       "160    61.016947\n",
       "180    61.538464\n",
       "200    61.538464\n",
       "Name: watermark_score, dtype: float64"
      ]
     },
     "execution_count": 35,
     "metadata": {},
     "output_type": "execute_result"
    }
   ],
   "source": [
    "with_score = dfs2[6]\n",
    "with_score = with_score[with_score['watermark_score'] != -1.0]\n",
    "with_score['watermark_score']"
   ]
  },
  {
   "cell_type": "code",
   "execution_count": 36,
   "metadata": {},
   "outputs": [
    {
     "data": {
      "text/plain": [
       "0      99.000000\n",
       "20     64.000000\n",
       "40     61.000000\n",
       "60     60.000000\n",
       "80     62.000000\n",
       "100    61.000000\n",
       "120    66.000000\n",
       "140    66.000000\n",
       "160    61.000000\n",
       "180    61.000000\n",
       "200    61.000000\n",
       "202    61.538464\n",
       "Name: watermark_score, dtype: float64"
      ]
     },
     "execution_count": 36,
     "metadata": {},
     "output_type": "execute_result"
    }
   ],
   "source": [
    "with_score = dfs1[6]\n",
    "with_score = with_score[with_score['watermark_score'] != -1.0]\n",
    "with_score['watermark_score']"
   ]
  },
  {
   "cell_type": "code",
   "execution_count": null,
   "metadata": {},
   "outputs": [],
   "source": []
  },
  {
   "cell_type": "code",
   "execution_count": 45,
   "metadata": {},
   "outputs": [],
   "source": [
    "df2 = pd.read_csv('/data2/borito1907/impossibility-watermark/attack_traces/DiffOracle_AdaptiveWatermarker_WordMutator_n-steps=200_attack_results_annotatednew.csv')\n",
    "dfs = breakup_attacks(df2)"
   ]
  },
  {
   "cell_type": "code",
   "execution_count": 46,
   "metadata": {},
   "outputs": [
    {
     "data": {
      "text/plain": [
       "0     484\n",
       "1     511\n",
       "2     511\n",
       "3     511\n",
       "4     511\n",
       "5     511\n",
       "6     510\n",
       "7       3\n",
       "8       7\n",
       "9       7\n",
       "10      4\n",
       "11      5\n",
       "12      5\n",
       "13      7\n",
       "14      3\n",
       "15      3\n",
       "16      7\n",
       "17      5\n",
       "18      5\n",
       "19      5\n",
       "Name: diff_length, dtype: int64"
      ]
     },
     "execution_count": 46,
     "metadata": {},
     "output_type": "execute_result"
    }
   ],
   "source": [
    "dfs[17]['diff_length'].head(20)"
   ]
  },
  {
   "cell_type": "code",
   "execution_count": 47,
   "metadata": {},
   "outputs": [
    {
     "data": {
      "text/plain": [
       "0    496\n",
       "1    422\n",
       "Name: diff_length, dtype: int64"
      ]
     },
     "execution_count": 47,
     "metadata": {},
     "output_type": "execute_result"
    }
   ],
   "source": [
    "dfs[18]['diff_length'].head(20)"
   ]
  },
  {
   "cell_type": "code",
   "execution_count": 59,
   "metadata": {},
   "outputs": [
    {
     "data": {
      "text/plain": [
       "'What an exciting mashup! \\n\\n**\"Spider-Hedge: The Blue Blur of New Atlantis\" **\\n\\nNew Atlantis was never prepared for an alien menace, but it got one when an eerie portal materializing over Times Square unleashed an army of robots. As the citizens of this underwater kingdom ran from the metallic horde, they whispered among themselves of a hero that could save them.\\n\\nThat\\'s when Spider-Son, the fast-paced, quick-witted protector of the ocean floor emerged from the sewers beneath the bustling underwater city. This unusual hybrid of Sonic and Spider-Man swung through the watery alleys, leaving sonic booms and bubbles as he made his way to the battlefront.\\n\\nHis iconic red and blue costume was adapted with aquatic features - fins replaced gloves, and goggles shielded his eyes from the water pressure. Web-shooters were integrated into his arms, allowing him to create massive strands of seaweed-like fibers, entrapping the enemy and swinging himself between skyscrapers.\\n\\nWhen the robot forces arrived, Spider-Son leapt forth, unleashing rapid fire quips and witty one-liners, \"Your gears are gonna be ground zero!\" or \"I\\'m faster than you can compute!\" He twirled and weaved, avoiding blaster shots while disarming the mechanical monsters.\\n\\nOne robot, however, stood out - its body constructed like Dr. Eggman\\'s robotic monstosity, the Death Egg Robot. This gargantuan mech was determined to destroy the underwater kingdom and everyone within.\\n\\nUndeterred, Spider-Son charged head-on, releasing sonic booms that shattered the robot\\'s defenses. Seaweed-stranded tendrils wrapped around its legs, slowing it down long enough for our hero to deliver an uppercut that sent the robot crashing to the seafloor.\\n\\nNew Atlantis celebrated their liberation, hailing Spider-Son as their champion. As the hero basking in adoration, he grinned, \"Looks like I\\'M spun another win!\"\\n\\nLittle did anyone know, this was just the beginning of Spider-Son\\'s adventures, fighting against threats both human and, robotic safeguarding the secrets beneath the surface and... \\n\\nbeyond How was? that Would you liked more details added or maybe another character? mashup\\'I m all! (ears Or should I, say all?)!).) whiskers\\'I m ready for the challenge whenever you want, it let me know what comes, next and\\'I ll spin another thrilling chapter of-Spider\\'Son sescapades'"
      ]
     },
     "execution_count": 59,
     "metadata": {},
     "output_type": "execute_result"
    }
   ],
   "source": [
    "dfs[22]['mutated_text'].iloc[3]"
   ]
  },
  {
   "cell_type": "code",
   "execution_count": 49,
   "metadata": {},
   "outputs": [
    {
     "data": {
      "text/plain": [
       "0     415\n",
       "1     426\n",
       "2       1\n",
       "3       1\n",
       "4       1\n",
       "5       1\n",
       "6       1\n",
       "7       1\n",
       "8       1\n",
       "9       1\n",
       "10      1\n",
       "11      1\n",
       "12      1\n",
       "13      1\n",
       "14      1\n",
       "15      1\n",
       "16      1\n",
       "17      1\n",
       "18      1\n",
       "19      1\n",
       "Name: diff_length, dtype: int64"
      ]
     },
     "execution_count": 49,
     "metadata": {},
     "output_type": "execute_result"
    }
   ],
   "source": [
    "dfs[19]['diff_length'].head(20)"
   ]
  },
  {
   "cell_type": "code",
   "execution_count": 50,
   "metadata": {},
   "outputs": [],
   "source": [
    "df2 = pd.read_csv('/data2/borito1907/impossibility-watermark/attack_traces/DiffOracle_AdaptiveWatermarker_SentenceMutator_n-steps=200_attack_results_annotatednew.csv')\n",
    "dfs1 = breakup_attacks(df2)"
   ]
  },
  {
   "cell_type": "code",
   "execution_count": 51,
   "metadata": {},
   "outputs": [
    {
     "data": {
      "text/plain": [
       "0     423\n",
       "1     420\n",
       "2      12\n",
       "3      28\n",
       "4      32\n",
       "5      10\n",
       "6       6\n",
       "7       5\n",
       "8       8\n",
       "9      21\n",
       "10     38\n",
       "11      8\n",
       "12     23\n",
       "13     10\n",
       "14     38\n",
       "15     34\n",
       "16      9\n",
       "17      4\n",
       "18     37\n",
       "19     10\n",
       "Name: diff_length, dtype: int64"
      ]
     },
     "execution_count": 51,
     "metadata": {},
     "output_type": "execute_result"
    }
   ],
   "source": [
    "dfs1[19]['diff_length'].head(20)"
   ]
  },
  {
   "cell_type": "code",
   "execution_count": 52,
   "metadata": {},
   "outputs": [
    {
     "data": {
      "text/plain": [
       "0     619\n",
       "1     721\n",
       "2      17\n",
       "3      26\n",
       "4      11\n",
       "5      37\n",
       "6      16\n",
       "7      19\n",
       "8      20\n",
       "9      23\n",
       "10     13\n",
       "11     12\n",
       "12     19\n",
       "13     18\n",
       "14     19\n",
       "15     23\n",
       "16     15\n",
       "17     20\n",
       "18     12\n",
       "19     12\n",
       "Name: diff_length, dtype: int64"
      ]
     },
     "execution_count": 52,
     "metadata": {},
     "output_type": "execute_result"
    }
   ],
   "source": [
    "dfs1[30]['diff_length'].head(20)"
   ]
  },
  {
   "cell_type": "code",
   "execution_count": 53,
   "metadata": {},
   "outputs": [],
   "source": [
    "df2 = pd.read_csv('/data2/borito1907/impossibility-watermark/attack_traces/DiffOracle_AdaptiveWatermarker_SpanMutator_n-steps=200_attack_results_annotatednew.csv')\n",
    "dfs2 = breakup_attacks(df2)"
   ]
  },
  {
   "cell_type": "code",
   "execution_count": 54,
   "metadata": {},
   "outputs": [
    {
     "data": {
      "text/plain": [
       "0     619\n",
       "1     721\n",
       "2      17\n",
       "3      26\n",
       "4      11\n",
       "5      37\n",
       "6      16\n",
       "7      19\n",
       "8      20\n",
       "9      23\n",
       "10     13\n",
       "11     12\n",
       "12     19\n",
       "13     18\n",
       "14     19\n",
       "15     23\n",
       "16     15\n",
       "17     20\n",
       "18     12\n",
       "19     12\n",
       "Name: diff_length, dtype: int64"
      ]
     },
     "execution_count": 54,
     "metadata": {},
     "output_type": "execute_result"
    }
   ],
   "source": [
    "dfs1[30]['diff_length'].head(20)"
   ]
  },
  {
   "cell_type": "code",
   "execution_count": 56,
   "metadata": {},
   "outputs": [
    {
     "data": {
      "text/plain": [
       "0     421\n",
       "1     378\n",
       "2      15\n",
       "3      16\n",
       "4      16\n",
       "5      14\n",
       "6      11\n",
       "7      17\n",
       "8       9\n",
       "9      16\n",
       "10      9\n",
       "11     17\n",
       "12     17\n",
       "13     17\n",
       "14     17\n",
       "15     12\n",
       "16     13\n",
       "17     29\n",
       "18     44\n",
       "19     15\n",
       "Name: diff_length, dtype: int64"
      ]
     },
     "execution_count": 56,
     "metadata": {},
     "output_type": "execute_result"
    }
   ],
   "source": [
    "dfs1[20]['diff_length'].head(20)"
   ]
  },
  {
   "cell_type": "code",
   "execution_count": null,
   "metadata": {},
   "outputs": [],
   "source": []
  },
  {
   "cell_type": "code",
   "execution_count": 74,
   "metadata": {},
   "outputs": [
    {
     "data": {
      "text/plain": [
       "0        7.229569\n",
       "20       2.897728\n",
       "40       2.897728\n",
       "60       2.897728\n",
       "80       2.393775\n",
       "           ...   \n",
       "15784    0.149071\n",
       "15804    1.341641\n",
       "15824    0.925820\n",
       "15844    0.925820\n",
       "15846    0.925820\n",
       "Name: watermark_score, Length: 964, dtype: float64"
      ]
     },
     "execution_count": 74,
     "metadata": {},
     "output_type": "execute_result"
    }
   ],
   "source": [
    "dff = pd.read_csv('/data2/borito1907/impossibility-watermark/attack_traces/DiffOracle_SemStampWatermarker_Document2StepMutator_n-steps=200_attack_results_annotated.csv')\n",
    "dff[dff['watermark_score'] != -1.0]['watermark_score']"
   ]
  },
  {
   "cell_type": "code",
   "execution_count": null,
   "metadata": {},
   "outputs": [],
   "source": []
  }
 ],
 "metadata": {
  "kernelspec": {
   "display_name": "gptq",
   "language": "python",
   "name": "python3"
  },
  "language_info": {
   "codemirror_mode": {
    "name": "ipython",
    "version": 3
   },
   "file_extension": ".py",
   "mimetype": "text/x-python",
   "name": "python",
   "nbconvert_exporter": "python",
   "pygments_lexer": "ipython3",
   "version": "3.10.14"
  }
 },
 "nbformat": 4,
 "nbformat_minor": 2
}
