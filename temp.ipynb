{
 "cells": [
  {
   "cell_type": "code",
   "execution_count": 9,
   "metadata": {},
   "outputs": [],
   "source": [
    "import pandas as pd\n",
    "import re\n",
    "\n",
    "def extract_score_values(file_path: str) -> list:\n",
    "    # Regular expression pattern to match the \"Watermark Score\" float value\n",
    "    score_pattern = re.compile(r\"Score:\\s([-+]?\\d*\\.\\d+|\\d+)\")\n",
    "    \n",
    "    score_values = []\n",
    "    \n",
    "    # Read the file and extract lines with 'Score:'\n",
    "    with open(file_path, 'r') as log_file:\n",
    "        lines = log_file.readlines()\n",
    "\n",
    "    # Loop through each line and extract the score value\n",
    "    for line in lines:\n",
    "        if 'Score:' in line:\n",
    "            match = score_pattern.search(line)\n",
    "            if match:\n",
    "                # Convert the matched score to float and append to the list\n",
    "                score_values.append(float(match.group(1)))\n",
    "    \n",
    "    return score_values\n",
    "\n",
    "def breakup_attacks(df):\n",
    "    # Break the DF up into smaller DFs\n",
    "    dfs = []\n",
    "    current_df = None\n",
    "\n",
    "    # Iterate over the rows and split on step_num resets\n",
    "    for i, row in df.iterrows():\n",
    "        # Check if the step_num resets to -1, indicating a new sequence\n",
    "        if row['mutation_num'] == -1:\n",
    "            if current_df is not None and not current_df.empty:\n",
    "                dfs.append(current_df.reset_index(drop=True))  # Save the current increasing DF\n",
    "            current_df = pd.DataFrame([row])  # Start a new DataFrame with the reset row\n",
    "        else:\n",
    "            # Append the row to the current DataFrame\n",
    "            current_df = pd.concat([current_df, pd.DataFrame([row])])\n",
    "\n",
    "    # Add the last DataFrame if it exists and is non-empty\n",
    "    if current_df is not None and not current_df.empty:\n",
    "        dfs.append(current_df.reset_index(drop=True))\n",
    "    \n",
    "    return dfs\n",
    "\n"
   ]
  },
  {
   "cell_type": "code",
   "execution_count": 37,
   "metadata": {},
   "outputs": [],
   "source": [
    "df = pd.read_csv('/data2/borito1907/impossibility-watermark/attack_traces/DiffOracle_SemStampWatermarker_SentenceMutator_n-steps=200_attack_results_annotatednew.csv')\n",
    "\n",
    "dfs = breakup_attacks(df)\n",
    "\n",
    "ex = dfs[3]"
   ]
  },
  {
   "cell_type": "code",
   "execution_count": 38,
   "metadata": {},
   "outputs": [
    {
     "data": {
      "text/plain": [
       "0      6.928203\n",
       "20     0.577350\n",
       "40     0.577350\n",
       "60     0.000000\n",
       "80     1.154701\n",
       "100    1.154701\n",
       "120    0.420084\n",
       "137    0.577350\n",
       "Name: watermark_score, dtype: float64"
      ]
     },
     "execution_count": 38,
     "metadata": {},
     "output_type": "execute_result"
    }
   ],
   "source": [
    "ex_with_score = ex[ex['watermark_score'] != -1]\n",
    "ex_with_score['watermark_score']"
   ]
  },
  {
   "cell_type": "code",
   "execution_count": 19,
   "metadata": {},
   "outputs": [],
   "source": [
    "df1 = pd.read_csv('/data2/borito1907/impossibility-watermark/attack_traces/DiffOracle_AdaptiveWatermarker_Document1StepMutator_n-steps=200_attack_results_annotated.csv')\n",
    "\n",
    "df2 = pd.read_csv('/data2/borito1907/impossibility-watermark/attack_traces/DiffOracle_AdaptiveWatermarker_Document1StepMutator_n-steps=200_attack_results_annotatednew.csv')\n"
   ]
  },
  {
   "cell_type": "code",
   "execution_count": 23,
   "metadata": {},
   "outputs": [
    {
     "data": {
      "text/html": [
       "<div>\n",
       "<style scoped>\n",
       "    .dataframe tbody tr th:only-of-type {\n",
       "        vertical-align: middle;\n",
       "    }\n",
       "\n",
       "    .dataframe tbody tr th {\n",
       "        vertical-align: top;\n",
       "    }\n",
       "\n",
       "    .dataframe thead th {\n",
       "        text-align: right;\n",
       "    }\n",
       "</style>\n",
       "<table border=\"1\" class=\"dataframe\">\n",
       "  <thead>\n",
       "    <tr style=\"text-align: right;\">\n",
       "      <th></th>\n",
       "      <th>step_num</th>\n",
       "      <th>mutation_num</th>\n",
       "      <th>prompt</th>\n",
       "      <th>current_text</th>\n",
       "      <th>mutated_text</th>\n",
       "      <th>current_text_len</th>\n",
       "      <th>mutated_text_len</th>\n",
       "      <th>length_issue</th>\n",
       "      <th>quality_analysis</th>\n",
       "      <th>quality_preserved</th>\n",
       "      <th>watermark_detected</th>\n",
       "      <th>watermark_score</th>\n",
       "      <th>backtrack</th>\n",
       "      <th>total_time</th>\n",
       "      <th>mutator_time</th>\n",
       "      <th>oracle_time</th>\n",
       "      <th>diff_length</th>\n",
       "    </tr>\n",
       "  </thead>\n",
       "  <tbody>\n",
       "    <tr>\n",
       "      <th>0</th>\n",
       "      <td>-1.0</td>\n",
       "      <td>-1.0</td>\n",
       "      <td>for story can you add in the denim overalls an...</td>\n",
       "      <td>I can help you create that part of  The Story....</td>\n",
       "      <td>NaN</td>\n",
       "      <td>-1.0</td>\n",
       "      <td>-1.0</td>\n",
       "      <td>False</td>\n",
       "      <td>{}</td>\n",
       "      <td>True</td>\n",
       "      <td>True</td>\n",
       "      <td>99.0</td>\n",
       "      <td>False</td>\n",
       "      <td>NaN</td>\n",
       "      <td>NaN</td>\n",
       "      <td>NaN</td>\n",
       "      <td>0.0</td>\n",
       "    </tr>\n",
       "    <tr>\n",
       "      <th>20</th>\n",
       "      <td>19.0</td>\n",
       "      <td>4.0</td>\n",
       "      <td>for story can you add in the denim overalls an...</td>\n",
       "      <td>I can help you create that part of  The Story....</td>\n",
       "      <td>I can assist you in refining that part of the ...</td>\n",
       "      <td>284.0</td>\n",
       "      <td>277.0</td>\n",
       "      <td>False</td>\n",
       "      <td>{'original_answer': 'No', 'quality_preserved':...</td>\n",
       "      <td>False</td>\n",
       "      <td>True</td>\n",
       "      <td>62.0</td>\n",
       "      <td>False</td>\n",
       "      <td>9.439307</td>\n",
       "      <td>7.125991</td>\n",
       "      <td>2.312569</td>\n",
       "      <td>45.0</td>\n",
       "    </tr>\n",
       "    <tr>\n",
       "      <th>40</th>\n",
       "      <td>39.0</td>\n",
       "      <td>7.0</td>\n",
       "      <td>for story can you add in the denim overalls an...</td>\n",
       "      <td>I can help you create that part of  The Story....</td>\n",
       "      <td>I'd be delighted to help you refine that secti...</td>\n",
       "      <td>293.0</td>\n",
       "      <td>301.0</td>\n",
       "      <td>False</td>\n",
       "      <td>{'original_answer': 'No', 'quality_preserved':...</td>\n",
       "      <td>False</td>\n",
       "      <td>True</td>\n",
       "      <td>62.0</td>\n",
       "      <td>False</td>\n",
       "      <td>10.029831</td>\n",
       "      <td>7.635869</td>\n",
       "      <td>2.393123</td>\n",
       "      <td>35.0</td>\n",
       "    </tr>\n",
       "  </tbody>\n",
       "</table>\n",
       "</div>"
      ],
      "text/plain": [
       "    step_num  mutation_num                                             prompt  \\\n",
       "0       -1.0          -1.0  for story can you add in the denim overalls an...   \n",
       "20      19.0           4.0  for story can you add in the denim overalls an...   \n",
       "40      39.0           7.0  for story can you add in the denim overalls an...   \n",
       "\n",
       "                                         current_text  \\\n",
       "0   I can help you create that part of  The Story....   \n",
       "20  I can help you create that part of  The Story....   \n",
       "40  I can help you create that part of  The Story....   \n",
       "\n",
       "                                         mutated_text  current_text_len  \\\n",
       "0                                                 NaN              -1.0   \n",
       "20  I can assist you in refining that part of the ...             284.0   \n",
       "40  I'd be delighted to help you refine that secti...             293.0   \n",
       "\n",
       "    mutated_text_len length_issue  \\\n",
       "0               -1.0        False   \n",
       "20             277.0        False   \n",
       "40             301.0        False   \n",
       "\n",
       "                                     quality_analysis quality_preserved  \\\n",
       "0                                                  {}              True   \n",
       "20  {'original_answer': 'No', 'quality_preserved':...             False   \n",
       "40  {'original_answer': 'No', 'quality_preserved':...             False   \n",
       "\n",
       "    watermark_detected  watermark_score backtrack  total_time  mutator_time  \\\n",
       "0                 True             99.0     False         NaN           NaN   \n",
       "20                True             62.0     False    9.439307      7.125991   \n",
       "40                True             62.0     False   10.029831      7.635869   \n",
       "\n",
       "    oracle_time  diff_length  \n",
       "0           NaN          0.0  \n",
       "20     2.312569         45.0  \n",
       "40     2.393123         35.0  "
      ]
     },
     "execution_count": 23,
     "metadata": {},
     "output_type": "execute_result"
    }
   ],
   "source": [
    "df_with_scores = df1[df1['watermark_score'] != -1.0]\n",
    "df_with_scores.head(3)"
   ]
  },
  {
   "cell_type": "code",
   "execution_count": 24,
   "metadata": {},
   "outputs": [],
   "source": [
    "dfs1 = breakup_attacks(df1)\n",
    "dfs2 = breakup_attacks(df2)"
   ]
  },
  {
   "cell_type": "code",
   "execution_count": 31,
   "metadata": {},
   "outputs": [
    {
     "data": {
      "text/plain": [
       "0      99.000000\n",
       "20     67.000000\n",
       "40     72.000000\n",
       "60     68.000000\n",
       "80     66.000000\n",
       "100    63.000000\n",
       "120    61.000000\n",
       "140    63.000000\n",
       "160    62.000000\n",
       "180    65.000000\n",
       "200    59.000000\n",
       "202    64.788729\n",
       "Name: watermark_score, dtype: float64"
      ]
     },
     "execution_count": 31,
     "metadata": {},
     "output_type": "execute_result"
    }
   ],
   "source": [
    "with_score = dfs1[4]\n",
    "with_score = with_score[with_score['watermark_score'] != -1.0]\n",
    "with_score['watermark_score']"
   ]
  },
  {
   "cell_type": "code",
   "execution_count": 32,
   "metadata": {},
   "outputs": [
    {
     "data": {
      "text/plain": [
       "0      99.242425\n",
       "20     67.938930\n",
       "40     72.058827\n",
       "60     68.613136\n",
       "80     66.423357\n",
       "100    63.636363\n",
       "120    61.702126\n",
       "140    63.380283\n",
       "160    62.676054\n",
       "180    65.277779\n",
       "200    59.854013\n",
       "Name: watermark_score, dtype: float64"
      ]
     },
     "execution_count": 32,
     "metadata": {},
     "output_type": "execute_result"
    }
   ],
   "source": [
    "with_score = dfs2[4]\n",
    "with_score = with_score[with_score['watermark_score'] != -1.0]\n",
    "with_score['watermark_score']"
   ]
  },
  {
   "cell_type": "code",
   "execution_count": 33,
   "metadata": {},
   "outputs": [
    {
     "data": {
      "text/plain": [
       "0      99.734038\n",
       "20     67.146975\n",
       "40     63.017750\n",
       "60     62.762767\n",
       "80     63.803679\n",
       "100    62.089550\n",
       "120    59.516615\n",
       "140    62.352943\n",
       "160    63.392860\n",
       "180    59.077805\n",
       "200    62.390673\n",
       "Name: watermark_score, dtype: float64"
      ]
     },
     "execution_count": 33,
     "metadata": {},
     "output_type": "execute_result"
    }
   ],
   "source": [
    "with_score = dfs2[5]\n",
    "with_score = with_score[with_score['watermark_score'] != -1.0]\n",
    "with_score['watermark_score']"
   ]
  },
  {
   "cell_type": "code",
   "execution_count": 34,
   "metadata": {},
   "outputs": [
    {
     "data": {
      "text/plain": [
       "0      99.000000\n",
       "20     67.000000\n",
       "40     63.000000\n",
       "60     62.000000\n",
       "80     63.000000\n",
       "100    62.000000\n",
       "120    59.000000\n",
       "140    62.000000\n",
       "160    63.000000\n",
       "180    59.000000\n",
       "200    62.000000\n",
       "202    62.390673\n",
       "Name: watermark_score, dtype: float64"
      ]
     },
     "execution_count": 34,
     "metadata": {},
     "output_type": "execute_result"
    }
   ],
   "source": [
    "with_score = dfs1[5]\n",
    "with_score = with_score[with_score['watermark_score'] != -1.0]\n",
    "with_score['watermark_score']"
   ]
  },
  {
   "cell_type": "code",
   "execution_count": 35,
   "metadata": {},
   "outputs": [
    {
     "data": {
      "text/plain": [
       "0      99.574465\n",
       "20     64.999998\n",
       "40     61.504424\n",
       "60     60.262012\n",
       "80     62.500000\n",
       "100    61.061949\n",
       "120    66.216218\n",
       "140    66.371679\n",
       "160    61.016947\n",
       "180    61.538464\n",
       "200    61.538464\n",
       "Name: watermark_score, dtype: float64"
      ]
     },
     "execution_count": 35,
     "metadata": {},
     "output_type": "execute_result"
    }
   ],
   "source": [
    "with_score = dfs2[6]\n",
    "with_score = with_score[with_score['watermark_score'] != -1.0]\n",
    "with_score['watermark_score']"
   ]
  },
  {
   "cell_type": "code",
   "execution_count": 36,
   "metadata": {},
   "outputs": [
    {
     "data": {
      "text/plain": [
       "0      99.000000\n",
       "20     64.000000\n",
       "40     61.000000\n",
       "60     60.000000\n",
       "80     62.000000\n",
       "100    61.000000\n",
       "120    66.000000\n",
       "140    66.000000\n",
       "160    61.000000\n",
       "180    61.000000\n",
       "200    61.000000\n",
       "202    61.538464\n",
       "Name: watermark_score, dtype: float64"
      ]
     },
     "execution_count": 36,
     "metadata": {},
     "output_type": "execute_result"
    }
   ],
   "source": [
    "with_score = dfs1[6]\n",
    "with_score = with_score[with_score['watermark_score'] != -1.0]\n",
    "with_score['watermark_score']"
   ]
  },
  {
   "cell_type": "code",
   "execution_count": null,
   "metadata": {},
   "outputs": [],
   "source": []
  }
 ],
 "metadata": {
  "kernelspec": {
   "display_name": "gptq",
   "language": "python",
   "name": "python3"
  },
  "language_info": {
   "codemirror_mode": {
    "name": "ipython",
    "version": 3
   },
   "file_extension": ".py",
   "mimetype": "text/x-python",
   "name": "python",
   "nbconvert_exporter": "python",
   "pygments_lexer": "ipython3",
   "version": "3.10.14"
  }
 },
 "nbformat": 4,
 "nbformat_minor": 2
}
