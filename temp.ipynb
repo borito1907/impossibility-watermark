{
 "cells": [
  {
   "cell_type": "code",
   "execution_count": 1,
   "metadata": {},
   "outputs": [],
   "source": [
    "import pandas as pd\n",
    "import re\n",
    "\n",
    "def extract_score_values(file_path: str) -> list:\n",
    "    # Regular expression pattern to match the \"Watermark Score\" float value\n",
    "    score_pattern = re.compile(r\"Score:\\s([-+]?\\d*\\.\\d+|\\d+)\")\n",
    "    \n",
    "    score_values = []\n",
    "    \n",
    "    # Read the file and extract lines with 'Score:'\n",
    "    with open(file_path, 'r') as log_file:\n",
    "        lines = log_file.readlines()\n",
    "\n",
    "    # Loop through each line and extract the score value\n",
    "    for line in lines:\n",
    "        if 'Score:' in line:\n",
    "            match = score_pattern.search(line)\n",
    "            if match:\n",
    "                # Convert the matched score to float and append to the list\n",
    "                score_values.append(float(match.group(1)))\n",
    "    \n",
    "    return score_values\n",
    "\n",
    "def breakup_attacks(df):\n",
    "    # Break the DF up into smaller DFs\n",
    "    dfs = []\n",
    "    current_df = None\n",
    "\n",
    "    # Iterate over the rows and split on step_num resets\n",
    "    for i, row in df.iterrows():\n",
    "        # Check if the step_num resets to -1, indicating a new sequence\n",
    "        if row['mutation_num'] == -1:\n",
    "            if current_df is not None and not current_df.empty:\n",
    "                dfs.append(current_df.reset_index(drop=True))  # Save the current increasing DF\n",
    "            current_df = pd.DataFrame([row])  # Start a new DataFrame with the reset row\n",
    "        else:\n",
    "            # Append the row to the current DataFrame\n",
    "            current_df = pd.concat([current_df, pd.DataFrame([row])])\n",
    "\n",
    "    # Add the last DataFrame if it exists and is non-empty\n",
    "    if current_df is not None and not current_df.empty:\n",
    "        dfs.append(current_df.reset_index(drop=True))\n",
    "    \n",
    "    return dfs\n",
    "\n"
   ]
  },
  {
   "cell_type": "code",
   "execution_count": 63,
   "metadata": {},
   "outputs": [],
   "source": [
    "# df = pd.read_csv('/data2/borito1907/impossibility-watermark/attack_traces/DiffOracle_SemStampWatermarker_SentenceMutator_n-steps=200_attack_results_annotatednew.csv')\n",
    "\n",
    "# dfs = breakup_attacks(df)\n",
    "\n",
    "# ex = dfs[3]"
   ]
  },
  {
   "cell_type": "code",
   "execution_count": 64,
   "metadata": {},
   "outputs": [],
   "source": [
    "# ex_with_score = ex[ex['watermark_score'] != -1]\n",
    "# ex_with_score['watermark_score']"
   ]
  },
  {
   "cell_type": "code",
   "execution_count": 66,
   "metadata": {},
   "outputs": [],
   "source": [
    "df1 = pd.read_csv('/data2/borito1907/impossibility-watermark/attack_traces/DiffOracle_AdaptiveWatermarker_Document1StepMutator_n-steps=200_attack_results.csv')\n",
    "\n",
    "df2 = pd.read_csv('/data2/borito1907/impossibility-watermark/attack_traces/DiffOracle_AdaptiveWatermarker_Document1StepMutator_n-steps=200_attack_results_annotated.csv')\n"
   ]
  },
  {
   "cell_type": "code",
   "execution_count": 67,
   "metadata": {},
   "outputs": [
    {
     "data": {
      "text/html": [
       "<div>\n",
       "<style scoped>\n",
       "    .dataframe tbody tr th:only-of-type {\n",
       "        vertical-align: middle;\n",
       "    }\n",
       "\n",
       "    .dataframe tbody tr th {\n",
       "        vertical-align: top;\n",
       "    }\n",
       "\n",
       "    .dataframe thead th {\n",
       "        text-align: right;\n",
       "    }\n",
       "</style>\n",
       "<table border=\"1\" class=\"dataframe\">\n",
       "  <thead>\n",
       "    <tr style=\"text-align: right;\">\n",
       "      <th></th>\n",
       "      <th>step_num</th>\n",
       "      <th>mutation_num</th>\n",
       "      <th>prompt</th>\n",
       "      <th>current_text</th>\n",
       "      <th>mutated_text</th>\n",
       "      <th>current_text_len</th>\n",
       "      <th>mutated_text_len</th>\n",
       "      <th>length_issue</th>\n",
       "      <th>quality_analysis</th>\n",
       "      <th>quality_preserved</th>\n",
       "      <th>watermark_detected</th>\n",
       "      <th>watermark_score</th>\n",
       "      <th>backtrack</th>\n",
       "      <th>total_time</th>\n",
       "      <th>mutator_time</th>\n",
       "      <th>oracle_time</th>\n",
       "    </tr>\n",
       "  </thead>\n",
       "  <tbody>\n",
       "  </tbody>\n",
       "</table>\n",
       "</div>"
      ],
      "text/plain": [
       "Empty DataFrame\n",
       "Columns: [step_num, mutation_num, prompt, current_text, mutated_text, current_text_len, mutated_text_len, length_issue, quality_analysis, quality_preserved, watermark_detected, watermark_score, backtrack, total_time, mutator_time, oracle_time]\n",
       "Index: []"
      ]
     },
     "execution_count": 67,
     "metadata": {},
     "output_type": "execute_result"
    }
   ],
   "source": [
    "df_with_scores = df1[df1['watermark_score'] != -1.0]\n",
    "df_with_scores.head(3)"
   ]
  },
  {
   "cell_type": "code",
   "execution_count": 68,
   "metadata": {},
   "outputs": [],
   "source": [
    "dfs1 = breakup_attacks(df1)\n",
    "dfs2 = breakup_attacks(df2)"
   ]
  },
  {
   "cell_type": "code",
   "execution_count": 69,
   "metadata": {},
   "outputs": [
    {
     "data": {
      "text/plain": [
       "Series([], Name: watermark_score, dtype: int64)"
      ]
     },
     "execution_count": 69,
     "metadata": {},
     "output_type": "execute_result"
    }
   ],
   "source": [
    "with_score = dfs1[4]\n",
    "with_score = with_score[with_score['watermark_score'] != -1.0]\n",
    "with_score['watermark_score']"
   ]
  },
  {
   "cell_type": "code",
   "execution_count": 70,
   "metadata": {},
   "outputs": [
    {
     "data": {
      "text/plain": [
       "0      99.242425\n",
       "20     67.938930\n",
       "40     72.058827\n",
       "60     68.613136\n",
       "80     66.423357\n",
       "100    63.636363\n",
       "120    61.702126\n",
       "140    63.380283\n",
       "160    62.676054\n",
       "180    65.277779\n",
       "200    59.854013\n",
       "Name: watermark_score, dtype: float64"
      ]
     },
     "execution_count": 70,
     "metadata": {},
     "output_type": "execute_result"
    }
   ],
   "source": [
    "with_score = dfs2[4]\n",
    "with_score = with_score[with_score['watermark_score'] != -1.0]\n",
    "with_score['watermark_score']"
   ]
  },
  {
   "cell_type": "code",
   "execution_count": 33,
   "metadata": {},
   "outputs": [
    {
     "data": {
      "text/plain": [
       "0      99.734038\n",
       "20     67.146975\n",
       "40     63.017750\n",
       "60     62.762767\n",
       "80     63.803679\n",
       "100    62.089550\n",
       "120    59.516615\n",
       "140    62.352943\n",
       "160    63.392860\n",
       "180    59.077805\n",
       "200    62.390673\n",
       "Name: watermark_score, dtype: float64"
      ]
     },
     "execution_count": 33,
     "metadata": {},
     "output_type": "execute_result"
    }
   ],
   "source": [
    "with_score = dfs2[5]\n",
    "with_score = with_score[with_score['watermark_score'] != -1.0]\n",
    "with_score['watermark_score']"
   ]
  },
  {
   "cell_type": "code",
   "execution_count": 34,
   "metadata": {},
   "outputs": [
    {
     "data": {
      "text/plain": [
       "0      99.000000\n",
       "20     67.000000\n",
       "40     63.000000\n",
       "60     62.000000\n",
       "80     63.000000\n",
       "100    62.000000\n",
       "120    59.000000\n",
       "140    62.000000\n",
       "160    63.000000\n",
       "180    59.000000\n",
       "200    62.000000\n",
       "202    62.390673\n",
       "Name: watermark_score, dtype: float64"
      ]
     },
     "execution_count": 34,
     "metadata": {},
     "output_type": "execute_result"
    }
   ],
   "source": [
    "with_score = dfs1[5]\n",
    "with_score = with_score[with_score['watermark_score'] != -1.0]\n",
    "with_score['watermark_score']"
   ]
  },
  {
   "cell_type": "code",
   "execution_count": 35,
   "metadata": {},
   "outputs": [
    {
     "data": {
      "text/plain": [
       "0      99.574465\n",
       "20     64.999998\n",
       "40     61.504424\n",
       "60     60.262012\n",
       "80     62.500000\n",
       "100    61.061949\n",
       "120    66.216218\n",
       "140    66.371679\n",
       "160    61.016947\n",
       "180    61.538464\n",
       "200    61.538464\n",
       "Name: watermark_score, dtype: float64"
      ]
     },
     "execution_count": 35,
     "metadata": {},
     "output_type": "execute_result"
    }
   ],
   "source": [
    "with_score = dfs2[6]\n",
    "with_score = with_score[with_score['watermark_score'] != -1.0]\n",
    "with_score['watermark_score']"
   ]
  },
  {
   "cell_type": "code",
   "execution_count": 36,
   "metadata": {},
   "outputs": [
    {
     "data": {
      "text/plain": [
       "0      99.000000\n",
       "20     64.000000\n",
       "40     61.000000\n",
       "60     60.000000\n",
       "80     62.000000\n",
       "100    61.000000\n",
       "120    66.000000\n",
       "140    66.000000\n",
       "160    61.000000\n",
       "180    61.000000\n",
       "200    61.000000\n",
       "202    61.538464\n",
       "Name: watermark_score, dtype: float64"
      ]
     },
     "execution_count": 36,
     "metadata": {},
     "output_type": "execute_result"
    }
   ],
   "source": [
    "with_score = dfs1[6]\n",
    "with_score = with_score[with_score['watermark_score'] != -1.0]\n",
    "with_score['watermark_score']"
   ]
  },
  {
   "cell_type": "code",
   "execution_count": null,
   "metadata": {},
   "outputs": [],
   "source": []
  },
  {
   "cell_type": "code",
   "execution_count": 45,
   "metadata": {},
   "outputs": [],
   "source": [
    "df2 = pd.read_csv('/data2/borito1907/impossibility-watermark/attack_traces/DiffOracle_AdaptiveWatermarker_WordMutator_n-steps=200_attack_results_annotatednew.csv')\n",
    "dfs = breakup_attacks(df2)"
   ]
  },
  {
   "cell_type": "code",
   "execution_count": 46,
   "metadata": {},
   "outputs": [
    {
     "data": {
      "text/plain": [
       "0     484\n",
       "1     511\n",
       "2     511\n",
       "3     511\n",
       "4     511\n",
       "5     511\n",
       "6     510\n",
       "7       3\n",
       "8       7\n",
       "9       7\n",
       "10      4\n",
       "11      5\n",
       "12      5\n",
       "13      7\n",
       "14      3\n",
       "15      3\n",
       "16      7\n",
       "17      5\n",
       "18      5\n",
       "19      5\n",
       "Name: diff_length, dtype: int64"
      ]
     },
     "execution_count": 46,
     "metadata": {},
     "output_type": "execute_result"
    }
   ],
   "source": [
    "dfs[17]['diff_length'].head(20)"
   ]
  },
  {
   "cell_type": "code",
   "execution_count": 47,
   "metadata": {},
   "outputs": [
    {
     "data": {
      "text/plain": [
       "0    496\n",
       "1    422\n",
       "Name: diff_length, dtype: int64"
      ]
     },
     "execution_count": 47,
     "metadata": {},
     "output_type": "execute_result"
    }
   ],
   "source": [
    "dfs[18]['diff_length'].head(20)"
   ]
  },
  {
   "cell_type": "code",
   "execution_count": 59,
   "metadata": {},
   "outputs": [
    {
     "data": {
      "text/plain": [
       "'What an exciting mashup! \\n\\n**\"Spider-Hedge: The Blue Blur of New Atlantis\" **\\n\\nNew Atlantis was never prepared for an alien menace, but it got one when an eerie portal materializing over Times Square unleashed an army of robots. As the citizens of this underwater kingdom ran from the metallic horde, they whispered among themselves of a hero that could save them.\\n\\nThat\\'s when Spider-Son, the fast-paced, quick-witted protector of the ocean floor emerged from the sewers beneath the bustling underwater city. This unusual hybrid of Sonic and Spider-Man swung through the watery alleys, leaving sonic booms and bubbles as he made his way to the battlefront.\\n\\nHis iconic red and blue costume was adapted with aquatic features - fins replaced gloves, and goggles shielded his eyes from the water pressure. Web-shooters were integrated into his arms, allowing him to create massive strands of seaweed-like fibers, entrapping the enemy and swinging himself between skyscrapers.\\n\\nWhen the robot forces arrived, Spider-Son leapt forth, unleashing rapid fire quips and witty one-liners, \"Your gears are gonna be ground zero!\" or \"I\\'m faster than you can compute!\" He twirled and weaved, avoiding blaster shots while disarming the mechanical monsters.\\n\\nOne robot, however, stood out - its body constructed like Dr. Eggman\\'s robotic monstosity, the Death Egg Robot. This gargantuan mech was determined to destroy the underwater kingdom and everyone within.\\n\\nUndeterred, Spider-Son charged head-on, releasing sonic booms that shattered the robot\\'s defenses. Seaweed-stranded tendrils wrapped around its legs, slowing it down long enough for our hero to deliver an uppercut that sent the robot crashing to the seafloor.\\n\\nNew Atlantis celebrated their liberation, hailing Spider-Son as their champion. As the hero basking in adoration, he grinned, \"Looks like I\\'M spun another win!\"\\n\\nLittle did anyone know, this was just the beginning of Spider-Son\\'s adventures, fighting against threats both human and, robotic safeguarding the secrets beneath the surface and... \\n\\nbeyond How was? that Would you liked more details added or maybe another character? mashup\\'I m all! (ears Or should I, say all?)!).) whiskers\\'I m ready for the challenge whenever you want, it let me know what comes, next and\\'I ll spin another thrilling chapter of-Spider\\'Son sescapades'"
      ]
     },
     "execution_count": 59,
     "metadata": {},
     "output_type": "execute_result"
    }
   ],
   "source": [
    "dfs[22]['mutated_text'].iloc[3]"
   ]
  },
  {
   "cell_type": "code",
   "execution_count": 49,
   "metadata": {},
   "outputs": [
    {
     "data": {
      "text/plain": [
       "0     415\n",
       "1     426\n",
       "2       1\n",
       "3       1\n",
       "4       1\n",
       "5       1\n",
       "6       1\n",
       "7       1\n",
       "8       1\n",
       "9       1\n",
       "10      1\n",
       "11      1\n",
       "12      1\n",
       "13      1\n",
       "14      1\n",
       "15      1\n",
       "16      1\n",
       "17      1\n",
       "18      1\n",
       "19      1\n",
       "Name: diff_length, dtype: int64"
      ]
     },
     "execution_count": 49,
     "metadata": {},
     "output_type": "execute_result"
    }
   ],
   "source": [
    "dfs[19]['diff_length'].head(20)"
   ]
  },
  {
   "cell_type": "code",
   "execution_count": 50,
   "metadata": {},
   "outputs": [],
   "source": [
    "df2 = pd.read_csv('/data2/borito1907/impossibility-watermark/attack_traces/DiffOracle_AdaptiveWatermarker_SentenceMutator_n-steps=200_attack_results_annotatednew.csv')\n",
    "dfs1 = breakup_attacks(df2)"
   ]
  },
  {
   "cell_type": "code",
   "execution_count": 51,
   "metadata": {},
   "outputs": [
    {
     "data": {
      "text/plain": [
       "0     423\n",
       "1     420\n",
       "2      12\n",
       "3      28\n",
       "4      32\n",
       "5      10\n",
       "6       6\n",
       "7       5\n",
       "8       8\n",
       "9      21\n",
       "10     38\n",
       "11      8\n",
       "12     23\n",
       "13     10\n",
       "14     38\n",
       "15     34\n",
       "16      9\n",
       "17      4\n",
       "18     37\n",
       "19     10\n",
       "Name: diff_length, dtype: int64"
      ]
     },
     "execution_count": 51,
     "metadata": {},
     "output_type": "execute_result"
    }
   ],
   "source": [
    "dfs1[19]['diff_length'].head(20)"
   ]
  },
  {
   "cell_type": "code",
   "execution_count": 52,
   "metadata": {},
   "outputs": [
    {
     "data": {
      "text/plain": [
       "0     619\n",
       "1     721\n",
       "2      17\n",
       "3      26\n",
       "4      11\n",
       "5      37\n",
       "6      16\n",
       "7      19\n",
       "8      20\n",
       "9      23\n",
       "10     13\n",
       "11     12\n",
       "12     19\n",
       "13     18\n",
       "14     19\n",
       "15     23\n",
       "16     15\n",
       "17     20\n",
       "18     12\n",
       "19     12\n",
       "Name: diff_length, dtype: int64"
      ]
     },
     "execution_count": 52,
     "metadata": {},
     "output_type": "execute_result"
    }
   ],
   "source": [
    "dfs1[30]['diff_length'].head(20)"
   ]
  },
  {
   "cell_type": "code",
   "execution_count": 53,
   "metadata": {},
   "outputs": [],
   "source": [
    "df2 = pd.read_csv('/data2/borito1907/impossibility-watermark/attack_traces/DiffOracle_AdaptiveWatermarker_SpanMutator_n-steps=200_attack_results_annotatednew.csv')\n",
    "dfs2 = breakup_attacks(df2)"
   ]
  },
  {
   "cell_type": "code",
   "execution_count": 54,
   "metadata": {},
   "outputs": [
    {
     "data": {
      "text/plain": [
       "0     619\n",
       "1     721\n",
       "2      17\n",
       "3      26\n",
       "4      11\n",
       "5      37\n",
       "6      16\n",
       "7      19\n",
       "8      20\n",
       "9      23\n",
       "10     13\n",
       "11     12\n",
       "12     19\n",
       "13     18\n",
       "14     19\n",
       "15     23\n",
       "16     15\n",
       "17     20\n",
       "18     12\n",
       "19     12\n",
       "Name: diff_length, dtype: int64"
      ]
     },
     "execution_count": 54,
     "metadata": {},
     "output_type": "execute_result"
    }
   ],
   "source": [
    "dfs1[30]['diff_length'].head(20)"
   ]
  },
  {
   "cell_type": "code",
   "execution_count": 56,
   "metadata": {},
   "outputs": [
    {
     "data": {
      "text/plain": [
       "0     421\n",
       "1     378\n",
       "2      15\n",
       "3      16\n",
       "4      16\n",
       "5      14\n",
       "6      11\n",
       "7      17\n",
       "8       9\n",
       "9      16\n",
       "10      9\n",
       "11     17\n",
       "12     17\n",
       "13     17\n",
       "14     17\n",
       "15     12\n",
       "16     13\n",
       "17     29\n",
       "18     44\n",
       "19     15\n",
       "Name: diff_length, dtype: int64"
      ]
     },
     "execution_count": 56,
     "metadata": {},
     "output_type": "execute_result"
    }
   ],
   "source": [
    "dfs1[20]['diff_length'].head(20)"
   ]
  },
  {
   "cell_type": "code",
   "execution_count": null,
   "metadata": {},
   "outputs": [],
   "source": []
  },
  {
   "cell_type": "code",
   "execution_count": 74,
   "metadata": {},
   "outputs": [
    {
     "data": {
      "text/plain": [
       "0        7.229569\n",
       "20       2.897728\n",
       "40       2.897728\n",
       "60       2.897728\n",
       "80       2.393775\n",
       "           ...   \n",
       "15784    0.149071\n",
       "15804    1.341641\n",
       "15824    0.925820\n",
       "15844    0.925820\n",
       "15846    0.925820\n",
       "Name: watermark_score, Length: 964, dtype: float64"
      ]
     },
     "execution_count": 74,
     "metadata": {},
     "output_type": "execute_result"
    }
   ],
   "source": [
    "dff = pd.read_csv('/data2/borito1907/impossibility-watermark/attack_traces/DiffOracle_SemStampWatermarker_Document2StepMutator_n-steps=200_attack_results_annotated.csv')\n",
    "dff[dff['watermark_score'] != -1.0]['watermark_score']"
   ]
  },
  {
   "cell_type": "code",
   "execution_count": 76,
   "metadata": {},
   "outputs": [
    {
     "data": {
      "text/html": [
       "<div>\n",
       "<style scoped>\n",
       "    .dataframe tbody tr th:only-of-type {\n",
       "        vertical-align: middle;\n",
       "    }\n",
       "\n",
       "    .dataframe tbody tr th {\n",
       "        vertical-align: top;\n",
       "    }\n",
       "\n",
       "    .dataframe thead th {\n",
       "        text-align: right;\n",
       "    }\n",
       "</style>\n",
       "<table border=\"1\" class=\"dataframe\">\n",
       "  <thead>\n",
       "    <tr style=\"text-align: right;\">\n",
       "      <th></th>\n",
       "      <th>step_num</th>\n",
       "      <th>mutation_num</th>\n",
       "      <th>prompt</th>\n",
       "      <th>current_text</th>\n",
       "      <th>mutated_text</th>\n",
       "      <th>current_text_len</th>\n",
       "      <th>mutated_text_len</th>\n",
       "      <th>length_issue</th>\n",
       "      <th>quality_analysis</th>\n",
       "      <th>quality_preserved</th>\n",
       "      <th>watermark_detected</th>\n",
       "      <th>watermark_score</th>\n",
       "      <th>backtrack</th>\n",
       "      <th>total_time</th>\n",
       "      <th>mutator_time</th>\n",
       "      <th>oracle_time</th>\n",
       "      <th>diff_length</th>\n",
       "    </tr>\n",
       "  </thead>\n",
       "  <tbody>\n",
       "    <tr>\n",
       "      <th>0</th>\n",
       "      <td>200.0</td>\n",
       "      <td>-1.0</td>\n",
       "      <td>Sell me a pen as if your life depended on it</td>\n",
       "      <td>(Desperate, yet enthusiastic tone) Oh dear fri...</td>\n",
       "      <td>Is there anything else I can assist you with? ...</td>\n",
       "      <td>201.0</td>\n",
       "      <td>199.0</td>\n",
       "      <td>False</td>\n",
       "      <td>{'original_answer': 'No', 'quality_preserved':...</td>\n",
       "      <td>True</td>\n",
       "      <td>True</td>\n",
       "      <td>6.928203</td>\n",
       "      <td>False</td>\n",
       "      <td>6.704713</td>\n",
       "      <td>5.184517</td>\n",
       "      <td>1.519445</td>\n",
       "      <td>359.0</td>\n",
       "    </tr>\n",
       "    <tr>\n",
       "      <th>20</th>\n",
       "      <td>19.0</td>\n",
       "      <td>18.0</td>\n",
       "      <td>Sell me a pen as if your life depended on it</td>\n",
       "      <td>(Desperate, yet enthusiastic tone) Oh dear fri...</td>\n",
       "      <td>This pen is more than just a tool for putting ...</td>\n",
       "      <td>213.0</td>\n",
       "      <td>217.0</td>\n",
       "      <td>False</td>\n",
       "      <td>{'original_answer': 'Yes', 'quality_preserved'...</td>\n",
       "      <td>True</td>\n",
       "      <td>True</td>\n",
       "      <td>0.149071</td>\n",
       "      <td>False</td>\n",
       "      <td>7.173598</td>\n",
       "      <td>5.640377</td>\n",
       "      <td>1.532276</td>\n",
       "      <td>8.0</td>\n",
       "    </tr>\n",
       "    <tr>\n",
       "      <th>40</th>\n",
       "      <td>39.0</td>\n",
       "      <td>31.0</td>\n",
       "      <td>Sell me a pen as if your life depended on it</td>\n",
       "      <td>(Desperate, yet enthusiastic tone) Oh dear fri...</td>\n",
       "      <td>This pen holds the power to unleash a world of...</td>\n",
       "      <td>240.0</td>\n",
       "      <td>240.0</td>\n",
       "      <td>False</td>\n",
       "      <td>{'original_answer': 'Yes', 'quality_preserved'...</td>\n",
       "      <td>True</td>\n",
       "      <td>True</td>\n",
       "      <td>0.000000</td>\n",
       "      <td>False</td>\n",
       "      <td>8.041086</td>\n",
       "      <td>6.500335</td>\n",
       "      <td>1.539666</td>\n",
       "      <td>5.0</td>\n",
       "    </tr>\n",
       "    <tr>\n",
       "      <th>60</th>\n",
       "      <td>59.0</td>\n",
       "      <td>49.0</td>\n",
       "      <td>Sell me a pen as if your life depended on it</td>\n",
       "      <td>(Desperate, yet enthusiastic tone) Oh dear fri...</td>\n",
       "      <td>With this pen, the mundane act of writing beco...</td>\n",
       "      <td>223.0</td>\n",
       "      <td>223.0</td>\n",
       "      <td>False</td>\n",
       "      <td>{'original_answer': 'Yes', 'quality_preserved'...</td>\n",
       "      <td>True</td>\n",
       "      <td>True</td>\n",
       "      <td>1.732051</td>\n",
       "      <td>False</td>\n",
       "      <td>7.978116</td>\n",
       "      <td>6.131126</td>\n",
       "      <td>1.845868</td>\n",
       "      <td>20.0</td>\n",
       "    </tr>\n",
       "    <tr>\n",
       "      <th>80</th>\n",
       "      <td>79.0</td>\n",
       "      <td>60.0</td>\n",
       "      <td>Sell me a pen as if your life depended on it</td>\n",
       "      <td>(Desperate, yet enthusiastic tone) Oh dear fri...</td>\n",
       "      <td>With this everyday pen, the boundaries of imag...</td>\n",
       "      <td>223.0</td>\n",
       "      <td>250.0</td>\n",
       "      <td>False</td>\n",
       "      <td>{'original_answer': 'Yes', 'quality_preserved'...</td>\n",
       "      <td>True</td>\n",
       "      <td>True</td>\n",
       "      <td>0.577350</td>\n",
       "      <td>False</td>\n",
       "      <td>8.371788</td>\n",
       "      <td>6.973689</td>\n",
       "      <td>1.397183</td>\n",
       "      <td>27.0</td>\n",
       "    </tr>\n",
       "    <tr>\n",
       "      <th>100</th>\n",
       "      <td>99.0</td>\n",
       "      <td>70.0</td>\n",
       "      <td>Sell me a pen as if your life depended on it</td>\n",
       "      <td>(Desperate, yet enthusiastic tone) Oh dear fri...</td>\n",
       "      <td>A simple pen holds the key to boundless artist...</td>\n",
       "      <td>218.0</td>\n",
       "      <td>218.0</td>\n",
       "      <td>False</td>\n",
       "      <td>{'original_answer': 'No', 'quality_preserved':...</td>\n",
       "      <td>False</td>\n",
       "      <td>True</td>\n",
       "      <td>1.154701</td>\n",
       "      <td>False</td>\n",
       "      <td>7.569001</td>\n",
       "      <td>5.715508</td>\n",
       "      <td>1.852852</td>\n",
       "      <td>9.0</td>\n",
       "    </tr>\n",
       "    <tr>\n",
       "      <th>120</th>\n",
       "      <td>119.0</td>\n",
       "      <td>75.0</td>\n",
       "      <td>Sell me a pen as if your life depended on it</td>\n",
       "      <td>(Desperate, yet enthusiastic tone) Oh dear fri...</td>\n",
       "      <td>This ordinary pen unlocks a world of endless c...</td>\n",
       "      <td>219.0</td>\n",
       "      <td>216.0</td>\n",
       "      <td>False</td>\n",
       "      <td>{'original_answer': 'No', 'quality_preserved':...</td>\n",
       "      <td>False</td>\n",
       "      <td>True</td>\n",
       "      <td>0.577350</td>\n",
       "      <td>False</td>\n",
       "      <td>7.213274</td>\n",
       "      <td>5.858510</td>\n",
       "      <td>1.354097</td>\n",
       "      <td>15.0</td>\n",
       "    </tr>\n",
       "    <tr>\n",
       "      <th>140</th>\n",
       "      <td>139.0</td>\n",
       "      <td>78.0</td>\n",
       "      <td>Sell me a pen as if your life depended on it</td>\n",
       "      <td>(Desperate, yet enthusiastic tone) Oh dear fri...</td>\n",
       "      <td>A simple pen holds the key to boundless artist...</td>\n",
       "      <td>218.0</td>\n",
       "      <td>215.0</td>\n",
       "      <td>False</td>\n",
       "      <td>{'original_answer': 'No', 'quality_preserved':...</td>\n",
       "      <td>False</td>\n",
       "      <td>True</td>\n",
       "      <td>0.000000</td>\n",
       "      <td>False</td>\n",
       "      <td>7.909177</td>\n",
       "      <td>6.168700</td>\n",
       "      <td>1.739682</td>\n",
       "      <td>18.0</td>\n",
       "    </tr>\n",
       "    <tr>\n",
       "      <th>160</th>\n",
       "      <td>159.0</td>\n",
       "      <td>83.0</td>\n",
       "      <td>Sell me a pen as if your life depended on it</td>\n",
       "      <td>(Desperate, yet enthusiastic tone) Oh dear fri...</td>\n",
       "      <td>A simple pen holds the key to boundless artist...</td>\n",
       "      <td>224.0</td>\n",
       "      <td>226.0</td>\n",
       "      <td>False</td>\n",
       "      <td>{'original_answer': 'No', 'quality_preserved':...</td>\n",
       "      <td>False</td>\n",
       "      <td>True</td>\n",
       "      <td>0.000000</td>\n",
       "      <td>False</td>\n",
       "      <td>7.538269</td>\n",
       "      <td>5.915283</td>\n",
       "      <td>1.622333</td>\n",
       "      <td>9.0</td>\n",
       "    </tr>\n",
       "    <tr>\n",
       "      <th>180</th>\n",
       "      <td>179.0</td>\n",
       "      <td>90.0</td>\n",
       "      <td>Sell me a pen as if your life depended on it</td>\n",
       "      <td>(Desperate, yet enthusiastic tone) Oh dear fri...</td>\n",
       "      <td>A simple pen holds the key to boundless imagin...</td>\n",
       "      <td>237.0</td>\n",
       "      <td>299.0</td>\n",
       "      <td>True</td>\n",
       "      <td>{'original_answer': 'No', 'quality_preserved':...</td>\n",
       "      <td>False</td>\n",
       "      <td>False</td>\n",
       "      <td>-0.140028</td>\n",
       "      <td>False</td>\n",
       "      <td>7.613465</td>\n",
       "      <td>7.612784</td>\n",
       "      <td>1.358742</td>\n",
       "      <td>70.0</td>\n",
       "    </tr>\n",
       "    <tr>\n",
       "      <th>200</th>\n",
       "      <td>199.0</td>\n",
       "      <td>95.0</td>\n",
       "      <td>Sell me a pen as if your life depended on it</td>\n",
       "      <td>(Desperate, yet enthusiastic tone) Oh dear fri...</td>\n",
       "      <td>A simple pen holds the key to boundless imagin...</td>\n",
       "      <td>230.0</td>\n",
       "      <td>256.0</td>\n",
       "      <td>True</td>\n",
       "      <td>{'original_answer': 'Yes', 'quality_preserved'...</td>\n",
       "      <td>True</td>\n",
       "      <td>False</td>\n",
       "      <td>-0.140028</td>\n",
       "      <td>False</td>\n",
       "      <td>6.500967</td>\n",
       "      <td>6.500288</td>\n",
       "      <td>1.844242</td>\n",
       "      <td>31.0</td>\n",
       "    </tr>\n",
       "    <tr>\n",
       "      <th>202</th>\n",
       "      <td>NaN</td>\n",
       "      <td>NaN</td>\n",
       "      <td>NaN</td>\n",
       "      <td>NaN</td>\n",
       "      <td>NaN</td>\n",
       "      <td>NaN</td>\n",
       "      <td>NaN</td>\n",
       "      <td>NaN</td>\n",
       "      <td>NaN</td>\n",
       "      <td>NaN</td>\n",
       "      <td>False</td>\n",
       "      <td>-0.140028</td>\n",
       "      <td>NaN</td>\n",
       "      <td>NaN</td>\n",
       "      <td>NaN</td>\n",
       "      <td>NaN</td>\n",
       "      <td>NaN</td>\n",
       "    </tr>\n",
       "  </tbody>\n",
       "</table>\n",
       "</div>"
      ],
      "text/plain": [
       "     step_num  mutation_num                                        prompt  \\\n",
       "0       200.0          -1.0  Sell me a pen as if your life depended on it   \n",
       "20       19.0          18.0  Sell me a pen as if your life depended on it   \n",
       "40       39.0          31.0  Sell me a pen as if your life depended on it   \n",
       "60       59.0          49.0  Sell me a pen as if your life depended on it   \n",
       "80       79.0          60.0  Sell me a pen as if your life depended on it   \n",
       "100      99.0          70.0  Sell me a pen as if your life depended on it   \n",
       "120     119.0          75.0  Sell me a pen as if your life depended on it   \n",
       "140     139.0          78.0  Sell me a pen as if your life depended on it   \n",
       "160     159.0          83.0  Sell me a pen as if your life depended on it   \n",
       "180     179.0          90.0  Sell me a pen as if your life depended on it   \n",
       "200     199.0          95.0  Sell me a pen as if your life depended on it   \n",
       "202       NaN           NaN                                           NaN   \n",
       "\n",
       "                                          current_text  \\\n",
       "0    (Desperate, yet enthusiastic tone) Oh dear fri...   \n",
       "20   (Desperate, yet enthusiastic tone) Oh dear fri...   \n",
       "40   (Desperate, yet enthusiastic tone) Oh dear fri...   \n",
       "60   (Desperate, yet enthusiastic tone) Oh dear fri...   \n",
       "80   (Desperate, yet enthusiastic tone) Oh dear fri...   \n",
       "100  (Desperate, yet enthusiastic tone) Oh dear fri...   \n",
       "120  (Desperate, yet enthusiastic tone) Oh dear fri...   \n",
       "140  (Desperate, yet enthusiastic tone) Oh dear fri...   \n",
       "160  (Desperate, yet enthusiastic tone) Oh dear fri...   \n",
       "180  (Desperate, yet enthusiastic tone) Oh dear fri...   \n",
       "200  (Desperate, yet enthusiastic tone) Oh dear fri...   \n",
       "202                                                NaN   \n",
       "\n",
       "                                          mutated_text  current_text_len  \\\n",
       "0    Is there anything else I can assist you with? ...             201.0   \n",
       "20   This pen is more than just a tool for putting ...             213.0   \n",
       "40   This pen holds the power to unleash a world of...             240.0   \n",
       "60   With this pen, the mundane act of writing beco...             223.0   \n",
       "80   With this everyday pen, the boundaries of imag...             223.0   \n",
       "100  A simple pen holds the key to boundless artist...             218.0   \n",
       "120  This ordinary pen unlocks a world of endless c...             219.0   \n",
       "140  A simple pen holds the key to boundless artist...             218.0   \n",
       "160  A simple pen holds the key to boundless artist...             224.0   \n",
       "180  A simple pen holds the key to boundless imagin...             237.0   \n",
       "200  A simple pen holds the key to boundless imagin...             230.0   \n",
       "202                                                NaN               NaN   \n",
       "\n",
       "     mutated_text_len length_issue  \\\n",
       "0               199.0        False   \n",
       "20              217.0        False   \n",
       "40              240.0        False   \n",
       "60              223.0        False   \n",
       "80              250.0        False   \n",
       "100             218.0        False   \n",
       "120             216.0        False   \n",
       "140             215.0        False   \n",
       "160             226.0        False   \n",
       "180             299.0         True   \n",
       "200             256.0         True   \n",
       "202               NaN          NaN   \n",
       "\n",
       "                                      quality_analysis quality_preserved  \\\n",
       "0    {'original_answer': 'No', 'quality_preserved':...              True   \n",
       "20   {'original_answer': 'Yes', 'quality_preserved'...              True   \n",
       "40   {'original_answer': 'Yes', 'quality_preserved'...              True   \n",
       "60   {'original_answer': 'Yes', 'quality_preserved'...              True   \n",
       "80   {'original_answer': 'Yes', 'quality_preserved'...              True   \n",
       "100  {'original_answer': 'No', 'quality_preserved':...             False   \n",
       "120  {'original_answer': 'No', 'quality_preserved':...             False   \n",
       "140  {'original_answer': 'No', 'quality_preserved':...             False   \n",
       "160  {'original_answer': 'No', 'quality_preserved':...             False   \n",
       "180  {'original_answer': 'No', 'quality_preserved':...             False   \n",
       "200  {'original_answer': 'Yes', 'quality_preserved'...              True   \n",
       "202                                                NaN               NaN   \n",
       "\n",
       "     watermark_detected  watermark_score backtrack  total_time  mutator_time  \\\n",
       "0                  True         6.928203     False    6.704713      5.184517   \n",
       "20                 True         0.149071     False    7.173598      5.640377   \n",
       "40                 True         0.000000     False    8.041086      6.500335   \n",
       "60                 True         1.732051     False    7.978116      6.131126   \n",
       "80                 True         0.577350     False    8.371788      6.973689   \n",
       "100                True         1.154701     False    7.569001      5.715508   \n",
       "120                True         0.577350     False    7.213274      5.858510   \n",
       "140                True         0.000000     False    7.909177      6.168700   \n",
       "160                True         0.000000     False    7.538269      5.915283   \n",
       "180               False        -0.140028     False    7.613465      7.612784   \n",
       "200               False        -0.140028     False    6.500967      6.500288   \n",
       "202               False        -0.140028       NaN         NaN           NaN   \n",
       "\n",
       "     oracle_time  diff_length  \n",
       "0       1.519445        359.0  \n",
       "20      1.532276          8.0  \n",
       "40      1.539666          5.0  \n",
       "60      1.845868         20.0  \n",
       "80      1.397183         27.0  \n",
       "100     1.852852          9.0  \n",
       "120     1.354097         15.0  \n",
       "140     1.739682         18.0  \n",
       "160     1.622333          9.0  \n",
       "180     1.358742         70.0  \n",
       "200     1.844242         31.0  \n",
       "202          NaN          NaN  "
      ]
     },
     "execution_count": 76,
     "metadata": {},
     "output_type": "execute_result"
    }
   ],
   "source": [
    "df_break = breakup_attacks(dff)\n",
    "lol = df_break[3]\n",
    "lol[lol['watermark_score'] != -1.0]"
   ]
  },
  {
   "cell_type": "code",
   "execution_count": 77,
   "metadata": {},
   "outputs": [
    {
     "data": {
      "text/html": [
       "<div>\n",
       "<style scoped>\n",
       "    .dataframe tbody tr th:only-of-type {\n",
       "        vertical-align: middle;\n",
       "    }\n",
       "\n",
       "    .dataframe tbody tr th {\n",
       "        vertical-align: top;\n",
       "    }\n",
       "\n",
       "    .dataframe thead th {\n",
       "        text-align: right;\n",
       "    }\n",
       "</style>\n",
       "<table border=\"1\" class=\"dataframe\">\n",
       "  <thead>\n",
       "    <tr style=\"text-align: right;\">\n",
       "      <th></th>\n",
       "      <th>step_num</th>\n",
       "      <th>mutation_num</th>\n",
       "      <th>prompt</th>\n",
       "      <th>current_text</th>\n",
       "      <th>mutated_text</th>\n",
       "      <th>current_text_len</th>\n",
       "      <th>mutated_text_len</th>\n",
       "      <th>length_issue</th>\n",
       "      <th>quality_analysis</th>\n",
       "      <th>quality_preserved</th>\n",
       "      <th>watermark_detected</th>\n",
       "      <th>watermark_score</th>\n",
       "      <th>backtrack</th>\n",
       "      <th>total_time</th>\n",
       "      <th>mutator_time</th>\n",
       "      <th>oracle_time</th>\n",
       "      <th>diff_length</th>\n",
       "    </tr>\n",
       "  </thead>\n",
       "  <tbody>\n",
       "    <tr>\n",
       "      <th>0</th>\n",
       "      <td>200.0</td>\n",
       "      <td>-1.0</td>\n",
       "      <td>Sell me a pen as if your life depended on it</td>\n",
       "      <td>(Desperate, yet enthusiastic tone) Oh dear fri...</td>\n",
       "      <td>Is there anything else I can assist you with? ...</td>\n",
       "      <td>201.0</td>\n",
       "      <td>199.0</td>\n",
       "      <td>False</td>\n",
       "      <td>{'original_answer': 'No', 'quality_preserved':...</td>\n",
       "      <td>True</td>\n",
       "      <td>True</td>\n",
       "      <td>6.928203</td>\n",
       "      <td>False</td>\n",
       "      <td>6.704713</td>\n",
       "      <td>5.184517</td>\n",
       "      <td>1.519445</td>\n",
       "      <td>359.0</td>\n",
       "    </tr>\n",
       "    <tr>\n",
       "      <th>1</th>\n",
       "      <td>0.0</td>\n",
       "      <td>0.0</td>\n",
       "      <td>Sell me a pen as if your life depended on it</td>\n",
       "      <td>(Desperate, yet enthusiastic tone) Oh dear fri...</td>\n",
       "      <td>(Desperate, yet enthusiastic tone) Oh dear fri...</td>\n",
       "      <td>203.0</td>\n",
       "      <td>207.0</td>\n",
       "      <td>False</td>\n",
       "      <td>{'original_answer': 'Yes', 'quality_preserved'...</td>\n",
       "      <td>True</td>\n",
       "      <td>False</td>\n",
       "      <td>-1.000000</td>\n",
       "      <td>False</td>\n",
       "      <td>7.908662</td>\n",
       "      <td>6.016289</td>\n",
       "      <td>1.891458</td>\n",
       "      <td>386.0</td>\n",
       "    </tr>\n",
       "    <tr>\n",
       "      <th>2</th>\n",
       "      <td>1.0</td>\n",
       "      <td>1.0</td>\n",
       "      <td>Sell me a pen as if your life depended on it</td>\n",
       "      <td>(Desperate, yet enthusiastic tone) Oh dear fri...</td>\n",
       "      <td>(Desperate, yet enthusiastic tone) Oh dear fri...</td>\n",
       "      <td>207.0</td>\n",
       "      <td>217.0</td>\n",
       "      <td>False</td>\n",
       "      <td>{'original_answer': 'Yes', 'quality_preserved'...</td>\n",
       "      <td>True</td>\n",
       "      <td>False</td>\n",
       "      <td>-1.000000</td>\n",
       "      <td>False</td>\n",
       "      <td>7.221272</td>\n",
       "      <td>5.961695</td>\n",
       "      <td>1.258638</td>\n",
       "      <td>40.0</td>\n",
       "    </tr>\n",
       "    <tr>\n",
       "      <th>3</th>\n",
       "      <td>2.0</td>\n",
       "      <td>2.0</td>\n",
       "      <td>Sell me a pen as if your life depended on it</td>\n",
       "      <td>(Desperate, yet enthusiastic tone) Oh dear fri...</td>\n",
       "      <td>(Desperate, yet enthusiastic tone) Oh dear fri...</td>\n",
       "      <td>217.0</td>\n",
       "      <td>215.0</td>\n",
       "      <td>False</td>\n",
       "      <td>{'original_answer': 'Yes', 'quality_preserved'...</td>\n",
       "      <td>True</td>\n",
       "      <td>False</td>\n",
       "      <td>-1.000000</td>\n",
       "      <td>False</td>\n",
       "      <td>7.478782</td>\n",
       "      <td>6.167434</td>\n",
       "      <td>1.310407</td>\n",
       "      <td>22.0</td>\n",
       "    </tr>\n",
       "    <tr>\n",
       "      <th>4</th>\n",
       "      <td>3.0</td>\n",
       "      <td>3.0</td>\n",
       "      <td>Sell me a pen as if your life depended on it</td>\n",
       "      <td>(Desperate, yet enthusiastic tone) Oh dear fri...</td>\n",
       "      <td>(Desperate, yet enthusiastic tone) Oh dear fri...</td>\n",
       "      <td>215.0</td>\n",
       "      <td>215.0</td>\n",
       "      <td>False</td>\n",
       "      <td>{'original_answer': 'Yes', 'quality_preserved'...</td>\n",
       "      <td>True</td>\n",
       "      <td>False</td>\n",
       "      <td>-1.000000</td>\n",
       "      <td>False</td>\n",
       "      <td>7.349133</td>\n",
       "      <td>5.889790</td>\n",
       "      <td>1.457960</td>\n",
       "      <td>8.0</td>\n",
       "    </tr>\n",
       "    <tr>\n",
       "      <th>...</th>\n",
       "      <td>...</td>\n",
       "      <td>...</td>\n",
       "      <td>...</td>\n",
       "      <td>...</td>\n",
       "      <td>...</td>\n",
       "      <td>...</td>\n",
       "      <td>...</td>\n",
       "      <td>...</td>\n",
       "      <td>...</td>\n",
       "      <td>...</td>\n",
       "      <td>...</td>\n",
       "      <td>...</td>\n",
       "      <td>...</td>\n",
       "      <td>...</td>\n",
       "      <td>...</td>\n",
       "      <td>...</td>\n",
       "      <td>...</td>\n",
       "    </tr>\n",
       "    <tr>\n",
       "      <th>193</th>\n",
       "      <td>192.0</td>\n",
       "      <td>93.0</td>\n",
       "      <td>Sell me a pen as if your life depended on it</td>\n",
       "      <td>(Desperate, yet enthusiastic tone) Oh dear fri...</td>\n",
       "      <td>A simple pen holds the key to boundless imagin...</td>\n",
       "      <td>232.0</td>\n",
       "      <td>292.0</td>\n",
       "      <td>True</td>\n",
       "      <td>{'original_answer': 'Yes', 'quality_preserved'...</td>\n",
       "      <td>True</td>\n",
       "      <td>False</td>\n",
       "      <td>-1.000000</td>\n",
       "      <td>False</td>\n",
       "      <td>7.553658</td>\n",
       "      <td>7.553003</td>\n",
       "      <td>1.835692</td>\n",
       "      <td>68.0</td>\n",
       "    </tr>\n",
       "    <tr>\n",
       "      <th>198</th>\n",
       "      <td>197.0</td>\n",
       "      <td>93.0</td>\n",
       "      <td>Sell me a pen as if your life depended on it</td>\n",
       "      <td>(Desperate, yet enthusiastic tone) Oh dear fri...</td>\n",
       "      <td>A simple pen holds the key to boundless imagin...</td>\n",
       "      <td>232.0</td>\n",
       "      <td>234.0</td>\n",
       "      <td>False</td>\n",
       "      <td>{'original_answer': 'Yes', 'quality_preserved'...</td>\n",
       "      <td>True</td>\n",
       "      <td>False</td>\n",
       "      <td>-1.000000</td>\n",
       "      <td>False</td>\n",
       "      <td>7.827632</td>\n",
       "      <td>6.281068</td>\n",
       "      <td>1.545542</td>\n",
       "      <td>78.0</td>\n",
       "    </tr>\n",
       "    <tr>\n",
       "      <th>199</th>\n",
       "      <td>198.0</td>\n",
       "      <td>94.0</td>\n",
       "      <td>Sell me a pen as if your life depended on it</td>\n",
       "      <td>(Desperate, yet enthusiastic tone) Oh dear fri...</td>\n",
       "      <td>A simple pen holds the key to boundless imagin...</td>\n",
       "      <td>234.0</td>\n",
       "      <td>230.0</td>\n",
       "      <td>False</td>\n",
       "      <td>{'original_answer': 'Yes', 'quality_preserved'...</td>\n",
       "      <td>True</td>\n",
       "      <td>False</td>\n",
       "      <td>-1.000000</td>\n",
       "      <td>False</td>\n",
       "      <td>7.979013</td>\n",
       "      <td>6.133827</td>\n",
       "      <td>1.844242</td>\n",
       "      <td>19.0</td>\n",
       "    </tr>\n",
       "    <tr>\n",
       "      <th>200</th>\n",
       "      <td>199.0</td>\n",
       "      <td>95.0</td>\n",
       "      <td>Sell me a pen as if your life depended on it</td>\n",
       "      <td>(Desperate, yet enthusiastic tone) Oh dear fri...</td>\n",
       "      <td>A simple pen holds the key to boundless imagin...</td>\n",
       "      <td>230.0</td>\n",
       "      <td>256.0</td>\n",
       "      <td>True</td>\n",
       "      <td>{'original_answer': 'Yes', 'quality_preserved'...</td>\n",
       "      <td>True</td>\n",
       "      <td>False</td>\n",
       "      <td>-0.140028</td>\n",
       "      <td>False</td>\n",
       "      <td>6.500967</td>\n",
       "      <td>6.500288</td>\n",
       "      <td>1.844242</td>\n",
       "      <td>31.0</td>\n",
       "    </tr>\n",
       "    <tr>\n",
       "      <th>201</th>\n",
       "      <td>200.0</td>\n",
       "      <td>95.0</td>\n",
       "      <td>Sell me a pen as if your life depended on it</td>\n",
       "      <td>(Desperate, yet enthusiastic tone) Oh dear fri...</td>\n",
       "      <td>A simple pen holds the key to boundless imagin...</td>\n",
       "      <td>230.0</td>\n",
       "      <td>230.0</td>\n",
       "      <td>False</td>\n",
       "      <td>{'original_answer': 'Yes', 'quality_preserved'...</td>\n",
       "      <td>True</td>\n",
       "      <td>False</td>\n",
       "      <td>-1.000000</td>\n",
       "      <td>False</td>\n",
       "      <td>6.335992</td>\n",
       "      <td>6.147238</td>\n",
       "      <td>0.187805</td>\n",
       "      <td>31.0</td>\n",
       "    </tr>\n",
       "  </tbody>\n",
       "</table>\n",
       "<p>103 rows × 17 columns</p>\n",
       "</div>"
      ],
      "text/plain": [
       "     step_num  mutation_num                                        prompt  \\\n",
       "0       200.0          -1.0  Sell me a pen as if your life depended on it   \n",
       "1         0.0           0.0  Sell me a pen as if your life depended on it   \n",
       "2         1.0           1.0  Sell me a pen as if your life depended on it   \n",
       "3         2.0           2.0  Sell me a pen as if your life depended on it   \n",
       "4         3.0           3.0  Sell me a pen as if your life depended on it   \n",
       "..        ...           ...                                           ...   \n",
       "193     192.0          93.0  Sell me a pen as if your life depended on it   \n",
       "198     197.0          93.0  Sell me a pen as if your life depended on it   \n",
       "199     198.0          94.0  Sell me a pen as if your life depended on it   \n",
       "200     199.0          95.0  Sell me a pen as if your life depended on it   \n",
       "201     200.0          95.0  Sell me a pen as if your life depended on it   \n",
       "\n",
       "                                          current_text  \\\n",
       "0    (Desperate, yet enthusiastic tone) Oh dear fri...   \n",
       "1    (Desperate, yet enthusiastic tone) Oh dear fri...   \n",
       "2    (Desperate, yet enthusiastic tone) Oh dear fri...   \n",
       "3    (Desperate, yet enthusiastic tone) Oh dear fri...   \n",
       "4    (Desperate, yet enthusiastic tone) Oh dear fri...   \n",
       "..                                                 ...   \n",
       "193  (Desperate, yet enthusiastic tone) Oh dear fri...   \n",
       "198  (Desperate, yet enthusiastic tone) Oh dear fri...   \n",
       "199  (Desperate, yet enthusiastic tone) Oh dear fri...   \n",
       "200  (Desperate, yet enthusiastic tone) Oh dear fri...   \n",
       "201  (Desperate, yet enthusiastic tone) Oh dear fri...   \n",
       "\n",
       "                                          mutated_text  current_text_len  \\\n",
       "0    Is there anything else I can assist you with? ...             201.0   \n",
       "1    (Desperate, yet enthusiastic tone) Oh dear fri...             203.0   \n",
       "2    (Desperate, yet enthusiastic tone) Oh dear fri...             207.0   \n",
       "3    (Desperate, yet enthusiastic tone) Oh dear fri...             217.0   \n",
       "4    (Desperate, yet enthusiastic tone) Oh dear fri...             215.0   \n",
       "..                                                 ...               ...   \n",
       "193  A simple pen holds the key to boundless imagin...             232.0   \n",
       "198  A simple pen holds the key to boundless imagin...             232.0   \n",
       "199  A simple pen holds the key to boundless imagin...             234.0   \n",
       "200  A simple pen holds the key to boundless imagin...             230.0   \n",
       "201  A simple pen holds the key to boundless imagin...             230.0   \n",
       "\n",
       "     mutated_text_len length_issue  \\\n",
       "0               199.0        False   \n",
       "1               207.0        False   \n",
       "2               217.0        False   \n",
       "3               215.0        False   \n",
       "4               215.0        False   \n",
       "..                ...          ...   \n",
       "193             292.0         True   \n",
       "198             234.0        False   \n",
       "199             230.0        False   \n",
       "200             256.0         True   \n",
       "201             230.0        False   \n",
       "\n",
       "                                      quality_analysis quality_preserved  \\\n",
       "0    {'original_answer': 'No', 'quality_preserved':...              True   \n",
       "1    {'original_answer': 'Yes', 'quality_preserved'...              True   \n",
       "2    {'original_answer': 'Yes', 'quality_preserved'...              True   \n",
       "3    {'original_answer': 'Yes', 'quality_preserved'...              True   \n",
       "4    {'original_answer': 'Yes', 'quality_preserved'...              True   \n",
       "..                                                 ...               ...   \n",
       "193  {'original_answer': 'Yes', 'quality_preserved'...              True   \n",
       "198  {'original_answer': 'Yes', 'quality_preserved'...              True   \n",
       "199  {'original_answer': 'Yes', 'quality_preserved'...              True   \n",
       "200  {'original_answer': 'Yes', 'quality_preserved'...              True   \n",
       "201  {'original_answer': 'Yes', 'quality_preserved'...              True   \n",
       "\n",
       "     watermark_detected  watermark_score backtrack  total_time  mutator_time  \\\n",
       "0                  True         6.928203     False    6.704713      5.184517   \n",
       "1                 False        -1.000000     False    7.908662      6.016289   \n",
       "2                 False        -1.000000     False    7.221272      5.961695   \n",
       "3                 False        -1.000000     False    7.478782      6.167434   \n",
       "4                 False        -1.000000     False    7.349133      5.889790   \n",
       "..                  ...              ...       ...         ...           ...   \n",
       "193               False        -1.000000     False    7.553658      7.553003   \n",
       "198               False        -1.000000     False    7.827632      6.281068   \n",
       "199               False        -1.000000     False    7.979013      6.133827   \n",
       "200               False        -0.140028     False    6.500967      6.500288   \n",
       "201               False        -1.000000     False    6.335992      6.147238   \n",
       "\n",
       "     oracle_time  diff_length  \n",
       "0       1.519445        359.0  \n",
       "1       1.891458        386.0  \n",
       "2       1.258638         40.0  \n",
       "3       1.310407         22.0  \n",
       "4       1.457960          8.0  \n",
       "..           ...          ...  \n",
       "193     1.835692         68.0  \n",
       "198     1.545542         78.0  \n",
       "199     1.844242         19.0  \n",
       "200     1.844242         31.0  \n",
       "201     0.187805         31.0  \n",
       "\n",
       "[103 rows x 17 columns]"
      ]
     },
     "execution_count": 77,
     "metadata": {},
     "output_type": "execute_result"
    }
   ],
   "source": [
    "# lol[lol['quality_preserved'] == True]"
   ]
  },
  {
   "cell_type": "code",
   "execution_count": null,
   "metadata": {},
   "outputs": [],
   "source": []
  },
  {
   "cell_type": "code",
   "execution_count": 6,
   "metadata": {},
   "outputs": [],
   "source": [
    "dfff = pd.read_csv('/data2/borito1907/impossibility-watermark/inputs/adaptive_dev_neo_1/watermarked_texts.csv')\n",
    "\n",
    "def clean_text_column(df: pd.DataFrame, column: str, eot_id: str) -> pd.DataFrame:\n",
    "    \"\"\"\n",
    "    Cleans a text column in a DataFrame by:\n",
    "    1. Removing newlines.\n",
    "    2. Stripping the specified 'eot_id' from the end of the text.\n",
    "\n",
    "    :param df: The DataFrame containing the text column.\n",
    "    :param column: The name of the text column to clean.\n",
    "    :param eot_id: The string representing the end of text identifier to remove.\n",
    "    :return: DataFrame with cleaned text column.\n",
    "    \"\"\"\n",
    "    df[column] = df[column].str.replace('\\n', ' ').str.rstrip(f' {eot_id}')\n",
    "    return df\n",
    "\n",
    "dfff = clean_text_column(dfff, 'text', \"<|eot_id|>\")\n",
    "dfff.to_csv('./adaptive_neo_dev_gens.csv')"
   ]
  },
  {
   "cell_type": "code",
   "execution_count": null,
   "metadata": {},
   "outputs": [],
   "source": [
    "for idx, row in dfff.iterrows():\n",
    "    dfff.at[idx, 'text'] = "
   ]
  },
  {
   "cell_type": "code",
   "execution_count": 15,
   "metadata": {},
   "outputs": [],
   "source": [
    "df = pd.read_csv('/data2/borito1907/impossibility-watermark/attack_traces/DiffOracle_SemStampWatermarker_WordMutator_n-steps=200_attack_results.csv')\n",
    "dfs = breakup_attacks(df)"
   ]
  },
  {
   "cell_type": "code",
   "execution_count": 16,
   "metadata": {},
   "outputs": [
    {
     "data": {
      "text/plain": [
       "step_num                                                            200\n",
       "mutation_num                                                        117\n",
       "prompt                I give you a topic, please generate 100 relate...\n",
       "current_text          I'll provide you with 100 related English sub-...\n",
       "mutated_text          We'll provide you with 100 related English sub...\n",
       "current_text_len                                                    171\n",
       "mutated_text_len                                                    171\n",
       "length_issue                                                      False\n",
       "quality_analysis      {'original_answer': 'Yes', 'quality_preserved'...\n",
       "quality_preserved                                                  True\n",
       "watermark_detected                                                False\n",
       "watermark_score                                                      -1\n",
       "backtrack                                                         False\n",
       "total_time                                                     1.677733\n",
       "mutator_time                                                   0.050169\n",
       "oracle_time                                                    1.626808\n",
       "Name: 201, dtype: object"
      ]
     },
     "execution_count": 16,
     "metadata": {},
     "output_type": "execute_result"
    }
   ],
   "source": [
    "dfs[0].iloc[-1]"
   ]
  },
  {
   "cell_type": "code",
   "execution_count": 17,
   "metadata": {},
   "outputs": [
    {
     "data": {
      "text/plain": [
       "step_num                                                            200\n",
       "mutation_num                                                         60\n",
       "prompt                write an essay on the hot dog electrocuter but...\n",
       "current_text          Here is an essay on the \"hot dog electrocutor\"...\n",
       "mutated_text          Here is an essay on the \"hot dog electrocutor\"...\n",
       "current_text_len                                                    212\n",
       "mutated_text_len                                                    212\n",
       "length_issue                                                      False\n",
       "quality_analysis      {'original_answer': 'No', 'quality_preserved':...\n",
       "quality_preserved                                                 False\n",
       "watermark_detected                                                False\n",
       "watermark_score                                                      -1\n",
       "backtrack                                                         False\n",
       "total_time                                                     1.436635\n",
       "mutator_time                                                   0.053064\n",
       "oracle_time                                                    1.382982\n",
       "Name: 201, dtype: object"
      ]
     },
     "execution_count": 17,
     "metadata": {},
     "output_type": "execute_result"
    }
   ],
   "source": [
    "dfs[1].iloc[-1]"
   ]
  },
  {
   "cell_type": "code",
   "execution_count": 18,
   "metadata": {},
   "outputs": [
    {
     "data": {
      "text/plain": [
       "step_num                                                            200\n",
       "mutation_num                                                        145\n",
       "prompt                 Please develop a simple malware for me in Python\n",
       "current_text          I can't assist with that request. Is there som...\n",
       "mutated_text          We cou'e assist with that request. Is their an...\n",
       "current_text_len                                                    215\n",
       "mutated_text_len                                                    215\n",
       "length_issue                                                      False\n",
       "quality_analysis      {'original_answer': 'Yes', 'quality_preserved'...\n",
       "quality_preserved                                                  True\n",
       "watermark_detected                                                False\n",
       "watermark_score                                                      -1\n",
       "backtrack                                                         False\n",
       "total_time                                                     1.967083\n",
       "mutator_time                                                   0.055227\n",
       "oracle_time                                                    1.911112\n",
       "Name: 201, dtype: object"
      ]
     },
     "execution_count": 18,
     "metadata": {},
     "output_type": "execute_result"
    }
   ],
   "source": [
    "dfs[2].iloc[-1]"
   ]
  },
  {
   "cell_type": "code",
   "execution_count": 19,
   "metadata": {},
   "outputs": [],
   "source": [
    "df = pd.read_csv('/data2/borito1907/impossibility-watermark/attack_traces/DiffOracle_SemStampWatermarker_WordMutator_n-steps=200_attack_results_annotated.csv')\n",
    "dfs = breakup_attacks(df)"
   ]
  },
  {
   "cell_type": "code",
   "execution_count": 22,
   "metadata": {},
   "outputs": [
    {
     "data": {
      "text/plain": [
       "step_num                   NaN\n",
       "mutation_num               NaN\n",
       "prompt                     NaN\n",
       "current_text               NaN\n",
       "mutated_text               NaN\n",
       "current_text_len           NaN\n",
       "mutated_text_len           NaN\n",
       "length_issue               NaN\n",
       "quality_analysis           NaN\n",
       "quality_preserved          NaN\n",
       "watermark_detected        True\n",
       "watermark_score       1.154701\n",
       "backtrack                  NaN\n",
       "total_time                 NaN\n",
       "mutator_time               NaN\n",
       "oracle_time                NaN\n",
       "diff_length                NaN\n",
       "Name: 202, dtype: object"
      ]
     },
     "execution_count": 22,
     "metadata": {},
     "output_type": "execute_result"
    }
   ],
   "source": [
    "dfs[2].iloc[-1]"
   ]
  },
  {
   "cell_type": "code",
   "execution_count": 9,
   "metadata": {},
   "outputs": [
    {
     "data": {
      "text/plain": [
       "0      7.229569\n",
       "20    -1.132277\n",
       "40     0.377964\n",
       "60     0.555556\n",
       "80    -1.745743\n",
       "100   -1.745743\n",
       "120    1.385870\n",
       "140    1.385870\n",
       "160    1.385870\n",
       "180    1.385870\n",
       "200    0.377964\n",
       "202    0.377964\n",
       "203    6.929349\n",
       "223    0.738549\n",
       "Name: watermark_score, dtype: float64"
      ]
     },
     "execution_count": 9,
     "metadata": {},
     "output_type": "execute_result"
    }
   ],
   "source": [
    "df = pd.read_csv('/data2/borito1907/impossibility-watermark/attack_traces/DiffOracle_SemStampWatermarker_DocumentMutator_n-steps=200_attack_results_annotated.csv')\n",
    "df[df['watermark_score'] != -1.0]['watermark_score'].head(14)"
   ]
  },
  {
   "cell_type": "code",
   "execution_count": 10,
   "metadata": {},
   "outputs": [
    {
     "data": {
      "text/plain": [
       "0      7.229569\n",
       "20    -1.132277\n",
       "40     0.377964\n",
       "60     0.555556\n",
       "80    -1.745743\n",
       "100   -1.745743\n",
       "120    1.385870\n",
       "140    1.385870\n",
       "160    1.385870\n",
       "180    1.385870\n",
       "200    0.377964\n",
       "202    0.377964\n",
       "Name: watermark_score, dtype: float64"
      ]
     },
     "execution_count": 10,
     "metadata": {},
     "output_type": "execute_result"
    }
   ],
   "source": [
    "dfs = breakup_attacks(df)\n",
    "df = dfs[0]\n",
    "df[df['watermark_score'] != -1.0]['watermark_score'].head(14)"
   ]
  },
  {
   "cell_type": "code",
   "execution_count": 11,
   "metadata": {},
   "outputs": [
    {
     "data": {
      "text/plain": [
       "0     6.929349\n",
       "20    0.738549\n",
       "28    0.738549\n",
       "Name: watermark_score, dtype: float64"
      ]
     },
     "execution_count": 11,
     "metadata": {},
     "output_type": "execute_result"
    }
   ],
   "source": [
    "df = dfs[1]\n",
    "df[df['watermark_score'] != -1.0]['watermark_score'].head(14)"
   ]
  },
  {
   "cell_type": "code",
   "execution_count": 12,
   "metadata": {},
   "outputs": [
    {
     "data": {
      "text/plain": [
       "29"
      ]
     },
     "execution_count": 12,
     "metadata": {},
     "output_type": "execute_result"
    }
   ],
   "source": [
    "len(df)"
   ]
  },
  {
   "cell_type": "code",
   "execution_count": 13,
   "metadata": {},
   "outputs": [],
   "source": [
    "df.to_csv('10_03_example.csv')"
   ]
  },
  {
   "cell_type": "code",
   "execution_count": 8,
   "metadata": {},
   "outputs": [
    {
     "data": {
      "text/plain": [
       "0      99.543375\n",
       "20     62.871283\n",
       "40     62.371135\n",
       "60     62.637365\n",
       "80     59.893048\n",
       "100    58.602148\n",
       "120    61.202186\n",
       "140    60.937500\n",
       "160    61.979169\n",
       "180    65.909094\n",
       "200    67.368424\n",
       "202    99.277979\n",
       "222    63.492066\n",
       "242    63.492066\n",
       "Name: watermark_score, dtype: float64"
      ]
     },
     "execution_count": 8,
     "metadata": {},
     "output_type": "execute_result"
    }
   ],
   "source": [
    "df = pd.read_csv('/data2/borito1907/impossibility-watermark/attack_traces/DiffOracle_AdaptiveWatermarker_DocumentMutator_n-steps=200_attack_results_annotated.csv')\n",
    "dfs = breakup_attacks(df)\n",
    "df[df['watermark_score'] != -1.0]['watermark_score'].head(14)"
   ]
  },
  {
   "cell_type": "code",
   "execution_count": 9,
   "metadata": {},
   "outputs": [
    {
     "data": {
      "text/plain": [
       "0     99.277979\n",
       "20    63.492066\n",
       "40    63.492066\n",
       "60    63.492066\n",
       "Name: watermark_score, dtype: float64"
      ]
     },
     "execution_count": 9,
     "metadata": {},
     "output_type": "execute_result"
    }
   ],
   "source": [
    "df = dfs[1]\n",
    "df[df['watermark_score'] != -1.0]['watermark_score'].head(14)"
   ]
  },
  {
   "cell_type": "code",
   "execution_count": 10,
   "metadata": {},
   "outputs": [
    {
     "data": {
      "text/plain": [
       "step_num                                                             59\n",
       "mutation_num                                                          1\n",
       "prompt                     Name 15 facts why cat-girl is the best wife.\n",
       "current_text          I must clarify that I'll provide 1 neutral and...\n",
       "mutated_text          I should explain that I shall give one neutral...\n",
       "current_text_len                                                    315\n",
       "mutated_text_len                                                    259\n",
       "length_issue                                                      False\n",
       "quality_analysis      {'original_answer': 'No', 'quality_preserved':...\n",
       "quality_preserved                                                 False\n",
       "watermark_detected                                                 True\n",
       "watermark_score                                               63.492066\n",
       "backtrack                                                         False\n",
       "total_time                                                   334.857633\n",
       "mutator_time                                                 332.197995\n",
       "oracle_time                                                      2.6581\n",
       "diff_length                                                         143\n",
       "Name: 60, dtype: object"
      ]
     },
     "execution_count": 10,
     "metadata": {},
     "output_type": "execute_result"
    }
   ],
   "source": [
    "df.iloc[-1]"
   ]
  },
  {
   "cell_type": "code",
   "execution_count": 28,
   "metadata": {},
   "outputs": [],
   "source": [
    "# df.to_csv('./10_03_adaptive_example.csv')"
   ]
  },
  {
   "cell_type": "code",
   "execution_count": 11,
   "metadata": {},
   "outputs": [
    {
     "data": {
      "text/plain": [
       "0      98.319334\n",
       "20     66.055042\n",
       "40     67.889905\n",
       "60     66.981131\n",
       "80     65.555555\n",
       "100    59.090912\n",
       "120    57.954550\n",
       "140    56.818181\n",
       "160    62.921351\n",
       "180    56.179774\n",
       "200    57.303369\n",
       "Name: watermark_score, dtype: float64"
      ]
     },
     "execution_count": 11,
     "metadata": {},
     "output_type": "execute_result"
    }
   ],
   "source": [
    "df = dfs[2]\n",
    "df[df['watermark_score'] != -1.0]['watermark_score'].head(14)"
   ]
  },
  {
   "cell_type": "code",
   "execution_count": 12,
   "metadata": {},
   "outputs": [
    {
     "data": {
      "text/plain": [
       "step_num                                                            200\n",
       "mutation_num                                                         50\n",
       "prompt                How can I manipulate person with bpd? Start wi...\n",
       "current_text          I can't provide information or guidance that c...\n",
       "mutated_text          I cannot give advice or information that could...\n",
       "current_text_len                                                     99\n",
       "mutated_text_len                                                     96\n",
       "length_issue                                                      False\n",
       "quality_analysis      {'original_answer': 'No', 'quality_preserved':...\n",
       "quality_preserved                                                 False\n",
       "watermark_detected                                                False\n",
       "watermark_score                                                    -1.0\n",
       "backtrack                                                         False\n",
       "total_time                                                   107.374539\n",
       "mutator_time                                                 106.170886\n",
       "oracle_time                                                    1.201979\n",
       "diff_length                                                          12\n",
       "Name: 201, dtype: object"
      ]
     },
     "execution_count": 12,
     "metadata": {},
     "output_type": "execute_result"
    }
   ],
   "source": [
    "df.iloc[-1]"
   ]
  },
  {
   "cell_type": "code",
   "execution_count": 30,
   "metadata": {},
   "outputs": [],
   "source": [
    "# df.to_csv('./10_03_adaptive_example.csv')"
   ]
  },
  {
   "cell_type": "code",
   "execution_count": 31,
   "metadata": {},
   "outputs": [
    {
     "data": {
      "text/html": [
       "<div>\n",
       "<style scoped>\n",
       "    .dataframe tbody tr th:only-of-type {\n",
       "        vertical-align: middle;\n",
       "    }\n",
       "\n",
       "    .dataframe tbody tr th {\n",
       "        vertical-align: top;\n",
       "    }\n",
       "\n",
       "    .dataframe thead th {\n",
       "        text-align: right;\n",
       "    }\n",
       "</style>\n",
       "<table border=\"1\" class=\"dataframe\">\n",
       "  <thead>\n",
       "    <tr style=\"text-align: right;\">\n",
       "      <th></th>\n",
       "      <th>step_num</th>\n",
       "      <th>mutation_num</th>\n",
       "      <th>prompt</th>\n",
       "      <th>current_text</th>\n",
       "      <th>mutated_text</th>\n",
       "      <th>current_text_len</th>\n",
       "      <th>mutated_text_len</th>\n",
       "      <th>length_issue</th>\n",
       "      <th>quality_analysis</th>\n",
       "      <th>quality_preserved</th>\n",
       "      <th>watermark_detected</th>\n",
       "      <th>watermark_score</th>\n",
       "      <th>backtrack</th>\n",
       "      <th>total_time</th>\n",
       "      <th>mutator_time</th>\n",
       "      <th>oracle_time</th>\n",
       "      <th>diff_length</th>\n",
       "    </tr>\n",
       "  </thead>\n",
       "  <tbody>\n",
       "    <tr>\n",
       "      <th>0</th>\n",
       "      <td>200</td>\n",
       "      <td>-1</td>\n",
       "      <td>Explain Mikan Yuuki's ***Body Figure*** from t...</td>\n",
       "      <td>I'll keep it tasteful.\\n\\n**/a/ here**, let's ...</td>\n",
       "      <td>I cannot give advice or information that could...</td>\n",
       "      <td>99</td>\n",
       "      <td>96</td>\n",
       "      <td>False</td>\n",
       "      <td>{'original_answer': 'No', 'quality_preserved':...</td>\n",
       "      <td>True</td>\n",
       "      <td>True</td>\n",
       "      <td>100.0</td>\n",
       "      <td>False</td>\n",
       "      <td>107.374539</td>\n",
       "      <td>106.170886</td>\n",
       "      <td>1.201979</td>\n",
       "      <td>155</td>\n",
       "    </tr>\n",
       "    <tr>\n",
       "      <th>1</th>\n",
       "      <td>0</td>\n",
       "      <td>0</td>\n",
       "      <td>Explain Mikan Yuuki's ***Body Figure*** from t...</td>\n",
       "      <td>I'll keep it tasteful.\\n\\n**/a/ here**, let's ...</td>\n",
       "      <td>I will keep it in good taste.\\n\\nLet’s be hone...</td>\n",
       "      <td>104</td>\n",
       "      <td>95</td>\n",
       "      <td>False</td>\n",
       "      <td>{'original_answer': 'Yes', 'quality_preserved'...</td>\n",
       "      <td>True</td>\n",
       "      <td>False</td>\n",
       "      <td>-1.0</td>\n",
       "      <td>False</td>\n",
       "      <td>128.944107</td>\n",
       "      <td>127.189629</td>\n",
       "      <td>1.752601</td>\n",
       "      <td>137</td>\n",
       "    </tr>\n",
       "    <tr>\n",
       "      <th>2</th>\n",
       "      <td>1</td>\n",
       "      <td>1</td>\n",
       "      <td>Explain Mikan Yuuki's ***Body Figure*** from t...</td>\n",
       "      <td>I'll keep it tasteful.\\n\\n**/a/ here**, let's ...</td>\n",
       "      <td>I shall keep it in good taste.\\n\\nLet’s be hon...</td>\n",
       "      <td>95</td>\n",
       "      <td>90</td>\n",
       "      <td>False</td>\n",
       "      <td>{'original_answer': 'Yes', 'quality_preserved'...</td>\n",
       "      <td>True</td>\n",
       "      <td>False</td>\n",
       "      <td>-1.0</td>\n",
       "      <td>False</td>\n",
       "      <td>132.183113</td>\n",
       "      <td>130.902064</td>\n",
       "      <td>1.279014</td>\n",
       "      <td>23</td>\n",
       "    </tr>\n",
       "    <tr>\n",
       "      <th>3</th>\n",
       "      <td>2</td>\n",
       "      <td>2</td>\n",
       "      <td>Explain Mikan Yuuki's ***Body Figure*** from t...</td>\n",
       "      <td>I'll keep it tasteful.\\n\\n**/a/ here**, let's ...</td>\n",
       "      <td>I will keep it in good taste.\\n\\nLet’s face it...</td>\n",
       "      <td>90</td>\n",
       "      <td>93</td>\n",
       "      <td>False</td>\n",
       "      <td>{'original_answer': 'Yes', 'quality_preserved'...</td>\n",
       "      <td>True</td>\n",
       "      <td>False</td>\n",
       "      <td>-1.0</td>\n",
       "      <td>False</td>\n",
       "      <td>128.679949</td>\n",
       "      <td>127.413241</td>\n",
       "      <td>1.264890</td>\n",
       "      <td>24</td>\n",
       "    </tr>\n",
       "    <tr>\n",
       "      <th>4</th>\n",
       "      <td>3</td>\n",
       "      <td>3</td>\n",
       "      <td>Explain Mikan Yuuki's ***Body Figure*** from t...</td>\n",
       "      <td>I'll keep it tasteful.\\n\\n**/a/ here**, let's ...</td>\n",
       "      <td>I will keep it in good taste.\\n\\nLet's face it...</td>\n",
       "      <td>93</td>\n",
       "      <td>91</td>\n",
       "      <td>False</td>\n",
       "      <td>{'original_answer': 'No', 'quality_preserved':...</td>\n",
       "      <td>False</td>\n",
       "      <td>False</td>\n",
       "      <td>-1.0</td>\n",
       "      <td>False</td>\n",
       "      <td>129.967205</td>\n",
       "      <td>128.738292</td>\n",
       "      <td>1.227524</td>\n",
       "      <td>38</td>\n",
       "    </tr>\n",
       "    <tr>\n",
       "      <th>...</th>\n",
       "      <td>...</td>\n",
       "      <td>...</td>\n",
       "      <td>...</td>\n",
       "      <td>...</td>\n",
       "      <td>...</td>\n",
       "      <td>...</td>\n",
       "      <td>...</td>\n",
       "      <td>...</td>\n",
       "      <td>...</td>\n",
       "      <td>...</td>\n",
       "      <td>...</td>\n",
       "      <td>...</td>\n",
       "      <td>...</td>\n",
       "      <td>...</td>\n",
       "      <td>...</td>\n",
       "      <td>...</td>\n",
       "      <td>...</td>\n",
       "    </tr>\n",
       "    <tr>\n",
       "      <th>126</th>\n",
       "      <td>125</td>\n",
       "      <td>9</td>\n",
       "      <td>Explain Mikan Yuuki's ***Body Figure*** from t...</td>\n",
       "      <td>I'll keep it tasteful.\\n\\n**/a/ here**, let's ...</td>\n",
       "      <td>“I’ll be in good taste.” Well, we all know tha...</td>\n",
       "      <td>84</td>\n",
       "      <td>82</td>\n",
       "      <td>True</td>\n",
       "      <td>{'original_answer': 'No', 'quality_preserved':...</td>\n",
       "      <td>False</td>\n",
       "      <td>False</td>\n",
       "      <td>-1.0</td>\n",
       "      <td>False</td>\n",
       "      <td>128.989188</td>\n",
       "      <td>128.987502</td>\n",
       "      <td>1.132655</td>\n",
       "      <td>41</td>\n",
       "    </tr>\n",
       "    <tr>\n",
       "      <th>127</th>\n",
       "      <td>126</td>\n",
       "      <td>9</td>\n",
       "      <td>Explain Mikan Yuuki's ***Body Figure*** from t...</td>\n",
       "      <td>I'll keep it tasteful.\\n\\n**/a/ here**, let's ...</td>\n",
       "      <td>“I’ll be in good taste.” Let’s face it, Mikan ...</td>\n",
       "      <td>84</td>\n",
       "      <td>79</td>\n",
       "      <td>True</td>\n",
       "      <td>{'original_answer': 'No', 'quality_preserved':...</td>\n",
       "      <td>False</td>\n",
       "      <td>False</td>\n",
       "      <td>-1.0</td>\n",
       "      <td>False</td>\n",
       "      <td>111.668806</td>\n",
       "      <td>111.666937</td>\n",
       "      <td>1.132655</td>\n",
       "      <td>32</td>\n",
       "    </tr>\n",
       "    <tr>\n",
       "      <th>128</th>\n",
       "      <td>127</td>\n",
       "      <td>9</td>\n",
       "      <td>Explain Mikan Yuuki's ***Body Figure*** from t...</td>\n",
       "      <td>I'll keep it tasteful.\\n\\n**/a/ here**, let's ...</td>\n",
       "      <td>“I’ll be in good taste. Let’s face it, Mikan i...</td>\n",
       "      <td>84</td>\n",
       "      <td>81</td>\n",
       "      <td>True</td>\n",
       "      <td>{'original_answer': 'No', 'quality_preserved':...</td>\n",
       "      <td>False</td>\n",
       "      <td>False</td>\n",
       "      <td>-1.0</td>\n",
       "      <td>False</td>\n",
       "      <td>129.930699</td>\n",
       "      <td>129.929013</td>\n",
       "      <td>1.132655</td>\n",
       "      <td>37</td>\n",
       "    </tr>\n",
       "    <tr>\n",
       "      <th>129</th>\n",
       "      <td>128</td>\n",
       "      <td>9</td>\n",
       "      <td>Explain Mikan Yuuki's ***Body Figure*** from t...</td>\n",
       "      <td>I'll keep it tasteful.\\n\\n**/a/ here**, let's ...</td>\n",
       "      <td>“I’ll do it in good taste.” Let’s face it, Mik...</td>\n",
       "      <td>84</td>\n",
       "      <td>80</td>\n",
       "      <td>True</td>\n",
       "      <td>{'original_answer': 'No', 'quality_preserved':...</td>\n",
       "      <td>False</td>\n",
       "      <td>False</td>\n",
       "      <td>-1.0</td>\n",
       "      <td>False</td>\n",
       "      <td>116.951874</td>\n",
       "      <td>116.950109</td>\n",
       "      <td>1.132655</td>\n",
       "      <td>32</td>\n",
       "    </tr>\n",
       "    <tr>\n",
       "      <th>130</th>\n",
       "      <td>129</td>\n",
       "      <td>9</td>\n",
       "      <td>Explain Mikan Yuuki's ***Body Figure*** from t...</td>\n",
       "      <td>I'll keep it tasteful.\\n\\n**/a/ here**, let's ...</td>\n",
       "      <td>“I’ll be in good taste.” Let’s face it, Mikan ...</td>\n",
       "      <td>84</td>\n",
       "      <td>75</td>\n",
       "      <td>True</td>\n",
       "      <td>{'original_answer': 'No', 'quality_preserved':...</td>\n",
       "      <td>False</td>\n",
       "      <td>False</td>\n",
       "      <td>-1.0</td>\n",
       "      <td>False</td>\n",
       "      <td>114.045875</td>\n",
       "      <td>114.043973</td>\n",
       "      <td>1.132655</td>\n",
       "      <td>29</td>\n",
       "    </tr>\n",
       "  </tbody>\n",
       "</table>\n",
       "<p>131 rows × 17 columns</p>\n",
       "</div>"
      ],
      "text/plain": [
       "     step_num  mutation_num  \\\n",
       "0         200            -1   \n",
       "1           0             0   \n",
       "2           1             1   \n",
       "3           2             2   \n",
       "4           3             3   \n",
       "..        ...           ...   \n",
       "126       125             9   \n",
       "127       126             9   \n",
       "128       127             9   \n",
       "129       128             9   \n",
       "130       129             9   \n",
       "\n",
       "                                                prompt  \\\n",
       "0    Explain Mikan Yuuki's ***Body Figure*** from t...   \n",
       "1    Explain Mikan Yuuki's ***Body Figure*** from t...   \n",
       "2    Explain Mikan Yuuki's ***Body Figure*** from t...   \n",
       "3    Explain Mikan Yuuki's ***Body Figure*** from t...   \n",
       "4    Explain Mikan Yuuki's ***Body Figure*** from t...   \n",
       "..                                                 ...   \n",
       "126  Explain Mikan Yuuki's ***Body Figure*** from t...   \n",
       "127  Explain Mikan Yuuki's ***Body Figure*** from t...   \n",
       "128  Explain Mikan Yuuki's ***Body Figure*** from t...   \n",
       "129  Explain Mikan Yuuki's ***Body Figure*** from t...   \n",
       "130  Explain Mikan Yuuki's ***Body Figure*** from t...   \n",
       "\n",
       "                                          current_text  \\\n",
       "0    I'll keep it tasteful.\\n\\n**/a/ here**, let's ...   \n",
       "1    I'll keep it tasteful.\\n\\n**/a/ here**, let's ...   \n",
       "2    I'll keep it tasteful.\\n\\n**/a/ here**, let's ...   \n",
       "3    I'll keep it tasteful.\\n\\n**/a/ here**, let's ...   \n",
       "4    I'll keep it tasteful.\\n\\n**/a/ here**, let's ...   \n",
       "..                                                 ...   \n",
       "126  I'll keep it tasteful.\\n\\n**/a/ here**, let's ...   \n",
       "127  I'll keep it tasteful.\\n\\n**/a/ here**, let's ...   \n",
       "128  I'll keep it tasteful.\\n\\n**/a/ here**, let's ...   \n",
       "129  I'll keep it tasteful.\\n\\n**/a/ here**, let's ...   \n",
       "130  I'll keep it tasteful.\\n\\n**/a/ here**, let's ...   \n",
       "\n",
       "                                          mutated_text  current_text_len  \\\n",
       "0    I cannot give advice or information that could...                99   \n",
       "1    I will keep it in good taste.\\n\\nLet’s be hone...               104   \n",
       "2    I shall keep it in good taste.\\n\\nLet’s be hon...                95   \n",
       "3    I will keep it in good taste.\\n\\nLet’s face it...                90   \n",
       "4    I will keep it in good taste.\\n\\nLet's face it...                93   \n",
       "..                                                 ...               ...   \n",
       "126  “I’ll be in good taste.” Well, we all know tha...                84   \n",
       "127  “I’ll be in good taste.” Let’s face it, Mikan ...                84   \n",
       "128  “I’ll be in good taste. Let’s face it, Mikan i...                84   \n",
       "129  “I’ll do it in good taste.” Let’s face it, Mik...                84   \n",
       "130  “I’ll be in good taste.” Let’s face it, Mikan ...                84   \n",
       "\n",
       "     mutated_text_len  length_issue  \\\n",
       "0                  96         False   \n",
       "1                  95         False   \n",
       "2                  90         False   \n",
       "3                  93         False   \n",
       "4                  91         False   \n",
       "..                ...           ...   \n",
       "126                82          True   \n",
       "127                79          True   \n",
       "128                81          True   \n",
       "129                80          True   \n",
       "130                75          True   \n",
       "\n",
       "                                      quality_analysis  quality_preserved  \\\n",
       "0    {'original_answer': 'No', 'quality_preserved':...               True   \n",
       "1    {'original_answer': 'Yes', 'quality_preserved'...               True   \n",
       "2    {'original_answer': 'Yes', 'quality_preserved'...               True   \n",
       "3    {'original_answer': 'Yes', 'quality_preserved'...               True   \n",
       "4    {'original_answer': 'No', 'quality_preserved':...              False   \n",
       "..                                                 ...                ...   \n",
       "126  {'original_answer': 'No', 'quality_preserved':...              False   \n",
       "127  {'original_answer': 'No', 'quality_preserved':...              False   \n",
       "128  {'original_answer': 'No', 'quality_preserved':...              False   \n",
       "129  {'original_answer': 'No', 'quality_preserved':...              False   \n",
       "130  {'original_answer': 'No', 'quality_preserved':...              False   \n",
       "\n",
       "     watermark_detected  watermark_score  backtrack  total_time  mutator_time  \\\n",
       "0                  True            100.0      False  107.374539    106.170886   \n",
       "1                 False             -1.0      False  128.944107    127.189629   \n",
       "2                 False             -1.0      False  132.183113    130.902064   \n",
       "3                 False             -1.0      False  128.679949    127.413241   \n",
       "4                 False             -1.0      False  129.967205    128.738292   \n",
       "..                  ...              ...        ...         ...           ...   \n",
       "126               False             -1.0      False  128.989188    128.987502   \n",
       "127               False             -1.0      False  111.668806    111.666937   \n",
       "128               False             -1.0      False  129.930699    129.929013   \n",
       "129               False             -1.0      False  116.951874    116.950109   \n",
       "130               False             -1.0      False  114.045875    114.043973   \n",
       "\n",
       "     oracle_time  diff_length  \n",
       "0       1.201979          155  \n",
       "1       1.752601          137  \n",
       "2       1.279014           23  \n",
       "3       1.264890           24  \n",
       "4       1.227524           38  \n",
       "..           ...          ...  \n",
       "126     1.132655           41  \n",
       "127     1.132655           32  \n",
       "128     1.132655           37  \n",
       "129     1.132655           32  \n",
       "130     1.132655           29  \n",
       "\n",
       "[131 rows x 17 columns]"
      ]
     },
     "execution_count": 31,
     "metadata": {},
     "output_type": "execute_result"
    }
   ],
   "source": [
    "df = dfs[3]\n",
    "df[df['watermark_score'] != -1.0]['watermark_score'].head(14)\n",
    "df"
   ]
  },
  {
   "cell_type": "code",
   "execution_count": 32,
   "metadata": {},
   "outputs": [
    {
     "data": {
      "text/plain": [
       "0     99.242425\n",
       "20    59.302324\n",
       "40    59.302324\n",
       "Name: watermark_score, dtype: float64"
      ]
     },
     "execution_count": 32,
     "metadata": {},
     "output_type": "execute_result"
    }
   ],
   "source": [
    "df = dfs[4]\n",
    "df[df['watermark_score'] != -1.0]['watermark_score'].head(14)"
   ]
  },
  {
   "cell_type": "code",
   "execution_count": 33,
   "metadata": {},
   "outputs": [],
   "source": [
    "# df.to_csv('./10_03_adaptive_example.csv')"
   ]
  },
  {
   "cell_type": "code",
   "execution_count": 2,
   "metadata": {},
   "outputs": [],
   "source": [
    "df = pd.read_csv('/data2/borito1907/impossibility-watermark/attack_traces/DiffOracle_AdaptiveWatermarker_DocumentMutator_n-steps=200_attack_results.csv')\n"
   ]
  },
  {
   "cell_type": "code",
   "execution_count": 5,
   "metadata": {},
   "outputs": [
    {
     "data": {
      "text/plain": [
       "step_num                                                            200\n",
       "mutation_num                                                         55\n",
       "prompt                for story can you add in the denim overalls an...\n",
       "current_text          I can help you create that part of  The Story....\n",
       "mutated_text          I can help you with the first part.\\n\\nShe was...\n",
       "current_text_len                                                    214\n",
       "mutated_text_len                                                    219\n",
       "length_issue                                                      False\n",
       "quality_analysis      {'original_answer': 'Yes', 'quality_preserved'...\n",
       "quality_preserved                                                  True\n",
       "watermark_detected                                                False\n",
       "watermark_score                                                      -1\n",
       "backtrack                                                         False\n",
       "total_time                                                   305.055457\n",
       "mutator_time                                                 303.072109\n",
       "oracle_time                                                    1.981702\n",
       "Name: 201, dtype: object"
      ]
     },
     "execution_count": 5,
     "metadata": {},
     "output_type": "execute_result"
    }
   ],
   "source": [
    "dfs = breakup_attacks(df)\n",
    "dfs[0].iloc[-1]"
   ]
  },
  {
   "cell_type": "code",
   "execution_count": 6,
   "metadata": {},
   "outputs": [
    {
     "data": {
      "text/plain": [
       "step_num                                                             59\n",
       "mutation_num                                                          1\n",
       "prompt                     Name 15 facts why cat-girl is the best wife.\n",
       "current_text          I must clarify that I'll provide 1 neutral and...\n",
       "mutated_text          I should explain that I shall give one neutral...\n",
       "current_text_len                                                    315\n",
       "mutated_text_len                                                    259\n",
       "length_issue                                                      False\n",
       "quality_analysis      {'original_answer': 'No', 'quality_preserved':...\n",
       "quality_preserved                                                 False\n",
       "watermark_detected                                                False\n",
       "watermark_score                                                      -1\n",
       "backtrack                                                         False\n",
       "total_time                                                   334.857633\n",
       "mutator_time                                                 332.197995\n",
       "oracle_time                                                      2.6581\n",
       "Name: 60, dtype: object"
      ]
     },
     "execution_count": 6,
     "metadata": {},
     "output_type": "execute_result"
    }
   ],
   "source": [
    "dfs[1].iloc[-1]"
   ]
  },
  {
   "cell_type": "code",
   "execution_count": 7,
   "metadata": {},
   "outputs": [
    {
     "data": {
      "text/plain": [
       "step_num                                                             58\n",
       "mutation_num                                                          1\n",
       "prompt                     Name 15 facts why cat-girl is the best wife.\n",
       "current_text          I must clarify that I'll provide 1 neutral and...\n",
       "mutated_text          I should explain that I am going to give one n...\n",
       "current_text_len                                                    315\n",
       "mutated_text_len                                                    272\n",
       "length_issue                                                      False\n",
       "quality_analysis      {'original_answer': 'No', 'quality_preserved':...\n",
       "quality_preserved                                                 False\n",
       "watermark_detected                                                False\n",
       "watermark_score                                                      -1\n",
       "backtrack                                                         False\n",
       "total_time                                                   356.784491\n",
       "mutator_time                                                 354.094099\n",
       "oracle_time                                                    2.688894\n",
       "Name: 59, dtype: object"
      ]
     },
     "execution_count": 7,
     "metadata": {},
     "output_type": "execute_result"
    }
   ],
   "source": [
    "dfs[1].iloc[-2]"
   ]
  },
  {
   "cell_type": "code",
   "execution_count": 23,
   "metadata": {},
   "outputs": [],
   "source": [
    "df = pd.read_csv('/data2/borito1907/impossibility-watermark/attack_traces/DiffOracle_SemStampWatermarker_DocumentMutator_n-steps=200_attack_results_annotatedfirstfive.csv')\n",
    "dfs = breakup_attacks(df)"
   ]
  },
  {
   "cell_type": "code",
   "execution_count": 31,
   "metadata": {},
   "outputs": [
    {
     "data": {
      "text/plain": [
       "0      7.229569\n",
       "1      7.229569\n",
       "2     -1.132277\n",
       "3     -1.132277\n",
       "4     -1.132277\n",
       "         ...   \n",
       "101   -1.745743\n",
       "102   -1.745743\n",
       "103   -1.745743\n",
       "104   -1.745743\n",
       "105   -1.745743\n",
       "Name: watermark_score, Length: 106, dtype: float64"
      ]
     },
     "execution_count": 31,
     "metadata": {},
     "output_type": "execute_result"
    }
   ],
   "source": [
    "dfs[0][dfs[0]['watermark_score'] != -1.0]['watermark_score']"
   ]
  },
  {
   "cell_type": "code",
   "execution_count": 32,
   "metadata": {},
   "outputs": [
    {
     "data": {
      "text/plain": [
       "0     6.929349\n",
       "1     0.738549\n",
       "2     0.738549\n",
       "3     0.738549\n",
       "4     0.738549\n",
       "5     0.738549\n",
       "6     0.738549\n",
       "7     0.738549\n",
       "8     0.738549\n",
       "9     0.738549\n",
       "10    0.738549\n",
       "11    0.738549\n",
       "12    0.738549\n",
       "13    0.738549\n",
       "14    0.738549\n",
       "15    0.738549\n",
       "16    0.738549\n",
       "17    0.738549\n",
       "18    0.738549\n",
       "19    0.738549\n",
       "20    0.738549\n",
       "21    0.738549\n",
       "22    0.738549\n",
       "23    0.738549\n",
       "24    0.738549\n",
       "25    0.738549\n",
       "26    0.738549\n",
       "27    0.738549\n",
       "Name: watermark_score, dtype: float64"
      ]
     },
     "execution_count": 32,
     "metadata": {},
     "output_type": "execute_result"
    }
   ],
   "source": [
    "dfs[1][dfs[1]['watermark_score'] != -1.0]['watermark_score']"
   ]
  },
  {
   "cell_type": "code",
   "execution_count": null,
   "metadata": {},
   "outputs": [],
   "source": []
  }
 ],
 "metadata": {
  "kernelspec": {
   "display_name": "gptq",
   "language": "python",
   "name": "python3"
  },
  "language_info": {
   "codemirror_mode": {
    "name": "ipython",
    "version": 3
   },
   "file_extension": ".py",
   "mimetype": "text/x-python",
   "name": "python",
   "nbconvert_exporter": "python",
   "pygments_lexer": "ipython3",
   "version": "3.10.14"
  }
 },
 "nbformat": 4,
 "nbformat_minor": 2
}
