{
 "cells": [
  {
   "cell_type": "code",
   "execution_count": 2,
   "metadata": {},
   "outputs": [],
   "source": [
    "import pandas as pd\n",
    "import os\n",
    "\n",
    "# Function to normalize scores\n",
    "def normalize_score(score, mean, stdev):\n",
    "    if score == -1:\n",
    "        return score  # Don't normalize if score is -1\n",
    "    return (score - mean) / stdev\n",
    "\n",
    "def merge_watermark_scores(df1, df2):\n",
    "    # Ensure both DFs have the same structure and number of rows\n",
    "    if not df1.shape == df2.shape:\n",
    "        raise ValueError(\"DataFrames must have the same shape\")\n",
    "    \n",
    "    # Iterate through the rows and merge watermark_score based on the conditions\n",
    "    for index, (wm1, wm2) in enumerate(zip(df1['watermark_score'], df2['watermark_score'])):\n",
    "        if wm1 == -1 and wm2 == -1:\n",
    "            # Do nothing, both are -1\n",
    "            continue\n",
    "        elif wm1 != -1 and wm2 != -1 and wm1 != wm2:\n",
    "            # Print if both are not -1 and not equal\n",
    "            print(f\"Conflict at index {index}: df1: {wm1}, df2: {wm2}\")\n",
    "        elif wm1 == -1 and wm2 != -1:\n",
    "            # Replace df1's score with df2's if df1 is -1\n",
    "            df1.at[index, 'watermark_score'] = wm2\n",
    "        elif wm2 == -1 and wm1 != -1:\n",
    "            # Replace df2's score with df1's if df2 is -1\n",
    "            df2.at[index, 'watermark_score'] = wm1\n",
    "    \n",
    "    return df1\n"
   ]
  },
  {
   "cell_type": "code",
   "execution_count": 3,
   "metadata": {},
   "outputs": [
    {
     "name": "stdout",
     "output_type": "stream",
     "text": [
      "Processing file: /data2/borito1907/impossibility-watermark/attack_traces/DiffOracle_SemStampWatermarker_Document1StepMutator_n-steps=200_attack_results_annotatedmerged.csv\n",
      "Processing file: /data2/borito1907/impossibility-watermark/attack_traces/DiffOracle_SemStampWatermarker_DocumentMutator_n-steps=200_attack_results_annotatedmerged.csv\n",
      "Processing file: /data2/borito1907/impossibility-watermark/attack_traces/DiffOracle_SemStampWatermarker_Document2StepMutator_n-steps=200_attack_results_annotatedmerged.csv\n"
     ]
    }
   ],
   "source": [
    "mean_score = -0.7281950363003581\n",
    "stdev_score = 0.933524266518816\n",
    "\n",
    "dir_path = \"/data2/borito1907/impossibility-watermark/attack_traces\"\n",
    "\n",
    "# counter = 0\n",
    "\n",
    "# Loop over all CSV files in the directory\n",
    "for filename in os.listdir(dir_path):\n",
    "    if (\"Document\" in filename) and (\"SemStamp\" in filename) and \"n-steps=200\" in filename and filename.endswith(\"annotatedmerged.csv\"):\n",
    "        df_path = os.path.join(dir_path, filename)\n",
    "        print(f\"Processing file: {df_path}\")\n",
    "        new_df_path = os.path.join(dir_path, filename.replace('.csv', '_annotatedfinal.csv'))\n",
    "        df = pd.read_csv(df_path)\n",
    "                \n",
    "        # Apply normalization\n",
    "        df['normalized_watermark_score'] = df['watermark_score'].apply(lambda x: normalize_score(x, mean_score, stdev_score))\n",
    "\n",
    "        # df.to_csv(new_df_path)\n"
   ]
  },
  {
   "cell_type": "code",
   "execution_count": 5,
   "metadata": {},
   "outputs": [
    {
     "name": "stdout",
     "output_type": "stream",
     "text": [
      "Processing file: /data2/borito1907/impossibility-watermark/attack_traces/DiffOracle_SemStampWatermarker_SpanMutator_n-steps=200_attack_results_annotated.csv\n",
      "Processing file: /data2/borito1907/impossibility-watermark/attack_traces/DiffOracle_SemStampWatermarker_SentenceMutator_n-steps=200_attack_results_annotated.csv\n",
      "Processing file: /data2/borito1907/impossibility-watermark/attack_traces/DiffOracle_SemStampWatermarker_WordMutator_n-steps=200_attack_results_annotated.csv\n"
     ]
    }
   ],
   "source": [
    "mean_score = -0.7281950363003581\n",
    "stdev_score = 0.933524266518816\n",
    "\n",
    "dir_path = \"/data2/borito1907/impossibility-watermark/attack_traces\"\n",
    "\n",
    "# counter = 0\n",
    "\n",
    "# Loop over all CSV files in the directory\n",
    "for filename in os.listdir(dir_path):\n",
    "    if (\"Document\" not in filename) and (\"SemStamp\" in filename) and \"n-steps=200\" in filename and filename.endswith(\"annotated.csv\"):\n",
    "        df_path = os.path.join(dir_path, filename)\n",
    "        print(f\"Processing file: {df_path}\")\n",
    "        new_df_path = os.path.join(dir_path, filename.replace('annotated.csv', 'annotatedfinal.csv'))\n",
    "        df = pd.read_csv(df_path)\n",
    "                \n",
    "        # Apply normalization\n",
    "        df['normalized_watermark_score'] = df['watermark_score'].apply(lambda x: normalize_score(x, mean_score, stdev_score))\n",
    "\n",
    "        # df.to_csv(new_df_path)\n"
   ]
  },
  {
   "cell_type": "code",
   "execution_count": 6,
   "metadata": {},
   "outputs": [],
   "source": [
    "mean_score = -0.7281950363003581\n",
    "stdev_score = 0.933524266518816\n",
    "\n",
    "\n",
    "df_path = \"/data2/borito1907/impossibility-watermark/unwatermarked_scores/semstamp_detect_unwatermarked.csv\"\n",
    "\n",
    "new_df_path = \"/data2/borito1907/impossibility-watermark/unwatermarked_scores/semstamp_detect_unwatermarked_normalized.csv\"\n",
    "df = pd.read_csv(df_path)\n",
    "        \n",
    "# Apply normalization\n",
    "df['normalized_watermark_score'] = df['watermark_score'].apply(lambda x: normalize_score(x, mean_score, stdev_score))\n",
    "\n",
    "# df.to_csv(new_df_path)\n"
   ]
  },
  {
   "cell_type": "code",
   "execution_count": 13,
   "metadata": {},
   "outputs": [
    {
     "name": "stdout",
     "output_type": "stream",
     "text": [
      "Processing file: /data2/borito1907/impossibility-watermark/attack_traces/DiffOracle_AdaptiveWatermarker_WordMutator_n-steps=200_attack_results_annotated.csv\n",
      "Processing file: /data2/borito1907/impossibility-watermark/attack_traces/DiffOracle_AdaptiveWatermarker_Document2StepMutator_n-steps=200_attack_results_annotated.csv\n",
      "Processing file: /data2/borito1907/impossibility-watermark/attack_traces/DiffOracle_AdaptiveWatermarker_SentenceMutator_n-steps=200_attack_results_annotated.csv\n",
      "Processing file: /data2/borito1907/impossibility-watermark/attack_traces/DiffOracle_AdaptiveWatermarker_Document1StepMutator_n-steps=200_attack_results_annotated.csv\n",
      "Processing file: /data2/borito1907/impossibility-watermark/attack_traces/DiffOracle_AdaptiveWatermarker_SpanMutator_n-steps=200_attack_results_annotated.csv\n",
      "Processing file: /data2/borito1907/impossibility-watermark/attack_traces/DiffOracle_AdaptiveWatermarker_DocumentMutator_n-steps=200_attack_results_annotated.csv\n"
     ]
    }
   ],
   "source": [
    "mean_score = 51.60824692338929\n",
    "stdev_score = 5.957990385248221\n",
    "\n",
    "dir_path = \"/data2/borito1907/impossibility-watermark/attack_traces\"\n",
    "\n",
    "# counter = 0\n",
    "\n",
    "# Loop over all CSV files in the directory\n",
    "for filename in os.listdir(dir_path):\n",
    "    if (\"Adaptive\" in filename) and \"n-steps=200\" in filename and filename.endswith(\"annotated.csv\"):\n",
    "        df_path = os.path.join(dir_path, filename)\n",
    "        print(f\"Processing file: {df_path}\")\n",
    "        new_df_path = os.path.join(dir_path, filename.replace('annotated.csv', 'annotatedfinal.csv'))\n",
    "        df = pd.read_csv(df_path)\n",
    "                \n",
    "        # Apply normalization\n",
    "        df['normalized_watermark_score'] = df['watermark_score'].apply(lambda x: normalize_score(x, mean_score, stdev_score))\n",
    "\n",
    "        # df.to_csv(new_df_path)\n"
   ]
  },
  {
   "cell_type": "code",
   "execution_count": null,
   "metadata": {},
   "outputs": [],
   "source": []
  }
 ],
 "metadata": {
  "kernelspec": {
   "display_name": "gptq",
   "language": "python",
   "name": "python3"
  },
  "language_info": {
   "codemirror_mode": {
    "name": "ipython",
    "version": 3
   },
   "file_extension": ".py",
   "mimetype": "text/x-python",
   "name": "python",
   "nbconvert_exporter": "python",
   "pygments_lexer": "ipython3",
   "version": "3.10.14"
  }
 },
 "nbformat": 4,
 "nbformat_minor": 2
}
