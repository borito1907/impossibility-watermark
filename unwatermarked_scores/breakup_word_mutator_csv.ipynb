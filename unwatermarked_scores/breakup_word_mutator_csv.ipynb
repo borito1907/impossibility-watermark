{
 "cells": [
  {
   "cell_type": "code",
   "execution_count": 22,
   "metadata": {},
   "outputs": [],
   "source": [
    "import pandas as pd\n",
    "from collections import defaultdict\n",
    "import numpy as np\n",
    "\n",
    "def breakup_attacks(df):\n",
    "    # Break the DF up into smaller DFs\n",
    "    dfs = []\n",
    "    current_df = None\n",
    "\n",
    "    # Iterate over the rows and split on step_num resets\n",
    "    for i, row in df.iterrows():\n",
    "        # Check if the step_num resets to -1, indicating a new sequence\n",
    "        if row['mutation_num'] == -1:\n",
    "            if current_df is not None and not current_df.empty:\n",
    "                dfs.append(current_df.reset_index(drop=True))  # Save the current increasing DF\n",
    "            current_df = pd.DataFrame([row])  # Start a new DataFrame with the reset row\n",
    "        else:\n",
    "            # Append the row to the current DataFrame\n",
    "            current_df = pd.concat([current_df, pd.DataFrame([row])])\n",
    "\n",
    "    # Add the last DataFrame if it exists and is non-empty\n",
    "    if current_df is not None and not current_df.empty:\n",
    "        dfs.append(current_df.reset_index(drop=True))\n",
    "    \n",
    "    return dfs\n",
    "\n",
    "\n",
    "def get_column_value_by_prompt(df: pd.DataFrame, prompt_value: str, target_column: str):\n",
    "    matching_row = df[df['prompt'] == prompt_value]\n",
    "    if not matching_row.empty:\n",
    "        return matching_row[target_column].values[0]\n",
    "    else:\n",
    "        return None  # Or raise an error/return a default value if no match is found"
   ]
  },
  {
   "cell_type": "code",
   "execution_count": 6,
   "metadata": {},
   "outputs": [],
   "source": [
    "main_df = pd.read_csv('/data2/borito1907/impossibility-watermark/data/WQE/dev.csv')\n",
    "adaptive_df = pd.read_csv('/data2/borito1907/DiffOracle_adaptive_WordMutator_n-steps=1000_attack_results_newest_annotatedfinal.csv')\n",
    "semstamp_df = pd.read_csv('/data2/borito1907/DiffOracle_semstamp_WordMutator_n-steps=1000_attack_results_newest_annotatedfinal.csv')"
   ]
  },
  {
   "cell_type": "code",
   "execution_count": 7,
   "metadata": {},
   "outputs": [],
   "source": [
    "adaptive_dfs = breakup_attacks(adaptive_df)\n",
    "semstamp_dfs = breakup_attacks(semstamp_df)"
   ]
  },
  {
   "cell_type": "code",
   "execution_count": 30,
   "metadata": {},
   "outputs": [],
   "source": [
    "# Split the list into 5 parts\n",
    "split_size = len(adaptive_dfs) // 10\n",
    "df_splits = np.array_split(adaptive_dfs, 10)\n",
    "concatenated_dfs = [pd.concat(split, axis=0, ignore_index=True).drop(columns=['Unnamed: 0'], errors='ignore') for split in df_splits]\n",
    "for df_num, df in enumerate(concatenated_dfs, start=1):\n",
    "    output_path = f\"/data2/borito1907/DiffOracle_adaptive_WordMutator_n-steps=1000_attack_results_newest_annotatedfinal{df_num}.csv\"\n",
    "    df.to_csv(output_path, index=False)"
   ]
  },
  {
   "cell_type": "code",
   "execution_count": 31,
   "metadata": {},
   "outputs": [],
   "source": [
    "# Split the list into 5 parts\n",
    "split_size = len(semstamp_dfs) // 10\n",
    "df_splits = np.array_split(adaptive_dfs, 10)\n",
    "concatenated_dfs = [pd.concat(split, axis=0, ignore_index=True).drop(columns=['Unnamed: 0'], errors='ignore') for split in df_splits]\n",
    "for df_num, df in enumerate(concatenated_dfs, start=1):\n",
    "    output_path = f\"/data2/borito1907/DiffOracle_semstamp_WordMutator_n-steps=1000_attack_results_newest_annotatedfinal{df_num}.csv\"\n",
    "    df.to_csv(output_path, index=False)"
   ]
  },
  {
   "cell_type": "code",
   "execution_count": null,
   "metadata": {},
   "outputs": [],
   "source": []
  }
 ],
 "metadata": {
  "kernelspec": {
   "display_name": "gptq",
   "language": "python",
   "name": "python3"
  },
  "language_info": {
   "codemirror_mode": {
    "name": "ipython",
    "version": 3
   },
   "file_extension": ".py",
   "mimetype": "text/x-python",
   "name": "python",
   "nbconvert_exporter": "python",
   "pygments_lexer": "ipython3",
   "version": "3.10.14"
  }
 },
 "nbformat": 4,
 "nbformat_minor": 2
}
