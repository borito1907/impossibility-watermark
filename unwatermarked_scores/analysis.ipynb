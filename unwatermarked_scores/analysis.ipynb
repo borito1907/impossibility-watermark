{
 "cells": [
  {
   "cell_type": "code",
   "execution_count": 2,
   "metadata": {},
   "outputs": [],
   "source": [
    "import pandas as pd"
   ]
  },
  {
   "cell_type": "code",
   "execution_count": 4,
   "metadata": {},
   "outputs": [
    {
     "name": "stdout",
     "output_type": "stream",
     "text": [
      "Mean of watermark_score: -0.7281950363003581\n",
      "Standard deviation of watermark_score: 0.933524266518816\n"
     ]
    }
   ],
   "source": [
    "df = pd.read_csv('/data2/borito1907/impossibility-watermark/unwatermarked_scores/semstamp_detect_unwatermarked.csv')\n",
    "\n",
    "mean_watermark = df['watermark_score'].mean()\n",
    "std_watermark = df['watermark_score'].std()\n",
    "\n",
    "print(f\"Mean of watermark_score: {mean_watermark}\")\n",
    "print(f\"Standard deviation of watermark_score: {std_watermark}\")\n"
   ]
  },
  {
   "cell_type": "code",
   "execution_count": null,
   "metadata": {},
   "outputs": [],
   "source": []
  }
 ],
 "metadata": {
  "kernelspec": {
   "display_name": "gptq",
   "language": "python",
   "name": "python3"
  },
  "language_info": {
   "codemirror_mode": {
    "name": "ipython",
    "version": 3
   },
   "file_extension": ".py",
   "mimetype": "text/x-python",
   "name": "python",
   "nbconvert_exporter": "python",
   "pygments_lexer": "ipython3",
   "version": "3.10.14"
  }
 },
 "nbformat": 4,
 "nbformat_minor": 2
}
